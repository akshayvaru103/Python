{
 "cells": [
  {
   "cell_type": "code",
   "execution_count": 2,
   "metadata": {},
   "outputs": [],
   "source": [
    "import numpy as np\n",
    "import re\n",
    "import matplotlib.pyplot as plt\n",
    "%matplotlib inline\n",
    "import pandas as pd "
   ]
  },
  {
   "cell_type": "code",
   "execution_count": 3,
   "metadata": {},
   "outputs": [],
   "source": [
    "pd.set_option('display.max_rows', 500)\n",
    "pd.set_option('display.max_columns', 500)\n",
    "pd.set_option('display.width', 5000)"
   ]
  },
  {
   "cell_type": "code",
   "execution_count": 4,
   "metadata": {},
   "outputs": [],
   "source": [
    "def readdf(path):\n",
    "    any_df = pd.read_excel(path)\n",
    "    return any_df\n",
    "\n",
    "def writedf2xlsx(any_df, name):\n",
    "    from pandas import ExcelWriter\n",
    "    writer = ExcelWriter(name + '.xlsx')\n",
    "    any_df.to_excel(writer,'Sheet1')\n",
    "    writer.save()"
   ]
  },
  {
   "cell_type": "code",
   "execution_count": 5,
   "metadata": {},
   "outputs": [],
   "source": [
    "text1 = \"For whomsoever shall hold this hammer, if he shall be worthy shall possess the Power of Thor\" \n",
    "text2 = \"Did you do it ? yeS\"\n",
    "text3 = \"What dId it coSt ? EveryThing\"\n",
    "text4 = text2 +' '+ text3"
   ]
  },
  {
   "cell_type": "code",
   "execution_count": 6,
   "metadata": {},
   "outputs": [
    {
     "name": "stdout",
     "output_type": "stream",
     "text": [
      "For whomsoever shall hold this hammer, if he shall be worthy shall possess the Power of Thor\n",
      "Did you do it ? yeS\n",
      "What dId it coSt ? EveryThing\n",
      "Did you do it ? yeS What dId it coSt ? EveryThing\n"
     ]
    }
   ],
   "source": [
    "print(text1, text2, text3, text4, sep=\"\\n\")"
   ]
  },
  {
   "cell_type": "code",
   "execution_count": 7,
   "metadata": {},
   "outputs": [
    {
     "name": "stdout",
     "output_type": "stream",
     "text": [
      "92\n",
      "19\n",
      "29\n",
      "49\n"
     ]
    }
   ],
   "source": [
    "print(len(text1), len(text2), len(text3), len(text4), sep=\"\\n\")"
   ]
  },
  {
   "cell_type": "markdown",
   "metadata": {},
   "source": [
    "### Split the sentence in words - How ? \n",
    "### Split them by a delimiter. CSV(comma separated value) files are read by discarding the *commas* in between data, same way these words are separated by whitespace."
   ]
  },
  {
   "cell_type": "markdown",
   "metadata": {},
   "source": [
    "https://nlp.stanford.edu/IR-book/html/htmledition/tokenization-1.html"
   ]
  },
  {
   "cell_type": "code",
   "execution_count": 8,
   "metadata": {},
   "outputs": [
    {
     "name": "stdout",
     "output_type": "stream",
     "text": [
      "17 12\n",
      "['For', 'whomsoever', 'shall', 'hold', 'this', 'hammer,', 'if', 'he', 'shall', 'be', 'worthy', 'shall', 'possess', 'the', 'Power', 'of', 'Thor']\n",
      "['Did', 'you', 'do', 'it', '?', 'yeS', 'What', 'dId', 'it', 'coSt', '?', 'EveryThing']\n"
     ]
    }
   ],
   "source": [
    "text1a = text1.split(' ')\n",
    "text4a = text4.split(' ')\n",
    "print(len(text1a), len(text4a))\n",
    "print(text1a, text4a, sep='\\n')"
   ]
  },
  {
   "cell_type": "markdown",
   "metadata": {},
   "source": [
    "### Now the words are tokenized(chopping sentence into pieces/tokens). This O/P is then fed as I/P for Parsing or Text Mining"
   ]
  },
  {
   "cell_type": "markdown",
   "metadata": {},
   "source": [
    "# String Operations"
   ]
  },
  {
   "cell_type": "markdown",
   "metadata": {},
   "source": [
    "## Remember List Comprehension from C1 - Iterate through collections in one line"
   ]
  },
  {
   "cell_type": "code",
   "execution_count": 9,
   "metadata": {},
   "outputs": [
    {
     "data": {
      "text/plain": [
       "['if', 'he', 'be', 'of']"
      ]
     },
     "execution_count": 9,
     "metadata": {},
     "output_type": "execute_result"
    }
   ],
   "source": [
    "# Long words: Words that have more than 3 characters\n",
    "[w for w in text1a if len(w)>3] \n",
    "# Long words: Words that have less than 3 characters\n",
    "[w for w in text1a if len(w)<3] "
   ]
  },
  {
   "cell_type": "code",
   "execution_count": 10,
   "metadata": {},
   "outputs": [
    {
     "name": "stdout",
     "output_type": "stream",
     "text": [
      "['For', 'Power', 'Thor']\n",
      "['For', 'whomsoever', 'Power', 'Thor']\n"
     ]
    }
   ],
   "source": [
    "print([w for w in text1a if w.istitle()])              # Words that have 1st character in Capital\n",
    "print([w for w in text1a if w.endswith('r')])          # Words that end with character 'r'"
   ]
  },
  {
   "cell_type": "markdown",
   "metadata": {},
   "source": [
    "### unique words in a list of words using set() function"
   ]
  },
  {
   "cell_type": "code",
   "execution_count": 11,
   "metadata": {
    "scrolled": true
   },
   "outputs": [
    {
     "name": "stdout",
     "output_type": "stream",
     "text": [
      "Words that are unique without preprocessing (1 '?', 1 'it', 2 'Did & dId'\n",
      "{'coSt', 'What', 'Did', 'EveryThing', '?', 'you', 'it', 'dId', 'do', 'yeS'}\n",
      "\n",
      "Words that are unique with preprocessing (1 '?', 1 'it', 1 'did'\n",
      "{'what', 'cost', '?', 'you', 'it', 'everything', 'yes', 'do', 'did'}\n"
     ]
    }
   ],
   "source": [
    "print(\"Words that are unique without preprocessing (1 '?', 1 'it', 2 'Did & dId'\")\n",
    "print(set(text4a))\n",
    "print(\"\\nWords that are unique with preprocessing (1 '?', 1 'it', 1 'did'\")\n",
    "print(set([w.lower() for w in text4a]))"
   ]
  },
  {
   "cell_type": "markdown",
   "metadata": {},
   "source": [
    "### Convert all words to lowercase || uppercase || title"
   ]
  },
  {
   "cell_type": "code",
   "execution_count": 12,
   "metadata": {},
   "outputs": [
    {
     "name": "stdout",
     "output_type": "stream",
     "text": [
      "Uppercase :  ['DID', 'YOU', 'DO', 'IT', '?', 'YES', 'WHAT', 'DID', 'IT', 'COST', '?', 'EVERYTHING'] \n",
      "\n",
      "Lowercase :  ['did', 'you', 'do', 'it', '?', 'yes', 'what', 'did', 'it', 'cost', '?', 'everything'] \n",
      "\n",
      "Title     :  ['Did', 'You', 'Do', 'It', '?', 'Yes', 'What', 'Did', 'It', 'Cost', '?', 'Everything'] \n",
      "\n"
     ]
    }
   ],
   "source": [
    "print('Uppercase : ', [w.upper() for w in text4a], '\\n') # Convert all words to lowercase\n",
    "print('Lowercase : ', [w.lower() for w in text4a], '\\n') # Convert all words to uppercase\n",
    "print('Title     : ', [w.title() for w in text4a], '\\n') # Convert all words to title(1st letter caps)"
   ]
  },
  {
   "cell_type": "markdown",
   "metadata": {},
   "source": [
    "### Splitting a sentence based a word(stopper word/connectors)"
   ]
  },
  {
   "cell_type": "code",
   "execution_count": 13,
   "metadata": {},
   "outputs": [
    {
     "name": "stdout",
     "output_type": "stream",
     "text": [
      "For whomsoever shall hold this hammer, if he shall be worthy shall possess the Power of Thor\n",
      "['For whomsoever ', ' hold this hammer, if he ', ' be worthy ', ' possess the Power of Thor'] \n",
      "\n"
     ]
    }
   ],
   "source": [
    "print(text1)\n",
    "print(text1.split('shall'), '\\n')  "
   ]
  },
  {
   "cell_type": "markdown",
   "metadata": {},
   "source": [
    "### Merging 3 sentences with a Connector (and/will/hence etc) using .join() function"
   ]
  },
  {
   "cell_type": "code",
   "execution_count": 14,
   "metadata": {},
   "outputs": [
    {
     "name": "stdout",
     "output_type": "stream",
     "text": [
      "For whomsoever shall hold this hammer, if he shall be worthy shall possess the Power of Thor\n",
      "For whomsoever will hold this hammer, if he will be worthy will possess the Power of Thor\n",
      "For whomsoever should hold this hammer, if he should be worthy should possess the Power of Thor\n"
     ]
    }
   ],
   "source": [
    "print('shall'.join(text1.split('shall')))\n",
    "print('will'.join(text1.split('shall')))\n",
    "print('should'.join(text1.split('shall')))"
   ]
  },
  {
   "cell_type": "code",
   "execution_count": 15,
   "metadata": {},
   "outputs": [
    {
     "name": "stdout",
     "output_type": "stream",
     "text": [
      "split a string - ouagadougou(eg:sentence/word) into substring - ou(eg:words):\n",
      "['', 'agad', 'g', '']\n"
     ]
    }
   ],
   "source": [
    "temp = \"ouagadougou\"\n",
    "print(\"split a string - ouagadougou(eg:sentence/word) into substring - ou(eg:words):\")\n",
    "print(\"ouagadougou\".split('ou')) "
   ]
  },
  {
   "cell_type": "code",
   "execution_count": 16,
   "metadata": {},
   "outputs": [
    {
     "name": "stdout",
     "output_type": "stream",
     "text": [
      "\n",
      "split a substring - ouagadougou(eg:word) into separate characters:\n",
      "Method 1 ['o', 'u', 'a', 'g', 'a', 'd', 'o', 'u', 'g', 'o', 'u']\n",
      "Method 2 ['o', 'u', 'a', 'g', 'a', 'd', 'o', 'u', 'g', 'o', 'u']\n"
     ]
    }
   ],
   "source": [
    "print(\"\\nsplit a substring - ouagadougou(eg:word) into separate characters:\")\n",
    "print(\"Method 1\", list(\"ouagadougou\"))       \n",
    "print(\"Method 2\", [c for c in \"ouagadougou\"])"
   ]
  },
  {
   "cell_type": "code",
   "execution_count": 17,
   "metadata": {},
   "outputs": [
    {
     "data": {
      "text/plain": [
       "['', 'agad', 'g', '']"
      ]
     },
     "execution_count": 17,
     "metadata": {},
     "output_type": "execute_result"
    }
   ],
   "source": [
    "\"ouagadougou\".split('ou')# Error         --> split a word into character"
   ]
  },
  {
   "cell_type": "code",
   "execution_count": 18,
   "metadata": {},
   "outputs": [
    {
     "name": "stdout",
     "output_type": "stream",
     "text": [
      "['', '', '', '', '', '', 'See,', \"it's\", 'things', 'like', 'this', 'that', 'give', 'me', 'trust', 'issues.', '', '']\n"
     ]
    }
   ],
   "source": [
    "textnick = \"      See, it's things like this that give me trust issues.  \"\n",
    "print(textnick.split(' '))"
   ]
  },
  {
   "cell_type": "markdown",
   "metadata": {},
   "source": [
    "### Note Below, the disappearance of the whitespaces at the beginning and end of the string"
   ]
  },
  {
   "cell_type": "code",
   "execution_count": 19,
   "metadata": {},
   "outputs": [
    {
     "name": "stdout",
     "output_type": "stream",
     "text": [
      "['See,', \"it's\", 'things', 'like', 'this', 'that', 'give', 'me', 'trust', 'issues.']\n"
     ]
    }
   ],
   "source": [
    "textnick = \"      See, it's things like this that give me trust issues.  \"\n",
    "print(textnick.strip().split(' '))"
   ]
  },
  {
   "cell_type": "markdown",
   "metadata": {},
   "source": [
    "## Find first occurance of a substring/character in a String/Sentence\n",
    "#### To find all occurances, we can use *Regular Expressions* re.find_iter function \n",
    "https://docs.python.org/2/library/re.html#module-contents"
   ]
  },
  {
   "cell_type": "code",
   "execution_count": 20,
   "metadata": {},
   "outputs": [
    {
     "name": "stdout",
     "output_type": "stream",
     "text": [
      "INDEX of First occurance of the substring Marvel in the sentence Movies from the start 0\n",
      "\n",
      "INDEX of First occurance of the substring Marvel in the sentence Movies from the end 74\n",
      "\n",
      "All occurances of Marvel in the sentence is replaced by DC:\n",
      " DC - Hulk, DC - Thor, DC - Ironman, DC - Captain America, DC - Avengers\n"
     ]
    }
   ],
   "source": [
    "Movies = \"Marvel - Hulk, Marvel - Thor, Marvel - Ironman, Marvel - Captain America, Marvel - Avengers\"\n",
    "print(\"INDEX of First occurance of the substring Marvel in the sentence Movies from the start\", Movies.find('Marvel'))\n",
    "print(\"\\nINDEX of First occurance of the substring Marvel in the sentence Movies from the end\", Movies.rfind('Marvel'))\n",
    "print(\"\\nAll occurances of Marvel in the sentence is replaced by DC:\\n\", Movies.replace('Marvel', 'DC'))"
   ]
  },
  {
   "cell_type": "markdown",
   "metadata": {},
   "source": [
    "# Handling larger Texts\n",
    "## Reading files by line"
   ]
  },
  {
   "cell_type": "code",
   "execution_count": 21,
   "metadata": {},
   "outputs": [
    {
     "data": {
      "text/plain": [
       "'Universal Declaration of Human Rights\\n'"
      ]
     },
     "execution_count": 21,
     "metadata": {},
     "output_type": "execute_result"
    }
   ],
   "source": [
    "f = open('Data/UNHDR.txt', 'r')\n",
    "EOL_space = f.readline()\n",
    "EOL_space"
   ]
  },
  {
   "cell_type": "code",
   "execution_count": 22,
   "metadata": {},
   "outputs": [
    {
     "data": {
      "text/plain": [
       "'Universal Declaration of Human Rights'"
      ]
     },
     "execution_count": 22,
     "metadata": {},
     "output_type": "execute_result"
    }
   ],
   "source": [
    "EOL_space.rstrip()  # To remove the \\n character from the end of the line use strip() and its add on versions "
   ]
  },
  {
   "cell_type": "markdown",
   "metadata": {},
   "source": [
    "## Reading the full file"
   ]
  },
  {
   "cell_type": "code",
   "execution_count": 23,
   "metadata": {},
   "outputs": [
    {
     "name": "stdout",
     "output_type": "stream",
     "text": [
      "There are 210 sentences in this file\n"
     ]
    },
    {
     "data": {
      "text/plain": [
       "['Universal Declaration of Human Rights',\n",
       " 'Preamble',\n",
       " 'Whereas recognition of the inherent dignity and of the equal and inalienable',\n",
       " 'rights of all members of the human family is the foundation of freedom, justice',\n",
       " 'and peace in the world,',\n",
       " 'Whereas disregard and contempt for human rights have resulted in barbarous',\n",
       " 'acts which have outraged the conscience of mankind, and the advent of a world',\n",
       " 'in which human beings shall enjoy freedom of speech and belief and freedom',\n",
       " 'from fear and want has been proclaimed as the highest aspiration of the common',\n",
       " 'people,',\n",
       " 'Whereas it is essential, if man is not to be compelled to have recourse, as a last',\n",
       " 'resort, to rebellion against tyranny and oppression, that human rights should be',\n",
       " 'protected by the rule of law,',\n",
       " 'Whereas it is essential to promote the development of friendly relations between',\n",
       " 'nations,',\n",
       " 'Whereas the peoples of the United Nations have in the Charter reaffirmed their',\n",
       " 'faith in fundamental human rights, in the dignity and worth of the human person',\n",
       " 'and in the equal rights of men and women and have determined to promote',\n",
       " 'social progress and better standards of life in larger freedom,',\n",
       " 'Whereas Member States have pledged themselves to achieve, in cooperation',\n",
       " 'with the United Nations, the promotion of universal respect for and observance of',\n",
       " 'human rights and fundamental freedoms,',\n",
       " 'Whereas a common understanding of these rights and freedoms is of the',\n",
       " 'greatest importance for the full realization of this pledge,',\n",
       " 'Now, therefore,',\n",
       " 'The General Assembly,',\n",
       " 'Proclaims this Universal Declaration of Human Rights as a common standard of',\n",
       " 'achievement for all peoples and all nations, to the end that every individual and',\n",
       " 'every organ of society, keeping this Declaration constantly in mind, shall strive by',\n",
       " '',\n",
       " '',\n",
       " 'teaching and education to promote respect for these rights and freedoms and by',\n",
       " 'progressive measures, national and international, to secure their universal and',\n",
       " 'effective recognition and observance, both among the peoples of Member States',\n",
       " 'themselves and among the peoples of territories under their jurisdiction.',\n",
       " 'Article I',\n",
       " 'All human beings are born free and equal in dignity and rights. They are',\n",
       " 'endowed with reason and conscience and should act towards one another in a',\n",
       " 'spirit of brotherhood.',\n",
       " 'Article 2',\n",
       " 'Everyone is entitled to all the rights and freedoms set forth in this Declaration,',\n",
       " 'without distinction of any kind, such as race, colour, sex, language, religion,',\n",
       " 'political or other opinion, national or social origin, property, birth or other status.',\n",
       " 'Furthermore, no distinction shall be made on the basis of the political,',\n",
       " 'jurisdictional or international status of the country or territory to which a person',\n",
       " 'belongs, whether it be independent, trust, non-self-governing or under any other',\n",
       " 'limitation of sovereignty.',\n",
       " 'Article 3',\n",
       " 'Everyone has the right to life, liberty and security of person.',\n",
       " 'Article 4',\n",
       " 'No one shall be held in slavery or servitude; slavery and the slave trade shall be',\n",
       " 'prohibited in all their forms.',\n",
       " 'Article 5',\n",
       " 'No one shall be subjected to torture or to cruel, inhuman or degrading treatment',\n",
       " 'or punishment.',\n",
       " '',\n",
       " '',\n",
       " 'Article 6',\n",
       " 'Everyone has the right to recognition everywhere as a person before the law.',\n",
       " 'Article 7',\n",
       " 'All are equal before the law and are entitled without any discrimination to equal',\n",
       " 'protection of the law. All are entitled to equal protection against any',\n",
       " 'discrimination in violation of this Declaration and against any incitement to such',\n",
       " 'discrimination.',\n",
       " 'Article 8',\n",
       " 'Everyone has the right to an effective remedy by the competent national tribunals',\n",
       " 'for acts violating the fundamental rights granted him by the constitution or by law.',\n",
       " 'Article 9',\n",
       " 'No one shall be subjected to arbitrary arrest, detention or exile.',\n",
       " 'Article 10',\n",
       " 'Everyone is entitled in full equality to a fair and public hearing by an independent',\n",
       " 'and impartial tribunal, in the determination of his rights and obligations and of any',\n",
       " 'criminal charge against him.',\n",
       " 'Article 11',\n",
       " '1. Everyone charged with a penal offence has the right to be presumed',\n",
       " 'innocent until proved guilty according to law in a public trial at which he',\n",
       " 'has had all the guarantees necessary for his defence.',\n",
       " '2. No one shall be held guilty of any penal offence on account of any act or',\n",
       " 'omission which did not constitute a penal offence, under national or',\n",
       " 'international law, at the time when it was committed. Nor shall a heavier',\n",
       " '',\n",
       " '',\n",
       " 'penalty be imposed than the one that was applicable at the time the penal',\n",
       " 'offence was committed.',\n",
       " 'Article 12',\n",
       " 'No one shall be subjected to arbitrary interference with his privacy, family, home',\n",
       " 'or correspondence, nor to attacks upon his honour and reputation. Everyone has',\n",
       " 'the right to the protection of the law against such interference or attacks.',\n",
       " 'Article 13',\n",
       " '1. Everyone has the right to freedom of movement and residence within the',\n",
       " 'borders of each State.',\n",
       " '2. Everyone has the right to leave any country, including his own, and to',\n",
       " 'return to his country.',\n",
       " 'Article 14',\n",
       " '1. Everyone has the right to seek and to enjoy in other countries asylum from',\n",
       " 'persecution.',\n",
       " '2. This right may not be invoked in the case of prosecutions genuinely',\n",
       " 'arising from non-political crimes or from acts contrary to the purposes and',\n",
       " 'principles of the United Nations.',\n",
       " 'Article 15',\n",
       " '1. Everyone has the right to a nationality.',\n",
       " '2. No one shall be arbitrarily deprived of his nationality nor denied the right to',\n",
       " 'change his nationality.',\n",
       " 'Article 16',\n",
       " '',\n",
       " '',\n",
       " '1. Men and women of full age, without any limitation due to race, nationality',\n",
       " 'or religion, have the right to marry and to found a family. They are entitled',\n",
       " 'to equal rights as to marriage, during marriage and at its dissolution.',\n",
       " '2. Marriage shall be entered into only with the free and full consent of the',\n",
       " 'intending spouses.',\n",
       " '3. The family is the natural and fundamental group unit of society and is',\n",
       " 'entitled to protection by society and the State.',\n",
       " 'Article 17',\n",
       " '1. Everyone has the right to own property alone as well as in association with',\n",
       " 'others.',\n",
       " '2. No one shall be arbitrarily deprived of his property.',\n",
       " 'Article 18',\n",
       " 'Everyone has the right to freedom of thought, conscience and religion; this right',\n",
       " 'includes freedom to change his religion or belief, and freedom, either alone or in',\n",
       " 'community with others and in public or private, to manifest his religion or belief in',\n",
       " 'teaching, practice, worship and observance.',\n",
       " 'Article 19',\n",
       " 'Everyone has the right to freedom of opinion and expression; this right includes',\n",
       " 'freedom to hold opinions without interference and to seek, receive and impart',\n",
       " 'information and ideas through any media and regardless of frontiers.',\n",
       " 'Article 20',\n",
       " '1. Everyone has the right to freedom of peaceful assembly and association.',\n",
       " '2. No one may be compelled to belong to an association.',\n",
       " 'Article 21',\n",
       " '',\n",
       " '',\n",
       " '1. Everyone has the right to take part in the government of his country,',\n",
       " 'directly or through freely chosen representatives.',\n",
       " '2. Everyone has the right to equal access to public service in his country.',\n",
       " '3. The will of the people shall be the basis of the authority of government;',\n",
       " 'this will shall be expressed in periodic and genuine elections which shall',\n",
       " 'be by universal and equal suffrage and shall be held by secret vote or by',\n",
       " 'equivalent free voting procedures.',\n",
       " 'Article 22',\n",
       " 'Everyone, as a member of society, has the right to social security and is entitled',\n",
       " 'to realization, through national effort and international co-operation and in',\n",
       " 'accordance with the organization and resources of each State, of the economic,',\n",
       " 'social and cultural rights indispensable for his dignity and the free development',\n",
       " 'of his personality.',\n",
       " 'Article 23',\n",
       " '1. Everyone has the right to work, to free choice of employment, to just and',\n",
       " 'favourable conditions of work and to protection against unemployment.',\n",
       " '2. Everyone, without any discrimination, has the right to equal pay for equal',\n",
       " 'work.',\n",
       " '3. Everyone who works has the right to just and favourable remuneration',\n",
       " 'ensuring for himself and his family an existence worthy of human dignity,',\n",
       " 'and supplemented, if necessary, by other means of social protection.',\n",
       " '4. Everyone has the right to form and to join trade unions for the protection of',\n",
       " 'his interests.',\n",
       " 'Article 24',\n",
       " 'Everyone has the right to rest and leisure, including reasonable limitation of',\n",
       " 'working hours and periodic holidays with pay.',\n",
       " '',\n",
       " '',\n",
       " 'Article 25',\n",
       " '1. Everyone has the right to a standard of living adequate for the health and',\n",
       " 'well-being of himself and of his family, including food, clothing, housing',\n",
       " 'and medical care and necessary social services, and the right to security',\n",
       " 'in the event of unemployment, sickness, disability, widowhood, old age or',\n",
       " 'other lack of livelihood in circumstances beyond his control.',\n",
       " '2. Motherhood and childhood are entitled to special care and assistance. All',\n",
       " 'children, whether born in or out of wedlock, shall enjoy the same social',\n",
       " 'protection.',\n",
       " 'Article 26',\n",
       " '1. Everyone has the right to education. Education shall be free, at least in the',\n",
       " 'elementary and fundamental stages. Elementary education shall be',\n",
       " 'compulsory. Technical and professional education shall be made',\n",
       " 'generally available and higher education shall be equally accessible to all',\n",
       " 'on the basis of merit.',\n",
       " '2. Education shall be directed to the full development of the human',\n",
       " 'personality and to the strengthening of respect for human rights and',\n",
       " 'fundamental freedoms. It shall promote understanding, tolerance and',\n",
       " 'friendship among all nations, racial or religious groups, and shall further',\n",
       " 'the activities of the United Nations for the maintenance of peace.',\n",
       " '3. Parents have a prior right to choose the kind of education that shall be',\n",
       " 'given to their children.',\n",
       " 'Article 27',\n",
       " '1. Everyone has the right freely to participate in the cultural life of the',\n",
       " 'community, to enjoy the arts and to share in scientific advancement and',\n",
       " 'its benefits.',\n",
       " '',\n",
       " '',\n",
       " '2. Everyone has the right to the protection of the moral and material interests',\n",
       " 'resulting from any scientific, literary or artistic production of which he is the',\n",
       " 'author.',\n",
       " 'Article 28',\n",
       " 'Everyone is entitled to a social and international order in which the rights and',\n",
       " 'freedoms set forth in this Declaration can be fully realized.',\n",
       " 'Article 29',\n",
       " '1. Everyone has duties to the community in which alone the free and full',\n",
       " 'development of his personality is possible.',\n",
       " '2. In the exercise of his rights and freedoms, everyone shall be subject only',\n",
       " 'to such limitations as are determined by law solely for the purpose of',\n",
       " 'securing due recognition and respect for the rights and freedoms of others',\n",
       " 'and of meeting the just requirements of morality, public order and the',\n",
       " 'general welfare in a democratic society.',\n",
       " '3. These rights and freedoms may in no case be exercised contrary to the',\n",
       " 'purposes and principles of the United Nations.',\n",
       " 'Article 30',\n",
       " 'Nothing in this Declaration may be interpreted as implying for any State, group or',\n",
       " 'person any right to engage in any activity or to perform any act aimed at the',\n",
       " 'destruction of any of the rights and freedoms set forth herein.',\n",
       " '',\n",
       " '']"
      ]
     },
     "execution_count": 23,
     "metadata": {},
     "output_type": "execute_result"
    }
   ],
   "source": [
    "f = open('Data/UNHDR.txt', 'r')\n",
    "f.seek(0) # Reset the reading pointer to the start\n",
    "HDRUN = f.read()\n",
    "print(\"There are {} sentences in this file\".format(len(HDRUN.splitlines())))\n",
    "HDRUN.splitlines()"
   ]
  },
  {
   "cell_type": "markdown",
   "metadata": {},
   "source": [
    "## File Operations"
   ]
  },
  {
   "cell_type": "code",
   "execution_count": 25,
   "metadata": {},
   "outputs": [],
   "source": [
    "# f = open('/Data/filename.txt', mode='r' or 'w') # Open File with said filename in read | write mode\n",
    "# f.readline() | f.read() | f.read(n)       # \n",
    "# for line in f:\n",
    "#     doSomething(line)\n",
    "# f.seek(n)\n",
    "# f.write(message)\n",
    "# f.close()\n",
    "# f.closed()"
   ]
  },
  {
   "cell_type": "markdown",
   "metadata": {},
   "source": [
    "# Most Annoying part of Text preprocessing - Regular Expressions [Regex]\n",
    "## But also the most important part"
   ]
  },
  {
   "cell_type": "markdown",
   "metadata": {},
   "source": [
    "###  Python Regular Expressions Made Easy (2017) -->  https://www.youtube.com/playlist?list=PLGKQkV4guDKH1TpfM-FvPGLUyjsPGdXOg"
   ]
  },
  {
   "cell_type": "code",
   "execution_count": 26,
   "metadata": {},
   "outputs": [
    {
     "name": "stdout",
     "output_type": "stream",
     "text": [
      "['\"Ethics', 'are', 'built', 'right', 'into', 'the', 'ideals', 'and', 'objectives', 'of', 'the', 'United', 'Nations\"', '#UNSG', '@', 'NY', 'Society', 'for', 'Ethical', 'Culture', 'bit.ly/2guVelr', '@UN', '@UN_Women']\n"
     ]
    }
   ],
   "source": [
    "text5 = '\"Ethics are built right into the ideals and objectives of the United Nations\" \\\n",
    "#UNSG @ NY Society for Ethical Culture bit.ly/2guVelr @UN @UN_Women'\n",
    "text5a = text5.split(' ')\n",
    "print(text5a)"
   ]
  },
  {
   "cell_type": "markdown",
   "metadata": {},
   "source": [
    "### Extract elements with special symbols (meanings) @ and # are used in tweets"
   ]
  },
  {
   "cell_type": "code",
   "execution_count": 27,
   "metadata": {},
   "outputs": [
    {
     "name": "stdout",
     "output_type": "stream",
     "text": [
      "['#UNSG']\n",
      "['@', '@UN', '@UN_Women']\n"
     ]
    }
   ],
   "source": [
    "print([w for w in text5a if w.startswith('#')])\n",
    "print([w for w in text5a if w.startswith('@')])"
   ]
  },
  {
   "cell_type": "code",
   "execution_count": 28,
   "metadata": {},
   "outputs": [
    {
     "data": {
      "text/plain": [
       "['@UN', '@UN_Women']"
      ]
     },
     "execution_count": 28,
     "metadata": {},
     "output_type": "execute_result"
    }
   ],
   "source": [
    "import re\n",
    "[w for w in text5a if re.search('@[A-Za-z0-9_]+', w)]"
   ]
  },
  {
   "cell_type": "markdown",
   "metadata": {},
   "source": [
    "### Meta Characters in Regular Expressions"
   ]
  },
  {
   "cell_type": "markdown",
   "metadata": {},
   "source": [
    "```\n",
    " .       --> Wilcard Character that matches a single character\n",
    " ^       --> Start of the String\n",
    " $       --> End of the String\n",
    " []      --> Matches one of the charaters, that are within the square brackets \n",
    " [a-z]   --> Matches one of the range of characters a,b,c,d,e,f,g......x,y,z\n",
    " [^abc]  --> Matches any character except a,b,c - Exclude a,b,c\n",
    " [a|b]   --> Matches either a or b, where a & b are strings\n",
    " ()      --> Scoping for Operators - just normal use\n",
    " \\       --> Escape character for special characters (\\n,\\t,\\b,\\d, \\D)\n",
    "\n",
    " Meta Characters: Character Symbols\n",
    " \\b      --> Matches Word boundary\n",
    " \\d      --> Any digit, equivalent to [0-9]\n",
    " \\D      --> Any non-digit, equivalent to [^0-9]\n",
    " \\s      --> Any whitespace, equivalent to [\\t\\n\\r\\f\\v]\n",
    " \\S      --> Any non-whitespace, equivalent to [^\\t\\n\\r\\f\\v]\n",
    " \\w      --> Any alphanumeric Character, equivalent to [a-zA-Z0-9_]\n",
    " \\W      --> Any non-alphanumeric Character, equivalent to [^a-zA-Z0-9_]\n",
    "    \n",
    " Meta Characters : Repetitions\n",
    " *       --> Matches zero or more occurences\n",
    " +       --> Matches one or more occurences\n",
    " ?       --> Matches zero or one occurences\n",
    " {n}     --> Matches exactly in repetitions, n>=0\n",
    " {n,0}   --> Matches Atleast n repetition    \n",
    " {0,n}   --> Matches Atmost n repetition\n",
    " {m,n}   --> Atleast Atleast m and Atmost n repetitions  \n",
    "```"
   ]
  },
  {
   "cell_type": "code",
   "execution_count": 29,
   "metadata": {},
   "outputs": [
    {
     "data": {
      "text/plain": [
       "['@UN', '@UN_Women']"
      ]
     },
     "execution_count": 29,
     "metadata": {},
     "output_type": "execute_result"
    }
   ],
   "source": [
    "[w for w in text5a if re.search('@\\w+', w)]"
   ]
  },
  {
   "cell_type": "markdown",
   "metadata": {},
   "source": [
    "### Find (Ctr + F) all vowels"
   ]
  },
  {
   "cell_type": "code",
   "execution_count": 30,
   "metadata": {},
   "outputs": [
    {
     "data": {
      "text/plain": [
       "['o', 'u', 'a', 'a', 'o', 'u', 'o', 'u']"
      ]
     },
     "execution_count": 30,
     "metadata": {},
     "output_type": "execute_result"
    }
   ],
   "source": [
    "temp = \"ouagadougou\"\n",
    "re.findall(r'[aeiou]', temp)"
   ]
  },
  {
   "cell_type": "markdown",
   "metadata": {},
   "source": [
    "### Find (Ctr + F) all consonants "
   ]
  },
  {
   "cell_type": "code",
   "execution_count": 31,
   "metadata": {},
   "outputs": [
    {
     "data": {
      "text/plain": [
       "['g', 'd', 'g']"
      ]
     },
     "execution_count": 31,
     "metadata": {},
     "output_type": "execute_result"
    }
   ],
   "source": [
    "re.findall(r'[^aeiou]', temp)"
   ]
  },
  {
   "cell_type": "markdown",
   "metadata": {},
   "source": [
    "## Date Variations \n",
    "01-11-2018\n",
    "01/11/2018\n",
    "01/11/18\n",
    "11/01/2018\n",
    "11 Nov 2018\n",
    "11 November 2018\n",
    "Nov 11, 2018\n",
    "November 11, 2018"
   ]
  },
  {
   "cell_type": "code",
   "execution_count": 32,
   "metadata": {},
   "outputs": [
    {
     "name": "stdout",
     "output_type": "stream",
     "text": [
      "['01-11-2018', '01/11/2018', '11/01/2018']\n",
      "['01-11-2018', '01/11/2018', '01/11/18', '11/01/2018']\n",
      "['01-11-2018', '01/11/2018', '01/11/18', '11/01/2018']\n"
     ]
    }
   ],
   "source": [
    "# Regular Expression for Dates\n",
    "dateStr = '01-11-2018\\n01/11/2018\\n01/11/18\\n11/01/2018\\n11 Nov 2018\\n11 November 2018\\nNov 11, 2018\\nNovember 11, 2018\\n'\n",
    "print(re.findall(r'\\d{2}[/-]\\d{2}[/-]\\d{4}', dateStr))\n",
    "print(re.findall(r'\\d{2}[/-]\\d{2}[/-]\\d{2,4}', dateStr))\n",
    "print(re.findall(r'\\d{1,2}[/-]\\d{1,2}[/-]\\d{2,4}', dateStr))"
   ]
  },
  {
   "cell_type": "code",
   "execution_count": 33,
   "metadata": {},
   "outputs": [
    {
     "name": "stdout",
     "output_type": "stream",
     "text": [
      "['Nov']\n",
      "['11 Nov 2018']\n",
      "['11 Nov 2018', '11 November 2018']\n",
      "['11 Nov 2018', '11 November 2018', 'Nov 11, 2018', 'November 11, 2018']\n",
      "['11 Nov 2018', '11 November 2018', 'Nov 11, 2018', 'November 11, 2018']\n"
     ]
    }
   ],
   "source": [
    "print(re.findall(r'\\d{2} (Jan|Feb|Mar|Apr|May|Jun|July|Aug|Sep|Oct|Nov|Dec) \\d{4}', dateStr))\n",
    "print(re.findall(r'\\d{2} (?:Jan|Feb|Mar|Apr|May|Jun|July|Aug|Sep|Oct|Nov|Dec) \\d{4}', dateStr))\n",
    "print(re.findall(r'\\d{2} (?:Jan|Feb|Mar|Apr|May|Jun|July|Aug|Sep|Oct|Nov|Dec)[a-z]* \\d{4}', dateStr))\n",
    "print(re.findall(r'(?:\\d{2}? )?(?:Jan|Feb|Mar|Apr|May|Jun|July|Aug|Sep|Oct|Nov|Dec)[a-z]* (?:\\d{2}, )?\\d{4}', dateStr))\n",
    "print(re.findall(r'(?:\\d{1,2}? )?(?:Jan|Feb|Mar|Apr|May|Jun|July|Aug|Sep|Oct|Nov|Dec)[a-z]* (?:\\d{1,2}, )?\\d{2,4}', dateStr))"
   ]
  },
  {
   "cell_type": "code",
   "execution_count": 34,
   "metadata": {},
   "outputs": [
    {
     "data": {
      "text/html": [
       "<div>\n",
       "<style scoped>\n",
       "    .dataframe tbody tr th:only-of-type {\n",
       "        vertical-align: middle;\n",
       "    }\n",
       "\n",
       "    .dataframe tbody tr th {\n",
       "        vertical-align: top;\n",
       "    }\n",
       "\n",
       "    .dataframe thead th {\n",
       "        text-align: right;\n",
       "    }\n",
       "</style>\n",
       "<table border=\"1\" class=\"dataframe\">\n",
       "  <thead>\n",
       "    <tr style=\"text-align: right;\">\n",
       "      <th></th>\n",
       "      <th>text</th>\n",
       "    </tr>\n",
       "  </thead>\n",
       "  <tbody>\n",
       "    <tr>\n",
       "      <th>0</th>\n",
       "      <td>Monday: The doctor's appointment is at 2:45pm.</td>\n",
       "    </tr>\n",
       "    <tr>\n",
       "      <th>1</th>\n",
       "      <td>Tuesday: The dentist's appointment is at 11:30...</td>\n",
       "    </tr>\n",
       "    <tr>\n",
       "      <th>2</th>\n",
       "      <td>Wednesday: At 7:00pm, there is a basketball game!</td>\n",
       "    </tr>\n",
       "    <tr>\n",
       "      <th>3</th>\n",
       "      <td>Thursday: Be back home by 11:15 pm at the latest.</td>\n",
       "    </tr>\n",
       "    <tr>\n",
       "      <th>4</th>\n",
       "      <td>Friday: Take the train at 08:10 am, arrive at ...</td>\n",
       "    </tr>\n",
       "  </tbody>\n",
       "</table>\n",
       "</div>"
      ],
      "text/plain": [
       "                                                text\n",
       "0     Monday: The doctor's appointment is at 2:45pm.\n",
       "1  Tuesday: The dentist's appointment is at 11:30...\n",
       "2  Wednesday: At 7:00pm, there is a basketball game!\n",
       "3  Thursday: Be back home by 11:15 pm at the latest.\n",
       "4  Friday: Take the train at 08:10 am, arrive at ..."
      ]
     },
     "execution_count": 34,
     "metadata": {},
     "output_type": "execute_result"
    }
   ],
   "source": [
    "import pandas as pd\n",
    "time_sentences = [\"Monday: The doctor's appointment is at 2:45pm.\", \n",
    "                  \"Tuesday: The dentist's appointment is at 11:30 am.\",\n",
    "                  \"Wednesday: At 7:00pm, there is a basketball game!\",\n",
    "                  \"Thursday: Be back home by 11:15 pm at the latest.\",\n",
    "                  \"Friday: Take the train at 08:10 am, arrive at 09:00am.\"]\n",
    "\n",
    "df = pd.DataFrame(time_sentences, columns=['text'])\n",
    "df"
   ]
  },
  {
   "cell_type": "markdown",
   "metadata": {},
   "source": [
    "# To Perform String Operations on Series/Dataframe - .str is used"
   ]
  },
  {
   "cell_type": "code",
   "execution_count": 35,
   "metadata": {},
   "outputs": [
    {
     "data": {
      "text/plain": [
       "0    46\n",
       "1    50\n",
       "2    49\n",
       "3    49\n",
       "4    54\n",
       "Name: text, dtype: int64"
      ]
     },
     "execution_count": 35,
     "metadata": {},
     "output_type": "execute_result"
    }
   ],
   "source": [
    "df['text'].str.len()"
   ]
  },
  {
   "cell_type": "code",
   "execution_count": 36,
   "metadata": {},
   "outputs": [
    {
     "data": {
      "text/plain": [
       "0     7\n",
       "1     8\n",
       "2     8\n",
       "3    10\n",
       "4    10\n",
       "Name: text, dtype: int64"
      ]
     },
     "execution_count": 36,
     "metadata": {},
     "output_type": "execute_result"
    }
   ],
   "source": [
    "df['text'].str.split().str.len()"
   ]
  },
  {
   "cell_type": "code",
   "execution_count": 37,
   "metadata": {},
   "outputs": [
    {
     "name": "stdout",
     "output_type": "stream",
     "text": [
      "\n",
      "Columns with Word Appointment : \n",
      " 0     True\n",
      "1     True\n",
      "2    False\n",
      "3    False\n",
      "4    False\n",
      "Name: text, dtype: bool\n",
      "\n",
      "Columns with Word day : \n",
      " 0    True\n",
      "1    True\n",
      "2    True\n",
      "3    True\n",
      "4    True\n",
      "Name: text, dtype: bool\n",
      "\n",
      "Columns with timestamp at night - pm : \n",
      " 0     True\n",
      "1    False\n",
      "2     True\n",
      "3     True\n",
      "4    False\n",
      "Name: text, dtype: bool\n"
     ]
    }
   ],
   "source": [
    "print(\"\\nColumns with Word Appointment : \\n\",df['text'].str.contains('appointment'))\n",
    "print(\"\\nColumns with Word day : \\n\",df['text'].str.contains('day'))\n",
    "print(\"\\nColumns with timestamp at night - pm : \\n\",df['text'].str.contains('pm'))"
   ]
  },
  {
   "cell_type": "markdown",
   "metadata": {},
   "source": [
    "#### Find count of digits in the data "
   ]
  },
  {
   "cell_type": "code",
   "execution_count": 38,
   "metadata": {},
   "outputs": [
    {
     "data": {
      "text/plain": [
       "0    3\n",
       "1    4\n",
       "2    3\n",
       "3    4\n",
       "4    8\n",
       "Name: text, dtype: int64"
      ]
     },
     "execution_count": 38,
     "metadata": {},
     "output_type": "execute_result"
    }
   ],
   "source": [
    "# How many times a digit occurs in every sentence\n",
    "df['text'].str.count(r'\\d')"
   ]
  },
  {
   "cell_type": "markdown",
   "metadata": {},
   "source": [
    "#### Find all unique digits in the data "
   ]
  },
  {
   "cell_type": "code",
   "execution_count": 39,
   "metadata": {},
   "outputs": [
    {
     "data": {
      "text/plain": [
       "0                   [2, 4, 5]\n",
       "1                [1, 1, 3, 0]\n",
       "2                   [7, 0, 0]\n",
       "3                [1, 1, 1, 5]\n",
       "4    [0, 8, 1, 0, 0, 9, 0, 0]\n",
       "Name: text, dtype: object"
      ]
     },
     "execution_count": 39,
     "metadata": {},
     "output_type": "execute_result"
    }
   ],
   "source": [
    "df['text'].str.findall(r'\\d')"
   ]
  },
  {
   "cell_type": "markdown",
   "metadata": {},
   "source": [
    "#### Find time values in the form of digits in the data "
   ]
  },
  {
   "cell_type": "code",
   "execution_count": 40,
   "metadata": {},
   "outputs": [
    {
     "data": {
      "text/plain": [
       "0               [(2, 45)]\n",
       "1              [(11, 30)]\n",
       "2               [(7, 00)]\n",
       "3              [(11, 15)]\n",
       "4    [(08, 10), (09, 00)]\n",
       "Name: text, dtype: object"
      ]
     },
     "execution_count": 40,
     "metadata": {},
     "output_type": "execute_result"
    }
   ],
   "source": [
    "df['text'].str.findall(r'(\\d?\\d):(\\d\\d)')"
   ]
  },
  {
   "cell_type": "code",
   "execution_count": 41,
   "metadata": {},
   "outputs": [
    {
     "data": {
      "text/plain": [
       "0       :-)   : The doctor's appointment is at 2:45pm.\n",
       "1    :-)   : The dentist's appointment is at 11:30 am.\n",
       "2       :-)   : At 7:00pm, there is a basketball game!\n",
       "3      :-)   : Be back home by 11:15 pm at the latest.\n",
       "4    :-)   : Take the train at 08:10 am, arrive at ...\n",
       "Name: text, dtype: object"
      ]
     },
     "execution_count": 41,
     "metadata": {},
     "output_type": "execute_result"
    }
   ],
   "source": [
    "df['text'].str.replace(r'\\w+day\\b', ':-)   ')"
   ]
  },
  {
   "cell_type": "code",
   "execution_count": 42,
   "metadata": {},
   "outputs": [
    {
     "data": {
      "text/plain": [
       "0            M: The doctor's appointment is at 2:45pm.\n",
       "1         T: The dentist's appointment is at 11:30 am.\n",
       "2            W: At 7:00pm, there is a basketball game!\n",
       "3           T: Be back home by 11:15 pm at the latest.\n",
       "4    F: Take the train at 08:10 am, arrive at 09:00am.\n",
       "Name: text, dtype: object"
      ]
     },
     "execution_count": 42,
     "metadata": {},
     "output_type": "execute_result"
    }
   ],
   "source": [
    "df['text'].str.replace(r'(\\w+day\\b)', lambda x: x.group()[0][:3])"
   ]
  },
  {
   "cell_type": "code",
   "execution_count": 43,
   "metadata": {},
   "outputs": [
    {
     "name": "stderr",
     "output_type": "stream",
     "text": [
      "C:\\Users\\Akshay.V\\AppData\\Local\\Continuum\\anaconda3\\lib\\site-packages\\ipykernel_launcher.py:1: FutureWarning: currently extract(expand=None) means expand=False (return Index/Series/DataFrame) but in a future version of pandas this will be changed to expand=True (return DataFrame)\n",
      "  \"\"\"Entry point for launching an IPython kernel.\n"
     ]
    },
    {
     "data": {
      "text/html": [
       "<div>\n",
       "<style scoped>\n",
       "    .dataframe tbody tr th:only-of-type {\n",
       "        vertical-align: middle;\n",
       "    }\n",
       "\n",
       "    .dataframe tbody tr th {\n",
       "        vertical-align: top;\n",
       "    }\n",
       "\n",
       "    .dataframe thead th {\n",
       "        text-align: right;\n",
       "    }\n",
       "</style>\n",
       "<table border=\"1\" class=\"dataframe\">\n",
       "  <thead>\n",
       "    <tr style=\"text-align: right;\">\n",
       "      <th></th>\n",
       "      <th>0</th>\n",
       "      <th>1</th>\n",
       "    </tr>\n",
       "  </thead>\n",
       "  <tbody>\n",
       "    <tr>\n",
       "      <th>0</th>\n",
       "      <td>2</td>\n",
       "      <td>45</td>\n",
       "    </tr>\n",
       "    <tr>\n",
       "      <th>1</th>\n",
       "      <td>11</td>\n",
       "      <td>30</td>\n",
       "    </tr>\n",
       "    <tr>\n",
       "      <th>2</th>\n",
       "      <td>7</td>\n",
       "      <td>00</td>\n",
       "    </tr>\n",
       "    <tr>\n",
       "      <th>3</th>\n",
       "      <td>11</td>\n",
       "      <td>15</td>\n",
       "    </tr>\n",
       "    <tr>\n",
       "      <th>4</th>\n",
       "      <td>08</td>\n",
       "      <td>10</td>\n",
       "    </tr>\n",
       "  </tbody>\n",
       "</table>\n",
       "</div>"
      ],
      "text/plain": [
       "    0   1\n",
       "0   2  45\n",
       "1  11  30\n",
       "2   7  00\n",
       "3  11  15\n",
       "4  08  10"
      ]
     },
     "execution_count": 43,
     "metadata": {},
     "output_type": "execute_result"
    }
   ],
   "source": [
    "df['text'].str.extract(r'(\\d?\\d):(\\d\\d)')"
   ]
  },
  {
   "cell_type": "code",
   "execution_count": 44,
   "metadata": {},
   "outputs": [
    {
     "data": {
      "text/html": [
       "<div>\n",
       "<style scoped>\n",
       "    .dataframe tbody tr th:only-of-type {\n",
       "        vertical-align: middle;\n",
       "    }\n",
       "\n",
       "    .dataframe tbody tr th {\n",
       "        vertical-align: top;\n",
       "    }\n",
       "\n",
       "    .dataframe thead th {\n",
       "        text-align: right;\n",
       "    }\n",
       "</style>\n",
       "<table border=\"1\" class=\"dataframe\">\n",
       "  <thead>\n",
       "    <tr style=\"text-align: right;\">\n",
       "      <th></th>\n",
       "      <th></th>\n",
       "      <th>0</th>\n",
       "      <th>1</th>\n",
       "      <th>2</th>\n",
       "      <th>3</th>\n",
       "    </tr>\n",
       "    <tr>\n",
       "      <th></th>\n",
       "      <th>match</th>\n",
       "      <th></th>\n",
       "      <th></th>\n",
       "      <th></th>\n",
       "      <th></th>\n",
       "    </tr>\n",
       "  </thead>\n",
       "  <tbody>\n",
       "    <tr>\n",
       "      <th>0</th>\n",
       "      <th>0</th>\n",
       "      <td>2:45pm</td>\n",
       "      <td>2</td>\n",
       "      <td>45</td>\n",
       "      <td>pm</td>\n",
       "    </tr>\n",
       "    <tr>\n",
       "      <th>1</th>\n",
       "      <th>0</th>\n",
       "      <td>11:30 am</td>\n",
       "      <td>11</td>\n",
       "      <td>30</td>\n",
       "      <td>am</td>\n",
       "    </tr>\n",
       "    <tr>\n",
       "      <th>2</th>\n",
       "      <th>0</th>\n",
       "      <td>7:00pm</td>\n",
       "      <td>7</td>\n",
       "      <td>00</td>\n",
       "      <td>pm</td>\n",
       "    </tr>\n",
       "    <tr>\n",
       "      <th>3</th>\n",
       "      <th>0</th>\n",
       "      <td>11:15 pm</td>\n",
       "      <td>11</td>\n",
       "      <td>15</td>\n",
       "      <td>pm</td>\n",
       "    </tr>\n",
       "    <tr>\n",
       "      <th rowspan=\"2\" valign=\"top\">4</th>\n",
       "      <th>0</th>\n",
       "      <td>08:10 am</td>\n",
       "      <td>08</td>\n",
       "      <td>10</td>\n",
       "      <td>am</td>\n",
       "    </tr>\n",
       "    <tr>\n",
       "      <th>1</th>\n",
       "      <td>09:00am</td>\n",
       "      <td>09</td>\n",
       "      <td>00</td>\n",
       "      <td>am</td>\n",
       "    </tr>\n",
       "  </tbody>\n",
       "</table>\n",
       "</div>"
      ],
      "text/plain": [
       "                0   1   2   3\n",
       "  match                      \n",
       "0 0        2:45pm   2  45  pm\n",
       "1 0      11:30 am  11  30  am\n",
       "2 0        7:00pm   7  00  pm\n",
       "3 0      11:15 pm  11  15  pm\n",
       "4 0      08:10 am  08  10  am\n",
       "  1       09:00am  09  00  am"
      ]
     },
     "execution_count": 44,
     "metadata": {},
     "output_type": "execute_result"
    }
   ],
   "source": [
    "df['text'].str.extractall(r'((\\d?\\d):(\\d\\d) ?([ap]m))')"
   ]
  },
  {
   "cell_type": "markdown",
   "metadata": {},
   "source": [
    "## Name groups in str"
   ]
  },
  {
   "cell_type": "code",
   "execution_count": 45,
   "metadata": {},
   "outputs": [
    {
     "data": {
      "text/html": [
       "<div>\n",
       "<style scoped>\n",
       "    .dataframe tbody tr th:only-of-type {\n",
       "        vertical-align: middle;\n",
       "    }\n",
       "\n",
       "    .dataframe tbody tr th {\n",
       "        vertical-align: top;\n",
       "    }\n",
       "\n",
       "    .dataframe thead th {\n",
       "        text-align: right;\n",
       "    }\n",
       "</style>\n",
       "<table border=\"1\" class=\"dataframe\">\n",
       "  <thead>\n",
       "    <tr style=\"text-align: right;\">\n",
       "      <th></th>\n",
       "      <th></th>\n",
       "      <th>Time</th>\n",
       "      <th>Hour</th>\n",
       "      <th>Minute</th>\n",
       "      <th>Period</th>\n",
       "    </tr>\n",
       "    <tr>\n",
       "      <th></th>\n",
       "      <th>match</th>\n",
       "      <th></th>\n",
       "      <th></th>\n",
       "      <th></th>\n",
       "      <th></th>\n",
       "    </tr>\n",
       "  </thead>\n",
       "  <tbody>\n",
       "    <tr>\n",
       "      <th>0</th>\n",
       "      <th>0</th>\n",
       "      <td>2:45pm</td>\n",
       "      <td>2</td>\n",
       "      <td>45</td>\n",
       "      <td>pm</td>\n",
       "    </tr>\n",
       "    <tr>\n",
       "      <th>1</th>\n",
       "      <th>0</th>\n",
       "      <td>11:30 am</td>\n",
       "      <td>11</td>\n",
       "      <td>30</td>\n",
       "      <td>am</td>\n",
       "    </tr>\n",
       "    <tr>\n",
       "      <th>2</th>\n",
       "      <th>0</th>\n",
       "      <td>7:00pm</td>\n",
       "      <td>7</td>\n",
       "      <td>00</td>\n",
       "      <td>pm</td>\n",
       "    </tr>\n",
       "    <tr>\n",
       "      <th>3</th>\n",
       "      <th>0</th>\n",
       "      <td>11:15 pm</td>\n",
       "      <td>11</td>\n",
       "      <td>15</td>\n",
       "      <td>pm</td>\n",
       "    </tr>\n",
       "    <tr>\n",
       "      <th rowspan=\"2\" valign=\"top\">4</th>\n",
       "      <th>0</th>\n",
       "      <td>08:10 am</td>\n",
       "      <td>08</td>\n",
       "      <td>10</td>\n",
       "      <td>am</td>\n",
       "    </tr>\n",
       "    <tr>\n",
       "      <th>1</th>\n",
       "      <td>09:00am</td>\n",
       "      <td>09</td>\n",
       "      <td>00</td>\n",
       "      <td>am</td>\n",
       "    </tr>\n",
       "  </tbody>\n",
       "</table>\n",
       "</div>"
      ],
      "text/plain": [
       "             Time Hour Minute Period\n",
       "  match                             \n",
       "0 0        2:45pm    2     45     pm\n",
       "1 0      11:30 am   11     30     am\n",
       "2 0        7:00pm    7     00     pm\n",
       "3 0      11:15 pm   11     15     pm\n",
       "4 0      08:10 am   08     10     am\n",
       "  1       09:00am   09     00     am"
      ]
     },
     "execution_count": 45,
     "metadata": {},
     "output_type": "execute_result"
    }
   ],
   "source": [
    "df['text'].str.extractall(r'(?P<Time>(?P<Hour>\\d?\\d):(?P<Minute>\\d\\d) ?(?P<Period>[ap]m))')"
   ]
  },
  {
   "cell_type": "markdown",
   "metadata": {},
   "source": [
    "# NLTK - Natural Language Processing Toolkit"
   ]
  },
  {
   "cell_type": "code",
   "execution_count": 46,
   "metadata": {},
   "outputs": [],
   "source": [
    "import nltk"
   ]
  },
  {
   "cell_type": "code",
   "execution_count": 47,
   "metadata": {},
   "outputs": [],
   "source": [
    "#nltk.download()"
   ]
  },
  {
   "cell_type": "code",
   "execution_count": 48,
   "metadata": {
    "scrolled": true
   },
   "outputs": [
    {
     "name": "stdout",
     "output_type": "stream",
     "text": [
      "['AbstractLazySequence', 'AffixTagger', 'AlignedSent', 'Alignment', 'AnnotationTask', 'ApplicationExpression', 'Assignment', 'BigramAssocMeasures', 'BigramCollocationFinder', 'BigramTagger', 'BinaryMaxentFeatureEncoding', 'BlanklineTokenizer', 'BllipParser', 'BottomUpChartParser', 'BottomUpLeftCornerChartParser', 'BottomUpProbabilisticChartParser', 'Boxer', 'BrillTagger', 'BrillTaggerTrainer', 'CFG', 'CRFTagger', 'CfgReadingCommand', 'ChartParser', 'ChunkParserI', 'ChunkScore', 'ClassifierBasedPOSTagger', 'ClassifierBasedTagger', 'ClassifierI', 'ConcordanceIndex', 'ConditionalExponentialClassifier', 'ConditionalFreqDist', 'ConditionalProbDist', 'ConditionalProbDistI', 'ConfusionMatrix', 'ContextIndex', 'ContextTagger', 'ContingencyMeasures', 'CoreNLPDependencyParser', 'CoreNLPParser', 'Counter', 'CrossValidationProbDist', 'DRS', 'DecisionTreeClassifier', 'DefaultTagger', 'DependencyEvaluator', 'DependencyGrammar', 'DependencyGraph', 'DependencyProduction', 'DictionaryConditionalProbDist', 'DictionaryProbDist', 'DiscourseTester', 'DrtExpression', 'DrtGlueReadingCommand', 'ELEProbDist', 'EarleyChartParser', 'Expression', 'FStructure', 'FeatDict', 'FeatList', 'FeatStruct', 'FeatStructReader', 'Feature', 'FeatureBottomUpChartParser', 'FeatureBottomUpLeftCornerChartParser', 'FeatureChartParser', 'FeatureEarleyChartParser', 'FeatureIncrementalBottomUpChartParser', 'FeatureIncrementalBottomUpLeftCornerChartParser', 'FeatureIncrementalChartParser', 'FeatureIncrementalTopDownChartParser', 'FeatureTopDownChartParser', 'FreqDist', 'HTTPPasswordMgrWithDefaultRealm', 'HeldoutProbDist', 'HiddenMarkovModelTagger', 'HiddenMarkovModelTrainer', 'HunposTagger', 'IBMModel', 'IBMModel1', 'IBMModel2', 'IBMModel3', 'IBMModel4', 'IBMModel5', 'ISRIStemmer', 'ImmutableMultiParentedTree', 'ImmutableParentedTree', 'ImmutableProbabilisticMixIn', 'ImmutableProbabilisticTree', 'ImmutableTree', 'IncrementalBottomUpChartParser', 'IncrementalBottomUpLeftCornerChartParser', 'IncrementalChartParser', 'IncrementalLeftCornerChartParser', 'IncrementalTopDownChartParser', 'Index', 'InsideChartParser', 'JSONTaggedDecoder', 'JSONTaggedEncoder', 'KneserNeyProbDist', 'LancasterStemmer', 'LaplaceProbDist', 'LazyConcatenation', 'LazyEnumerate', 'LazyIteratorList', 'LazyMap', 'LazySubsequence', 'LazyZip', 'LeftCornerChartParser', 'LidstoneProbDist', 'LineTokenizer', 'LogicalExpressionException', 'LongestChartParser', 'MLEProbDist', 'MWETokenizer', 'Mace', 'MaceCommand', 'MaltParser', 'MaxentClassifier', 'Model', 'MultiClassifierI', 'MultiParentedTree', 'MutableProbDist', 'NaiveBayesClassifier', 'NaiveBayesDependencyScorer', 'NgramAssocMeasures', 'NgramTagger', 'NonprojectiveDependencyParser', 'Nonterminal', 'OrderedDict', 'PCFG', 'Paice', 'ParallelProverBuilder', 'ParallelProverBuilderCommand', 'ParentedTree', 'ParserI', 'PerceptronTagger', 'PhraseTable', 'PorterStemmer', 'PositiveNaiveBayesClassifier', 'ProbDistI', 'ProbabilisticDependencyGrammar', 'ProbabilisticMixIn', 'ProbabilisticNonprojectiveParser', 'ProbabilisticProduction', 'ProbabilisticProjectiveDependencyParser', 'ProbabilisticTree', 'Production', 'ProjectiveDependencyParser', 'Prover9', 'Prover9Command', 'ProxyBasicAuthHandler', 'ProxyDigestAuthHandler', 'ProxyHandler', 'PunktSentenceTokenizer', 'QuadgramCollocationFinder', 'RSLPStemmer', 'RTEFeatureExtractor', 'RUS_PICKLE', 'RandomChartParser', 'RangeFeature', 'ReadingCommand', 'RecursiveDescentParser', 'RegexpChunkParser', 'RegexpParser', 'RegexpStemmer', 'RegexpTagger', 'RegexpTokenizer', 'ReppTokenizer', 'ResolutionProver', 'ResolutionProverCommand', 'SExprTokenizer', 'SLASH', 'Senna', 'SennaChunkTagger', 'SennaNERTagger', 'SennaTagger', 'SequentialBackoffTagger', 'ShiftReduceParser', 'SimpleGoodTuringProbDist', 'SklearnClassifier', 'SlashFeature', 'SnowballStemmer', 'SpaceTokenizer', 'StackDecoder', 'StanfordNERTagger', 'StanfordPOSTagger', 'StanfordSegmenter', 'StanfordTagger', 'StemmerI', 'SteppingChartParser', 'SteppingRecursiveDescentParser', 'SteppingShiftReduceParser', 'TYPE', 'TabTokenizer', 'TableauProver', 'TableauProverCommand', 'TaggerI', 'TestGrammar', 'Text', 'TextCat', 'TextCollection', 'TextTilingTokenizer', 'TnT', 'TokenSearcher', 'ToktokTokenizer', 'TopDownChartParser', 'TransitionParser', 'Tree', 'TreebankWordTokenizer', 'Trie', 'TrigramAssocMeasures', 'TrigramCollocationFinder', 'TrigramTagger', 'TweetTokenizer', 'TypedMaxentFeatureEncoding', 'Undefined', 'UniformProbDist', 'UnigramTagger', 'UnsortedChartParser', 'Valuation', 'Variable', 'ViterbiParser', 'WekaClassifier', 'WhitespaceTokenizer', 'WittenBellProbDist', 'WordNetLemmatizer', 'WordPunctTokenizer', '__author__', '__author_email__', '__builtins__', '__cached__', '__classifiers__', '__copyright__', '__doc__', '__file__', '__keywords__', '__license__', '__loader__', '__longdescr__', '__maintainer__', '__maintainer_email__', '__name__', '__package__', '__path__', '__spec__', '__url__', '__version__', 'absolute_import', 'accuracy', 'add_logs', 'agreement', 'align', 'alignment_error_rate', 'aline', 'api', 'app', 'apply_features', 'approxrand', 'arity', 'association', 'bigrams', 'binary_distance', 'binary_search_file', 'binding_ops', 'bisect', 'blankline_tokenize', 'bleu', 'bleu_score', 'bllip', 'boolean_ops', 'boxer', 'bracket_parse', 'breadth_first', 'brill', 'brill_trainer', 'build_opener', 'call_megam', 'casual', 'casual_tokenize', 'ccg', 'chain', 'chart', 'chat', 'choose', 'chunk', 'class_types', 'classify', 'clause', 'clean_html', 'clean_url', 'cluster', 'collections', 'collocations', 'combinations', 'compat', 'config_java', 'config_megam', 'config_weka', 'conflicts', 'confusionmatrix', 'conllstr2tree', 'conlltags2tree', 'corenlp', 'corpus', 'crf', 'custom_distance', 'data', 'decisiontree', 'decorator', 'decorators', 'defaultdict', 'demo', 'dependencygraph', 'deque', 'discourse', 'distance', 'download', 'download_gui', 'download_shell', 'downloader', 'draw', 'drt', 'earleychart', 'edit_distance', 'elementtree_indent', 'entropy', 'equality_preds', 'evaluate', 'evaluate_sents', 'everygrams', 'extract_rels', 'extract_test_sentences', 'f_measure', 'featstruct', 'featurechart', 'filestring', 'find', 'flatten', 'fractional_presence', 'getproxies', 'ghd', 'glue', 'grammar', 'guess_encoding', 'help', 'hmm', 'hunpos', 'ibm1', 'ibm2', 'ibm3', 'ibm4', 'ibm5', 'ibm_model', 'ieerstr2tree', 'improved_close_quote_regex', 'improved_open_quote_regex', 'improved_punct_regex', 'in_idle', 'induce_pcfg', 'inference', 'infile', 'inspect', 'install_opener', 'internals', 'interpret_sents', 'interval_distance', 'invert_dict', 'invert_graph', 'is_rel', 'islice', 'isri', 'jaccard_distance', 'json_tags', 'jsontags', 'lancaster', 'lazyimport', 'lfg', 'line_tokenize', 'linearlogic', 'load', 'load_parser', 'locale', 'log_likelihood', 'logic', 'mace', 'malt', 'map_tag', 'mapping', 'masi_distance', 'maxent', 'megam', 'memoize', 'metrics', 'misc', 'mwe', 'naivebayes', 'ne_chunk', 'ne_chunk_sents', 'ngrams', 'nonprojectivedependencyparser', 'nonterminals', 'numpy', 'os', 'pad_sequence', 'paice', 'parse', 'parse_sents', 'pchart', 'perceptron', 'pk', 'porter', 'pos_tag', 'pos_tag_sents', 'positivenaivebayes', 'pprint', 'pr', 'precision', 'presence', 'print_function', 'print_string', 'probability', 'projectivedependencyparser', 'prover9', 'punkt', 'py25', 'py26', 'py27', 'pydoc', 'python_2_unicode_compatible', 'raise_unorderable_types', 'ranks_from_scores', 'ranks_from_sequence', 're', 're_show', 'read_grammar', 'read_logic', 'read_valuation', 'recall', 'recursivedescent', 'regexp', 'regexp_span_tokenize', 'regexp_tokenize', 'register_tag', 'relextract', 'repp', 'resolution', 'ribes', 'ribes_score', 'root_semrep', 'rslp', 'rte_classifier', 'rte_classify', 'rte_features', 'rtuple', 'scikitlearn', 'scores', 'segmentation', 'sem', 'senna', 'sent_tokenize', 'sequential', 'set2rel', 'set_proxy', 'sexpr', 'sexpr_tokenize', 'shiftreduce', 'simple', 'sinica_parse', 'skipgrams', 'skolemize', 'slice_bounds', 'snowball', 'spearman', 'spearman_correlation', 'stack_decoder', 'stanford', 'stanford_segmenter', 'stem', 'str2tuple', 'string_span_tokenize', 'string_types', 'subprocess', 'subsumes', 'sum_logs', 'sys', 'tableau', 'tadm', 'tag', 'tagset_mapping', 'tagstr2tree', 'tbl', 'text', 'text_type', 'textcat', 'texttiling', 'textwrap', 'tkinter', 'tnt', 'tokenize', 'tokenwrap', 'toktok', 'toolbox', 'total_ordering', 'transitionparser', 'transitive_closure', 'translate', 'tree', 'tree2conllstr', 'tree2conlltags', 'treebank', 'treetransforms', 'trigrams', 'tuple2str', 'types', 'unify', 'unique_list', 'untag', 'usage', 'util', 'version_file', 'version_info', 'viterbi', 'weka', 'windowdiff', 'word_tokenize', 'wordnet', 'wordpunct_tokenize', 'wsd']\n"
     ]
    }
   ],
   "source": [
    "print(dir(nltk))"
   ]
  },
  {
   "cell_type": "code",
   "execution_count": 49,
   "metadata": {},
   "outputs": [
    {
     "name": "stdout",
     "output_type": "stream",
     "text": [
      "*** Introductory Examples for the NLTK Book ***\n",
      "Loading text1, ..., text9 and sent1, ..., sent9\n",
      "Type the name of the text or sentence to view it.\n",
      "Type: 'texts()' or 'sents()' to list the materials.\n",
      "text1: Moby Dick by Herman Melville 1851\n",
      "text2: Sense and Sensibility by Jane Austen 1811\n",
      "text3: The Book of Genesis\n",
      "text4: Inaugural Address Corpus\n",
      "text5: Chat Corpus\n",
      "text6: Monty Python and the Holy Grail\n",
      "text7: Wall Street Journal\n",
      "text8: Personals Corpus\n",
      "text9: The Man Who Was Thursday by G . K . Chesterton 1908\n"
     ]
    }
   ],
   "source": [
    "from nltk.book import *"
   ]
  },
  {
   "cell_type": "markdown",
   "metadata": {
    "collapsed": true
   },
   "source": [
    "#### Counting the vocabulary of words"
   ]
  },
  {
   "cell_type": "code",
   "execution_count": 50,
   "metadata": {},
   "outputs": [
    {
     "data": {
      "text/plain": [
       "<Text: Wall Street Journal>"
      ]
     },
     "execution_count": 50,
     "metadata": {},
     "output_type": "execute_result"
    }
   ],
   "source": [
    "text7"
   ]
  },
  {
   "cell_type": "code",
   "execution_count": 51,
   "metadata": {},
   "outputs": [
    {
     "name": "stdout",
     "output_type": "stream",
     "text": [
      "sent1: Call me Ishmael .\n",
      "sent2: The family of Dashwood had long been settled in Sussex .\n",
      "sent3: In the beginning God created the heaven and the earth .\n",
      "sent4: Fellow - Citizens of the Senate and of the House of Representatives :\n",
      "sent5: I have a problem with people PMing me to lol JOIN\n",
      "sent6: SCENE 1 : [ wind ] [ clop clop clop ] KING ARTHUR : Whoa there !\n",
      "sent7: Pierre Vinken , 61 years old , will join the board as a nonexecutive director Nov. 29 .\n",
      "sent8: 25 SEXY MALE , seeks attrac older single lady , for discreet encounters .\n",
      "sent9: THE suburb of Saffron Park lay on the sunset side of London , as red and ragged as a cloud of sunset .\n"
     ]
    }
   ],
   "source": [
    "sents()"
   ]
  },
  {
   "cell_type": "code",
   "execution_count": 52,
   "metadata": {},
   "outputs": [
    {
     "name": "stdout",
     "output_type": "stream",
     "text": [
      "['Pierre', 'Vinken', ',', '61', 'years', 'old', ',', 'will', 'join', 'the', 'board', 'as', 'a', 'nonexecutive', 'director', 'Nov.', '29', '.']\n"
     ]
    }
   ],
   "source": [
    "print(sent7)"
   ]
  },
  {
   "cell_type": "code",
   "execution_count": 53,
   "metadata": {},
   "outputs": [
    {
     "data": {
      "text/plain": [
       "18"
      ]
     },
     "execution_count": 53,
     "metadata": {},
     "output_type": "execute_result"
    }
   ],
   "source": [
    "len(sent7)"
   ]
  },
  {
   "cell_type": "code",
   "execution_count": 54,
   "metadata": {},
   "outputs": [
    {
     "data": {
      "text/plain": [
       "100676"
      ]
     },
     "execution_count": 54,
     "metadata": {},
     "output_type": "execute_result"
    }
   ],
   "source": [
    "len(text7)"
   ]
  },
  {
   "cell_type": "code",
   "execution_count": 55,
   "metadata": {},
   "outputs": [
    {
     "data": {
      "text/plain": [
       "12408"
      ]
     },
     "execution_count": 55,
     "metadata": {},
     "output_type": "execute_result"
    }
   ],
   "source": [
    "len(set(text7))"
   ]
  },
  {
   "cell_type": "code",
   "execution_count": 56,
   "metadata": {},
   "outputs": [
    {
     "data": {
      "text/plain": [
       "11387"
      ]
     },
     "execution_count": 56,
     "metadata": {},
     "output_type": "execute_result"
    }
   ],
   "source": [
    "len(set([w.lower() for w in text7]))"
   ]
  },
  {
   "cell_type": "code",
   "execution_count": 57,
   "metadata": {},
   "outputs": [
    {
     "name": "stdout",
     "output_type": "stream",
     "text": [
      "['installing', 'crossed', 'elected', 'Jefferson', 'syndrome', 'Traded', 'Family', 'advertised', 'Spiro', 'discos']\n"
     ]
    }
   ],
   "source": [
    "print(list(set(text7))[:10])"
   ]
  },
  {
   "cell_type": "markdown",
   "metadata": {},
   "source": [
    "### Frequency of Words"
   ]
  },
  {
   "cell_type": "code",
   "execution_count": 58,
   "metadata": {},
   "outputs": [
    {
     "name": "stdout",
     "output_type": "stream",
     "text": [
      "12408\n",
      "<FreqDist with 12408 samples and 100676 outcomes>\n"
     ]
    }
   ],
   "source": [
    "dist = FreqDist(text7)\n",
    "print(len(dist))\n",
    "print(dist)"
   ]
  },
  {
   "cell_type": "code",
   "execution_count": 59,
   "metadata": {},
   "outputs": [
    {
     "data": {
      "text/plain": [
       "dict_items([('Pierre', 1), ('Vinken', 2), (',', 4885), ('61', 5), ('years', 115), ('old', 24), ('will', 281), ('join', 4), ('the', 4045), ('board', 30), ('as', 385), ('a', 1878), ('nonexecutive', 5), ('director', 32), ('Nov.', 24), ('29', 5), ('.', 3828), ('Mr.', 375), ('is', 671), ('chairman', 45), ('of', 2319), ('Elsevier', 1), ('N.V.', 3), ('Dutch', 3), ('publishing', 13), ('group', 43), ('Rudolph', 3), ('Agnew', 1), ('55', 10), ('and', 1511), ('former', 19), ('Consolidated', 2), ('Gold', 2), ('Fields', 2), ('PLC', 13), ('was', 367), ('named', 22), ('*-1', 1123), ('this', 184), ('British', 11), ('industrial', 18), ('conglomerate', 3), ('A', 110), ('form', 17), ('asbestos', 11), ('once', 14), ('used', 32), ('*', 965), ('to', 2164), ('make', 73), ('Kent', 8), ('cigarette', 4), ('filters', 7), ('has', 339), ('caused', 13), ('high', 31), ('percentage', 11), ('cancer', 7), ('deaths', 6), ('among', 31), ('workers', 20), ('exposed', 2), ('it', 476), ('more', 198), ('than', 180), ('30', 47), ('ago', 38), ('researchers', 13), ('reported', 37), ('0', 1099), ('*T*-1', 806), ('The', 717), ('fiber', 1), ('crocidolite', 5), ('unusually', 2), ('resilient', 1), ('enters', 4), ('lungs', 1), ('with', 387), ('even', 68), ('brief', 5), ('exposures', 3), ('causing', 5), ('symptoms', 1), ('that', 807), ('show', 13), ('up', 153), ('decades', 3), ('later', 13), ('said', 628), ('*T*-2', 345), ('Lorillard', 5), ('Inc.', 97), ('unit', 36), ('New', 165), ('York-based', 5), ('Loews', 1), ('Corp.', 117), ('makes', 11), ('cigarettes', 6), ('stopped', 7), ('using', 16), ('in', 1572), ('its', 332), ('Micronite', 1), ('1956', 2), ('Although', 14), ('preliminary', 5), ('findings', 8), ('were', 197), ('*-2', 372), ('year', 212), ('latest', 22), ('results', 21), ('appear', 4), ('today', 22), (\"'s\", 864), ('England', 23), ('Journal', 10), ('Medicine', 5), ('forum', 2), ('likely', 22), ('bring', 9), ('new', 162), ('attention', 8), ('problem', 30), ('spokewoman', 1), ('``', 702), ('This', 40), ('an', 316), ('story', 6), ('We', 47), (\"'re\", 29), ('talking', 4), ('about', 206), ('before', 48), ('anyone', 6), ('heard', 4), ('having', 11), ('any', 105), ('questionable', 3), ('properties', 1), ('There', 32), ('no', 87), ('our', 26), ('products', 32), ('now', 61), (\"''\", 684), ('Neither', 5), ('nor', 11), ('who', 163), ('*T*-3', 97), ('studied', 5), ('aware', 3), ('research', 33), ('on', 490), ('smokers', 2), ('have', 323), ('useful', 2), ('information', 26), ('whether', 28), ('users', 2), ('are', 369), ('at', 402), ('risk', 12), ('James', 22), ('A.', 18), ('Talcott', 4), ('Boston', 17), ('Dana-Farber', 1), ('Cancer', 2), ('Institute', 15), ('Dr.', 13), ('led', 16), ('team', 17), ('from', 386), ('National', 20), ('medical', 7), ('schools', 9), ('Harvard', 3), ('University', 22), ('spokeswoman', 8), ('very', 31), ('modest', 3), ('amounts', 6), ('making', 20), ('paper', 28), ('for', 817), ('early', 43), ('1950s', 2), ('replaced', 6), ('different', 21), ('type', 11), ('filter', 1), ('From', 5), ('1953', 1), ('1955', 1), ('9.8', 2), ('billion', 159), ('sold', 39), ('*-3', 130), ('company', 260), ('Among', 13), ('33', 7), ('men', 10), ('*T*-4', 23), ('worked', 7), ('closely', 15), ('substance', 5), ('28', 4), ('*ICH*-1', 70), ('died', 3), ('--', 230), ('three', 48), ('times', 16), ('expected', 52), ('number', 45), ('Four', 1), ('five', 29), ('surviving', 3), ('asbestos-related', 3), ('diseases', 7), ('including', 39), ('recently', 25), ('diagnosed', 1), ('total', 24), ('18', 18), ('malignant', 1), ('mesothelioma', 1), ('lung', 2), ('asbestosis', 1), ('far', 32), ('higher', 49), ('*?*', 45), ('morbidity', 1), ('rate', 42), ('striking', 2), ('finding', 6), ('those', 55), ('us', 26), ('*T*-5', 5), ('study', 13), ('West', 13), ('Groton', 1), ('Mass.', 8), ('factory', 12), ('appears', 8), ('be', 356), ('highest', 8), ('Western', 13), ('industrialized', 2), ('countries', 21), ('he', 230), ('plant', 21), ('which', 225), ('owned', 6), ('*-4', 34), ('by', 429), ('Hollingsworth', 2), ('&', 86), ('Vose', 2), ('Co.', 74), ('under', 60), ('contract', 37), ('*ICH*-2', 34), ('probably', 14), ('support', 22), ('*T*-6', 2), ('argue', 6), ('U.S.', 221), ('should', 38), ('regulate', 2), ('class', 8), ('stringently', 1), ('common', 57), ('kind', 14), ('chrysotile', 2), ('found', 23), ('most', 75), ('other', 134), ('buildings', 3), ('one', 132), ('few', 33), ('nations', 15), ('*T*-7', 2), ('does', 54), (\"n't\", 325), ('standard', 7), ('regulation', 3), ('smooth', 1), ('needle-like', 1), ('fibers', 4), ('such', 87), ('classified', 1), ('*-5', 11), ('amphobiles', 1), ('according', 34), ('Brooke', 1), ('T.', 11), ('Mossman', 2), ('professor', 8), ('pathlogy', 1), ('Vermont', 1), ('College', 6), ('More', 6), ('curly', 1), ('easily', 6), ('rejected', 11), ('body', 2), ('explained', 3), ('In', 197), ('July', 8), ('Environmental', 1), ('Protection', 1), ('Agency', 5), ('imposed', 3), ('gradual', 1), ('ban', 12), ('virtually', 6), ('all', 103), ('uses', 8), ('By', 11), ('1997', 1), ('almost', 22), ('remaining', 9), ('cancer-causing', 1), ('outlawed', 1), ('*-6', 4), ('About', 6), ('160', 1), ('*T*-8', 2), ('made', 56), ('*-7', 4), ('Areas', 1), ('particularly', 17), ('dusty', 1), ('where', 34), ('*-8', 2), ('Workers', 2), ('dumped', 4), ('large', 29), ('burlap', 1), ('sacks', 1), ('imported', 4), ('material', 10), ('into', 87), ('huge', 14), ('bin', 1), ('poured', 1), ('cotton', 1), ('acetate', 1), ('mechanically', 1), ('mixed', 8), ('dry', 4), ('process', 13), ('described', 8), ('clouds', 1), ('blue', 5), ('dust', 1), ('hung', 1), ('over', 82), ('parts', 7), ('though', 29), ('exhaust', 2), ('fans', 2), ('ventilated', 1), ('area', 9), ('question', 14), ('some', 122), ('managers', 40), ('contracted', 2), ('Darrell', 1), ('Phillips', 2), ('vice', 44), ('president', 133), ('human', 4), ('resources', 5), ('But', 158), ('you', 70), ('recognize', 3), ('these', 55), ('events', 3), ('took', 28), ('place', 19), ('35', 7), ('It', 100), ('bearing', 3), ('work', 27), ('force', 23), ('Yields', 1), ('money-market', 3), ('mutual', 8), ('funds', 67), ('continued', 14), ('slide', 5), ('amid', 4), ('signs', 8), ('portfolio', 9), ('expect', 8), ('further', 17), ('declines', 7), ('interest', 53), ('rates', 50), ('average', 32), ('seven-day', 3), ('compound', 4), ('yield', 48), ('400', 7), ('taxable', 2), ('tracked', 1), ('IBC', 1), ('Money', 6), ('Fund', 12), ('Report', 8), ('eased', 3), ('fraction', 1), ('point', 29), ('8.45', 2), ('%', 446), ('8.47', 2), ('week', 55), ('ended', 24), ('Tuesday', 46), ('Compound', 1), ('yields', 7), ('assume', 4), ('reinvestment', 1), ('dividends', 21), ('current', 32), ('continues', 13), ('Average', 10), ('maturity', 3), (\"'\", 73), ('investments', 17), ('lengthened', 1), ('day', 23), ('41', 4), ('days', 51), ('longest', 1), ('since', 50), ('August', 18), ('Donoghue', 1), ('Longer', 1), ('maturities', 3), ('thought', 8), ('indicate', 3), ('declining', 4), ('because', 118), ('they', 210), ('permit', 3), ('retain', 3), ('relatively', 11), ('longer', 9), ('period', 25), ('Shorter', 1), ('considered', 9), ('*-9', 2), ('sign', 12), ('rising', 11), ('can', 94), ('capture', 4), ('sooner', 2), ('open', 9), ('only', 78), ('institutions', 18), ('stronger', 5), ('indicator', 4), ('watch', 11), ('market', 176), ('reached', 17), ('Nevertheless', 2), ('Brenda', 1), ('Malizia', 1), ('Negus', 1), ('editor', 11), ('may', 70), ('blip', 2), ('again', 14), ('down', 56), ('recent', 72), ('rises', 1), ('short-term', 14), ('six-month', 6), ('Treasury', 41), ('bills', 19), ('Monday', 12), ('auction', 5), ('example', 27), ('rose', 61), ('8.04', 2), ('7.90', 4), ('Despite', 11), ('investors', 63), ('continue', 20), ('pour', 1), ('cash', 43), ('money', 53), ('Assets', 1), ('grew', 4), ('$', 718), ('1.5', 7), ('*U*', 744), ('during', 38), ('352.7', 1), ('Typically', 2), ('money-fund', 1), ('beat', 6), ('comparable', 3), ('vary', 2), ('go', 22), ('after', 78), ('top', 12), ('currently', 22), ('yielding', 5), ('well', 46), ('9', 18), ('Dreyfus', 1), ('World-Wide', 1), ('Dollar', 2), ('top-yielding', 1), ('fund', 13), ('had', 165), ('9.37', 1), ('9.45', 1), ('earlier', 48), ('invests', 1), ('heavily', 7), ('dollar-denominated', 3), ('securities', 33), ('overseas', 11), ('waiving', 1), ('management', 22), ('fees', 19), ('*T*-9', 2), ('boosts', 4), ('simple', 4), ('8.12', 1), ('8.14', 1), ('30-day', 8), ('fell', 32), ('8.19', 1), ('8.22', 1), (';', 171), ('slid', 2), ('8.53', 1), ('8.56', 1), ('J.P.', 1), ('Bolduc', 1), ('W.R.', 3), ('Grace', 4), ('*T*-10', 2), ('holds', 4), ('83.4', 1), ('energy-services', 1), ('elected', 6), ('*-10', 2), ('He', 73), ('succeeds', 2), ('Terrence', 1), ('D.', 15), ('Daniels', 1), ('formerly', 3), ('*T*-11', 2), ('resigned', 6), ('Energy', 6), ('seven', 9), ('seats', 7), ('Pacific', 10), ('First', 38), ('Financial', 16), ('shareholders', 20), ('approved', 25), ('acquisition', 15), ('Royal', 1), ('Trustco', 1), ('Ltd.', 19), ('Toronto', 5), ('27', 5), ('share', 119), ('or', 291), ('212', 1), ('million', 383), ('thrift', 18), ('holding', 20), ('expects', 19), ('obtain', 3), ('regulatory', 8), ('approval', 10), ('complete', 7), ('transaction', 20), ('year-end', 2), ('McDermott', 1), ('International', 33), ('Babcock', 1), ('Wilcox', 1), ('completed', 15), ('sale', 27), ('Bailey', 3), ('Controls', 2), ('Operations', 2), ('Finmeccanica', 2), ('S.p', 1), ('295', 1), ('Italian', 4), ('state-owned', 2), ('interests', 7), ('mechanical', 4), ('engineering', 9), ('industry', 41), ('based', 31), ('Wickliffe', 1), ('Ohio', 9), ('computerized', 1), ('controls', 4), ('systems', 6), ('employs', 3), ('2,700', 1), ('people', 56), ('annual', 17), ('revenue', 11), ('370', 1), ('federal', 51), ('government', 83), ('suspended', 9), ('sales', 59), ('savings', 13), ('bonds', 59), ('Congress', 46), ('lifted', 2), ('ceiling', 10), ('debt', 46), ('Until', 5), ('acts', 3), ('authority', 12), ('issue', 60), ('obligations', 2), ('borrowing', 4), ('dropped', 13), ('midnight', 2), ('2.80', 1), ('trillion', 5), ('2.87', 2), ('Legislation', 1), ('lift', 4), ('ensnarled', 1), ('*-11', 2), ('fight', 3), ('cutting', 5), ('capital-gains', 2), ('taxes', 4), ('House', 55), ('voted', 5), ('raise', 21), ('3.1', 5), ('but', 151), ('Senate', 18), ('act', 12), ('until', 31), ('next', 67), ('earliest', 1), ('default', 5), ('if', 81), ('then', 27), ('Clark', 1), ('J.', 15), ('Vitulli', 2), ('*-12', 2), ('senior', 20), ('*RNR*-1', 34), ('general', 21), ('manager', 27), ('marketing', 17), ('arm', 3), ('Japanese', 91), ('auto', 13), ('maker', 28), ('Mazda', 2), ('Motor', 7), ('Corp', 11), ('position', 13), ('oversee', 1), ('service', 24), ('operations', 29), ('Previously', 4), ('43', 3), ('Chrysler', 6), ('division', 24), ('been', 150), ('executive', 68), ('20', 25), ('When', 21), ('time', 63), ('their', 181), ('biannual', 1), ('powwow', 1), ('nation', 25), ('manufacturing', 22), ('titans', 1), ('typically', 3), ('jet', 3), ('off', 45), ('sunny', 1), ('confines', 1), ('resort', 2), ('towns', 2), ('like', 57), ('Boca', 3), ('Raton', 2), ('Hot', 2), ('Springs', 3), ('Not', 7), ('Association', 21), ('Manufacturers', 3), ('settled', 5), ('Hoosier', 1), ('capital', 32), ('Indianapolis', 4), ('fall', 24), ('meeting', 16), ('And', 44), ('city', 17), ('decided', 16), ('treat', 4), ('guests', 3), ('royalty', 1), ('rock', 1), ('stars', 2), ('owners', 4), ('idea', 11), ('course', 11), (':', 142), ('prove', 9), ('125', 4), ('corporate', 25), ('decision', 19), ('makers', 12), ('buckle', 1), ('Rust', 1), ('Belt', 3), ('so', 71), ('rusty', 1), ('good', 42), ('expand', 5), ('On', 17), ('receiving', 4), ('end', 30), ('message', 4), ('officials', 47), ('giants', 2), ('Du', 2), ('Pont', 2), ('Maytag', 1), ('along', 6), ('lesser', 1), ('knowns', 1), ('Trojan', 1), ('Steel', 5), ('Valley', 12), ('Queen', 1), ('Cheese', 1), ('Factory', 4), ('For', 36), ('starters', 1), ('executives', 19), ('joined', 4), ('Mayor', 2), ('William', 23), ('H.', 5), ('Hudnut', 1), ('III', 3), ('evening', 4), ('Symphony', 1), ('Orchestra', 1), ('guest', 1), ('pianist-comedian', 1), ('Victor', 2), ('Borge', 1), ('Champagne', 4), ('dessert', 1), ('followed', 12), ('morning', 4), ('police', 5), ('escort', 1), ('busloads', 1), ('wives', 1), ('raced', 1), ('Speedway', 1), ('unimpeded', 1), ('traffic', 1), ('red', 3), ('lights', 2), ('governor', 3), ('could', 120), ('lieutenant', 1), ('welcomed', 2), ('special', 15), ('buffet', 2), ('breakfast', 1), ('held', 21), ('museum', 2), ('food', 16), ('drinks', 1), ('banned', 3), ('everyday', 1), ('visitors', 2), ('Then', 7), ('honor', 5), ('speedway', 1), ('hauled', 1), ('out', 78), ('four', 20), ('drivers', 3), ('crews', 1), ('official', 20), ('500', 38), ('announcer', 5), ('10-lap', 1), ('exhibition', 2), ('race', 3), ('After', 11), ('Fortune', 1), ('drooled', 1), ('schoolboys', 1), ('cars', 19), ('No', 11), ('dummies', 1), ('pointed', 3), ('still', 36), ('space', 9), ('machines', 2), ('another', 42), ('sponsor', 2), ('name', 8), ('two', 103), ('Back', 1), ('downtown', 2), ('execs', 1), ('squeezed', 2), ('meetings', 6), ('hotel', 3), ('boarding', 1), ('buses', 3), ('dinner', 2), ('dancing', 1), ('block', 9), ('away', 17), ('Under', 14), ('moons', 1), ('renovated', 1), ('Indiana', 5), ('Roof', 1), ('ballroom', 1), ('nine', 12), ('hottest', 1), ('chefs', 2), ('town', 3), ('fed', 2), ('them', 70), ('duckling', 1), ('mousseline', 1), ('lobster', 1), ('consomme', 1), ('veal', 1), ('mignon', 1), ('chocolate', 1), ('terrine', 1), ('raspberry', 1), ('sauce', 1), ('Knowing', 1), ('tasty', 1), ('free', 15), ('meal', 2), ('when', 77), ('eat', 1), ('gave', 10), ('standing', 6), ('ovation', 1), ('CEOs', 2), ('say', 75), ('red-carpet', 1), ('treatment', 9), ('tempts', 1), ('return', 28), ('heartland', 1), ('future', 26), ('looking', 9), ('forward', 4), ('winter', 1), ('February', 3), ('South', 40), ('Korea', 19), ('registered', 6), ('trade', 50), ('deficit', 6), ('101', 2), ('October', 61), ('reflecting', 4), ('country', 46), ('economic', 41), ('sluggishness', 1), ('figures', 12), ('released', 4), ('Wednesday', 16), ('Preliminary', 1), ('tallies', 1), ('Trade', 14), ('Industry', 4), ('Ministry', 10), ('showed', 13), ('fifth', 7), ('monthly', 8), ('setback', 2), ('casting', 2), ('cloud', 1), ('export-oriented', 1), ('economy', 26), ('Exports', 1), ('stood', 5), ('5.29', 1), ('mere', 2), ('0.7', 1), ('increase', 31), ('while', 49), ('imports', 12), ('increased', 23), ('sharply', 11), ('5.39', 1), ('last', 90), ('boom', 2), ('*T*-12', 2), ('began', 32), ('1986', 10), ('prolonged', 2), ('labor', 5), ('disputes', 3), ('conflicts', 2), ('sluggish', 8), ('exports', 11), ('Government', 4), ('would', 209), ('remain', 12), ('target', 10), ('68', 2), ('gloomy', 1), ('forecast', 7), ('recorded', 2), ('surplus', 2), ('71', 3), ('January', 12), ('accumulated', 1), ('4', 16), ('same', 37), ('50.45', 1), ('Imports', 3), ('50.38', 1), ('19', 8), ('Newsweek', 10), ('trying', 22), ('keep', 16), ('pace', 6), ('rival', 5), ('Time', 8), ('magazine', 23), ('announced', 17), ('advertising', 13), ('1990', 43), ('introduce', 7), ('incentive', 4), ('plan', 48), ('advertisers', 13), ('ad', 28), ('Washington', 23), ('Post', 1), ('second', 14), ('offered', 26), ('Plans', 2), ('*T*-13', 2), ('give', 21), ('discounts', 1), ('maintaining', 4), ('increasing', 18), ('spending', 26), ('become', 23), ('permanent', 2), ('fixtures', 1), ('news', 24), ('weeklies', 2), ('underscore', 1), ('fierce', 2), ('competition', 10), ('between', 36), ('Warner', 3), ('Mortimer', 1), ('B.', 7), ('Zuckerman', 1), ('News', 6), ('World', 15), ('Alan', 3), ('Spoon', 3), ('5', 19), ('full', 21), ('four-color', 1), ('page', 5), ('cost', 16), ('100,980', 1), ('mid-October', 1), ('lowered', 4), ('guaranteed', 1), ('circulation', 10), ('base', 9), ('not', 133), ('lower', 31), ('effectively', 4), ('7.5', 3), ('per', 9), ('subscriber', 1), ('costs', 26), ('120,000', 1), ('yet', 16), ('announce', 2), ('Circulation', 1), ('Credit', 3), ('Plan', 2), ('awards', 1), ('credits', 2), ('renewal', 1), ('reward', 2), ('bonuses', 2), ('meet', 12), ('exceed', 4), ('1989', 40), ('long', 26), ('spent', 8), ('325,000', 1), ('340,000', 1), ('attempt', 10), ('shore', 1), ('decline', 21), ('pages', 8), ('first', 75), ('months', 59), ('totaled', 10), ('1,620', 1), ('drop', 19), ('3.2', 4), ('Publishers', 1), ('Information', 3), ('Bureau', 2), ('What', 19), ('*T*-14', 2), ('matters', 3), ('what', 52), ('paying', 14), ('*T*-15', 2), ('department', 27), ('we', 48), ('doing', 9), ('fine', 25), ('Both', 9), ('gaining', 4), ('without', 29), ('heavy', 5), ('use', 38), ('electronic', 6), ('giveaways', 1), ('subscribers', 1), ('telephones', 1), ('watches', 7), ('However', 11), ('none', 4), ('big', 37), ('gains', 22), ('According', 8), ('Audit', 1), ('Circulations', 1), ('largest', 28), ('newsweekly', 1), ('4,393,237', 1), ('decrease', 3), ('7.3', 4), ('six', 31), ('3,288,453', 1), ('flat', 9), ('2,303,328', 1), ('2.6', 2), ('Electric', 7), ('System', 5), ('bowed', 2), ('bidding', 6), ('Public', 5), ('Service', 10), ('Hampshire', 8), ('saying', 18), ('risks', 11), ('too', 22), ('*RNR*-4', 2), ('potential', 15), ('payoff', 1), ('justify', 2), ('offer', 47), ('move', 26), ('leaves', 3), ('United', 19), ('Illuminating', 3), ('Northeast', 8), ('Utilities', 3), ('outside', 10), ('bidders', 3), ('PS', 7), ('also', 147), ('proposed', 22), ('internal', 6), ('reorganization', 9), ('Chapter', 4), ('11', 17), ('bankruptcy', 9), ('proceedings', 5), ('independent', 6), ('Westborough', 1), ('2', 30), ('acquire', 10), ('below', 33), ('2.29', 1), ('value', 24), ('places', 5), ('bid', 36), ('2.25', 1), ('says', 210), ('worth', 10), ('*-13', 2), ('Haven', 2), ('Conn.', 7), ('*-14', 2), ('Hartford', 3), ('Conn', 2), ('Manchester', 1), ('N.H.', 1), ('values', 3), ('2.2', 4), ('John', 34), ('Rowe', 5), ('chief', 51), ('officer', 32), ('equity', 17), ('suffer', 6), ('forecasts', 4), ('related', 10), ('growth', 39), ('electricity', 4), ('demand', 29), ('improved', 7), ('operating', 26), ('efficiencies', 1), ('did', 62), ('come', 25), ('true', 7), ('evaluated', 1), ('raising', 8), ('seemed', 7), ('substantial', 6), ('persistent', 4), ('rewards', 2), ('way', 30), ('That', 40), ('got', 18), ('hard', 12), ('take', 48), ('added', 40), ('noted', 25), ('political', 19), ('concerns', 13), ('worried', 6), ('matter', 14), ('*T*-16', 2), ('owns', 18), ('emerges', 1), ('attracts', 1), ('...', 16), ('just', 44), ('factors', 8), ('*T*-17', 2), ('withdraw', 3), ('Wilbur', 1), ('Ross', 5), ('Jr.', 12), ('Rothschild', 1), ('financial', 42), ('adviser', 5), ('troubled', 6), ('holders', 14), ('withdrawal', 3), ('might', 44), ('speed', 3), ('fact', 15), ('increases', 16), ('4.8', 2), ('against', 34), ('around', 30), ('5.5', 3), ('complicated', 6), ('negotiations', 3), ('state', 32), ('asserted', 2), ('Now', 9), ('field', 10), ('less', 40), ('cluttered', 1), ('Separately', 4), ('Federal', 21), ('Regulatory', 1), ('Commission', 16), ('turned', 11), ('request', 8), ('seeking', 19), ('possible', 24), ('purchase', 25), ('refile', 1), ('hopes', 11), ('expedited', 1), ('review', 14), ('FERC', 1), ('summer', 8), ('court', 35), ('shares', 114), ('closed', 30), ('yesterday', 61), ('3.75', 2), ('25', 13), ('cents', 70), ('York', 107), ('Stock', 36), ('Exchange', 50), ('composite', 17), ('trading', 162), ('Norman', 2), ('Ricken', 1), ('52', 3), ('Toys', 1), ('R', 1), ('Us', 1), ('Frederick', 2), ('Deane', 1), ('63', 5), ('Signet', 1), ('Banking', 3), ('*-15', 2), ('directors', 7), ('consumer', 13), ('electronics', 10), ('appliances', 5), ('retailing', 3), ('chain', 8), ('They', 53), ('succeed', 6), ('Daniel', 2), ('M.', 9), ('Rexinger', 1), ('retired', 5), ('Circuit', 2), ('City', 16), ('Robert', 24), ('R.', 16), ('Glauber', 1), ('undersecretary', 2), ('12-member', 1), ('Commonwealth', 14), ('Edison', 21), ('ordered', 13), ('refund', 9), ('250', 7), ('ratepayers', 1), ('illegal', 6), ('collected', 3), ('overruns', 1), ('nuclear', 5), ('power', 25), ('previously', 10), ('Illinois', 4), ('Commerce', 17), ('groups', 10), ('ever', 9), ('required', 10), ('local', 23), ('utility', 5), ('State', 14), ('Judge', 15), ('Richard', 13), ('Curry', 8), ('refunds', 2), ('45', 9), ('50', 46), ('each', 37), ('customers', 23), ('*T*-18', 2), ('received', 22), ('electric', 2), ('April', 13), ('*T*-19', 2), ('moved', 5), ('begin', 10), ('Feb.', 2), ('1', 43), ('entertain', 1), ('appeals', 4), ('attempts', 4), ('his', 121), ('order', 18), ('pool', 1), ('hostage', 1), ('through', 42), ('round', 5), ('already', 35), ('appealing', 2), ('underlying', 11), ('commission', 8), ('considering', 4), ('exact', 6), ('amount', 19), ('determined', 4), ('*-16', 2), ('actual', 8), ('collections', 2), ('Dec.', 17), ('31', 16), ('ruling', 12), ('slash', 1), ('earnings', 38), ('1.55', 2), ('1988', 45), ('737.5', 1), ('3.01', 1), ('spokesman', 39), ('tracking', 1), ('whose', 14), ('addresses', 1), ('*T*-20', 2), ('changed', 13), ('past', 29), ('3', 20), ('1\\\\/2', 27), ('administrative', 6), ('nightmare', 1), ('38.375', 1), ('12.5', 6), ('2.5', 4), ('Byron', 2), ('near', 9), ('Rockford', 2), ('Ill.', 7), ('*-17', 2), ('1985', 17), ('disputed', 1), ('49', 6), ('pay', 41), ('courts', 7), ('upheld', 3), ('challenge', 4), ('Supreme', 9), ('Court', 12), ('audit', 2), ('construction', 31), ('expenses', 8), ('unreasonable', 2), ('collecting', 1), ('subject', 12), ('ruled', 4), ('190', 2), ('195', 3), ('refunded', 1), ('plus', 5), ('additional', 26), ('calculations', 1), ('Last', 14), ('month', 44), ('set', 29), ('faces', 2), ('court-ordered', 1), ('summer\\\\/winter', 1), ('differential', 1), ('Appellate', 1), ('estimated', 20), ('140', 3), ('hope', 8), ('precedent', 4), ('case', 29), ('involving', 9), ('Braidwood', 3), ('245', 1), ('rule', 14), ('72.7', 1), ('poor', 7), ('performance', 18), ('LaSalle', 1), ('I', 115), ('Japan', 75), ('domestic', 13), ('trucks', 15), ('500,004', 1), ('units', 12), ('record', 30), ('Automobile', 1), ('Dealers', 9), ('strong', 24), ('year-to-year', 1), ('21', 12), ('12', 23), ('September', 42), ('setting', 1), ('records', 5), ('every', 19), ('March', 18), ('compared', 33), ('previous', 19), ('inched', 2), ('0.4', 1), ('Sales', 19), ('passenger', 3), ('22', 4), ('361,376', 1), ('medium-sized', 3), ('*T*-21', 2), ('benefited', 3), ('price', 66), ('reductions', 4), ('arising', 1), ('introduction', 8), ('consumption', 1), ('tax', 17), ('doubled', 3), ('30,841', 1), ('13,056', 1), ('Texas', 16), ('Instruments', 2), ('opened', 9), ('*ICH*-3', 13), ('manufacture', 2), ('control', 17), ('devices', 7), ('located', 4), ('Chinchon', 1), ('60', 13), ('miles', 4), ('Seoul', 4), ('help', 43), ('diversifying', 1), ('produce', 8), ('motor', 2), ('vehicles', 6), ('household', 3), ('survival', 4), ('spinoff', 8), ('Cray', 36), ('Computer', 13), ('fledgling', 1), ('supercomputer', 5), ('business', 76), ('depend', 1), ('creativity', 2), ('longevity', 1), ('designer', 4), ('Seymour', 5), ('development', 18), ('initial', 8), ('machine', 7), ('tied', 4), ('directly', 6), ('balance', 5), ('sheet', 3), ('Documents', 1), ('filed', 17), ('Securities', 27), ('pending', 5), ('disclosed', 16), ('Research', 21), ('100', 40), ('financing', 13), ('providing', 5), ('firm', 40), ('product-design', 1), ('project', 6), ('heads', 5), ('scrapped', 1), ('*-18', 2), ('documents', 5), ('although', 13), ('64-year-old', 2), ('working', 14), ('Cray-3', 9), ('least', 24), ('fully', 12), ('operational', 1), ('prototype', 1), ('Moreover', 9), ('there', 68), ('orders', 29), ('several', 32), ('prospects', 7), ('While', 25), ('many', 83), ('anticipated', 5), ('*-19', 2), ('Minneapolis-based', 1), ('May', 12), ('strings', 2), ('attached', 3), ('public', 29), ('much', 60), ('choice', 2), ('Gregory', 2), ('Barnum', 3), ('interview', 10), ('theory', 3), ('him', 16), ('*-20', 2), ('want', 29), ('*T*-22', 2), ('include', 14), ('anticipates', 2), ('needing', 1), ('perhaps', 10), ('120', 6), ('beginning', 10), ('called', 20), ('worst-case', 1), ('scenario', 2), ('filing', 9), ('details', 6), ('stock', 136), ('jump', 3), ('2.875', 1), ('close', 27), ('38', 2), ('Analysts', 9), ('link', 3), ('98.3', 1), ('promissory', 1), ('note', 10), ('presence', 6), ('complicate', 1), ('valuation', 2), ('*-21', 2), ('investor', 39), ('Gary', 4), ('P.', 5), ('Smaby', 2), ('Group', 26), ('Minneapolis', 5), ('concept', 6), ('You', 24), ('either', 9), ('believe', 14), ('do', 85), ('Besides', 4), ('age', 12), ('tricky', 1), ('unproven', 1), ('chip', 5), ('technology', 8), ('SEC', 6), ('describe', 2), ('chips', 5), ('*-22', 2), ('gallium', 1), ('arsenide', 1), ('being', 33), ('fragile', 2), ('minute', 3), ('require', 10), ('robotic', 1), ('handling', 5), ('equipment', 10), ('addition', 23), ('contain', 6), ('16', 12), ('processors', 3), ('twice', 1), ('face', 23), ('intense', 5), ('*T*-23', 2), ('world-wide', 5), ('*T*-24', 2), ('roll', 3), ('C-90', 1), ('direct', 10), ('competitor', 3), ('1991', 18), ('compete', 3), ('Business', 10), ('Machines', 4), ('Big', 35), ('Three', 3), ('Hitachi', 1), ('NEC', 7), ('Fujitsu', 13), ('Ltd', 6), ('believes', 12), ('fewer', 6), ('supercomputers', 2), ('priced', 26), ('15', 42), ('presumably', 2), ('range', 8), ('terms', 18), ('stockholders', 3), ('receive', 14), ('own', 49), ('distribution', 5), ('occur', 6), ('weeks', 22), ('*-23', 2), ('Instead', 5), ('companies', 63), ('leave', 7), ('marketplace', 5), ('decide', 5), ('applied', 4), ('Nasdaq', 6), ('calculate', 2), ('book', 8), ('4.75', 1), ('Along', 2), ('transferring', 2), ('53', 4), ('assets', 17), ('primarily', 6), ('*T*-25', 2), ('drain', 2), ('Pro-forma', 1), ('sheets', 3), ('clearly', 6), ('why', 8), ('favored', 3), ('Without', 6), ('able', 16), ('report', 40), ('profit', 58), ('19.3', 1), ('half', 23), ('rather', 16), ('5.9', 1), ('posted', 14), ('hand', 8), ('existed', 1), ('incurred', 3), ('20.5', 1), ('loss', 32), ('*-24', 2), ('comment', 19), ('Colorado', 2), ('Colo.', 5), ('contractor', 3), ('arrangement', 3), ('*-25', 3), ('Regarded', 1), ('father', 4), ('paid', 20), ('600,000', 2), ('At', 28), ('*-26', 2), ('240,000', 1), ('Messrs.', 3), ('includes', 12), ('Neil', 2), ('Davenport', 1), ('47', 5), ('Joseph', 3), ('Blanchard', 1), ('37', 3), ('Malcolm', 2), ('Hammerton', 1), ('40', 24), ('software', 14), ('Douglas', 5), ('Wheeland', 1), ('hardware', 5), ('All', 14), ('came', 21), ('*T*-26', 2), ('241', 1), ('450', 4), ('Stevens', 2), ('*-27', 2), ('both', 35), ('positions', 5), ('Donald', 6), ('Pardus', 1), ('electric-utility', 1), ('Arthur', 3), ('Hatch', 2), ('59', 6), ('*-28', 2), ('Eastern', 5), ('Carney', 1), ('Tassinari', 1), ('*-29', 2), ('claiming', 2), ('success', 3), ('diplomacy', 1), ('removed', 3), ('Taiwan', 8), ('Saudi', 4), ('Arabia', 3), ('list', 10), ('watching', 1), ('allegedly', 3), ('failing', 4), ('patents', 4), ('copyrights', 1), ('intellectual-property', 5), ('rights', 20), ('China', 25), ('Thailand', 5), ('India', 1), ('Brazil', 9), ('Mexico', 6), ('so-called', 7), ('priority', 4), ('result', 24), ('interim', 4), ('Representative', 3), ('Carla', 3), ('Hills', 15), ('law', 37), ('accelerated', 3), ('unfair-trade', 1), ('investigations', 1), ('stiff', 2), ('sanctions', 6), ('improve', 12), ('protection', 6), ('intellectual', 2), ('property', 5), ('spring', 8), ('Mrs.', 58), ('she', 77), ('placed', 8), ('varying', 3), ('degrees', 4), ('scrutiny', 3), ('genuine', 1), ('progress', 6), ('touchy', 1), ('She', 21), ('growing', 23), ('realization', 2), ('world', 22), ('denial', 1), ('harms', 1), ('inventiveness', 1), ('-LCB-', 14), ('offending', 1), ('-RCB-', 14), ('citizens', 1), ('negotiators', 2), ('inadequate', 2), ('protections', 1), ('hurting', 2), ('themselves', 12), ('discouraging', 1), ('scientists', 7), ('authors', 5), ('deterring', 1), ('high-technology', 1), ('firms', 34), ('investing', 3), ('best', 12), ('lauded', 1), ('creating', 5), ('task', 3), ('enforcement', 11), ('teams', 3), ('officers', 2), ('prosecutors', 3), ('trained', 2), ('pursue', 6), ('movie', 8), ('pirates', 1), ('instituted', 2), ('effective', 6), ('search-and-seizure', 1), ('procedures', 3), ('aid', 14), ('initialing', 1), ('bilateral', 4), ('copyright', 3), ('agreement', 17), ('amending', 1), ('trademark', 1), ('introducing', 2), ('legislation', 22), ('protect', 3), ('foreign', 23), ('producers', 6), ('unauthorized', 1), ('showings', 1), ('films', 3), ('measure', 11), ('compel', 1), ('Taipei', 3), ('small', 44), ('video-viewing', 1), ('parlors', 1), ('showing', 6), ('part', 39), ('vowed', 2), ('enact', 1), ('compatible', 1), ('international', 18), ('standards', 9), ('apply', 4), ('computer', 23), ('literary', 1), ('works', 7), ('These', 22), ('completely', 2), ('hook', 2), ('lower-priority', 1), ('*T*-27', 2), ('17', 15), ('Those', 6), ('Italy', 3), ('Canada', 7), ('Greece', 1), ('Spain', 4), ('concern', 42), ('deemed', 2), ('pose', 2), ('less-serious', 1), ('problems', 28), ('American', 67), ('patent', 10), ('Hoffman', 1), ('lawyer', 8), ('specializing', 1), ('cases', 22), ('threat', 2), ('retaliation', 1), ('combined', 7), ('recognition', 3), ('protecting', 4), ('prompted', 5), ('improvements', 1), ('tells', 4), ('*T*-28', 2), ('efforts', 11), ('craft', 1), ('concerned', 2), ('disturbing', 3), ('developments', 1), ('Turkey', 2), ('continuing', 13), ('slow', 13), ('Malaysia', 6), ('elaborate', 9), ('reports', 15), ('complained', 4), ('videocassette', 2), ('piracy', 1), ('disregard', 1), ('pharmaceutical', 6), ('requires', 6), ('So', 22), ('bad', 14), ('enough', 19), ('merit', 2), ('investigation', 5), ('301', 1), ('provision', 8), ('Argentina', 2), ('ask', 4), ('creditor', 2), ('banks', 51), ('halve', 1), ('64', 3), ('third-highest', 1), ('developing', 5), ('declaration', 1), ('Economy', 1), ('Minister', 4), ('Nestor', 1), ('Rapanelli', 4), ('believed', 7), ('action', 27), ('Argentine', 2), ('stature', 2), ('Latin', 1), ('little', 24), ('aspires', 1), ('reach', 5), ('reduction', 8), ('external', 1), ('Miguel', 1), ('Alurralde', 1), ('met', 6), ('Assistant', 1), ('Secretary', 6), ('David', 14), ('Mulford', 1), ('negotiator', 1), ('Carlos', 3), ('Carballo', 1), ('President', 28), ('Menem', 1), ('*T*-29', 2), ('office', 23), ('8', 36), ('feels', 2), ('significant', 14), ('principal', 16), ('solved', 2), ('*-31', 2), ('wants', 14), ('forgiven', 2), ('-LRB-', 106), ('During', 5), ('centennial', 1), ('Wall', 37), ('Street', 38), ('century', 3), ('*T*-30', 2), ('stand', 9), ('milestones', 1), ('history', 11), ('-RRB-', 112), ('THREE', 1), ('COMPUTERS', 1), ('THAT', 1), ('*T*-31', 2), ('CHANGED', 1), ('personal', 14), ('computing', 2), ('launched', 13), ('*-32', 2), ('1977', 6), ('Apple', 5), ('II', 22), ('Commodore', 1), ('Pet', 1), ('Tandy', 1), ('TRS-80', 1), ('computers', 15), ('crude', 4), ('television', 9), ('sets', 6), ('screens', 2), ('stored', 2), ('data', 14), ('audiocassettes', 1), ('major', 44), ('advance', 7), ('built', 15), ('*-33', 2), ('garage', 1), ('Stephen', 6), ('Wozniak', 1), ('Steven', 2), ('Jobs', 1), ('hobbyists', 1), ('Homebrew', 1), ('Club', 1), ('affordable', 1), ('1,298', 1), ('Crude', 2), ('PCs', 6), ('triggered', 4), ('explosive', 1), ('product', 21), ('desktop', 1), ('models', 5), ('home', 18), ('mainframe', 1), ('unlike', 3), ('built-from-kit', 1), ('types', 6), ('Altair', 1), ('Sol', 1), ('IMSAI', 1), ('keyboards', 1), ('store', 2), ('memories', 2), ('Current', 2), ('faster', 4), ('memory', 4), ('capacity', 14), ('greater', 11), ('counterparts', 2), ('pioneer', 2), ('PC', 3), ('contributors', 1), ('Gates', 2), ('Paul', 5), ('Allen', 3), ('1975', 3), ('developed', 7), ('language-housekeeper', 1), ('system', 17), ('became', 17), ('billionaire', 1), ('IBM', 6), ('adapted', 1), ('versions', 2), ('1981', 4), ('F.', 4), ('Shugart', 1), ('Seagate', 1), ('Technology', 3), ('*T*-32', 2), ('disk', 3), ('drives', 2), ('Dennis', 2), ('Hayes', 1), ('Dale', 1), ('Heatherington', 1), ('Atlanta', 6), ('engineers', 2), ('co-developers', 1), ('modems', 1), ('*T*-33', 2), ('allow', 8), ('via', 15), ('telephone', 11), ('leader', 5), ('entered', 4), ('Today', 6), ('shipments', 5), ('annually', 4), ('38.3', 1), ('F.H.', 1), ('Faulding', 3), ('Australian', 3), ('pharmaceuticals', 3), ('Moleculon', 3), ('affiliate', 4), ('acquired', 18), ('Kalipharma', 2), ('23', 8), ('Jersey-based', 1), ('*T*-34', 2), ('sells', 8), ('Purepac', 1), ('label', 1), ('voting', 2), ('stake', 24), ('together', 9), ('convertible', 13), ('preferred', 13), ('holdings', 3), ('gives', 13), ('right', 34), ('70', 13), ('Oil', 5), ('production', 22), ('Australia', 5), ('Bass', 2), ('Strait', 1), ('fields', 11), ('raised', 15), ('*-34', 2), ('11,000', 2), ('barrels', 7), ('321,000', 1), ('launch', 5), ('Whiting', 4), ('scheduled', 14), ('brought', 6), ('*-35', 2), ('Esso', 3), ('Exxon', 2), ('Broken', 1), ('Hill', 3), ('Pty.', 1), ('operate', 8), ('joint', 10), ('venture', 5), ('started', 6), ('Output', 1), ('gradually', 1), ('reaches', 1), ('reserves', 9), ('Reserves', 2), ('Perch', 1), ('Dolphin', 1), ('start', 8), ('producing', 4), ('Seahorse', 1), ('Tarwhine', 1), ('*-36', 2), ('1987', 32), ('excise', 2), ('R.P.', 2), ('Scherer', 2), ('10.2', 3), ('Southern', 6), ('Optical', 2), ('subsidiary', 7), ('Thomas', 14), ('Sloan', 1), ('Following', 1), ('buy-out', 15), ('Shearson', 16), ('Lehman', 6), ('Hutton', 6), ('gelatin', 1), ('capsules', 1), ('divest', 1), ('itself', 7), ('certain', 26), ('non-encapsulating', 1), ('businesses', 10), ('program', 127), ('White', 17), ('Bush', 44), ('duty-free', 5), ('*T*-35', 2), ('produced', 10), ('quantities', 2), ('Virgin', 2), ('Islands', 2), ('possessions', 1), ('response', 6), ('petition', 2), ('Timex', 3), ('changes', 16), ('Generalized', 1), ('Preferences', 1), ('denied', 4), ('*-37', 2), ('requested', 3), ('covered', 6), ('58', 4), ('tariff', 2), ('classifications', 1), ('grant', 4), ('status', 4), ('categories', 1), ('injury', 1), ('producer', 5), ('seller', 2), ('low-priced', 1), ('battery-operated', 1), ('assembled', 2), ('Philippines', 6), ('preferences', 1), ('main', 8), ('beneficiaries', 1), ('*T*-36', 2), ('eligible', 6), ('37.3', 1), ('aide', 4), ('Magna', 8), ('McAlpine', 8), ('Frank', 4), ('Stronach', 5), ('stepping', 3), ('turn', 8), ('automotive-parts', 1), ('manufacturer', 4), ('effort', 11), ('reduce', 13), ('overhead', 3), ('curb', 3), ('satisfactory', 2), ('level', 21), ('achieved', 1), ('maintained', 5), ('Akerfeldt', 1), ('finance', 18), ('An', 18), ('ambitious', 2), ('expansion', 6), ('left', 9), ('excess', 5), ('load', 3), ('automotive', 5), ('downturn', 5), ('despite', 14), ('steady', 6), ('cut', 28), ('quarterly', 6), ('dividend', 23), ('Class', 2), ('wallowing', 1), ('52-week', 1), ('16.125', 1), ('Canadian', 5), ('dollars', 17), ('US$', 4), ('13.73', 1), ('37.5', 2), ('C$', 2), ('9.625', 1), ('founder', 5), ('controlling', 3), ('shareholder', 12), ('seek', 17), ('unsuccessfully', 2), ('seat', 5), ('Parliament', 3), ('resume', 1), ('influential', 2), ('role', 11), ('running', 6), ('throughout', 5), ('organization', 10), ('personally', 1), ('restructuring', 19), ('assisted', 1), ('Manfred', 1), ('Gingl', 1), ('*-38', 2), ('consulting', 4), ('career', 5), ('clients', 18), ('Lord', 2), ('Chilver', 1), ('63-year-old', 1), ('English', 7), ('Clays', 1), ('*-39', 2), ('chemical', 4), ('nearly', 17), ('single-handedly', 2), ('bought', 10), ('mortgage', 5), ('securities-based', 1), ('totaling', 2), ('701', 1), ('Mortgage', 3), ('purchases', 9), ('mortgage-based', 1), ('instruments', 5), ('Fannie', 4), ('Mae', 6), ('O.', 1), ('Maxwell', 4), ('conference', 12), ('90', 13), ('*-40', 2), ('institutional', 10), ('rest', 6), ('went', 14), ('France', 9), ('Hong', 7), ('Kong', 7), ('Earlier', 4), ('snapped', 3), ('similar', 11), ('570', 1), ('mortgage-backed', 3), ('put', 22), ('*-41', 2), ('Blackstone', 1), ('investment', 56), ('bank', 38), ('*-42', 2), ('jointly', 8), ('Goldman', 7), ('Sachs', 7), ('Daiwa', 2), ('Co', 16), ('seven-year', 1), ('offering', 25), ('fixed-rate', 6), ('floating-rate', 3), ('linked', 2), ('London', 26), ('interbank', 2), ('key', 11), ('advantages', 2), ('designed', 20), ('eliminate', 6), ('prepayment', 2), ('*-43', 2), ('forces', 7), ('redeploy', 1), ('Second', 4), ('channel', 1), ('payments', 21), ('semiannual', 3), ('reducing', 4), ('burden', 2), ('addressing', 1), ('extremely', 4), ('attractive', 2), ('Such', 11), ('boosted', 9), ('900', 8), ('outstanding', 21), ('rapid', 2), ('purchasers', 2), ('buying', 18), ('2.4', 2), ('tenth', 1), ('issued', 12), ('L.', 7), ('Pate', 1), ('54-year-old', 1), ('*-44', 2), ('oil', 18), ('expanding', 5), ('14', 12), ('members', 26), ('LTV', 1), ('judge', 7), ('agreed', 17), ('extend', 8), ('steel', 12), ('aerospace', 7), ('energy', 8), ('exclusive', 4), ('file', 7), ('Bankruptcy', 2), ('Code', 2), ('giving', 9), ('creditors', 6), ('lawsuits', 2), ('debts', 6), ('giant', 5), ('Montedison', 3), ('S.p.A.', 1), ('Acquisition', 6), ('indirect', 1), ('37-a-share', 1), ('tender', 6), ('Erbamont', 2), ('incorporated', 1), ('Netherlands', 2), ('advertised', 2), ('editions', 1), ('expire', 7), ('November', 9), ('72', 2), ('*-45', 2), ('pursuant', 3), ('gold', 9), ('currencies', 2), ('drawing', 3), ('hefty', 5), ('1.82', 1), ('84.29', 1), ('Finance', 9), ('marks', 10), ('sixth', 3), ('consecutive', 5), ('protracted', 2), ('reflects', 4), ('intensity', 2), ('Bank', 32), ('yen-support', 1), ('intervention', 1), ('June', 14), ('currency', 7), ('temporarily', 8), ('surged', 8), ('above', 18), ('150.00', 1), ('yen', 56), ('announcement', 10), ('follows', 5), ('sharper', 1), ('86.12', 1), ('Pick', 1), ('craze', 3), ('sweeping', 5), ('rash', 1), ('closed-end', 3), ('publicly', 11), ('traded', 15), ('portfolios', 5), ('*T*-37', 2), ('invest', 2), ('stocks', 67), ('single', 11), ('24', 9), ('regulators', 14), ('triple', 1), ('Charles', 10), ('E.', 8), ('Simon', 2), ('Washington-based', 1), ('turf', 1), ('ranged', 5), ('Chile', 2), ('Austria', 1), ('Portugal', 1), ('Next', 1), ('Philippine', 2), ('capped', 3), ('*-46', 2), ('visit', 5), ('Corazon', 1), ('Aquino', 1), ('head', 12), ('kicked', 2), ('Board', 43), ('here', 20), ('province', 1), ('?', 40), ('Anything', 1), ('how', 25), ('Guinea', 3), ('quips', 1), ('George', 5), ('Foot', 3), ('managing', 7), ('partner', 7), ('Newgate', 2), ('Management', 12), ('Associates', 7), ('Northampton', 1), ('Mass', 3), ('explosion', 2), ('mirrors', 1), ('mania', 1), ('1920s', 2), ('narrowly', 1), ('focused', 5), ('wildly', 1), ('popular', 7), ('oblivion', 1), ('1929', 3), ('crash', 12), ('Unlike', 3), ('traditional', 12), ('open-end', 1), ('one-country', 1), ('issuing', 1), ('fixed', 9), ('*T*-38', 2), ('surge', 6), ('brings', 2), ('*T*-39', 2), ('soon', 11), ('listed', 9), ('account', 11), ('billions', 3), ('People', 6), ('claims', 7), ('available', 14), ('runs', 9), ('Michael', 17), ('Porter', 4), ('analyst', 27), ('Smith', 6), ('Barney', 3), ('Harris', 2), ('Upham', 2), ('Behind', 1), ('hoopla', 1), ('heavy-duty', 1), ('As', 30), ('individual', 13), ('scrambled', 2), ('find', 16), ('brokers', 6), ('*T*-40', 2), ('easy', 10), ('sell', 46), ('stretching', 1), ('nets', 1), ('wide', 5), ('planners', 2), ('often', 24), ('urge', 1), ('diversify', 2), ('hold', 7), ('smattering', 1), ('emerging', 1), ('markets', 53), ('outpaced', 1), ('mature', 9), ('Country', 1), ('get', 47), ('taste', 1), ('burned', 1), ('Political', 1), ('gyrations', 6), ('whipsaw', 1), ('Another', 6), ('prices', 86), ('tend', 3), ('swing', 4), ('broader', 6), ('7', 20), ('Oct.', 25), ('13', 26), ('instance', 7), ('plunged', 6), ('clobbered', 1), ('*-47', 2), ('*T*-41', 2), ('wild', 2), ('frenzy', 1), ('historically', 3), ('fat', 2), ('premiums', 3), ('discount', 5), ('late', 17), ('premium', 9), ('6', 17), ('reason', 11), ('Share', 1), ('climbed', 5), ('*T*-42', 2), ('*T*-43', 2), ('partially', 3), ('specialists', 7), ('European', 7), ('skyrocketed', 2), ('startling', 2), ('targeted', 2), ('*-48', 2), ('long-term', 14), ('play', 5), ('1992', 8), ('integration', 4), ('*T*-44', 2), ('invested', 7), ('jumped', 8), (\"'m\", 13), ('alarmed', 1), ('see', 29), ('rich', 3), ('valuations', 1), ('newly', 3), ('fattened', 1), ('reflect', 5), ('increasingly', 4), ('global', 6), ('suggests', 7), ('Asia', 15), ('Europe', 10), ('foreign-stock', 1), ('exposure', 5), ('resistant', 1), ('viewpoint', 3), ('cast', 3), ('Nonetheless', 1), ('plenty', 3), ('analysts', 30), ('aghast', 1), ('lofty', 1), ('levels', 13), ('buy', 53), ('depositary', 3), ('receipts', 3), ('ADRs', 4), ('represent', 7), ('essentially', 8), ('*T*-45', 2), ('insist', 5), ('jumping', 1), ('advice', 1), ('folks', 3), ('party', 5), ('better', 19), ('ready', 1), ('quickly', 13), ('Soviet', 19), ('Union', 21), ('technical', 5), ('talks', 20), ('repayment', 1), ('Moscow', 7), ('188', 2), ('pre-Communist', 1), ('Russian', 1), ('owed', 5), ('Department', 44), ('If', 40), ('repaid', 2), ('*-49', 2), ('clear', 16), ('*-50', 2), ('Soviets', 10), ('*EXP*-1', 33), ('happen', 5), ('Coincident', 1), ('permitted', 3), ('branch', 7), ('Foreign', 5), ('Economic', 4), ('Affairs', 2), ('crippled', 2), ('*-51', 2), ('unless', 9), ('settle', 7), ('lent', 2), ('*-52', 4), ('short-lived', 1), ('democratic', 3), ('Kerensky', 1), ('Communists', 1), ('seized', 1), ('1917', 1), ('1934', 1), ('Johnson', 14), ('Debt', 1), ('Default', 1), ('Act', 9), ('amended', 1), ('*EXP*-2', 8), ('Americans', 9), ('credit', 21), ('Monetary', 2), ('U.S.S.R.', 1), ('belongs', 2), ('neither', 7), ('pre-1917', 1), ('stressed', 2), ('pre-1933', 1), ('satisfying', 1), ('legal', 12), ('obstacles', 2), ('hundreds', 2), ('millions', 6), ('War', 4), ('lend-lease', 1), ('reflection', 3), ('leveling', 2), ('manufactured', 2), ('goods', 13), ('failed', 16), ('rise', 21), ('Meanwhile', 9), ('Purchasing', 4), ('survey', 17), ('indicated', 14), ('Its', 11), ('index', 64), ('47.6', 3), ('46', 4), ('Any', 3), ('reading', 11), ('sector', 17), ('generally', 13), ('purchasing', 14), ('however', 24), ('Factories', 1), ('booked', 1), ('236.74', 1), ('236.79', 1), ('59.6', 1), ('defense', 12), ('contractors', 1), ('fallen', 6), ('2.1', 3), ('separate', 9), ('ran', 6), ('415.6', 1), ('significantly', 6), ('415.8', 1), ('Private', 2), ('building', 14), ('activity', 16), ('adjusted', 5), ('remove', 3), ('effects', 3), ('usual', 3), ('seasonal', 1), ('patterns', 3), ('inflation', 6), ('Kenneth', 2), ('Mayland', 1), ('economist', 6), ('Society', 4), ('Cleveland', 6), ('taper', 1), ('revive', 3), ('residential', 4), ('*T*-46', 2), ('pick', 2), ('slack', 2), ('asked', 10), ('draw', 3), ('blank', 1), ('measures', 7), ('slowly', 4), ('payrolls', 2), ('Reserve', 7), ('industrial-production', 1), ('Yet', 7), ('economists', 5), ('predicting', 4), ('slip', 1), ('recession', 11), ('cite', 2), ('lack', 8), ('imbalances', 2), ('*T*-47', 2), ('provide', 14), ('warning', 6), ('signals', 3), ('Inventories', 1), ('watched', 1), ('clues', 2), ('Economists', 2), ('buildup', 1), ('inventories', 6), ('provoke', 2), ('cutbacks', 5), ('*T*-48', 2), ('lead', 19), ('front', 7), ('0.1', 3), ('conforms', 1), ('`', 10), ('soft', 3), ('landing', 2), ('Elliott', 1), ('Platt', 2), ('Donaldson', 4), ('Lufkin', 4), ('Jenrette', 4), ('excessive', 3), ('slowdown', 4), ('*T*-49', 2), ('eases', 1), ('leading', 13), ('nondurable', 1), ('intended', 4), ('0.3', 2), ('109.73', 1), ('climbing', 2), ('0.9', 2), ('Orders', 1), ('durable', 1), ('0.2', 1), ('127.03', 1), ('3.9', 2), ('durable-goods', 1), ('1.6', 3), ('234.4', 1), ('5.4', 2), ('Shipments', 1), ('backlogs', 2), ('unfilled', 1), ('0.5', 1), ('497.34', 1), ('helped', 14), ('strength', 7), ('Excluding', 2), ('declined', 22), ('*T*-50', 2), ('accounts', 9), ('191.9', 1), ('Berson', 1), ('Bankers', 3), ('predicted', 3), ('eventually', 8), ('boost', 11), ('single-family', 2), ('homes', 3), ('Spending', 1), ('private', 20), ('nonresidential', 1), ('99.1', 1), ('4.3', 2), ('88', 2), ('adjusting', 2), ('change', 22), ('contrast', 3), ('McGraw-Hill', 6), ('F.W.', 1), ('Dodge', 4), ('contracts', 24), ('awarded', 5), ('goverment', 1), ('counts', 3), ('*-53', 2), ('*-54', 2), ('renovation', 2), ('slowing', 12), ('signaling', 1), ('imminent', 5), ('Bretz', 3), ('association', 9), ('committee', 13), ('materials', 16), ('Pitney', 1), ('Bowes', 1), ('Stamford', 3), ('low', 25), ('*-55', 2), ('evidence', 13), ('export', 13), ('Only', 5), ('purhasing', 1), ('purchased', 4), ('steeper', 2), ('vendors', 1), ('delivering', 1), ('consider', 9), ('inflationary', 1), ('pressures', 7), ('abating', 1), ('suppliers', 3), ('handle', 2), ('delivery', 16), ('lengthen', 1), ('*-56', 2), ('provided', 8), ('Each', 9), ('indicators', 5), ('gauges', 1), ('difference', 10), ('reporting', 7), ('improvement', 6), ('particular', 7), ('worsening', 1), ('polled', 2), ('73', 2), ('*T*-51', 3), ('import', 6), ('10', 51), ('acknowledging', 1), ('trend', 7), ('suspect', 4), ('going', 20), ('Items', 1), ('short', 13), ('supply', 7), ('numbered', 1), ('dozen', 4), ('included', 17), ('newcomer', 1), ('milk', 4), ('powder', 1), ('odd', 3), ('thing', 14), ('row', 2), ('shortage', 2), ('nonfat', 1), ('blamed', 4), ('dairy', 1), ('exceptionally', 2), ('coupled', 3), ('quotas', 2), ('Pamela', 2), ('Sebastian', 1), ('contributed', 7), ('article', 6), ('Here', 3), ('seasonally', 2), ('manufacturers', 6), ('Judging', 1), ('Americana', 2), ('Haruki', 1), ('Murakami', 2), ('Wild', 3), ('Sheep', 4), ('Chase', 6), ('Kodansha', 2), ('320', 1), ('18.95', 1), ('baby', 1), ('boomers', 1), ('sides', 9), ('lot', 12), ('novel', 4), ('texture', 1), ('entirely', 4), ('especially', 9), ('Characters', 1), ('drink', 3), ('Salty', 1), ('Dogs', 1), ('whistle', 1), ('Johnny', 1), ('Goode', 1), ('Bugs', 1), ('Bunny', 1), ('reruns', 4), ('read', 11), ('Mickey', 1), ('Spillane', 1), ('talk', 8), ('Groucho', 1), ('Harpo', 1), ('worry', 5), ('careers', 2), ('broken', 4), ('marriages', 2), ('desultory', 1), ('affairs', 6), ('reader', 3), ('charm', 1), ('engaging', 2), ('recognizing', 1), ('buttoned-down', 1), ('society', 3), ('contemporary', 4), ('lore', 1), ('refreshing', 1), ('author', 4), ('*T*-52', 2), ('belong', 3), ('self-aggrandizing', 1), ('we-Japanese', 1), ('school', 22), ('writers', 2), ('*T*-53', 2), ('perpetuate', 1), ('notion', 2), ('unique', 1), ('unfathomable', 1), ('outsiders', 1), ('carries', 4), ('implicit', 1), ('relations', 9), ('think', 23), ('nutty', 1), ('plot', 1), ('rooted', 1), ('*-57', 2), ('reality', 4), ('imaginative', 1), ('funny', 3), ('disaffected', 1), ('hard-drinking', 1), ('nearly-30', 1), ('hero', 2), ('snow', 1), ('search', 1), ('elusive', 1), ('sheep', 1), ('star', 2), ('back', 25), ('behest', 1), ('sinister', 1), ('erudite', 1), ('mobster', 1), ('Stanford', 2), ('degree', 2), ('tow', 1), ('prescient', 1), ('girlfriend', 1), ('sassy', 1), ('retorts', 1), ('*T*-54', 2), ('mark', 9), ('her', 51), ('anything', 12), ('docile', 1), ('butterfly', 1), ('meets', 1), ('solicitous', 1), ('Christian', 2), ('chauffeur', 1), ('*T*-55', 2), ('offers', 8), ('God', 1), ('phone', 2), ('Man', 2), ('sweet', 2), ('roughhewn', 1), ('figure', 7), ('*T*-56', 2), ('wears', 1), ('else', 3), ('sheepskin', 1), ('40-year-old', 1), ('sensation', 1), ('Norwegian', 1), ('Wood', 3), ('seems', 8), ('fluent', 1), ('Beatles', 2), ('lyrics', 1), ('copies', 5), ('published', 1), ('youthful', 1), ('Tokyo', 24), ('brat', 1), ('pack', 1), ('*T*-57', 2), ('dominating', 1), ('best-seller', 1), ('charts', 1), ('Their', 3), ('books', 5), ('written', 5), ('idiomatic', 1), ('language', 6), ('usually', 10), ('carry', 10), ('dashes', 1), ('Gotta', 2), ('Have', 2), ('Wa', 3), ('Macmillan', 2), ('339', 1), ('17.95', 2), ('baseball', 3), ('Nipponese', 2), ('version', 5), ('call', 7), ('game', 8), ('describes', 3), ('mirror', 2), ('fabled', 1), ('virtues', 1), ('harmony', 2), ('spirit', 4), ('ballplayers', 3), ('player', 1), ('commitment', 3), ('practice', 10), ('image', 3), ('important', 17), ('batting', 1), ('Polls', 1), ('Giants', 5), ('Tatsunori', 1), ('Hara', 1), ('humble', 1), ('uncomplaining', 1), ('obedient', 1), ('soul', 1), ('male', 4), ('symbol', 2), ('besuboru', 1), ('played', 3), ('ball', 1), ('bat', 1), ('unrecognizable', 2), ('Fans', 1), ('politely', 1), ('foul', 2), ('balls', 1), ('stadium', 7), ('ushers', 1), ('strike', 13), ('zone', 2), ('expands', 1), ('depending', 1), ('size', 10), ('hitter', 1), ('ties', 6), ('honorably', 1), ('sidestep', 2), ('shame', 3), ('defeat', 2), ('players', 5), ('must', 19), ('abide', 1), ('strict', 3), ('rules', 8), ('conduct', 3), ('lives', 6), ('always', 15), ('wear', 1), ('road', 4), ('amusing', 2), ('chronicle', 1), ('rationed', 1), ('fare', 2), ('enormous', 2), ('sums', 2), ('plate', 2), ('run', 18), ('Funny', 2), ('Soho', 1), ('228', 2), ('Katzenstein', 5), ('petulant', 1), ('complaint', 3), ('impudent', 1), ('whom', 6), ('Sony', 13), ('hosted', 1), ('*T*-58', 2), ('Luce', 1), ('Fellowship', 1), ('regret', 2), ('parties', 6), ('sometimes', 8), ('supercilious', 1), ('vicious', 1), ('passages', 1), ('invades', 1), ('mundane', 1), ('aspects', 1), ('regimented', 1), ('employees', 20), ('assigned', 1), ('*-59', 2), ('lunch', 1), ('partners', 7), ('austere', 1), ('dormitory', 1), ('prying', 1), ('caretaker', 1), ('Some', 24), ('observations', 1), ('style', 3), ('*EXP*-3', 3), ('salarymen', 1), ('unproductive', 1), ('overtime', 1), ('sake', 1), ('solidarity', 1), ('hierarchical', 1), ('assistant', 7), ('chary', 1), ('letting', 2), ('young', 12), ('employee', 7), ('responsibility', 4), ('enormously', 1), ('frustrating', 1), ('*T*-59', 2), ('science', 1), ('raring', 1), ('invent', 1), ('Walkman', 1), ('ultimately', 2), ('lesson', 4), ('fired', 6), ('committed', 3), ('social', 6), ('crime', 5), ('appointment', 4), ('venerable', 2), ('Akio', 2), ('Morita', 2), ('never', 21), ('certainly', 4), ('learned', 4), ('something', 13), ('Ms.', 14), ('Kirkpatrick', 1), ('deputy', 6), ('editorial', 6), ('features', 4), ('corners', 1), ('globe', 3), ('becoming', 6), ('tobacco', 1), ('smoke', 1), ('Singapore', 4), ('entering', 2), ('restaurants', 3), ('stores', 9), ('sports', 3), ('centers', 3), ('Discos', 1), ('clubs', 2), ('exempt', 1), ('smoking', 4), ('*-60', 2), ('bars', 1), ('except', 7), ('hours', 9), ('bans', 1), ('theaters', 1), ('elevators', 6), ('hospitals', 1), ('fast-food', 5), ('Siti', 1), ('Zaharah', 1), ('Sulaiman', 1), ('minister', 4), ('prime', 3), ('No-Smoking', 1), ('Week', 1), ('Mara', 1), ('Kuala', 1), ('Lumpur', 1), ('urged', 5), ('on-campus', 1), ('visiting', 2), ('26,000', 1), ('stalls', 1), ('posters', 1), ('signboards', 1), ('restricts', 1), ('designated', 1), ('indicates', 7), ('consumers', 10), ('materialistic', 2), ('carried', 5), ('Backer', 1), ('Spielvogel', 1), ('Bates', 1), ('agency', 17), ('colony', 1), ('feel', 11), ('pressured', 3), ('surveyed', 1), ('*T*-60', 2), ('espouse', 1), ('identified', 5), ('*T*-61', 2), ('one-third', 4), ('great', 12), ('deal', 20), ('stress', 1), ('Thai', 1), ('cabinet', 1), ('endorsed', 2), ('Pramual', 1), ('Sabhavasu', 1), ('proposal', 21), ('build', 10), ('center', 6), ('*T*-62', 2), ('20,000', 5), ('Bangkok', 1), ('*-61', 2), ('Central', 5), ('Plaza', 1), ('Hotel', 2), ('balked', 2), ('conditions', 18), ('undertaking', 1), ('necessary', 10), ('*-62', 2), ('Yasser', 1), ('Arafat', 1), ('Olympic', 3), ('Committee', 12), ('asking', 7), ('Palestinian', 2), ('Palestine', 1), ('Liberation', 1), ('Organization', 3), ('WAFA', 1), ('membership', 6), ('1979', 6), ('renewed', 4), ('application', 5), ('PLO', 1), ('organizations', 3), ('win', 11), ('Health', 12), ('Tourism', 1), ('Beijing', 7), ('food-shop', 1), ('mainland', 1), ('Chinese', 11), ('AIDS', 2), ('sex', 2), ('Daily', 4), ('man', 12), ('*T*-63', 2), ('disease', 4), ('hospital', 1), ('tests', 16), ('Once', 4), ('confirmed', 5), ('*-63', 2), ('associates', 2), ('family', 21), ('tested', 3), ('*-64', 3), ('newspaper', 13), ('chaotic', 1), ('life', 14), ('Polish', 2), ('charges', 17), ('150', 6), ('gas', 4), ('PAP', 1), ('unrealistically', 1), ('line', 14), ('compensate', 2), ('coal', 2), ('happier', 1), ('establishing', 1), ('diplomatic', 1), ('Poland', 10), ('loans', 10), ('financially', 3), ('strapped', 1), ('Warsaw', 1), ('victory', 2), ('environmentalists', 2), ('Hungary', 4), ('parliament', 3), ('terminated', 2), ('multibillion-dollar', 1), ('River', 11), ('Danube', 1), ('dam', 5), ('Austrian', 1), ('Nagymaros', 2), ('twinned', 1), ('upstream', 1), ('Czechoslovakia', 5), ('ending', 8), ('authorized', 1), ('Prime', 3), ('Miklos', 1), ('Nemeth', 2), ('modify', 2), ('*T*-64', 2), ('environmental', 6), ('damage', 3), ('twin', 1), ('dams', 1), ('*-67', 2), ('planned', 14), ('twindam', 1), ('*-68', 2), ('Czech', 1), ('ca', 12), ('operated', 2), ('*-69', 2), ('solely', 1), ('peak', 2), ('periods', 2), ('painting', 1), ('Strindberg', 1), ('Scandinavian', 1), ('Stockholm', 2), ('2.44', 1), ('Lighthouse', 1), ('painted', 1), ('oils', 1), ('playwright', 1), ('1901', 1), ('weddings', 2), ('upturn', 1), ('6,000', 2), ('couples', 1), ('exchanging', 1), ('rings', 2), ('national', 10), ('statistics', 3), ('271,124', 1), ('400,000', 1), ('1972', 4), ('BRAMALEA', 1), ('85.1', 1), ('10.5', 1), ('debentures', 7), ('due', 39), ('1999', 5), ('100,000', 6), ('bond', 26), ('warrants', 6), ('Toronto-based', 2), ('real', 18), ('estate', 6), ('warrant', 2), ('entitles', 2), ('holder', 2), ('1,000', 7), ('par', 8), ('accrued', 1), ('date', 6), ('swapped', 1), ('*-70', 2), ('Lead', 1), ('underwriters', 3), ('Scotia', 1), ('McLeod', 1), ('RBC', 1), ('Dominion', 1), ('dealers', 15), ('Bramalea', 1), ('actor', 1), ('Lane', 11), ('inheritor', 1), ('Charlie', 1), ('Chaplin', 4), ('Steve', 1), ('Martin', 10), ('laid', 1), ('claim', 8), ('writer', 4), ('*T*-65', 2), ('obsessed', 1), ('refitting', 1), ('Little', 4), ('Tramp', 5), ('1976', 5), ('film', 7), ('student', 10), ('Purchase', 1), ('campus', 1), ('shot', 3), ('Place', 1), ('36-minute', 1), ('black-and-white', 1), ('sketch', 2), ('artist', 2), ('streets', 7), ('revived', 3), ('Artist', 8), ('full-length', 1), ('Sidewalk', 4), ('Stories', 4), ('poignant', 1), ('piece', 2), ('modern-day', 1), ('tramp', 1), ('Of', 4), ('contained', 6), ('dialogue', 2), ('*-71', 2), ('homeless', 11), ('person', 13), ('really', 12), ('silent', 2), ('Composer', 1), ('Marc', 1), ('Marder', 1), ('college', 3), ('friend', 4), ('*T*-66', 2), ('earns', 3), ('living', 2), ('playing', 7), ('double', 2), ('bass', 1), ('classical', 1), ('music', 2), ('ensembles', 1), ('prepared', 9), ('exciting', 1), ('eclectic', 1), ('score', 2), ('*T*-67', 2), ('characters', 1), ('thinking', 5), ('feeling', 3), ('precisely', 4), ('intertitles', 1), ('words', 4), ('Much', 3), ('takes', 10), ('highly', 12), ('romanticized', 2), ('view', 12), ('good-hearted', 1), ('Filmed', 1), ('lovely', 1), ('black', 3), ('white', 3), ('Bill', 3), ('Dill', 1), ('seem', 10), ('benign', 1), ('women', 15), ('walk', 4), ('purpose', 7), ('noticing', 1), ('jostle', 1), ('cabs', 1), ('hangs', 1), ('Greenwich', 1), ('Village', 1), ('strip', 2), ('Sixth', 1), ('Avenue', 2), ('populated', 1), ('jugglers', 1), ('magicians', 1), ('good-natured', 1), ('hustlers', 1), ('crack', 2), ('dead-eyed', 1), ('selling', 11), ('four-year-old', 1), ('Cosmopolitan', 1), ('curled', 1), ('cardboard', 2), ('box', 4), ('routine', 2), ('spends', 2), ('sketching', 1), ('passers-by', 1), ('night', 8), ('returns', 12), ('condemned', 2), ('calls', 6), ('His', 5), ('skirmishes', 1), ('competing', 2), ('carefree', 1), ('given', 11), ('*-72', 2), ('blind', 2), ('girl', 2), ('cure', 1), ('Lights', 2), ('*-73', 3), ('charge', 30), ('returning', 2), ('two-year-old', 1), ('waif', 1), ('Nicole', 1), ('Alysia', 1), ('murdered', 2), ('*-74', 2), ('thugs', 1), ('mother', 3), ('cute', 1), ('child', 3), ('turns', 3), ('blessing', 2), ('curse', 1), ('sense', 8), ('alerts', 1), ('serious', 12), ('inadequacy', 1), ('vagrant', 1), ('beds', 1), ('Bowery', 1), ('Mission', 1), ('drearier', 1), ('tuck', 1), ('To', 17), ('stakes', 2), ('dreamed', 1), ('improbable', 1), ('romance', 2), ('woman', 9), ('*T*-68', 2), ('children', 7), ('shop', 1), ('*T*-69', 2), ('expensive', 10), ('high-rise', 1), ('apartment', 2), ('resonate', 1), ('strongly', 3), ('camera', 1), ('behind', 4), ('final', 8), ('glamorize', 1), ('vagabond', 1), ('existence', 1), ('ends', 2), ('sound', 8), ('street', 4), ('whimsical', 1), ('enviable', 1), ('rough', 2), ('beaten', 3), ('voices', 2), ('French', 4), ('Claude', 1), ('Chabrol', 2), ('managed', 6), ('weird', 1), ('achievement', 4), ('Story', 1), ('Women', 1), ('harsh', 3), ('brilliant', 2), ('picture', 5), ('*T*-70', 2), ('captivating', 1), ('character', 2), ('viewed', 4), ('sympathetic', 2), ('angle', 2), ('disagreeable', 1), ('Marie-Louise', 3), ('Giraud', 1), ('historical', 2), ('significance', 1), ('executed', 3), ('Vichy', 2), ('hypocrisy', 1), ('collaborated', 1), ('Germans', 2), ('thousands', 4), ('Resistance', 1), ('fighters', 1), ('Jews', 1), ('needed', 15), ('diversionary', 1), ('symbolic', 1), ('traitor', 1), ('small-time', 1), ('abortionist', 2), ('accidentally', 1), ('enabled', 1), ('jam', 1), ('cocoa', 1), ('war-rationed', 1), ('goodies', 1), ('untrained', 1), ('botched', 1), ('job', 18), ('killed', 3), ('client', 8), ('Her', 4), ('remorse', 1), ('shallow', 1), ('playful', 1), ('dreadful', 1), ('war-damaged', 1), ('husband', 3), ('openly', 2), ('lover', 1), ('presented', 3), ('thin-lipped', 1), ('Isabelle', 1), ('Huppert', 1), ('Marie', 1), ('Latour', 2), ('nice', 3), ('deserve', 3), ('chopped', 1), ('recommend', 2), ('Old', 8), ('Gringo', 1), ('confused', 2), ('rendering', 1), ('Fuentes', 1), ('Mexican', 1), ('Revolution', 1), ('Most', 8), ('taken', 16), ('endless', 1), ('scenes', 3), ('fighting', 2), ('eating', 1), ('drinking', 1), ('celebrate', 1), ('mention', 3), ('movies', 1), ('bright', 2), ('spot', 3), ('Peck', 1), ('marvelously', 1), ('loose', 1), ('energetic', 2), ('portrayal', 1), ('*T*-71', 2), ('die', 4), ('Video', 1), ('Tip', 1), ('Before', 2), ('seeing', 3), ('look', 14), ('finest', 1), ('Boeing', 2), ('discussing', 3), ('plans', 34), ('regular', 3), ('possibly', 6), ('larger', 7), ('767', 3), ('twin-jet', 1), ('discussions', 7), ('stages', 3), ('specific', 2), ('Seattle', 1), ('Kawasaki', 1), ('Heavy', 3), ('Industries', 18), ('Mitsubishi', 15), ('Fuji', 1), ('sections', 2), ('accounting', 1), ('aircraft', 2), ('press', 8), ('speculated', 4), ('contribution', 1), ('goes', 14), ('ahead', 9), ('plane', 1), ('hit', 10), ('mid-1990s', 1), ('negative', 9), ('secondary', 4), ('campaigns', 4), ('event', 3), ('irony', 1), ('attack', 5), ('commercial', 24), ('getting', 9), ('presidential', 3), ('campaign', 15), ('off-off', 1), ('election', 2), ('contests', 2), ('scattered', 1), ('across', 15), ('ads', 8), ('hostility', 1), ('fears', 3), ('mudslinging', 1), ('empty', 1), ('issues', 36), ('ushering', 1), ('era', 3), ('content', 2), ('Napolitan', 1), ('*T*-72', 2), ('stirrings', 1), ('politics', 4), ('dawn', 1), ('sometimes-tawdry', 1), ('art', 4), ('stage', 2), ('consultant', 3), ('your', 23), ('TV', 11), ('needs', 6), ('bold', 2), ('entertaining', 1), ('means', 6), ('confrontational', 1), ('truthful', 1), ('fights', 1), ('Take', 6), ('commercials', 1), ('*T*-73', 2), ('tone', 2), ('elections', 7), ('Jersey', 4), ('Virginia', 4), ('screen', 4), ('fills', 2), ('tight', 5), ('facial', 1), ('Dinkins', 11), ('Democratic', 5), ('candidate', 2), ('mayor', 5), ('income', 42), ('straight', 5), ('disembodied', 1), ('voice', 9), ('Republican', 4), ('Giuliani', 5), ('Roger', 2), ('Ailes', 2), ('master', 4), ('gets', 4), ('contributions', 1), ('accurately', 1), ('hid', 1), ('links', 2), ('insurance', 18), ('convicted', 3), ('kidnapper', 1), ('phony', 1), ('kicker', 2), ('Why', 6), ('wait', 4), ('caught', 4), ('Nasty', 1), ('innuendoes', 1), ('Siegal', 1), ('prosecute', 1), ('corruption', 2), ('*T*-74', 2), ('simply', 7), ('exist', 2), ('Stung', 2), ('consultants', 2), ('Shrum', 1), ('Doak', 1), ('finally', 4), ('unleashed', 1), ('shows', 10), ('distorted', 1), ('photos', 1), ('politicians', 6), ('Compare', 1), ('candidates', 9), ('One', 21), ('banning', 2), ('cop-killer', 3), ('bullets', 3), ('opposed', 8), ('pro-choice', 2), ('choose', 4), ('Who', 4), ('telling', 3), ('truth', 2), ('Everybody', 1), ('nobody', 2), ('classic', 3), ('situation', 13), ('*T*-75', 2), ('accurate', 2), ('fail', 4), ('insists', 4), ('voluntarily', 2), ('admitted', 2), ('oversight', 1), ('secret', 1), ('Campaign', 1), ('refused', 7), ('95,142', 1), ('matching', 1), ('incomplete', 4), ('errors', 1), ('know', 16), ('get-out-the-vote', 1), ('kidnapping', 1), ('Peter', 10), ('Powers', 1), ('deceptive', 1), ('side', 9), ('argues', 1), ('knows', 4), ('reservations', 2), ('Lt.', 1), ('Gov.', 2), ('Wilder', 8), ('gubernatorial', 1), ('battle', 10), ('Marshall', 6), ('Coleman', 11), ('abortion', 13), ('Greer', 1), ('persuasion', 1), ('agree', 3), ('tour', 1), ('de', 6), ('Against', 1), ('Monticello', 1), ('superimposed', 1), ('flag', 3), ('tradition', 2), ('freedom', 3), ('liberty', 1), ('Virginians', 1), ('nurtured', 1), ('generations', 1), ('statue', 1), ('Jefferson', 1), ('dissolves', 1), ('*T*-76', 2), ('wanted', 13), ('rape', 5), ('incest', 1), ('denies', 3), ('dynamics', 2), ('transforming', 1), ('referendum', 2), ('attorney', 6), ('series', 12), ('advertisements', 2), ('created', 8), ('Bob', 7), ('Goodman', 1), ('shake', 1), ('*T*-77', 2), ('attracted', 2), ('counterattack', 1), ('featured', 2), ('close-up', 1), ('shadows', 1), ('suggested', 6), ('recalling', 1), ('unpleasant', 1), ('courtroom', 2), ('ordeal', 1), (\"C'mon\", 1), ('boyfriends', 1), ('interjects', 1), ('*T*-78', 2), ('introduced', 10), ('bill', 33), ('victims', 8), ('younger', 2), ('interrogated', 1), ('lawyers', 14), ('accused', 6), ('rapists', 1), ('tried', 5), ('pass', 4), ('constituent', 1), ('legislative', 5), ('technique', 1), ('lawmakers', 3), ('1983', 5), ('unfounded', 1), ('interrogation', 1), ('grown', 4), ('tired', 1), ('gotten', 4), ('stigma', 1), ('campaigner', 1), ('Mark', 4), ('Rozell', 1), ('scientist', 2), ('Mary', 11), ('onus', 1), ('campaigning', 2), ('devote', 2), ('remainder', 3), ('season', 3), ('positive', 6), ('truce', 3), ('lasted', 1), ('stations', 10), ('carrying', 1), ('featuring', 2), ('himself', 9), ('questions', 22), ('sensitivity', 1), ('attacks', 3), ('Rep.', 20), ('Florio', 5), ('aired', 1), ('Pinocchio', 3), ('photograph', 1), ('Jim', 4), ('Courter', 10), ('Remember', 1), ('female', 5), ('Consider', 1), ('Squier', 1), ('mean', 5), ('dirty', 1), ('Pictures', 5), ('rusted', 1), ('drums', 1), ('swim', 1), ('focus', 8), ('purrs', 1), ('hazardous', 2), ('waste', 3), ('neighbors', 1), ('suing', 2), ('fraud', 2), ('nose', 3), ('grows', 4), ('involved', 12), ('cry', 1), ('partisans', 2), ('responded', 4), ('photographs', 2), ('lying', 5), ('asks', 5), ('barrel', 3), ('land', 4), ('heating', 7), ('cleaned', 1), ('pollution', 1), ('shrinks', 2), ('Salmore', 2), ('Eagleton', 1), ('Barrels', 1), ('environment', 7), ('Even', 8), ('devastating', 2), ('credibility', 2), ('1966', 1), ('route', 1), ('re-election', 2), ('rout', 1), ('Democrat', 5), (\"O'Connor\", 2), ('GOP', 2), ('Nelson', 2), ('Rockefeller', 5), ('appeared', 6), ('Chicago', 43), ('350,000', 2), ('16,000', 2), ('Friday', 2), ('Seats', 1), ('quoted', 7), ('331,000', 1), ('exchange', 21), ('550,000', 1), ('Aug.', 2), ('Southeast', 10), ('propelling', 1), ('region', 16), ('toward', 5), ('Interviews', 1), ('suggest', 5), ('cooperation', 3), ('Asian', 10), ('pursued', 3), ('fits', 1), ('starts', 3), ('sparking', 1), ('domination', 2), ('posing', 1), ('fresh', 3), ('policy', 15), ('flow', 5), ('motion', 4), ('whereby', 1), ('economies', 3), ('knitted', 1), ('Hormats', 3), ('tripled', 2), ('commitments', 8), ('5.57', 1), ('Investment', 8), ('705.6', 1), ('steep', 2), ('assistance', 7), ('cash-rich', 1), ('following', 16), ('pumping', 2), ('wages', 2), ('forcing', 2), ('sites', 1), ('labor-intensive', 1), ('known', 13), ('tigers', 1), ('contributing', 2), ('influence', 5), ('subordinate', 1), ('recipient', 2), ('jobs', 14), ('spur', 2), ('military', 8), ('fearful', 1), ('falling', 5), ('hegemony', 1), ('Because', 6), ('budget', 15), ('constraints', 2), ('encourages', 1), ('burdens', 1), ('resists', 1), ('ground', 4), ('coming', 16), ('decade', 7), ('U.S.-Japanese', 1), ('comes', 7), ('behemoth', 1), ('swelling', 1), ('evolution', 2), ('concentrated', 2), ('1990s', 2), ('spurred', 3), ('multinationals', 1), ('plants', 12), ('accommodate', 3), ('decisions', 4), ('offend', 1), ('donor', 2), ('lender', 1), ('Drobnick', 1), ('California', 26), ('Graduate', 2), ('School', 15), ('cohesive', 1), ('parallel', 2), ('Common', 3), ('Market', 10), ('approach', 8), ('Rather', 2), ('sectors', 1), ('Calder', 1), ('specialist', 7), ('East', 10), ('Woodrow', 1), ('Wilson', 1), ('Internatonal', 1), ('Princeton', 2), ('tubes', 1), ('assemble', 1), ('Indonesia', 2), ('effect', 18), ('pull', 2), ('integrated', 4), ('Countries', 1), ('framework', 1), ('closer', 4), ('ministers', 1), ('discuss', 5), ('regional', 7), ('transportation', 4), ('telecommunications', 5), ('Participants', 1), ('Zealand', 1), ('Nations', 2), ('Brunei', 1), ('rim', 1), ('speech', 4), ('Baker', 3), ('Hawke', 1), ('reasserts', 1), ('intention', 3), ('taking', 10), ('shape', 3), ('friends', 3), ('crucial', 2), ('designing', 1), ('architecture', 3), ('difficult', 7), ('dominance', 1), ('outstrips', 1), ('flows', 4), ('outranks', 1), ('remains', 13), ('optimism', 3), ('enlarged', 1), ('convey', 1), ('undertone', 1), ('caution', 2), ('understanding', 3), ('functions', 3), ('Farren', 1), ('commerce', 2), ('benevolent', 1), ('altruistic', 1), ('attitude', 2), ('net', 51), ('gain', 19), ('everyone', 2), ('apprehensive', 1), ('step', 6), ('ease', 7), ('security', 7), ('uncertainty', 6), ('leases', 2), ('bases', 3), ('troop', 1), ('Many', 17), ('Asians', 1), ('regard', 2), ('desirable', 2), ('counterweight', 1), ('marbles', 1), ('try', 5), ('juggernaut', 1), ('monopolize', 1), ('sew', 1), ('Chong-sik', 1), ('Lee', 2), ('Pennsylvania', 7), ('Cathryn', 2), ('Rice', 2), ('hardly', 4), ('eyes', 2), ('Comprehensive', 6), ('Test', 7), ('Basic', 3), ('Skills', 3), ('ninth', 1), ('graders', 3), ('Greenville', 13), ('High', 21), ('spotted', 1), ('crib', 3), ('seen', 8), ('cheating', 9), ('notes', 32), ('uncanny', 1), ('stockbroker', 1), ('profession', 1), ('Germany', 8), ('surrendered', 3), ('Senate-House', 1), ('passed', 7), ('forms', 8), ('Virtually', 1), ('word', 4), ('matched', 5), ('answers', 11), ('social-studies', 2), ('section', 6), ('test', 36), ('protest', 2), ('My', 2), ('teacher', 13), ('OK', 1), ('me', 9), ('Nancy', 2), ('Yeargin', 37), ('students', 31), ('parents', 5), ('Confronted', 1), ('examination', 5), ('low-ability', 3), ('geography', 5), ('classes', 2), ('gone', 3), ('display', 1), ('projector', 1), ('underline', 1), ('prosecuted', 1), ('unusual', 7), ('Carolina', 13), ('*T*-79', 2), ('breach', 2), ('pleaded', 2), ('guilty', 3), ('alternative', 5), ('jail', 3), ('partly', 9), ('downfall', 1), ('unstinting', 1), ('*T*-80', 2), ('won', 10), ('laurels', 1), ('inspired', 2), ('teach', 3), ('wake', 5), ('bitterness', 1), ('anger', 1), ('*T*-81', 2), ('betrayer', 1), ('colleagues', 6), ('*T*-82', 1), ('*T*-83', 1), ('defended', 2), ('treated', 2), ('harshly', 2), ('school-district', 1), ('stunned', 1), ('bald-faced', 1), ('nature', 5), ('actions', 5), ('martyr', 1), ('casts', 2), ('light', 16), ('dark', 1), ('reform', 7), ('teachers', 11), ('high-stakes', 1), ('testing', 10), ('enhanced', 1), ('temptation', 2), ('cheat', 1), ('statute', 3), ('violated', 2), ('enforce', 2), ('provisions', 6), ('school-improvement', 1), ('laws', 8), ('Prosecutors', 2), ('alleged', 13), ('bolster', 1), ('scores', 11), ('bonus', 6), ('1984', 8), ('Education', 5), ('Improvement', 2), ('depended', 1), ('ability', 12), ('student-test', 1), ('incredible', 1), ('pressure', 19), ('Walt', 1), ('Haney', 1), ('education', 6), ('educators', 5), ('*T*-84', 1), ('wrongdoing', 7), ('50-state', 1), ('Friends', 4), ('Albuquerque', 2), ('N.M.', 2), ('school-research', 1), ('concluded', 5), ('outright', 2), ('standardized', 7), ('greatly', 3), ('inflated', 1), ('Evidence', 1), ('widespread', 5), ('surfaced', 2), ('states', 13), ('suspects', 2), ('adult', 2), ('erasures', 1), ('*T*-85', 1), ('wrong', 6), ('ones', 9), ('statewide', 2), ('numerous', 6), ('occurrences', 1), ('revising', 1), ('practices', 5), ('test-coaching', 2), ('booklets', 5), ('classroom', 7), ('instruction', 2), ('booming', 3), ('Macmillan\\\\/McGraw-Hill', 3), ('Publishing', 5), ('Scoring', 13), ('Learning', 10), ('Materials', 10), ('nothing', 9), ('sophisticated', 5), ('academic', 3), ('telegraph', 2), ('beforehand', 1), ('precise', 1), ('areas', 10), ('concentrate', 2), ('Use', 1), ('County', 5), ('district', 11), ('Experts', 1), ('promotions', 2), ('entire', 5), ('districts', 4), ('wrenching', 1), ('state-supervised', 1), ('interventions', 1), ('*T*-86', 1), ('firings', 1), ('extra', 4), ('lab', 1), ('grants', 1), ('projects', 4), ('superintendent', 1), ('Since', 6), ('reforms', 6), ('Scholastic', 1), ('Aptitude', 1), ('posts', 4), ('lowest', 4), ('*T*-87', 1), ('SAT', 1), ('primary', 4), ('entrance', 1), ('Critics', 2), ('stressing', 2), ('worst', 4), ('Says', 7), ('Cannell', 3), ('prosecuting', 1), ('administrators', 1), ('seriously', 3), ('Sandifer', 1), ('allegations', 2), ('purely', 1), ('foundation', 1), ('unfair', 10), ('inferences', 1), ('Partly', 3), ('worries', 3), ('abuse', 5), ('keeping', 5), ('track', 1), ('achievement-test', 1), ('preparation', 4), ('Standing', 1), ('shaded', 1), ('hill', 1), ('run-down', 2), ('textile', 3), ('educated', 1), ('brightest', 1), ('governors', 2), ('Nobel', 1), ('Prize', 1), ('winning', 3), ('physicist', 2), ('Townes', 1), ('actress', 1), ('Joanne', 1), ('Woodward', 1), ('1980s', 5), ('glory', 1), ('*PPA*-1', 2), ('faded', 1), ('yellow', 1), ('bricks', 1), ('broad', 4), ('facade', 1), ('violence', 2), ('gangs', 1), ('kids', 5), ('Linda', 2), ('Ward', 13), ('Crime', 1), ('awful', 1), ('enrollment', 1), ('honors', 1), ('programs', 23), ('seventh', 1), ('immediate', 2), ('predecessor', 2), ('suffered', 2), ('nervous', 2), ('breakdown', 1), ('Prior', 1), ('term', 12), ('bled', 1), ('death', 6), ('halls', 1), ('stabbed', 1), ('Academically', 1), ('trouble', 5), ('serving', 3), ('disparate', 1), ('evenly', 2), ('split', 4), ('privileged', 1), ('elite', 1), ('monied', 1), ('neighborhoods', 2), ('blacks', 6), ('inner', 1), ('resolved', 1), ('clean', 1), ('deadwood', 1), ('faculty', 2), ('restore', 3), ('safety', 23), ('behalf', 2), ('*T*-88', 1), ('overall', 7), ('educational', 2), ('funding', 20), ('ushered', 1), ('betterment', 1), ('*T*-89', 1), ('ambitions', 2), ('reformers', 2), ('Being', 1), ('my', 18), ('37-year-old', 1), ('dismissal', 1), ('loved', 2), ('dreamt', 1), ('things', 15), ('restructured', 3), ('staff', 9), ('struggled', 1), ('curriculum', 3), ('14-hour', 1), ('fast', 3), ('favorite', 2), ('1986-87', 1), ('1987-88', 1), ('Encouraged', 1), ('taught', 3), ('cadet', 2), ('creation', 3), ('encourage', 4), ('teaching', 4), ('advised', 2), ('cheerleaders', 1), ('pep', 1), ('club', 3), ('Cultural', 1), ('Literacy', 1), ('Civilization', 2), ('chosen', 4), ('PTA', 1), ('Teacher', 1), ('Year', 2), ('inspirational', 1), ('lady', 2), ('Laura', 1), ('Dobson', 1), ('freshman', 1), ('*T*-90', 1), ('teacher-cadet', 1), ('studying', 2), ('Beth', 4), ('Marchand', 2), ('11th', 1), ('grader', 1), (\"'ve\", 16), ('Kelli', 1), ('Green', 1), ('distinguished', 1), ('herself', 1), ('approaches', 1), ('pair', 1), ('college-bowl', 1), ('competitions', 1), ('weekends', 1), ('prepare', 1), ('polish', 1), ('furniture', 2), (\"'d\", 5), ('correcting', 1), ('homework', 1), ('stands', 5), ('football', 2), ('fellow', 2), ('cocky', 1), ('*T*-91', 1), ('grandstander', 1), ('Pressures', 1), ('told', 14), ('pushing', 2), ('deteriorating', 1), ('hearing', 7), ('feared', 3), ('helping', 6), ('earn', 2), ('points', 31), ('incentive-bonus', 1), ('source', 6), ('Huge', 1), ('meant', 3), ('5,000', 12), ('meaningful', 2), ('salary', 5), ('23,000', 1), ('Winning', 1), ('third', 15), ('others', 14), ('eager', 3), ('pride', 1), ('Elizabeth', 2), ('Ariail', 1), ('*T*-92', 2), ('Indeed', 6), ('interested', 7), ('attending', 1), ('seminar', 2), ('returned', 5), ('adequately', 1), ('48', 4), ('copied', 1), ('studies', 3), ('admits', 4), ('mistake', 2), ('motives', 1), ('correct', 2), ('sociology', 1), ('subjects', 2), ('bottom', 5), ('rankings', 1), ('newspapers', 4), ('Mostly', 1), ('prevent', 11), ('self-esteem', 1), ('badly', 3), ('broke', 1), ('heart', 3), ('whole', 2), ('alive', 2), ('desperately', 1), ('somebody', 2), ('*T*-93', 1), ('cared', 1), ('*T*-94', 1), ('drag-down', 1), ('blow', 2), ('advanced', 11), ('*T*-95', 1), ('pretty', 7), ('defeats', 1), ('inkling', 1), ('underprivileged', 1), ('Joe', 2), ('Watson', 4), ('prosecutor', 1), ('*T*-96', 1), ('alumni', 1), ('concedes', 1), ('adding', 3), ('Do', 4), ('sympathy', 1), ('*T*-97', 1), ('hands', 6), ('discovered', 6), ('avoid', 7), ('morale-damaging', 1), ('disclosure', 2), ('trial', 5), ('quiet', 3), ('resignation', 3), ('save', 2), ('certificate', 2), ('dumbfounded', 1), ('recalls', 1), ('someone', 6), ('knife', 1), ('astonishment', 1), ('dismay', 1), ('superiors', 1), ('authorities', 5), ('unpopularity', 1), ('Mrs', 1), ('school-board', 1), ('dismissed', 4), ('crowded', 1), ('*T*-98', 1), ('testify', 1), ('Supportive', 1), ('callers', 2), ('decried', 1), ('radio', 6), ('particulars', 1), ('offense', 1), ('policies', 4), ('talk-show', 1), ('host', 4), ('Editorials', 1), ('allowed', 9), ('overused', 1), ('enraged', 1), ('first-time', 1), ('offenders', 3), ('*T*-99', 1), ('expunged', 1), ('conviction', 1), ('cranked', 1), ('worthy', 1), ('murder', 2), ('Over', 2), ('witnesses', 1), ('mostly', 7), ('interviewed', 2), ('meanwhile', 5), ('cheerleading', 1), ('squad', 1), ('crushed', 1), ('explain', 2), ('17-year-old', 1), ('Soon', 2), ('T-shirts', 1), ('corridors', 1), ('familiar', 5), ('red-and-white', 1), ('GHS', 1), ('logo', 1), ('shirts', 1), ('angry', 2), ('harm', 2), ('*T*-100', 1), ('damn', 2), ('*T*-101', 1), ('aspersions', 1), ('incident', 1), ('doubt', 3), ('wisdom', 2), ('evaluating', 1), ('Gayle', 1), ('Key', 2), ('mathematics', 3), ('worms', 1), ('realized', 4), ('reinstatement', 3), ('afraid', 3), ('relieved', 1), ('sentiment', 3), ('favor', 5), ('jury', 2), ('chalk', 1), ('touched', 1), ('slate', 1), ('schoolchildren', 1), ('answer', 4), ('workbooks', 1), ('worksheets', 2), ('prior', 4), ('widely', 10), ('Achievement', 3), ('Roman', 1), ('numeral', 1), ('IX', 1), ('add', 6), ('two-sevenths', 1), ('three-sevenths', 1), ('Worksheets', 1), ('test-practice', 1), ('kit', 1), ('instances', 2), ('*T*-102', 1), ('parent', 12), ('Britain', 9), ('Communication', 1), ('Close', 1), ('parallels', 3), ('Test-preparation', 1), ('subindustry', 1), ('critics', 8), ('school-sponsored', 1), ('justifying', 1), ('Kaminski', 4), ('Traverse', 1), ('Mich.', 5), ('*T*-103', 1), ('coaching', 2), ('aids', 1), ('*T*-104', 1), ('gauge', 2), ('learning', 1), ('everybody', 1), ('aces', 1), ('psychiatrist', 1), ('*T*-105', 1), ('Standardized', 1), ('kindergarten', 1), ('eighth', 1), ('grade', 2), ('Macmillan\\\\/McGraw', 5), ('CAT', 6), ('Iowa', 10), ('Houghton', 1), ('Mifflin', 1), ('Harcourt', 1), ('Brace', 1), ('Jovanovich', 1), ('Metropolitan', 1), ('test-prep', 1), ('Arizona', 1), ('Florida', 2), ('Louisiana', 1), ('Maryland', 2), ('tools', 1), ('test-preparation', 1), ('binders', 1), ('best-selling', 1), ('Kean', 2), ('CTB', 1), ('*T*-106', 1), ('publishes', 3), ('aimed', 10), ('improving', 3), ('replicated', 1), ('referred', 6), ('*T*-107', 1), ('coincidental', 1), ('schoolteacher', 1), ('Mehrens', 2), ('Michigan', 3), ('similarity', 1), ('devised', 1), ('69-point', 1), ('scale', 2), ('awarding', 1), ('subskill', 1), ('measured', 2), ('closeness', 1), ('preparatives', 1), ('fifth-grade', 3), ('subskills', 2), ('symmetry', 1), ('geometrical', 1), ('metric', 3), ('measurement', 1), ('volume', 21), ('pie', 1), ('bar', 4), ('graphs', 1), ('kits', 1), ('replicate', 1), ('intent', 3), ('familiarization', 1), ('66.5', 1), ('69', 2), ('64.5', 1), ('knowledge', 4), ('two-letter', 1), ('consonant', 1), ('sounds', 4), ('exclusion', 1), ('contains', 1), ('examples', 1), ('matches', 1), ('items', 6), ('Rick', 2), ('Brownell', 2), ('ignoring', 3), ('need', 18), ('format', 2), ('scrupulously', 1), ('replicating', 1), ('deny', 2), ('publication', 1), ('Random', 12), ('outraged', 1), ('advisory', 1), ('represented', 3), ('CTBS', 1), ('*T*-108', 1), ('*T*-109', 1), ('unaware', 1), ('discontinue', 1), ('Alleghany', 2), ('Sacramento', 3), ('Savings', 11), ('Loan', 6), ('H.N.', 1), ('Frances', 1), ('C.', 10), ('Berger', 1), ('Foundation', 3), ('Sacramento-based', 1), ('S&L', 2), ('*T*-110', 1), ('44', 4), ('offices', 5), ('north', 1), ('central', 6), ('services', 25), ('ancillary', 1), ('Human', 3), ('Services', 4), ('moratorium', 3), ('fetal-tissue', 9), ('transplants', 9), ('Medical', 4), ('transplantation', 1), ('fetal', 3), ('tissue', 2), ('humans', 1), ('juvenile', 1), ('diabetes', 1), ('degenerative', 1), ('Alzheimer', 2), ('Parkinson', 2), ('Huntington', 1), ('anti-abortionists', 2), ('oppose', 6), ('therapies', 1), ('abortions', 1), ('Mason', 7), ('secretary', 4), ('health', 19), ('transplant', 2), ('indefinitely', 2), ('wo', 19), ('stop', 6), ('privately', 6), ('funded', 4), ('tissue-transplant', 1), ('federally', 1), ('*T*-111', 1), ('involve', 3), ('HHS', 3), ('Louis', 11), ('Sullivan', 5), ('*T*-112', 1), ('letter', 7), ('acting', 1), ('Institutes', 2), ('threatened', 7), ('controversy', 3), ('implications', 2), ('implant', 1), ('brain', 1), ('patient', 1), ('suffering', 2), ('scientific', 4), ('ethical', 3), ('majority', 7), ('NIH-appointed', 1), ('panel', 6), ('recommended', 1), ('carefully', 1), ('controlled', 3), ('embroiled', 1), ('anti-abortion', 1), ('dispute', 5), ('hampered', 2), ('administration', 30), ('recruit', 1), ('prominent', 2), ('doctors', 1), ('fill', 2), ('prestigious', 4), ('helm', 1), ('NIH', 4), ('Centers', 1), ('Disease', 1), ('Control', 1), ('Several', 6), ('withdrawn', 5), ('names', 3), ('consideration', 3), ('views', 6), ('Antonio', 3), ('Novello', 2), ('nominated', 2), ('*T*-113', 1), ('serve', 4), ('surgeon', 1), ('reportedly', 1), ('assured', 2), ('opposes', 1), ('Child', 1), ('Development', 5), ('charged', 3), ('imposing', 1), ('ideological', 2), ('defuse', 1), ('CDC', 1), ('judged', 1), ('excellence', 1), ('disturbs', 1), ('moves', 6), ('uncharted', 2), ('*ICH*-4', 5), ('judgments', 1), ('applications', 6), ('Myron', 1), ('Genel', 2), ('associate', 2), ('dean', 1), ('Yale', 2), ('debate', 6), ('polarized', 1), ('mechanism', 3), ('exists', 1), ('middle', 3), ('conducting', 2), ('warns', 1), ('discourage', 1), ('unavailability', 1), ('climate', 2), ('visible', 2), ('foundations', 1), ('flap', 2), ('tissues', 2), ('fronts', 1), ('regenerate', 1), ('damaged', 4), ('genes', 2), ('*T*-114', 1), ('cause', 14), ('*T*-115', 1), ('Down', 1), ('syndrome', 1), ('mental', 7), ('retardation', 1), ('summary', 2), ('Rekindled', 1), ('interstate', 6), ('banking', 19), ('over-the-counter', 5), ('slightly', 10), ('lackluster', 1), ('1.01', 1), ('456.64', 1), ('paltry', 2), ('118.6', 1), ('inauspicious', 1), ('Yesterday', 6), ('turnover', 2), ('daily', 9), ('133.8', 1), ('busiest', 1), ('averaged', 1), ('roughly', 9), ('145', 2), ('biggest', 7), ('nonfinancial', 1), ('gained', 18), ('1.39', 1), ('446.62', 1), ('modestly', 5), ('1.28', 1), ('449.04', 1), ('*T*-116', 1), ('tracks', 2), ('3.23', 1), ('436.01', 1), ('Connecticut', 7), ('Trust', 4), ('regions', 3), ('merge', 2), ('Massachusetts', 7), ('merged', 2), ('traders', 48), ('real-estate', 4), ('loan', 16), ('unattractive', 1), ('takeover', 21), ('targets', 5), ('speculators', 3), ('anticipating', 1), ('approve', 9), ('permitting', 1), ('immediately', 3), ('*T*-117', 1), ('water', 6), ('saw', 5), ('uptick', 5), ('Jennison', 2), ('trader', 6), ('OTC', 3), ('beneficiary', 1), ('Bancorp', 3), ('*T*-118', 1), ('3\\\\/4', 28), ('*T*-119', 1), ('expires', 1), ('Ed', 2), ('Macheski', 1), ('Wilton', 1), ('*T*-120', 1), ('green', 5), ('fared', 3), ('Constitution', 12), ('7\\\\/8', 13), ('1\\\\/4', 12), ('signed', 5), ('merger', 6), ('WFRR', 1), ('L.P.', 1), ('GHKM', 1), ('273.5', 1), ('*T*-121', 1), ('Centerbank', 1), ('5\\\\/8', 13), ('NESB', 1), ('London-based', 4), ('Pennview', 1), ('leapt', 1), ('Univest', 1), ('25.50', 1), ('third-quarter', 13), ('70.7', 2), ('89.9', 2), ('pretax', 13), ('mobile', 2), ('Dan', 2), ('Nelms', 1), ('one-time', 11), ('substantially', 7), ('eliminates', 3), ('losses', 13), ('associated', 4), ('core', 2), ('assuming', 5), ('dramatic', 3), ('fluctuation', 2), ('achieve', 2), ('near-record', 1), ('Weisfield', 5), ('Ratners', 9), ('definitive', 1), ('57.50', 2), ('Also', 16), ('Jaguar', 4), ('4.4', 4), ('78', 1), ('Heritage', 10), ('Media', 5), ('acquiring', 2), ('POP', 9), ('Radio', 6), ('swap', 10), ('tumbled', 3), ('51', 7), ('*T*-122', 1), ('Rally', 8), ('lost', 15), ('restaurant', 1), ('operator', 5), ('redeemed', 3), ('Giant', 4), ('resolve', 3), ('Burt', 2), ('Sugarman', 2), ('Trotter', 4), ('42.5', 2), ('nine-member', 2), ('SCI', 3), ('Systems', 5), ('slipped', 4), ('858,000', 1), ('Huntsville', 1), ('Ala.', 1), ('post', 6), ('fiscal', 42), ('quarter', 36), ('Sept.', 13), ('year-earlier', 10), ('225.6', 1), ('Internal', 1), ('Revenue', 3), ('criminal', 9), ('*T*-123', 1), ('detailed', 3), ('*T*-124', 1), ('10,000', 18), ('warnings', 2), ('attorneys', 6), ('cities', 5), ('outcry', 1), ('organized', 3), ('*T*-125', 1), ('protected', 1), ('attorney-client', 2), ('privilege', 2), ('IRS', 14), ('stem', 3), ('*T*-126', 1), ('receives', 1), ('customer', 9), ('transactions', 21), ('payment', 9), ('document', 1), ('Form', 1), ('8300', 2), ('Social', 1), ('Security', 2), ('passport', 1), ('Failure', 1), ('punishable', 2), ('misdemeanor', 2), ('felony', 2), ('prison', 4), ('Attorneys', 2), ('argued', 4), ('*T*-127', 1), ('wish', 4), ('identities', 1), ('citing', 4), ('rarely', 1), ('acted', 1), ('witness', 1), ('Neal', 2), ('Sonnett', 4), ('Criminal', 2), ('Defense', 2), ('Lawyers', 2), ('red-flag', 1), ('Miami', 8), ('*T*-128', 1), ('dozens', 4), ('*T*-129', 1), ('letters', 9), ('computer-generated', 1), ('sent', 6), ('certified', 1), ('mail', 1), ('*T*-130', 1), ('drug', 13), ('*T*-131', 1), ('individuals', 8), ('necessarily', 2), ('hire', 3), ('circumstances', 3), ('retained', 2), ('Filling', 1), ('tip', 1), ('spark', 2), ('formed', 6), ('chaired', 2), ('Gerald', 3), ('Lefcourt', 1), ('Bar', 2), ('Delegates', 1), ('resolution', 3), ('condemning', 1), ('requirement', 4), ('*T*-132', 1), ('ABA', 6), ('grand', 1), ('prohibited', 1), ('code', 2), ('ethics', 1), ('disclosing', 1), ('committing', 1), ('Justice', 13), ('*T*-133', 1), ('taxpayers', 5), ('notice', 1), ('moderate', 6), ('stance', 2), ('Christopher', 4), ('Lezovich', 1), ('Detroit', 4), ('submit', 2), ('summons', 1), ('initiated', 1), ('dating', 1), ('correspondence', 1), ('mailed', 1), ('8300s', 1), ('Individuals', 1), ('permission', 3), ('obtained', 3), ('develop', 3), ('sending', 2), ('assertions', 1), ('relating', 1), ('confidential', 3), ('THE', 2), ('WAR', 1), ('OVER', 1), ('FEDERAL', 4), ('JUDICIAL', 1), ('SALARIES', 1), ('victim', 3), ('Often', 1), ('judges', 7), ('lucrative', 3), ('fanfare', 1), ('Raul', 1), ('Ramirez', 2), ('Calif', 3), ('quitting', 1), ('San', 19), ('Francisco', 14), ('refusal', 2), ('couple', 3), ('clerks', 1), ('quipped', 1), ('89,500', 1), ('unjust', 2), ('Judges', 1), ('professional', 2), ('accountants', 1), ('blinks', 1), ('eye', 3), ('sudden', 2), ('relegated', 2), ('sum', 1), ('litigation', 6), ('Orrick', 1), ('Herrington', 1), ('Sutcliffe', 1), ('detail', 1), ('high-priced', 3), ('DOONESBURY', 1), (\"CREATOR'S\", 1), ('UNION', 1), ('TROUBLES', 1), ('laughing', 3), ('Cartoonist', 1), ('Garry', 1), ('Trudeau', 7), ('Writers', 2), ('Guild', 2), ('America', 21), ('alleging', 2), ('mounted', 2), ('harass', 2), ('punish', 1), ('crossing', 2), ('screenwriters', 1), ('picket', 2), ('involves', 2), ('Darkhorse', 3), ('Productions', 1), ('co-owner', 2), ('member', 11), ('employed', 3), ('*T*-134', 1), ('guild', 7), ('collective-bargaining', 1), ('lawsuit', 5), ('illegally', 2), ('cartoonist', 1), ('union', 4), ('reviewing', 1), ('suit', 7), ('disciplinary', 4), ('K.', 4), ('Samnick', 3), ('harassment', 1), ('consists', 1), ('mainly', 5), ('year-long', 1), ('threats', 2), ('*T*-135', 1), ('punishment', 1), ('unjustified', 2), ('damages', 6), ('seeks', 4), ('preventing', 4), ('punishing', 1), ('retaliating', 1), ('ABORTION', 1), ('RULING', 1), ('UPHELD', 1), ('family-planning', 2), ('abortion-related', 1), ('adopted', 5), ('prohibits', 3), ('Title', 2), ('X', 2), ('*T*-136', 1), ('assist', 2), ('obtaining', 1), ('counseling', 2), ('referrals', 1), ('activities', 9), ('*T*-137', 1), ('promote', 3), ('advocate', 1), ('opinion', 6), ('Appeals', 1), ('restrictions', 8), ('violate', 7), ('care', 8), ('providers', 1), ('limits', 4), ('pregnant', 1), ('INQUIRY', 1), ('CLEARS', 1), ('TEXAS', 1), ('JUDGE', 1), ('bias', 2), ('comments', 4), ('homosexual', 3), ('Dallas', 7), ('District', 3), ('Jack', 5), ('Hampton', 3), ('sparked', 4), ('judicial', 3), ('inquiry', 2), ('remarks', 1), ('December', 14), ('sentencing', 1), ('18-year-old', 1), ('defendant', 2), ('killing', 2), ('park', 4), ('referring', 1), ('queers', 1), ('cruising', 1), ('picking', 1), ('teenage', 1), ('boys', 2), ('Murray', 6), ('appointed', 1), ('fairness', 2), ('commenting', 1), ('Observing', 1), ('exhibited', 1), ('prejudice', 1), ('impartial', 1), ('prostitute', 1), ('discredit', 1), ('judiciary', 1), ('justice', 2), ('Judicial', 1), ('Conduct', 1), ('*T*-138', 1), ('empowered', 1), ('impose', 3), ('GAF', 5), ('TRIAL', 1), ('stock-manipulation', 1), ('opening', 5), ('arguments', 2), ('Manhattan', 4), ('Lowe', 1), ('eight-count', 1), ('indictment', 1), ('Wayne', 2), ('N.J.', 7), ('specialty', 5), ('Vice', 1), ('Chairman', 12), ('Sherwin', 1), ('attempting', 5), ('manipulate', 1), ('Carbide', 1), ('trials', 1), ('mistrials', 1), ('SWITCHING', 1), ('TO', 1), ('DEFENSE', 1), ('prosecution', 2), ('Iran\\\\/Contra', 1), ('affair', 1), ('Mayer', 1), ('Brown', 2), ('Bromwich', 2), ('three-lawyer', 1), ('Oliver', 2), ('North', 2), ('D.C.', 4), ('520-lawyer', 1), ('specialize', 1), ('white-collar', 1), ('served', 2), ('narcotics', 1), ('Cooper', 2), ('Tire', 1), ('Rubber', 1), ('principle', 3), ('Albany', 1), ('Ga.', 2), ('Bridgestone\\\\/Firestone', 2), ('Inc', 19), ('Terms', 8), ('tire', 3), ('consist', 3), ('1.8', 2), ('square', 2), ('feet', 3), ('warehousing', 1), ('353', 1), ('acres', 2), ('apologizing', 1), ('bids', 10), ('apology', 2), ('indulging', 1), ('leaders', 10), ('rebuked', 1), ('fretted', 1), ('statement', 15), ('cutthroat', 2), ('pricing', 5), ('equivalent', 3), ('penny', 1), ('municipal', 2), ('No.', 4), ('alone', 6), ('competitors', 2), ('auctions', 5), ('*T*-139', 1), ('tie-breaking', 1), ('lottery', 2), ('computer-system-design', 1), ('summoned', 1), ('sure', 6), ('understood', 2), ('ministry', 1), ('Fair', 2), ('investigating', 3), ('antitrust-law', 1), ('violations', 16), ('apologize', 1), ('Takuma', 2), ('Yamamoto', 5), ('packed', 1), ('headquarters', 8), ('contrary', 2), ('sorry', 1), ('embarrassing', 1), ('situations', 2), ('reputation', 3), ('sacrificing', 1), ('profits', 13), ('*T*-140', 1), ('benefits', 11), ('accepted', 5), ('normal', 5), ('accepting', 3), ('gifts', 1), ('businessmen', 1), ('extramarital', 1), ('fire', 2), ('fueled', 4), ('behavior', 1), ('complaints', 4), ('municipality', 1), ('low-ball', 1), ('touch', 3), ('tense', 2), ('Foreigners', 1), ('complain', 1), ('limited', 8), ('access', 8), ('procurement', 1), ('unfairly', 4), ('undercut', 1), ('excessively', 1), ('slashing', 1), ('semiconductors', 1), ('Asked', 2), ('hurt', 10), ('U.S.-Japan', 1), ('minus', 2), ('factor', 6), ('one-yen', 1), ('Hiroshima', 2), ('design', 6), ('map', 1), ('waterworks', 1), ('77,000', 1), ('library', 2), ('Nagano', 2), ('prefecture', 2), ('Saitama', 1), ('prefectural', 1), ('Wakayama', 1), ('municipalities', 4), ('emerge', 1), ('insisted', 3), ('Other', 6), ('contacted', 3), ('Michio', 1), ('Sasaki', 1), ('Keidanren', 1), ('Federation', 1), ('Organizations', 1), ('Profit', 6), ('PAPERS', 1), ('Backe', 3), ('Atlantic', 2), ('Publications', 2), ('*T*-141', 1), ('community', 5), ('papers', 1), ('media', 6), ('CBS', 2), ('Price', 6), ('Communications', 6), ('NTG', 2), ('retaining', 2), ('Osborn', 1), ('Desai', 1), ('Capital', 10), ('Michaels', 1), ('Stores', 4), ('*T*-142', 1), ('operates', 7), ('retail', 10), ('14.6', 1), ('32.8', 1), ('28.6', 1), ('29.3', 1), ('28.4', 1), ('Furukawa', 2), ('machinery', 5), ('belonging', 2), ('Dresser', 2), ('locally', 1), ('hydraulically', 1), ('shovels', 2), ('wheel-loader', 1), ('Heidelberg', 1), ('German', 4), ('280', 1), ('Structural', 2), ('Dynamics', 1), ('*T*-143', 1), ('computer-aided', 1), ('automation', 1), ('*T*-144', 1), ('productivity', 1), ('@', 1), ('Deposits-a', 1), ('6.21', 1), ('-', 4), ('thrifts', 4), ('metropolitan', 1), ('compiled', 2), ('Rate', 1), ('Monitor', 1), ('b', 1), ('Guaranteed', 2), ('minimum', 14), ('LSI', 1), ('Logic', 1), ('surprise', 6), ('35.7', 2), ('*T*-145', 1), ('industry-wide', 1), ('semiconductor', 1), ('custom-chip', 1), ('lagging', 1), ('billings', 1), ('cover', 5), ('extended', 4), ('weakness', 4), ('switch', 3), ('economical', 1), ('techniques', 4), ('Wilfred', 1), ('Corrigan', 1), ('midyear', 1), ('phase', 1), ('oldest', 2), ('appropriate', 1), ('equals', 1), ('86', 1), ('counting', 1), ('extraordinary', 5), ('42', 4), ('133.7', 1), ('94', 1), ('older', 5), ('five-inch', 1), ('more-efficient', 1), ('six-inch', 2), ('silicon', 1), ('wafers', 1), ('fabricate', 1), ('Related', 1), ('converting', 1), ('Santa', 6), ('Clara', 1), ('Calif.', 16), ('facility', 5), ('speculate', 1), ('*T*-146', 1), ('additions', 2), ('aggressively', 2), ('suddenly', 2), ('poorly', 4), ('positioned', 2), ('Stark', 1), ('Robertson', 1), ('Stephens', 1), ('dead', 2), ('facing', 5), ('traditionally', 2), ('Part', 1), ('buyers', 12), ('jitters', 1), ('INGERSOLL-RAND', 1), ('Woodcliff', 1), ('Lake', 4), ('N.J', 5), ('G.', 7), ('Kuhns', 1), ('General', 14), ('dollar', 16), ('buoyed', 1), ('cautiously', 1), ('bearish', 1), ('underpin', 1), ('kept', 7), ('plunging', 2), ('locked', 2), ('narrow', 1), ('offset', 11), ('resulting', 6), ('stalemate', 2), ('Jay', 2), ('Goldinger', 1), ('Insight', 1), ('reasons', 5), ('77.70', 1), ('77.56', 1), ('lure', 3), ('Dollar-yen', 1), ('driving', 3), ('Tom', 2), ('Trettien', 1), ('Banque', 1), ('Paribas', 1), ('convinced', 1), ('erode', 1), ('1.8500', 3), ('1.8415', 2), ('143.80', 3), ('142.85', 2), ('Sterling', 4), ('1.5755', 1), ('1.5805', 1), ('Thursday', 9), ('143.93', 1), ('143.08', 1), ('Madison', 5), ('Los', 13), ('Angeles', 12), ('traced', 1), ('solid', 4), ('trust', 4), ('wave', 1), ('waiting', 2), ('wings', 2), ('contends', 3), ('perception', 2), ('vitriolic', 1), ('Columbia', 37), ('Entertainment', 5), ('mollified', 1), ('cites', 3), ('Estate', 4), ('knight', 1), ('undisclosed', 1), ('Georgia-Pacific', 11), ('Great', 10), ('Northern', 4), ('Nekoosa', 9), ('forthcoming', 1), ('10-year', 5), ('yen-denominated', 1), ('valued', 8), ('speculation', 11), ('redeeming', 1), ('unclear', 1), ('rolled', 2), ('prospect', 2), ('lock', 2), ('high-yield', 4), ('unabated', 1), ('recede', 1), ('cues', 1), ('merely', 5), ('drifted', 2), ('release', 2), ('*T*-147', 1), ('45.3', 1), ('participants', 4), ('expectations', 5), ('*T*-148', 1), ('minimal', 1), ('Commodity', 4), ('374.20', 1), ('ounce', 5), ('Estimated', 2), ('3.5', 3), ('ounces', 3), ('374.19', 1), ('Cosby', 9), ('Show', 1), ('ratings', 10), ('NBC', 2), ('debut', 2), ('Huxtable', 1), ('keeps', 2), ('viewers', 1), ('network', 8), ('*T*-149', 1), ('187', 1), ('affiliates', 2), ('*T*-150', 1), ('air', 3), ('considerably', 4), ('episodes', 2), ('fuming', 1), ('distributor', 2), ('Viacom', 7), ('ultimatum', 1), ('Either', 1), ('losing', 8), ('persuade', 2), ('Different', 1), ('spin-off', 1), ('*T*-151', 1), ('tactics', 1), ('willing', 8), ('negotiate', 4), ('Gillespie', 2), ('Midwest', 7), ('tell', 1), (\"'ll\", 7), ('syndication', 2), ('flooded', 1), ('*-76', 2), ('comedies', 1), ('*T*-152', 1), ('networks', 1), ('station', 3), ('pre-emptive', 1), ('2-8', 1), ('A.C.', 1), ('Nielsen', 1), ('Providence', 2), ('R.I.', 1), ('Raleigh', 1), ('N.C.', 3), ('Louisville', 2), ('Ky.', 1), ('renew', 2), ('Dick', 1), ('Lobo', 1), ('WTVJ', 1), ('NBC-owned', 1), ('disappointment', 3), ('*-78', 2), ('Kuvin', 1), ('WHAS', 1), ('pleased', 4), ('adds', 10), ('disappointed', 4), ('uncomfortable', 1), ('frankly', 1), ('quite', 4), ('Life', 5), ('Insurance', 6), ('Georgia', 23), ('officially', 7), ('Wu', 1), ('representative', 2), ('Atlanta-based', 1), ('conventional', 5), ('life-insurance', 1), ('Nationale', 1), ('Nederlanden', 1), ('frantic', 1), ('revenue-desperate', 1), ('magazines', 1), ('cozy', 1), ('fawning', 1), ('articles', 1), ('advertorial', 1), ('survive', 2), ('downright', 1), ('thumbing', 1), ('Garbage', 6), ('billed', 1), ('Practical', 1), ('Environment', 1), ('Founded', 2), ('Brooklyn', 4), ('N.Y.', 7), ('entrepreneur', 1), ('Patricia', 1), ('Poore', 4), ('promise', 4), ('scoop', 2), ('crisis', 3), ('combines', 2), ('how-to', 1), ('pieces', 2), ('topics', 2), ('backyard', 1), ('composting', 1), ('explanatory', 1), ('essays', 1), ('happens', 1), ('flush', 1), ('toilet', 1), ('hard-hitting', 1), ('editors', 4), ('considerable', 5), ('whirling', 1), ('rampage', 1), ('supermarket', 1), ('aisles', 1), ('identify', 2), ('guys', 1), ('feature', 1), ('Dumpster', 2), ('deem', 1), ('offender', 2), ('standpoint', 1), ('*T*-153', 1), ('With', 11), ('belt', 1), ('alienated', 1), ('would-be', 1), ('ire', 1), ('Campbell', 27), ('Soup', 7), ('furious', 1), ('Souper', 2), ('Combo', 2), ('microwave', 1), ('chastised', 2), ('*-79', 2), ('premiere', 3), ('column', 1), ('diagram', 1), ('arrows', 1), ('pointing', 2), ('packaging', 7), ('polystyrene', 1), ('foam', 1), ('polyproplene', 1), ('polyester', 1), ('plastic', 3), ('non-biodegradable', 1), ('landfill', 1), ('monster', 1), ('wrote', 9), ('practicing', 1), ('journalistic', 1), ('garbage', 1), ('fumes', 1), ('opportunity', 8), ('Modifications', 1), ('*-80', 3), ('printed', 3), ('*-81', 2), ('portrayed', 1), ('recyclability', 1), ('surprisingly', 3), ('advertise', 3), ('experts', 7), ('turning', 6), ('spenders', 2), ('Soups', 1), ('Mike', 1), ('DDB', 1), ('Needham', 2), ('economics', 3), ('big-time', 1), ('handful', 1), ('Adolph', 1), ('Coors', 1), ('Waste', 2), ('Bumkins', 1), ('*T*-154', 1), ('spend', 4), ('relied', 1), ('haul', 2), ('print', 8), ('publisher', 3), ('initially', 5), ('subscription', 1), ('revenues', 1), ('Individual', 1), ('2.95', 1), ('yearly', 1), ('subscriptions', 2), ('recycled', 1), ('Old-House', 1), ('126,000', 1), ('newsstands', 1), ('93,000', 1), ('scared', 2), ('*-83', 2), ('replies', 2), ('sleep', 3), ('Ad', 1), ('Notes', 1), ('INTERPUBLIC', 1), ('ON', 1), ('Interpublic', 2), ('programming', 5), ('expanded', 5), ('4,000', 2), ('original', 4), ('largely', 12), ('*-84', 2), ('E.C.', 1), ('Television', 2), ('Fremantle', 1), ('supplier', 1), ('*-85', 2), ('75', 8), ('NEW', 1), ('ACCOUNT', 1), ('CoreStates', 1), ('Philadelphia', 8), ('Earle', 1), ('Palmer', 1), ('Spiro', 1), ('handled', 2), ('*-86', 1), ('VanSant', 1), ('Dugdale', 1), ('Baltimore', 6), ('AT&T', 5), ('FAX', 1), ('Telephone', 5), ('Telegraph', 4), ('Fax', 1), ('Ogilvy', 1), ('Mather', 1), ('WPP', 1), ('Billings', 1), ('*T*-155', 1), ('serviced', 1), ('Young', 5), ('Rubicam', 2), ('FIRST', 1), ('CAMPAIGN', 1), ('Enterprise', 2), ('Rent-A-Car', 1), ('breaks', 3), ('St.', 15), ('specializes', 2), ('replacement-car', 1), ('rentals', 1), ('accidents', 1), ('Developed', 1), ('Avrett', 1), ('Free', 3), ('Ginsberg', 1), ('pitches', 1), ('consumer-driven', 1), ('pick-up', 1), ('drop-off', 1), ('LANDOR', 1), ('ASSOCIATES', 1), ('Landor', 1), ('identity-management', 1), ('ACQUISITION', 1), ('Ketchum', 1), ('Pittsburgh', 3), ('Braun', 1), ('investor-relations', 1), ('marketing-communications', 1), ('Sea', 16), ('Containers', 16), ('70-a-share', 1), ('buy-back', 3), ('pressed', 2), ('Temple', 9), ('Holdings', 5), ('*T*-156', 1), ('Hamilton', 1), ('Bermuda-based', 1), ('shipping', 4), ('1.1', 6), ('proceeds', 2), ('apiece', 2), ('ward', 2), ('hostile', 2), ('Stena', 2), ('Holding', 3), ('AG', 3), ('Tiphook', 2), ('777', 1), ('sweetened', 2), ('963', 1), ('Sherwood', 4), ('asset-sale', 1), ('approximately', 2), ('620', 1), ('490', 1), ('allocated', 2), ('*-87', 2), ('leaving', 5), ('130', 10), ('flexibility', 1), ('raises', 5), ('leeway', 1), ('criticized', 2), ('characterizing', 1), ('conditional', 2), ('device', 3), ('entrench', 1), ('confuse', 1), ('superior', 2), ('asset', 6), ('materialize', 1), ('36', 1), ('converted', 1), ('*-88', 1), ('possibility', 4), ('subsidiaries', 4), ('mired', 2), ('Bermuda', 1), ('barred', 11), ('reaction', 7), ('62.625', 1), ('62.5', 2), ('Transportation', 9), ('responding', 2), ('advocates', 2), ('steps', 3), ('vans', 5), ('requirements', 9), ('automobiles', 3), ('requiring', 2), ('roofs', 2), ('minivans', 5), ('equip', 1), ('lap-shoulder', 1), ('belts', 6), ('rear', 1), ('model', 6), ('*-89', 1), ('Samuel', 1), ('Skinner', 1), ('represents', 4), ('milestone', 1), ('ongoing', 3), ('vehicle', 5), ('occupant', 1), ('extension', 2), ('car', 16), ('equipped', 1), ('*-90', 1), ('front-seat', 1), ('headrests', 1), ('*-91', 1), ('surprising', 5), ('Safety', 5), ('urging', 1), ('car-safety', 1), ('*T*-157', 1), ('classed', 1), ('actually', 3), ('cargo', 2), ('therefore', 1), ('luck', 1), ('Reagan', 9), ('fairly', 5), ('systematic', 2), ('address', 3), ('Chuck', 1), ('Hurley', 1), ('communications', 1), ('Highway', 3), ('Sen.', 6), ('Danforth', 2), ('Mo', 1), ('praised', 2), ('noting', 2), ('rollover', 1), ('crashes', 1), ('light-truck', 2), ('fatalities', 2), ('roof-crush', 4), ('bags', 1), ('automatic', 3), ('side-crash', 1), ('weighing', 1), ('pounds', 3), ('withstand', 2), ('unloaded', 1), ('weight', 1), ('roof', 1), ('depressed', 1), ('*-92', 1), ('inches', 1), ('rear-seat', 3), ('lap', 1), ('shoulder', 3), ('phasing', 2), ('installed', 2), ('deadline', 4), ('resistance', 6), ('Leinonen', 2), ('engineer', 1), ('Ford', 16), ('auto-safety', 1), ('1982', 5), ('installing', 1), ('F-series', 1), ('Crew', 1), ('Cab', 1), ('pickups', 1), ('Explorer', 1), ('sport-utility', 1), ('Rail', 1), ('enclosed', 1), ('railcars', 3), ('transporting', 1), ('autos', 1), ('multilevel', 1), ('Thrall', 1), ('Manufacturing', 2), ('Heights', 5), ('Duchossois', 1), ('Elmhurst', 1), ('Ill', 2), ('railroad', 2), ('850', 1), ('Sir', 4), ('Walters', 1), ('58-year-old', 1), ('Petroleum', 4), ('joins', 2), ('cement', 1), ('Milne', 1), ('65', 7), ('*T*-158', 1), ('retires', 1), ('Blue', 1), ('Circle', 1), ('formal', 2), ('*-93', 1), ('longstanding', 1), ('opposition', 3), ('Later', 1), ('senate', 1), ('Currently', 5), ('within', 13), ('Driscoll', 2), ('Dow', 20), ('Jones', 20), ('Professional', 2), ('Investor', 2), ('Certainly', 1), ('*T*-159', 1), ('prospectively', 1), ('options', 11), ('*T*-160', 1), ('conversations', 2), ('interesting', 6), ('hot', 2), ('*-94', 1), ('merger-related', 1), ('prevailing', 2), ('passage', 3), ('*-95', 1), ('slump', 3), ('121.6', 1), ('lay', 1), ('altogether', 1), ('employment', 7), ('18,000', 2), ('exclusively', 1), ('leasing', 1), ('GOODY', 1), ('PRODUCTS', 1), ('11.5', 1), ('reduced', 9), ('payable', 1), ('Jan.', 1), ('Kearny', 1), ('N.J.-based', 1), ('hair', 1), ('accessories', 4), ('cosmetic', 2), ('992,000', 1), ('year-ago', 2), ('1.9', 1), ('anti-takeover', 1), ('Henderson', 1), ('51-year-old', 1), ('U.K.', 14), ('metals', 7), ('succeeding', 2), ('Ian', 1), ('Butler', 2), ('*T*-161', 1), ('retiring', 1), ('1\\\\/10th', 1), ('cent', 6), ('redemption', 1), ('upon', 8), ('*-96', 1), ('Warren', 3), ('Winiarski', 2), ('proprietor', 1), ('Stag', 3), ('Leap', 3), ('Wine', 4), ('Cellars', 1), ('Napa', 1), ('tag', 1), ('Cask', 2), ('Cabernet', 6), ('wine', 17), ('shops', 3), ('wine-making', 1), ('experience', 9), ('declared', 5), ('estimation', 1), ('700', 1), ('Sauvignon', 1), ('Diamond', 3), ('Creek', 4), ('Vineyard', 2), ('weighed', 2), ('sticker', 1), ('bottle', 12), ('fastest', 1), ('segments', 8), ('category', 2), ('superpremiums', 2), ('wines', 15), ('exceptional', 1), ('quality', 4), ('perceived', 2), ('exceedingly', 1), ('stable', 4), ('classics', 2), ('Bordeaux', 3), ('growths', 2), ('Lafite-Rothschild', 1), ('Haut-Brion', 1), ('Petrus', 4), ('Grand', 1), ('Cru', 1), ('Burgundies', 2), ('Romanee-Conti', 3), ('La', 7), ('Tache', 3), ('deluxe', 1), ('Champagnes', 1), ('Dom', 1), ('Perignon', 1), ('Roederer', 3), ('Cristal', 3), ('rarefied', 1), ('Chateau', 3), ('Yquem', 2), ('Trockenbeerenauslesen', 1), ('Rieslings', 1), ('Biondi-Santi', 2), ('Brunello', 2), ('Riserva', 1), ('Tuscany', 2), ('magnitude', 4), ('flashy', 1), ('zoomed', 1), ('priciest', 1), ('releases', 2), ('boast', 1), ('lion', 1), ('bottles', 1), ('80', 7), ('smallest', 1), ('*T*-162', 1), ('!', 6), ('vintages', 2), ('Sauternes', 1), ('lighter', 1), ('vintage', 2), ('spectacularly', 1), ('179', 2), ('prestige', 1), ('cuvees', 1), ('inching', 1), ('barrier', 3), ('Salon', 4), ('Mesnil', 2), ('Blanc', 2), ('Blancs', 2), (\"'82\", 1), ('115', 2), ('Taittinger', 1), ('Comtes', 1), ('encroaching', 1), ('reds', 1), ('Rhone', 1), ('soared', 7), ('Guigal', 1), ('Cote', 1), ('Rotie', 1), ('Landonne', 1), ('None', 4), ('steal', 1), ('march', 4), ('Burgundy', 2), ('Domaine', 1), ('la', 1), ('precious', 3), ('vineyard', 1), ('anywhere', 1), ('commanded', 1), ('three-digit', 1), ('tags', 1), ('Richebourg', 2), ('180', 5), ('225', 2), ('Coche-Dury', 1), ('Corton-Charlemagne', 1), ('155', 2), ('Angelo', 1), ('Gaja', 1), ('Barbaresco', 1), ('Piero', 1), ('Antinori', 1), ('Solaia', 1), ('98', 4), ('Vega', 1), ('Secilia', 1), ('Unico', 1), ('10th', 1), ('Grange', 1), ('Hermitage', 2), ('cult', 1), ('*T*-163', 1), ('command', 2), ('Larry', 3), ('Shapiro', 3), ('Marty', 2), ('*T*-164', 1), ('happening', 1), ('scarce', 1), ('exhausted', 1), (\"'40s\", 1), (\"'50s\", 1), ('*T*-165', 1), ('300', 9), ('newer', 1), ('bargain', 1), ('grapes', 2), ('ripen', 1), ('perfectly', 2), ('acre', 1), ('*T*-166', 1), ('yielded', 1), ('Owner', 1), ('Al', 1), ('Brownstein', 1), ('originally', 3), ('retailer', 1), ('Is', 1), ('wholesale', 2), ('re-thought', 1), ('Offering', 1), ('merchants', 3), ('check', 3), ('responses', 3), ('yes', 1), ('shipped', 6), ('*-97', 1), ('six-bottle', 1), ('instead', 8), ('spread', 5), ('*-98', 2), ('thin', 6), ('62', 7), ('retailers', 1), ('awfully', 1), ('Pratt', 4), ('Schaefer', 1), ('Skokie', 1), ('suburban', 1), ('opinions', 1), ('six-packs', 2), ('remarked', 2), ('thinks', 3), ('dramatically', 2), ('*T*-167', 1), ('wins', 1), ('sticker-shock', 1), ('talked', 1), ('excited', 1), ('astronomical', 1), ('collection', 1), ('sort', 4), ('one-upsmanship', 1), ('Red', 2), ('Rock', 1), ('Terrace', 1), ('Cabernets', 2), ('Dunn', 1), ('Producers', 2), ('*T*-168', 1), ('appeal', 8), ('explains', 4), ('rapidly', 6), ('*T*-169', 1), ('knowledgeable', 1), ('Cedric', 1), ('Cellar', 1), ('Orleans', 8), ('Or', 3), ('overpriced', 1), ('*-99', 1), ('equally', 4), ('Grgich', 1), ('Chardonnay', 1), ('32', 4), ('movement', 3), ('Chardonnays', 1), ('Image', 1), ('*T*-170', 1), ('*T*-171', 1), ('forced', 6), ('*-100', 1), ('push', 5), ('le', 1), ('lowering', 2), ('beautiful', 4), ('ideas', 3), ('walking', 1), ('door', 6), (\"'86\", 1), ('Opus', 1), ('Dominus', 1), ('moment', 3), ('wine-buying', 1), ('looming', 3), ('holidays', 1), ('*T*-172', 1), ('Ensrud', 1), ('free-lance', 1), ('Signs', 1), ('Fed', 12), ('upward', 1), ('moderated', 2), ('Black', 3), ('Richmond', 2), ('posting', 2), ('fourth', 11), ('agrees', 2), ('Kansas', 3), ('Guffey', 4), ('achieving', 1), ('stated', 2), ('objective', 4), ('hopefully', 3), ('downward', 2), ('expecting', 3), ('easier', 6), ('0.25', 3), ('8.75', 1), ('plunge', 5), ('shown', 1), ('weak', 4), ('slower', 4), ('petroleum', 1), ('Retail', 1), ('discretionary', 2), ('big-ticket', 1), ('*-101', 1), ('halt', 4), ('divided', 4), ('*-102', 2), ('presidents', 4), ('resisting', 1), ('excesses', 1), ('tilt', 1), ('chance', 6), ('Integra-A', 1), ('Restaurant', 1), ('*-103', 1), ('mailing', 2), ('105', 1), ('13.5', 1), ('1993', 5), ('23.5', 4), ('*T*-173', 1), ('exercised', 3), ('*-104', 1), ('Integra', 2), ('*T*-174', 1), ('hotels', 1), ('Hallwood', 2), ('exercise', 7), ('*T*-175', 1), ('merchant', 7), ('Copperweld', 3), ('steelmaker', 2), ('445', 1), ('Shelby', 1), ('Steelworkers', 1), ('Local', 1), ('3057', 1), ('Tube', 1), ('expired', 1), ('vote', 9), ('reject', 2), ('pact', 1), ('230-215', 1), ('stoppage', 1), ('postponed', 1), ('*-105', 1), ('Basham', 3), ('autions', 1), ('rescheduled', 1), ('*-106', 1), ('Unless', 1), ('13.8', 3), ('*T*-176', 1), ('congressional', 10), ('partisan', 1), ('bickering', 1), ('*T*-177', 1), ('entangled', 1), ('fails', 2), ('disruption', 1), ('schedule', 1), ('taxpayer', 1), ('Nicholas', 1), ('Brady', 1), ('bankers', 4), ('imperative', 1), ('*-107', 1), ('redeem', 2), ('maturing', 1), ('refunding', 4), ('three-year', 2), ('auctioned', 3), ('*-108', 1), ('*-109', 1), ('30-year', 11), ('*-110', 1), ('2019', 6), ('36-day', 1), ('when-issued', 1), ('approves', 1), ('clearing', 1), ('47.5', 1), ('Auctions', 1), ('25.6', 1), ('21.9', 1), ('*-111', 1), ('two-year', 6), ('five-year', 2), ('estimates', 8), ('decides', 1), ('aim', 2), ('Lancaster', 2), ('Colony', 1), ('Reames', 2), ('Foods', 2), ('marketer', 2), ('frozen', 2), ('noodles', 1), ('pre-cooked', 1), ('pasta', 1), ('Clive', 1), ('Investors', 6), ('advantage', 9), ('rally', 3), ('fractionally', 2), ('Bond', 3), ('Industrial', 7), ('finished', 5), ('2645.90', 3), ('advancing', 2), ('tidily', 1), ('847', 2), ('644', 2), ('Long-term', 1), ('Continuing', 1), ('*-112', 1), ('enthusiasm', 2), ('3.18', 3), ('evaporated', 1), ('rushed', 2), ('sight', 1), ('*T*-178', 1), ('Beige', 1), ('Book', 1), ('pattern', 3), ('154.2', 1), ('benchmark', 9), ('2.50', 4), ('7.88', 4), ('afternoon', 5), ('Mitsui', 9), ('Mining', 3), ('Smelting', 1), ('5.276', 1), ('36.9', 1), ('3.253', 1), ('Net', 7), ('4.898', 1), ('1.457', 1), ('Eaton', 2), ('Sierra', 2), ('200', 11), ('supplies', 5), ('Harold', 4), ('Simmons', 11), ('NL', 15), ('Gulf', 20), ('commodity', 5), ('chemicals', 6), ('restructure', 2), ('*T*-179', 1), ('rebuffed', 1), ('alternatives', 6), ('proposals', 2), ('Late', 2), ('reviewed', 1), ('regarding', 5), ('combinations', 1), ('eliminated', 7), ('*PPA*-2', 2), ('various', 6), ('proof', 1), ('aggressive', 4), ('*-113', 1), ('clamped', 1), ('ankle', 1), ('pit', 2), ('bull', 2), ('Leming', 2), ('Morgan', 7), ('Stanley', 7), ('9.9', 3), ('Valhi', 2), ('two-thirds', 2), ('surprised', 2), ('cited', 10), ('becomes', 7), ('1.75', 1), ('51.25', 1), ('unchanged', 11), ('22.75', 1), ('Landis', 1), ('proposing', 4), ('*T*-180', 1), ('subordinated', 3), ('junk-bond', 5), ('collapsed', 2), ('lessening', 1), ('likelihood', 1), ('hundred', 3), ('agreeing', 1), ('consent', 4), ('Jerry', 4), ('Satrum', 1), ('respond', 3), ('spurns', 1), ('*T*-181', 1), ('solicitation', 1), ('replacing', 1), ('friendly', 4), ('apparently', 14), ('*-114', 1), ('nominal', 1), ('*-115', 1), ('earned', 11), ('46.1', 1), ('1.85', 2), ('251.2', 1), ('278.7', 1), ('licensing', 1), ('representing', 4), ('challenging', 1), ('university', 7), ('Retin-A', 5), ('acne', 3), ('medicine', 3), ('Patents', 2), ('Westport', 1), ('punitive', 1), ('license', 2), ('elsewhere', 3), ('Albert', 2), ('Kligman', 2), ('researcher', 3), ('*T*-182', 1), ('1960s', 2), ('combat', 1), ('patented', 1), ('licensed', 2), ('Brunswick', 1), ('Criticism', 1), ('acquisitions', 10), ('Officials', 3), ('skittishness', 1), ('color', 2), ('disagree', 2), ('indeed', 3), ('unfettered', 1), ('Where', 2), ('removal', 1), ('perceives', 1), ('*T*-183', 1), ('barriers', 3), ('heated', 2), ('stirred', 1), ('focusing', 2), ('differences', 7), ('*-116', 1), ('Impediments', 1), ('Initiative', 1), ('rhetoric', 2), ('signal', 7), ('Dallara', 4), ('*T*-184', 1), ('informally', 1), ('impending', 2), ('direct-investment', 1), ('fret', 1), ('rancor', 1), ('nervousness', 1), ('devoted', 1), ('half-hour', 3), ('briefing', 1), ('journalists', 1), ('vitally', 1), ('emotions', 1), ('Taizo', 1), ('Watanabe', 1), ('notably', 3), ('Fears', 1), ('escalated', 1), ('Coca-Cola', 1), ('owner', 4), ('midtown', 1), ('fuel', 4), ('fires', 1), ('discontent', 1), ('stoked', 1), ('publicized', 2), ('Boone', 2), ('Pickens', 4), ('Jr', 1), ('oilman', 1), ('26.2', 1), ('1.2', 3), ('automotive-lighting', 1), ('Koito', 3), ('asserting', 1), ('greenmailer', 1), ('hay', 2), ('troubles', 4), ('Texan', 1), ('Lloyd', 1), ('Bentsen', 1), ('highlight', 1), ('*T*-185', 1), ('disproportionate', 1), ('table', 1), ('structures', 3), ('litany', 1), ('recommendations', 3), ('anxious', 2), ('successful', 5), ('*T*-186', 1), ('clarified', 1), ('*T*-187', 1), ('retort', 1), ('concessions', 1), ('Just', 4), ('clarify', 2), ('exactly', 1), ('*T*-188', 1), ('sorting', 1), ('specifics', 1), ('quick', 3), ('basic', 3), ('MITI', 2), ('crossed', 1), ('gauging', 1), ('sheaf', 1), ('Elisabeth', 1), ('Rubinfien', 1), ('smaller', 8), ('controversial', 4), ('improves', 1), ('provides', 8), ('Candela', 6), ('Laser', 1), ('Wayland', 1), ('high-tech', 3), ('sights', 1), ('myriad', 1), ('penetrate', 1), ('tiny', 1), ('joint-venture', 1), ('guided', 1), ('bureaucratic', 1), ('maze', 1), ('secured', 3), ('laser', 1), ('*T*-189', 1), ('kidney', 1), ('stones', 1), ('*T*-190', 1), ('treats', 1), ('skin', 3), ('lesions', 1), ('count', 1), ('Olsen', 1), ('milked', 1), ('*-117', 1), ('bankroll', 1), ('promising', 1), ('frequently', 5), ('putting', 2), ('*T*-191', 1), ('financed', 4), ('corporations', 6), ('214', 1), ('minority', 10), ('Venture', 2), ('Economics', 2), ('Heightened', 1), ('acceleration', 2), ('*-118', 1), ('*T*-192', 1), ('Center', 3), ('deals', 6), ('conspicuous', 2), ('penetration', 1), ('feed', 2), ('anxieties', 2), ('low-tech', 1), ('glass', 6), ('catch', 2), ('fancy', 1), ('strategic', 1), ('fit', 3), ('Glass', 1), ('Warrenton', 1), ('Va.', 2), ('fabricator', 1), ('architectural', 1), ('foundering', 1), ('Ronald', 2), ('Bodner', 2), ('chiefly', 1), ('window', 2), ('Ichiro', 1), ('Wakui', 3), ('merchandise', 2), ('inside', 1), ('Trading', 5), ('Itoh', 2), ('Nissho-Iwai', 1), ('*T*-193', 1), ('counterpart', 1), ('vertically', 1), ('feudal', 1), ('globally', 1), ('commodities', 4), ('ships', 7), ('sogo-shosha', 1), ('Klauser', 4), ('U.S.A.', 4), ('houses', 7), ('Adds', 2), ('Takeshi', 1), ('Kondo', 1), ('ventures', 2), ('Silicon', 1), ('*-119', 1), ('trading-company', 1), ('goal', 3), ('Strategic', 1), ('objectives', 2), ('drive', 2), ('basis', 5), ('performed', 3), ('logjam', 1), ('small-company', 1), ('businessman', 2), ('Davies', 1), ('Alliance', 1), ('queuing', 1), ('unsympathetic', 1), ('*T*-194', 1), ('relation', 1), ('generate', 1), ('extent', 3), ('ai', 1), ('Hudson', 3), ('Stearn', 3), ('*-120', 1), ('departure', 13), ('*T*-195', 1), ('maintenance', 3), ('fueling', 1), ('airlines', 2), ('airports', 1), ('omitted', 2), ('*T*-196', 1), ('duties', 8), ('assumed', 2), ('*-121', 1), ('Langner', 1), ('Genie', 1), ('Driskill', 2), ('neighborhood', 2), ('convenient', 3), ('high-balance', 1), ('pine', 1), ('Crown', 2), ('Account', 2), ('package', 17), ('checking', 3), ('safe', 1), ('deposit', 4), ('card', 22), ('installment', 2), ('15,000', 21), ('qualify', 2), ('loyalty', 3), ('competitive', 5), ('competed', 1), ('deposits', 4), ('bundling', 1), ('packages', 7), ('targeting', 3), ('population', 4), ('segmenting', 1), ('Anne', 2), ('Moore', 3), ('Synergistics', 2), ('NCNB', 1), ('Charlotte', 5), ('Connections', 1), ('Program', 13), ('adults', 1), ('starting', 5), ('pre-approved', 1), ('throws', 2), ('cash-flow', 2), ('saving', 1), ('Planters', 1), ('Memphis', 1), ('Tenn.', 1), ('Edge', 1), ('thirtysomething', 1), ('crowd', 1), ('*T*-197', 1), ('borrowed', 1), ('aiming', 1), ('elderly', 1), ('demographic', 2), ('segment', 6), ('stepped', 3), ('Judie', 1), ('MacDonald', 2), ('Barnett', 2), ('Banks', 3), ('Jacksonville', 1), ('Fla.', 9), ('sub-segments', 1), ('tailoring', 1), ('Seniors', 2), ('Partners', 6), ('styles', 1), ('Varying', 1), ('life-style', 1), ('create', 7), ('sub-markets', 1), ('branches', 3), ('athletic', 1), ('travel', 6), ('active', 7), ('55-year-old', 1), ('Senior', 1), ('games', 2), ('75-year-old', 1), ('Panama', 3), ('1973', 1), ('Wells', 1), ('Fargo', 1), ('*T*-198', 1), ('safe-deposit', 1), ('travelers', 1), ('checks', 2), ('fee', 4), ('begot', 1), ('slew', 1), ('copycats', 1), ('promoting', 2), ('margins', 7), ('computerize', 1), ('niches', 1), ('*T*-199', 1), ('profitable', 7), ('*-122', 1), ('mid-1970s', 1), ('emphasis', 2), ('switched', 2), ('ways', 9), ('enabling', 2), ('analyze', 1), ('deregulation', 1), ('*T*-200', 1), ('1970s', 2), ('Deregulation', 1), ('*T*-201', 1), ('high-rate', 1), ('CDs', 1), ('passbook', 1), ('certificates', 1), ('interest-bearing', 1), ('staggering', 1), ('bigger', 2), ('Norwest', 1), ('Chemical', 5), ('market-share', 3), ('battles', 1), ('banker', 4), ('worrying', 1), ('money-center', 1), ('unions', 2), ('*T*-202', 1), ('scrambling', 2), ('define', 2), ('cultivated', 1), ('savvier', 1), ('*T*-203', 1), ('N.C', 3), ('fragmentation', 1), ('attracting', 1), ('rate-sensitive', 1), ('costly', 3), ('Packages', 1), ('rewarding', 1), ('bulk', 4), ('captive', 1), ('audience', 1), ('*T*-204', 1), ('*-123', 1), ('loyal', 1), ('*T*-205', 1), ('borrowers', 1), ('savers\\\\/investors', 1), ('Packaging', 1), ('drawbacks', 1), ('personnel', 1), ('training', 8), ('promotional', 1), ('ChemPlus', 1), ('Jacob', 2), ('comprehensive', 1), ('Still', 8), ('flourish', 1), ('demanding', 2), ('tailored', 1), ('*-124', 1), ('moving', 3), ('direction', 5), ('Alvin', 2), ('Sale', 2), ('realize', 5), ('boutique', 1), ('IRAs', 1), ('SHAREDATA', 1), ('amend', 1), ('registration', 3), ('delete', 1), ('500,000', 3), ('Chandler', 2), ('Ariz.', 2), ('resubmit', 1), ('2.3', 3), ('exercisable', 2), ('ShareData', 2), ('4.1', 2), ('develops', 1), ('low-cost', 1), ('peripheral', 4), ('Five', 1), ('Buy', 3), ('Chevrolet', 3), ('Hawaiian', 1), ('vacation', 4), ('Send', 1), ('diamond', 1), ('necklace', 1), ('Make', 1), ('lasting', 1), ('savings-and-loan', 2), ('Foster', 7), ('Corporate', 6), ('Parents', 1), ('pocket', 1), ('ailing', 2), ('teetering', 1), ('insolvency', 1), ('demise', 3), ('Your', 7), ('needy', 1), ('solvent', 1), ('Parent', 2), ('Like', 5), ('healthy', 4), ('Performing', 1), ('Institution', 2), ('gift', 2), ('*T*-206', 1), ('doors', 1), ('joy', 1), ('felt', 5), ('Lewis', 4), ('Ranieri', 3), ('*T*-207', 1), ('builds', 1), ('confidence', 7), ('self', 1), ('sufficiency', 1), ('critical', 1), ('institution', 4), ('Every', 2), ('delay', 3), ('worse', 3), ('Think', 2), ('mid-size', 1), ('semesters', 1), ('send', 6), ('*T*-208', 1), ('rap', 1), ('sagging', 1), ('morale', 1), ('Baris', 1), ('Mercantile', 6), ('institute', 2), ('circuit', 7), ('breaker', 6), ('stemming', 3), ('slides', 2), ('Phelan', 15), ('subcommittee', 4), ('halts', 3), ('emergencies', 1), ('reinstating', 1), ('collar', 4), ('arguing', 2), ('limit', 21), ('Merc', 7), ('one-hour', 3), ('Standard', 11), ('Poor', 9), ('stock-index', 19), ('futures', 63), ('S&P', 35), ('150-point', 1), ('20-point', 1), ('*-125', 1), ('1:30', 1), ('p.m', 2), ('3:15', 1), ('execute', 4), ('trades', 21), ('*-126', 1), ('tumultuous', 1), ('industrials', 3), ('skidded', 1), ('hitting', 2), ('*T*-210', 1), ('remained', 5), ('session', 8), ('existing', 4), ('30-minute', 1), ('12-point', 3), ('equal', 5), ('*-127', 1), ('Leo', 2), ('Melamed', 1), ('lessen', 1), ('panic', 3), ('reopened', 1), ('subsequent', 1), ('flood', 1), ('*T*-211', 1), ('knocked', 1), ('30-point', 2), ('intermediate', 1), ('*-128', 2), ('synchronized', 1), ('circuit-breaker', 1), ('aggravated', 1), ('directing', 1), ('floor', 12), ('*-129', 1), ('shortly', 4), ('*T*-212', 1), ('respite', 1), ('sell-offs', 1), ('maximum', 1), ('one-day', 2), ('modification', 1), ('*-130', 1), ('five-point', 2), ('minutes', 4), ('lapses', 1), ('aides', 2), ('congressmen', 2), ('*T*-213', 1), ('executing', 3), ('manually', 2), ('post-hearing', 1), ('*T*-214', 1), ('expressed', 5), ('volatility', 21), ('program-trading', 12), ('comfortable', 1), ('Capitol', 2), ('legislators', 1), ('shut', 3), ('volatile', 4), ('Breeden', 1), ('breakers', 1), ('*T*-215', 1), ('preset', 2), ('trigger', 2), ('vague', 1), ('mushy', 1), ('viewpoints', 1), ('angered', 1), ('Edward', 7), ('Markey', 6), ('beyond', 4), ('*-131', 1), ('done', 5), ('sensitive', 1), ('*-132', 1), ('happy', 1), ('writing', 4), ('discussed', 4), ('*-133', 1), ('annoyed', 1), ('congressman', 1), ('Fifteen', 1), ('26', 2), ('attended', 1), ('Dingell', 8), ('*T*-216', 1), ('let', 8), ('sources', 8), ('jurisdictional', 1), ('regulating', 2), ('*T*-217', 1), ('regulated', 3), ('*-134', 1), ('Futures', 8), ('*T*-218', 1), ('Agriculture', 5), ('committees', 1), ('change-ringing', 1), ('peculiar', 1), ('peculiarities', 1), ('unintelligible', 1), ('Dorothy', 3), ('Sayers', 2), ('Nine', 1), ('Tailors', 1), ('ASLACTON', 1), ('*T*-219', 1), ('evoke', 1), ('rural', 2), ('loveliest', 1), ('ancient', 2), ('stone', 3), ('church', 12), ('bells', 19), ('cascading', 1), ('tower', 6), ('calling', 1), ('faithful', 1), ('evensong', 1), ('parishioners', 1), ('Angels', 1), ('chat', 1), ('rhythmically', 1), ('ropes', 4), ('*T*-220', 1), ('sounded', 2), ('1614', 1), ('discordant', 1), ('modern', 3), ('Aslacton', 2), ('*-135', 1), ('church-goers', 1), ('enjoying', 1), ('peal', 2), ('cool', 1), ('autumn', 2), ('churches', 4), ('band', 4), ('ringers', 21), ('*T*-221', 1), ('herald', 1), ('Sunday', 2), ('ringer', 4), ('Derek', 1), ('Hammond', 3), ('live', 5), ('octogenarians', 1), ('youngsters', 2), ('*T*-222', 1), ('sometimes-exhausting', 1), ('sounding', 1), ('belfries', 1), ('Anglia', 1), ('ring', 4), ('scrape', 1), ('water-authority', 1), ('worker', 5), ('train', 3), ('discos', 1), ('dances', 1), ('drift', 1), ('flightiness', 1), ('youth', 3), ('diminish', 1), ('ranks', 2), ('Anglian', 1), ('*T*-223', 1), ('pealing', 1), ('History', 1), ('nationwide', 1), ('rung', 2), ('Sundays', 1), ('tunes', 1), ('carillons', 1), ('continental', 1), ('*-136', 1), ('childish', 1), ('foreigners', 1), ('Change-ringing', 1), ('mind-boggling', 1), ('invented', 2), ('380', 1), ('physical', 2), ('dexterity', 1), ('weigh', 2), ('ton', 6), ('concentration', 1), ('Proper', 1), ('rounds', 1), ('highest-pitched', 1), ('bell', 4), ('descending', 1), ('altering', 1), ('rhythm', 2), ('variation', 1), ('Ringers', 3), ('memorize', 1), ('methods', 3), ('*T*-224', 1), ('odd-sounding', 1), ('Treble', 1), ('Major', 2), ('Grandsire', 1), ('Caters', 1), ('Abbot', 2), ('Kensington', 1), ('Ten', 1), ('shirt-sleeved', 1), ('circle', 1), ('foot', 1), ('prize-fighter', 1), ('pulling', 1), ('rope', 1), ('*T*-225', 1), ('disappears', 1), ('hole', 1), ('ringing', 5), ('chamber', 1), ('speaks', 2), ('snaking', 1), ('muffled', 1), ('Totally', 1), ('absorbed', 2), ('stare', 1), ('vision', 1), ('rope-sight', 1), ('thus', 4), ('pulls', 1), ('Far', 1), ('belfry', 3), ('bronze', 1), ('wheels', 1), ('madly', 1), ('360', 1), ('inverted', 1), ('mouth-up', 1), ('Skilled', 1), ('wrists', 1), ('retard', 1), ('well-known', 2), ('detective-story', 1), ('novelist', 1), ('passion', 2), ('finds', 1), ('satisfaction', 1), ('mathematical', 1), ('completeness', 1), ('perfection', 1), ('filled', 1), ('solemn', 1), ('intoxication', 1), ('*T*-226', 1), ('intricate', 1), ('ritual', 1), ('faultlessly', 1), ('Ringing', 2), ('bit', 2), ('obsession', 1), ('Stephanie', 2), ('Pattenden', 1), ('*T*-227', 1), ('stays', 1), ('stuck', 1), ('*-137', 1), ('sweat', 1), ('skip', 1), ('pub', 1), ('worship', 2), ('sit', 1), ('clerics', 1), ('Church', 3), ('steadily', 1), ('dwindling', 1), ('strong-willed', 2), ('vicars', 2), ('pressing', 1), ('non-religious', 1), ('attend', 3), ('Two', 5), ('Rev.', 1), ('Jeremy', 1), ('Hummerstone', 2), ('vicar', 5), ('Torrington', 2), ('Devon', 2), ('*T*-228', 1), ('sacked', 1), ('promptly', 3), ('self-perpetuating', 1), ('*T*-229', 1), ('premises', 1), ('Vicar', 2), ('congregation', 2), ('eight', 4), ('Ilminster', 1), ('Somerset', 1), ('dust-up', 1), ('attendance', 1), ('W.D.', 1), ('refuses', 1), ('reopen', 3), ('wound', 2), ('C.J.B.', 1), ('nearby', 2), ('fault', 3), ('stairs', 1), ('*-138', 1), ('altar', 1), ('crunch', 3), ('bang', 3), ('obvious', 1), ('exit', 1), ('prayer', 1), ('feelings', 1), ('bell-ringer', 1), ('drawn', 3), ('*-139', 1), ('fuller', 1), ('Council', 2), ('Bell', 10), ('aims', 1), ('Baldwin', 4), ('speak', 1), ('theological', 1), ('colleges', 1), ('joys', 1), ('publish', 2), ('booklet', 1), ('entitled', 1), ('Bells', 1), ('Care', 6), ('attacking', 1), ('bellringers', 1), ('40,000', 1), ('*-140', 1), ('parishes', 1), ('inner-city', 1), ('council', 5), ('attract', 6), ('Right', 2), ('lucky', 1), ('male-dominated', 1), ('everywhere', 2), ('bell-ringing', 1), ('Ancient', 1), ('Youths', 1), ('founded', 2), ('1637', 1), ('male-only', 1), ('*T*-230', 1), ('galling', 1), ('sole', 1), ('Cathedral', 1), ('Westminster', 1), ('Abbey', 1), ('equal-opportunity', 1), ('weekly', 3), ('signing', 2), ('Red-blooded', 1), ('balanced', 1), ('frequency', 1), ('fainting', 1), ('peals', 2), ('tea', 1), ('torrent', 1), ('Solihull', 1), ('observed', 2), ('desired', 2), ('*-141', 1), ('dressed', 1), ('decorated', 1), ('beer-belly', 1), ('unwashed', 1), ('unbearably', 1), ('flatulent', 1), ('Sheffield', 1), ('faint', 1), ('bless', 1), ('unsettled', 1), ('comfort', 1), ('predictable', 1), ('arrival', 1), ('payouts', 3), ('breathe', 1), ('warn', 1), ('strongest', 4), ('stock-market', 7), ('trap', 1), ('unwary', 1), ('Bernstein', 11), ('quantitative', 1), ('Merrill', 5), ('Lynch', 5), ('Strong', 1), ('widow', 1), ('reference', 2), ('spiders', 1), ('*T*-231', 1), ('males', 1), ('kill', 2), ('mating', 1), ('Boesel', 3), ('Growth', 3), ('Income', 1), ('robustly', 1), ('Invariably', 1), ('recessionary', 2), ('environments', 2), ('hospitable', 1), ('risen', 2), ('cyclical', 1), ('peaks', 2), ('500-stock', 2), ('sliding', 1), ('watchers', 3), ('Payouts', 1), ('double-digit', 2), ('trends', 2), ('smartly', 1), ('advances', 2), ('*T*-232', 1), ('unenticing', 1), ('Put', 3), ('relative', 4), ('3.3', 3), ('exits', 1), ('sustained', 2), ('rebound', 3), ('pushes', 1), ('tanked', 1), ('Always', 1), ('exception', 2), ('W.', 3), ('Perritt', 2), ('Stockholders', 1), ('*T*-233', 1), ('hint', 1), ('escaped', 1), ('debacle', 1), ('1933', 1), ('1961', 1), ('1965', 2), ('1968', 1), ('1971', 2), ('sharp', 7), ('troublesome', 1), ('behaving', 1), ('manner', 2), ('Coxon', 3), ('Cigna', 2), ('Philadelphia-based', 1), ('insurer', 2), ('Einhorn', 3), ('co-chairman', 1), ('3.6', 2), ('tad', 1), ('*T*-234', 1), ('single-digit', 1), ('weakening', 1), ('PaineWebber', 6), ('forecasting', 1), ('slowdowns', 1), ('Doerflinger', 1), ('argument', 2), ('wherewithal', 1), ('declare', 1), ('weaken', 3), ('Dividend', 1), ('*-142', 1), ('bulls', 1), ('expenditures', 1), ('tally', 2), ('139', 1), ('basically', 5), ('138', 1), ('trailed', 3), ('slippage', 1), ('harbinger', 1), ('deliver', 3), ('appreciation', 3), ('vs.', 2), ('*T*-235', 1), ('Having', 1), ('supportive', 1), ('element', 1), ('outlook', 2), ('upside', 1), ('page-one', 2), ('plight', 3), ('Alexander', 1), ('Graham', 1), ('invention', 1), ('supposedly', 2), ('communication', 1), ('replace', 5), ('father-in-law', 1), ('Gardner', 1), ('Hubbard', 1), ('wealthy', 1), ('well-connected', 1), ('microphone', 2), ('sued', 2), ('grandfather', 2), ('Emile', 1), ('Berliner', 3), ('*-144', 1), ('princely', 1), ('50,000', 4), ('infringed', 1), ('established', 1), ('caveat', 1), ('*-145', 1), ('enter', 1), ('Beverly', 3), ('Troubled', 1), ('NBI', 5), ('discontinuing', 1), ('*T*-236', 1), ('quarters', 4), ('Altogether', 1), ('266', 1), ('Boulder', 2), ('176', 1), ('Kingdom', 3), ('Jerritts', 2), ('commit', 2), ('Further', 2), ('structurally', 1), ('radically', 1), ('servicing', 2), ('word-processing', 1), ('Legend', 1), ('*T*-237', 1), ('lacked', 1), ('Series', 3), ('hired', 4), ('93', 1), ('Nixon', 18), ('*T*-238', 1), ('historic', 3), ('rapprochement', 1), ('spoke', 1), ('length', 1), ('nowhere', 2), ('easing', 2), ('strains', 2), ('*T*-239', 1), ('afflicted', 1), ('Sino-U.S.', 2), ('relationship', 2), ('bloody', 1), ('suppression', 1), ('pro-democracy', 2), ('demonstrators', 2), ('harped', 1), ('outrage', 1), ('massacre', 1), ('interference', 3), ('Legal', 1), ('*T*-240', 1), ('normally', 4), ('proponent', 1), ('peaceful', 1), ('phrase', 2), ('seduce', 1), ('socialist', 1), ('capitalist', 1), ('sphere', 2), ('tension', 1), ('evident', 1), ('banquet', 1), ('toast', 2), ('reciting', 1), ('platitudes', 1), ('eternal', 1), ('friendship', 1), ('reminded', 1), ('Yang', 3), ('Shangkun', 1), ('assault', 2), ('3-4', 1), ('*T*-241', 1), ('States', 5), ('crackdown', 2), ('*T*-242', 1), ('ordering', 1), ('respect', 3), ('undiplomatic', 1), ('fashion', 1), ('killings', 1), ('prominently', 1), ('demonstrations', 1), ('supreme', 1), ('Deng', 1), ('Xiaoping', 1), ('Frankly', 1), ('speaking', 1), ('*-146', 1), ('deeply', 1), ('turmoil', 2), ('counterrevolutionary', 1), ('rebellion', 1), ('*T*-243', 1), ('occurred', 3), ('reprove', 1), ('exchanges', 3), ('mend', 1), ('*T*-244', 1), ('deteriorated', 1), ('greatest', 2), ('Chinese-American', 1), ('Relations', 2), ('dissident', 1), ('Fang', 2), ('Lizhi', 1), ('wife', 2), ('Li', 2), ('Shuxian', 1), ('refuge', 1), ('Embassy', 4), ('Shortly', 1), ('afterwards', 1), ('anti-China', 1), ('suspension', 26), ('high-level', 1), ('codified', 1), ('*-147', 1), ('traveling', 2), ('citizen', 3), ('unofficial', 1), ('envoy', 1), ('Brent', 1), ('Scowcroft', 1), ('Saturday', 1), ('top-level', 1), ('participation', 1), ('Fulbright', 1), ('government-funded', 1), ('pulled', 1), ('acknowledge', 1), ('welcome', 2), ('infusion', 1), ('contacts', 2), ('Ideas', 1), ('borders', 1), ('SDI', 1), ('weapon', 1), ('*T*-245', 1), ('shoot', 1), ('minor', 1), ('concession', 2), ('Premier', 1), ('Peng', 1), ('hoped', 1), ('encounter', 1), ('guards', 5), ('guns', 1), ('Sure', 1), ('arrived', 1), ('embassy', 1), ('machine-gun-toting', 1), ('blocks', 2), ('ambassador', 1), ('residence', 1), ('encircling', 1), ('discarded', 1), ('Uzi-model', 1), ('arms', 3), ('pistols', 1), ('contingent', 2), ('plainclothes', 1), ('unmarked', 1), ('soldiers', 1), ('*T*-246', 1), ('protests', 3), ('rifles', 2), ('diplomats', 1), ('clicked', 1), ('loaded', 2), ('Firms', 1), ('Lure', 1), ('Science', 1), ('Graduates', 1), ('accusing', 1), ('jeopardizing', 1), ('barking', 1), ('tree', 3), ('passing', 2), ('buck', 1), ('*T*-247', 1), ('everything', 2), ('volunteer', 1), ('unethical', 1), ('higher-salaried', 1), ('Unfortunately', 1), ('compensation', 3), ('impression', 1), ('harder', 5), ('visited', 1), ('*-149', 1), ('images', 1), ('changing', 3), ('perceptions', 1), ('salaries', 1), ('vacations', 2), ('accept', 3), ('Hiroshi', 1), ('Asada', 1), ('Barbara', 1), ('Earns', 1), ('Higher', 3), ('Ratings', 1), ('Than', 1), ('regrettable', 1), ('continually', 3), ('negatives', 1), ('liberals', 1), ('progressive', 1), ('Prof', 1), ('Ethel', 1), ('Klein', 1), ('puts', 2), ('professionals', 4), ('76', 1), ('favorable', 3), ('*T*-248', 1), ('voters', 5), ('disapprove', 1), ('spouse', 1), ('imply', 1), ('three-quarters', 1), ('85', 4), ('assumption', 3), ('distasteful', 1), ('newsworthy', 1), ('perpetuates', 1), ('insidious', 1), ('stereotyped', 1), ('perspective', 1), ('defined', 1), ('denominator', 1), ('Preston', 1), ('Birmingham', 1), ('Ala', 1), ('self-regulatory', 1), ('disciplined', 1), ('expelled', 3), ('*-150', 1), ('NASD', 7), ('fined', 18), ('*-151', 1), ('Fernando', 2), ('Vargas', 3), ('Marina', 1), ('del', 1), ('Rey', 1), ('*-152', 1), ('*-153', 1), ('telephone-information', 1), ('listing', 3), ('J.L.', 2), ('Henry', 4), ('I.', 1), ('Otero', 3), ('30,000', 4), ('improper', 1), ('*-154', 1), ('*T*-249', 1), ('unpublished', 2), ('*-155', 1), ('Biscayne', 2), ('Lauderhill', 1), ('Rosenblum', 2), ('Plantation', 1), ('10-day', 4), ('suspensions', 2), ('*T*-250', 1), ('*-156', 1), ('Triton', 3), ('Danville', 2), ('Delwin', 1), ('settlement', 6), ('admitting', 6), ('denying', 6), ('consented', 11), ('connection', 5), ('limited-partnership', 2), ('*-157', 1), ('Crane', 3), ('Mount', 1), ('Clemens', 1), ('Glenn', 3), ('escrow', 2), ('record-keeping', 2), ('Canepa', 3), ('two-week', 2), ('inaccurately', 1), ('inaccurate', 2), ('Weatherly', 1), ('principals', 2), ('Dell', 3), ('Eugene', 2), ('Keehn', 1), ('Northy', 1), ('Prater', 1), ('Mercer', 1), ('Island', 2), ('Wash.', 1), ('McFall', 2), ('Reached', 1), ('implication', 1), ('inappropriate', 2), ('timing', 1), ('rectified', 1), ('W.N.', 1), ('Whelen', 4), ('Georgetown', 2), ('Del.', 2), ('N.', 1), ('transacting', 2), ('differ', 1), ('meaning', 3), ('markup', 1), ('markdown', 3), ('*T*-251', 1), ('62%-owned', 2), ('Express', 19), ('timely', 1), ('requests', 1), ('Except', 1), ('Andrew', 2), ('Derel', 1), ('Adams', 1), ('Killeen', 1), ('Francis', 2), ('Angier', 1), ('Reddington', 1), ('Shores', 1), ('Anthony', 5), ('Arlington', 2), ('Stirlen', 1), ('7,500', 2), ('Fred', 3), ('Bonnell', 1), ('2,500', 4), ('Boorse', 1), ('Horsham', 1), ('Pa.', 6), ('Chiodo', 1), ('Camille', 1), ('Chafic', 1), ('Cotran', 1), ('25,000', 5), ('disgorge', 6), ('one-year', 6), ('Davis', 3), ('Colonsville', 1), ('Miss.', 2), ('200,000', 2), ('Jeffrey', 2), ('Gerard', 2), ('Dompierre', 1), ('Valrico', 1), ('Felten', 2), ('16,072', 1), ('Marion', 1), ('Stewart', 1), ('Spitler', 1), ('18,444', 1), ('*T*-252', 1), ('amounted', 3), ('parking', 2), ('ticket', 4), ('complaining', 1), ('sizable', 5), ('anybody', 1), ('Fishman', 1), ('Longwood', 1), ('Floyd', 1), ('Houston', 4), ('Bronx', 5), ('Amin', 1), ('Jalaalwalikraam', 1), ('Glenham', 1), ('60,000', 2), ('Knapp', 1), ('Deborah', 1), ('Renee', 1), ('Muscolina', 1), ('Palisades', 1), ('Park', 4), ('Najarian', 1), ('Minn.', 1), ('Norwick', 1), ('Nesconset', 1), ('Phipps', 1), ('Sr.', 1), ('Scott', 3), ('Rankin', 1), ('Mo.', 1), ('Leigh', 1), ('Sanderoff', 1), ('Gaithersburg', 1), ('Md.', 1), ('45,000', 3), ('12,252', 1), ('Sandra', 1), ('Ann', 2), ('Ridgefield', 1), ('Spence', 1), ('Aloha', 1), ('Ore.', 2), ('Mona', 1), ('Sun', 2), ('Jamaica', 3), ('Estates', 1), ('Swearingen', 1), ('Bew', 1), ('Wong', 1), ('Rabia', 1), ('Zayed', 1), ('Veselich', 1), ('Enright', 1), ('Rolling', 1), ('11,762', 1), ('Stuart', 1), ('Russel', 1), ('Glendale', 1), ('14,821', 1), ('Nilson', 1), ('Dahl', 2), ('Fountain', 1), ('82,389', 1), ('screwed', 1), ('breaking', 1), ('agents', 4), ('*-158', 1), ('reps', 1), ('compliance', 3), ('security-type', 1), ('stupid', 4), ('mistakes', 1), ('Cole', 1), ('Jackson', 1), ('Rita', 1), ('Rae', 1), ('Cross', 1), ('Denver', 1), ('Meinders', 1), ('2,000', 3), ('five-day', 1), ('eight-month', 1), ('Cutrer', 2), ('Baton', 2), ('Rouge', 2), ('La.', 1), ('one-month', 2), ('Karl', 1), ('Grant', 1), ('Hale', 1), ('Midvale', 1), ('Utah', 1), ('Clinton', 1), ('Hayne', 1), ('one-week', 1), ('Kane', 2), ('Coconut', 1), ('250,000', 1), ('Merrick', 1), ('Aurora', 2), ('Miller', 2), ('Randolph', 3), ('Pace', 1), ('90-day', 1), ('Brian', 1), ('Pitcher', 1), ('Russo', 1), ('Bridgeville', 1), ('15-day', 1), ('Orville', 1), ('Leroy', 1), ('Sandberg', 1), ('3,500', 2), ('Marchese', 1), ('Las', 3), ('Vegas', 3), ('Nev.', 3), ('Eric', 1), ('Monchecourt', 1), ('Gerhard', 1), ('Carson', 1), ('actively', 2), ('engaged', 2), ('fond', 1), ('blocked', 1), ('*-159', 1), ('emigrate', 1), ('computer-driven', 2), ('plays', 2), ('hurdles', 1), ('loom', 1), ('resist', 2), ('onslaught', 1), ('shrug', 1), ('furor', 3), ('marching', 2), ('abroad', 3), ('overlap', 1), ('American-style', 1), ('arbitrage', 22), ('*T*-253', 1), ('exploit', 1), ('11.6', 1), ('imagine', 1), ('racing', 1), ('Chicago-style', 1), ('scrutinizing', 3), ('*-160', 1), ('cope', 2), ('Makato', 1), ('Utsumi', 1), ('home-market', 1), ('Osaka', 1), ('wary', 2), ('forgotten', 1), ('leap', 1), ('bout', 1), ('foreign-led', 1), ('drove', 2), ('skyward', 1), ('*T*-254', 1), ('mechanisms', 1), ('operators', 2), ('suspend', 3), ('Maybe', 2), ('tightened', 1), ('index-related', 1), ('catch-up', 1), ('Salomon', 5), ('reaped', 1), ('chunk', 2), ('*T*-255', 1), ('Deryck', 1), ('Maughan', 2), ('*T*-256', 1), ('S.', 4), ('Wadsworth', 1), ('*T*-257', 1), ('ascribe', 1), ('futures-related', 1), ('strategies', 3), ('disruptive', 1), ('*RNR*-2', 5), ('liquid', 1), ('impact', 6), ('Index-arbitrage', 1), ('serves', 1), ('conduit', 1), ('attractions', 2), ('counter', 1), ('tapes', 1), ('unwind', 1), ('begins', 4), ('pegged', 2), ('privacy', 2), ('brokerage', 5), ('index-arbitrage', 6), ('*-161', 1), ('Barfield', 1), ('Assurance', 1), ('*T*-258', 1), ('manages', 1), ('#', 16), ('23.72', 1), ('Times-Stock', 2), ('100-share', 2), ('option', 5), ('*-162', 1), ('Traded', 1), ('Options', 3), ('FT-SE', 3), ('tenfold', 1), ('9,118', 1), ('4,645', 1), ('917', 1), ('index-options', 1), ('compares', 3), ('derivatives', 1), ('wage', 18), ('382-37', 1), ('compromise', 9), ('backed', 3), ('replete', 1), ('proponents', 2), ('Advocates', 1), ('90-cent-an-hour', 1), ('4.25', 2), ('hour', 7), ('opponents', 3), ('reflected', 4), ('Republicans', 1), ('bend', 1), ('*T*-259', 1), ('lifting', 1), ('four-year', 1), ('enacted', 2), ('*-163', 2), ('3.35', 2), ('2.65', 1), ('3.80', 1), ('smiles', 1), ('Pat', 2), ('Williams', 10), ('Mont', 1), ('*-164', 1), ('Marge', 1), ('Roukema', 2), ('acceptance', 2), ('subminimum', 2), ('administrations', 1), ('sought', 10), ('Adopting', 1), ('training-wage', 1), ('nickel', 3), ('diming', 1), ('Policy', 1), ('lately', 1), ('touted', 1), ('impart', 1), ('skills', 1), ('entrants', 1), ('Labor', 3), ('Democrats', 5), ('fought', 1), ('acceded', 1), ('insistence', 1), ('3.61', 1), ('Employers', 1), ('restriction', 2), ('*NOT*', 1), ('government-certified', 1), ('covers', 5), ('*T*-260', 1), ('unrestricted', 1), ('*-165', 1), ('Chamber', 2), ('mininum-wage', 1), ('impossible', 3), ('employers', 1), ('elimination', 1), ('Zenith', 2), ('Data', 2), ('Electronics', 2), ('534', 1), ('Navy', 2), ('microcomputers', 1), ('84-month', 1), ('Rockwell', 5), ('130.7', 1), ('Air', 6), ('Force', 3), ('AC-130U', 1), ('gunship', 2), ('replacement', 3), ('Marietta', 1), ('*-166', 1), ('29.9', 1), ('low-altitude', 1), ('navigation', 1), ('29.4', 1), ('intelligence', 2), ('Hahn', 21), ('mode', 1), ('gentle', 1), ('Can', 1), ('hard-charging', 1), ('Teddy', 1), ('Roosevelt', 1), ('62-year-old', 1), ('forest-product', 1), ('unsolicited', 1), ('3.19', 1), ('cold', 2), ('faced', 2), ('negotiated', 2), ('entice', 1), ('negotiating', 1), ('surrender', 1), ('tough', 2), ('completion', 3), ('opens', 1), ('war', 3), ('implies', 2), ('dilemma', 1), ('Given', 1), ('observers', 4), ('overpaying', 1), ('fold', 2), ('courage', 1), ('A.D.', 1), ('Correll', 2), ('pulp', 2), ('long-time', 1), ('Griffin', 1), ('WTD', 1), ('consensus', 2), ('insiders', 2), ('onto', 2), ('knew', 3), ('picked', 1), ('careful', 2), ('Polytechnic', 1), ('Assuming', 2), ('universities', 1), ('Strother', 1), ('researching', 1), ('willingness', 1), ('1970', 4), ('arrest', 1), ('protesters', 2), ('occupying', 1), ('impressed', 1), ('Pamplin', 2), ('fundraising', 1), ('enticed', 1), ('joining', 3), ('befuddled', 1), ('administrator', 4), ('transition', 3), ('swiftly', 3), ('demonstrating', 1), ('raw', 1), ('possessed', 1), ('son', 2), ('skipped', 1), ('classmates', 1), ('Moving', 1), ('graduated', 1), ('Phi', 1), ('Beta', 1), ('Kappa', 1), ('Kentucky', 1), ('doctorate', 1), ('physics', 2), ('retentive', 1), ('understatement', 1), ('photographic', 1), ('engineered', 1), ('turnaround', 2), ('Taking', 2), ('inherited', 1), ('recession-inspired', 1), ('building-products', 1), ('non-core', 1), ('vinyl', 1), ('checkbook', 1), ('refocusing', 1), ('repair', 3), ('remodeling', 1), ('new-home', 2), ('cycles', 1), ('formula', 1), ('9.5', 2), ('reins', 1), ('467', 1), ('attributes', 1), ('philosophy', 1), ('concentrating', 1), ('diversified', 4), ('impressive', 1), ('diversification', 1), ('match', 3), ('high-quality', 1), ('forest-products', 2), ('waters', 3), ('Kathryn', 1), ('McAuley', 1), ('House-Senate', 2), ('portions', 2), ('relies', 2), ('240', 2), ('guarantees', 5), ('stimulating', 2), ('appropriators', 2), ('Overseas', 1), ('initiatives', 5), ('contrasts', 1), ('provoked', 1), ('veto', 23), ('confined', 2), ('shaping', 1), ('authorizing', 1), ('appropriations', 25), ('decisive', 1), ('Appropriations', 2), ('reallocate', 1), ('Pentagon', 1), ('separately', 1), ('220', 1), ('planning', 2), ('Population', 1), ('portion', 4), ('warming', 1), ('African', 3), ('elephant', 1), ('draws', 1), ('variety', 3), ('amendments', 2), ('exemption', 2), ('airplane', 1), ('intriguing', 1), ('struggle', 2), ('sugar', 23), ('fate', 2), ('quota', 3), ('stripped', 1), ('Noriega', 1), ('regime', 1), ('30,537', 1), ('tons', 10), ('21-month', 1), ('reallocated', 1), ('23,403', 1), ('growers', 1), ('pound', 7), ('9.3', 1), ('Majority', 1), ('Whip', 1), ('Gray', 3), ('Pa', 1), ('English-speaking', 1), ('Caribbean', 3), ('Barbados', 1), ('conservative', 3), ('Californian', 1), ('Bolivia', 1), ('broadened', 1), ('Basin', 2), ('initiate', 1), ('powerful', 2), ('Hawaii', 2), ('Inouye', 2), ('upsetting', 1), ('allies', 1), ('instructed', 1), ('lobbyist', 1), ('abandon', 2), ('drafted', 1), ('insert', 1), ('waived', 1), ('supplemental', 1), ('anti-drug', 1), ('27.1', 1), ('airline', 13), ('flights', 2), ('leadership', 2), ('bounce', 1), ('17.3', 3), ('departments', 1), ('Beauty', 1), ('Takes', 1), ('Backseat', 1), ('Bridges', 1), ('EVERYONE', 1), ('AGREES', 1), ('bridges', 3), ('repaired', 1), ('disagreement', 2), ('ornamental', 1), ('railings', 4), ('crashing', 1), ('lose', 2), ('railing', 3), ('scenic', 1), ('planner', 1), ('prefer', 1), ('install', 2), ('F', 3), ('four-foot-high', 1), ('concrete', 2), ('slab', 1), ('openings', 2), ('Ind.', 1), ('arched', 1), ('G', 1), ('Bridge', 3), ('Garret', 1), ('teaches', 1), ('Earlham', 1), ('structure', 2), ('ugly', 1), ('bridge', 3), ('Charter', 1), ('Oak', 1), ('cast-iron', 1), ('medallions', 1), ('Compromises', 1), ('Citizens', 1), ('Peninsula', 1), ('upset', 3), ('floral', 1), ('Similarly', 3), ('highway', 1), ('sidewalk', 1), ('Tray', 1), ('Bon', 1), ('Drink', 1), ('Carrier', 1), ('Competes', 1), ('Cartons', 1), ('PORTING', 1), ('POTABLES', 1), ('Scypher', 1), ('Cup-Tote', 1), ('beverage', 1), ('carrier', 9), ('trays', 2), ('outlets', 2), ('resembles', 1), ('loops', 2), ('beer', 1), ('hang', 2), ('web', 1), ('tote', 1), ('cups', 1), ('Inventor', 1), ('Claire', 1), ('Marvin', 2), ('spilling', 1), ('Lids', 1), ('carriers', 1), ('acknowledges', 1), ('driver', 1), ('sunlight', 1), ('recyclable', 1), ('Spirit', 1), ('Perestroika', 1), ('Touches', 1), ('Design', 1), ('AN', 1), ('EXCHANGE', 1), ('designers', 3), ('promises', 2), ('gamut', 1), ('blender', 1), ('chairs', 1), ('Citicorp', 2), ('Carnegie-Mellon', 2), ('Leningrad', 1), ('Mutchin', 1), ('Droz', 2), ('sees', 2), ('learn', 1), ('corkscrews', 1), ('maybe', 1), ('Seed', 1), ('Jail', 1), ('Solution', 1), ('Fails', 1), ('Root', 1), ('IT', 1), (\"'S\", 1), ('TWO', 1), ('BIRDS', 1), ('Eggers', 3), ('architects', 1), ('propose', 1), ('grain', 15), ('house', 7), ('prisoners', 1), ('overcrowding', 1), ('preserving', 2), ('solutions', 1), ('cell', 3), ('Grain', 1), (\"'30s\", 1), ('walls', 1), ('tubular', 2), ('semicircular', 1), ('cells', 1), ('muster', 1), ('visits', 1), ('aesthetic', 1), ('famed', 1), ('architect', 2), ('pyramids', 2), ('Egypt', 2), ('vacant', 2), ('altered', 1), ('inmates', 1), ('upstate', 1), ('efficient', 3), ('USX', 23), ('fines', 4), ('penalty', 3), ('workplace', 1), ('employer', 4), ('Occupational', 2), ('Administration', 5), ('6.1', 2), ('Fairless', 3), ('mill', 1), ('penalties', 4), ('OSHA', 11), ('1,500', 3), ('electrical', 3), ('crane-safety', 1), ('citation', 1), ('covering', 2), ('Clairton', 2), ('coke', 1), ('electrical-safety', 1), ('Dole', 2), ('citations', 3), ('hazards', 4), ('resulted', 2), ('indifference', 1), ('severe', 3), ('Scannell', 2), ('deficiencies', 2), ('counteract', 1), ('Particularly', 1), ('flagrant', 1), ('failures', 2), ('properly', 1), ('injuries', 2), ('spite', 1), ('corporate-wide', 1), ('discrepancies', 3), ('evaluation', 1), ('cooperating', 1), ('corrected', 1), ('promised', 1), ('stiffer', 1), ('proved', 2), ('unwilling', 1), ('manpower', 1), ('removing', 1), ('safeguarding', 1), ('Anku', 1), ('contest', 1), ('Review', 1), ('Morrell', 1), ('meatpacking', 1), ('Brands', 1), ('Cincinnati', 2), ('contesting', 1), ('Due', 2), ('editing', 1), ('error', 1), ('edition', 3), ('Hallett', 1), ('mistakenly', 1), ('NRDC', 1), ('Natural', 1), ('Resources', 4), ('Homeless', 2), ('implied', 1), ('homelessness', 9), ('numbers', 5), ('mentally', 2), ('ill', 2), ('substance-abusing', 1), ('alcoholics', 1), ('causes', 4), ('complex', 5), ('quoting', 1), ('emphasized', 1), ('prevalance', 1), ('illness', 3), ('alcoholism', 1), ('examined', 2), ('multitude', 1), ('disorders', 4), ('psychiatric', 4), ('malnutrition', 1), ('chest', 1), ('cardiovascular', 1), ('infectious', 1), ('aftereffects', 1), ('assaults', 1), ('shelter', 2), ('elementary', 1), ('necessities', 1), ('nutrition', 1), ('cleanliness', 1), ('predispose', 1), ('consequence', 1), ('composed', 1), ('lacks', 2), ('adequate', 1), ('interactions', 1), ('defying', 1), ('generalizations', 1), ('possess', 1), ('Breakey', 1), ('M.D.', 3), ('Fischer', 1), ('Psychiatry', 1), ('Johns', 1), ('Hopkins', 1), ('Tulane', 1), ('Prof.', 2), ('Wright', 3), ('array', 1), ('thread', 1), ('poverty', 2), ('exhibits', 1), ('combination', 3), ('alcohol', 6), ('simultaneously', 1), ('housing', 1), ('disaffiliation', 1), ('welfare', 1), ('decay', 1), ('intimately', 1), ('connected', 2), ('persons', 4), ('Leighton', 1), ('Cluff', 1), ('quote', 1), ('regarded', 3), ('drop-in', 1), ('fear', 5), ('robbed', 1), ('deprivation', 1), ('scarcely', 1), ('unable', 3), ('fend', 1), ('yourself', 3), ('obviously', 2), ('pre-existing', 1), ('addiction', 1), ('cracks', 1), ('grim', 1), ('brutal', 1), ('escape', 1), ('drugs', 11), ('insanity', 1), ('R.D.', 1), ('Vos', 1), ('N.Y', 1), ('dismiss', 1), ('sentimental', 1), ('housing-assistance', 1), ('77', 2), ('sleeping', 1), ('Reagan-Bush', 1), ('bothered', 1), ('inverse', 1), ('logic', 2), ('namely', 3), ('consequences', 2), ('assertion', 2), ('Jenkins', 1), ('Cambridge', 2), ('sponsors', 1), ('chose', 1), ('Home', 2), ('Builders', 1), ('Bricklayers', 1), ('Allied', 2), ('Craftsmen', 1), ('insinuating', 1), ('self-serving', 1), ('crusade', 1), ('greed', 2), ('motive', 4), ('desire', 1), ('subscribe', 2), ('YMCA', 1), ('YWCA', 1), ('Catholic', 1), ('Charities', 2), ('USA', 1), ('nonprofit', 2), ('participated', 1), ('203', 2), ('underwent', 2), ('examinations', 1), ('Choose', 1), ('deprived', 1), ('families', 1), ('predict', 2), ('Thunderbird', 2), ('substitute', 1), ('Chivas', 1), ('Regal', 1), ('phobias', 1), ('depressions', 1), ('Ruth', 1), ('Cullowhee', 1), ('ROGERS', 1), ('COMMUNICATIONS', 1), ('175', 2), ('148.9', 1), ('153.3', 1), ('placement', 2), ('perpetual', 1), ('Perpetual', 1), ('retractable', 1), ('Rogers', 1), ('B', 1), ('conversion', 3), ('cable', 1), ('coupon', 7), ('leveraged', 7), ('buy-outs', 5), ('undesirable', 1), ('intrusion', 1), ('300-113', 1), ('supporters', 2), ('override', 1), ('brakes', 1), ('impede', 1), ('Hammerschmidt', 2), ('Ark', 1), ('Works', 1), ('impaired', 1), ('diminished', 2), ('airline-related', 1), ('overriding', 1), ('benefit', 5), ('amendment', 5), ('DeFazio', 1), ('criteria', 1), ('Traficant', 1), ('271-147', 1), ('occasionally', 2), ('dubbed', 1), ('labor-backed', 1), ('two-time-losers', 1), ('Lorenzo', 1), ('Follow-up', 1), ('Voice', 14), ('text', 4), ('broadcasting', 1), ('tune', 2), ('extensive', 2), ('reporter', 2), ('scholar', 1), ('broadcasts', 2), ('ordinary', 1), ('democracy', 3), ('cousins', 1), ('hither', 1), ('yon', 1), ('censorship', 2), ('outrageous', 1), ('propaganda', 3), ('propagandize', 1), ('neat', 1), ('propagandizes', 1), ('speeches', 1), ('briefings', 1), ('tours', 2), ('facilities', 3), ('publications', 2), ('sorts', 1), ('Propaganda', 1), ('beauty', 2), ('enables', 2), ('hear', 4), ('mind', 2), ('viewing', 1), ('dissemination', 4), ('absurd', 1), ('inform', 1), ('columns', 1), ('clipped', 1), ('refrigerator', 1), ('facts', 2), ('languages', 1), ('listeners', 1), ('first-rate', 1), ('184', 1), ('*-30', 1), ('1948', 2), ('scholars', 2), ('reporters', 4), ('texts', 2), ('VOA', 3), ('copying', 1), ('How', 3), ('copy', 3), ('photocopying', 1), ('short-wave', 1), ('transcribe', 1), ('Nor', 1), ('reprint', 1), ('Des', 3), ('Moines', 3), ('happened', 1), ('USIA', 12), ('absolute', 1), ('disseminate', 1), ('scholarly', 1), ('McCormick', 3), ('memo', 1), ('intend', 2), ('preclude', 1), ('plaintiffs', 4), ('disseminating', 1), ('domestically', 1), ('mentioned', 1), ('notwithstanding', 1), ('statutory', 1), ('designations', 1), ('credentials', 1), ('appearing', 1), ('requesting', 1), ('examine', 1), ('verbatim', 1), ('determine', 4), ('helpful', 3), ('disagreed', 1), ('Amendment', 2), ('proscribes', 1), ('abridging', 1), (\"O'Brien\", 2), ('prescribe', 1), ('duty', 3), ('assure', 1), ('scripts', 2), ('laboriously', 1), ('surreptitiously', 1), ('Xerox', 4), ('public-relations', 1), ('sends', 1), ('stuff', 1), ('conclude', 3), ('Section', 10), ('501', 1), ('Educational', 1), ('shall', 7), ('thanks', 1), ('photocopy', 1), ('trivial', 1), ('ought', 3), ('answered', 2), ('Z.', 1), ('Wick', 1), ('Gartner', 1), ('Tribune', 1), ('Ames', 1), ('Gordon', 3), ('McGovern', 12), ('Dorrance', 4), ('wield', 1), ('reshaping', 2), ('Herbert', 1), ('Baum', 9), ('53-year-old', 1), ('Edwin', 1), ('Harper', 5), ('dividing', 1), ('responsibilities', 3), ('successor', 8), ('searching', 1), ('food-industry', 1), ('reacted', 1), ('favorably', 1), ('3.375', 2), ('47.125', 2), ('McMillin', 3), ('Prudential-Bache', 5), ('oriented', 2), ('distant', 1), ('foods', 1), ('Freshbake', 1), ('biscuit', 1), ('operation', 3), ('Lazzaroni', 1), ('overproduction', 1), ('skill', 1), ('seasoned', 1), ('rapport', 1), ('Pepperidge', 2), ('Farm', 2), ('veteran', 2), ('mediocre', 1), ('dominated', 3), ('heirs', 1), ('pushed', 3), ('profitability', 4), ('343', 1), ('closing', 9), ('eliminating', 2), ('3,600', 1), ('disappointing', 3), ('impatient', 1), ('CEO', 1), ('succession', 1), ('retirement', 10), ('agenda', 2), ('repeatedly', 1), ('stay', 5), ('877,663', 1), ('pension', 5), ('244,000', 1), ('fringe', 1), ('nine-year', 1), ('5.7', 1), ('2.8', 3), ('274', 1), ('advocated', 1), ('convince', 1), ('worthiness', 1), ('tremendous', 1), ('duo', 1), ('naming', 2), ('bottom-line', 1), ('applaud', 1), ('exuded', 1), ('champions', 1), ('sitting', 1), ('guide', 1), ('PRIME', 2), ('RATE', 2), ('FUNDS', 1), ('overnight', 1), ('Source', 3), ('Fulton', 1), ('Prebon', 1), ('U.S.A', 1), ('DISCOUNT', 1), ('depository', 1), ('CALL', 1), ('MONEY', 1), ('collateral', 1), ('COMMERCIAL', 2), ('PAPER', 2), ('Motors', 5), ('Acceptance', 2), ('8.55', 2), ('8.25', 2), ('89', 2), ('119', 1), ('149', 1), ('7.80', 1), ('7.55', 1), ('270', 2), ('High-grade', 1), ('unsecured', 3), ('multiples', 1), ('8.65', 1), ('8.575', 1), ('8.50', 3), ('CERTIFICATES', 1), ('OF', 2), ('DEPOSIT', 1), ('8.07', 2), ('8.06', 1), ('7.95', 2), ('negotiable', 1), ('C.D.s', 1), ('Typical', 1), ('8.60', 1), ('8.35', 1), ('BANKERS', 1), ('ACCEPTANCES', 1), ('8.48', 1), ('8.30', 1), ('8.15', 1), ('Negotiable', 1), ('bank-backed', 1), ('LONDON', 2), ('LATE', 1), ('EURODOLLARS', 1), ('13\\\\/16', 1), ('11\\\\/16', 1), ('7\\\\/16', 2), ('3\\\\/8', 15), ('INTERBANK', 1), ('OFFERED', 1), ('RATES', 2), ('LIBOR', 1), ('quotations', 1), ('FOREIGN', 1), ('13.50', 1), ('4.875', 1), ('Switzerland', 4), ('indications', 1), ('lending', 2), ('location', 2), ('TREASURY', 1), ('BILLS', 1), ('Results', 1), ('7.78', 1), ('7.62', 1), ('HOME', 1), ('LOAN', 1), ('MORTGAGE', 2), ('CORP', 1), ('Freddie', 1), ('Mac', 1), ('Posted', 2), ('9.82', 1), ('mortgages', 5), ('adjustable', 2), ('Telerate', 8), ('NATIONAL', 1), ('ASSOCIATION', 1), ('9.75', 1), ('8.70', 1), ('6\\\\/2', 1), ('MERRILL', 1), ('LYNCH', 1), ('READY', 1), ('ASSETS', 1), ('TRUST', 1), ('8.64', 1), ('Annualized', 1), ('clashed', 1), ('S.I.', 1), ('Newhouse', 8), ('Advance', 1), ('Abrupt', 1), ('departures', 1), ('unheard', 1), ('empire', 2), ('evolved', 1), ('Si', 1), ('Sometimes', 2), ('gut', 1), ('unhappy', 2), ('800', 3), ('tenure', 2), ('brilliantly', 1), ('natural', 4), ('enjoyed', 1), ('spectacular', 1), ('smoothly', 1), ('succeeded', 2), ('Bennett', 1), ('Cerf', 1), ('1925', 1), ('Speculation', 4), ('Possible', 1), ('Susan', 2), ('Petersen', 2), ('Ballantine\\\\/Del', 1), ('Rey\\\\/Fawcett', 1), ('paperback', 1), ('Cheetham', 1), ('Century', 1), ('Hutchinson', 1), ('powerhouse', 1), ('Gottlieb', 1), ('Alfred', 3), ('Knopf', 2), ('Yorker', 1), ('most-likely-successor', 1), ('Joni', 1), ('Evans', 2), ('recruited', 1), ('Sonny', 1), ('Mehta', 2), ('divisions', 3), ('full-time', 2), ('less-than-brilliant', 1), ('rumored', 3), ('tall', 1), ('respected', 3), ('intimidate', 1), ('uttering', 1), ('Provided', 1), ('pretext', 2), ('guarding', 1), ('purse', 2), ('prerogatives', 3), ('specified', 3), ('Article', 10), ('species', 1), ('predicated', 1), ('interpretation', 4), ('clause', 7), ('erroneous', 1), ('unconstitutional', 10), ('Consequence', 1), ('Law', 4), ('omnipresent', 1), ('conceivable', 1), ('withhold', 2), ('Iran-Contra', 1), ('understand', 3), ('broadly', 1), ('construed', 1), ('emasculate', 1), ('presidency', 3), ('swallow', 1), ('separation', 4), ('powers', 6), ('supported', 3), ('framers', 3), ('Constitutional', 1), ('Convention', 1), ('1787', 1), ('ensure', 1), ('accountability', 1), ('unitary', 1), ('independence', 2), ('perform', 3), ('Confederation', 2), ('Articles', 1), ('contradict', 2), ('technically', 1), ('limitation', 1), ('placing', 2), ('leash', 1), ('deliberating', 1), ('breathtaking', 1), ('rewrite', 2), ('containing', 1), ('alternatively', 1), ('declaring', 3), ('intrusions', 1), ('violation', 2), ('void', 1), ('severable', 2), ('appointments', 3), ('nominate', 2), ('Advice', 1), ('Consent', 1), ('appoint', 1), ('ambassadors', 1), ('empowers', 1), ('recess', 2), ('Power', 1), ('Vacancies', 1), ('Recess', 1), ('granting', 1), ('Commissions', 1), ('End', 1), ('Session', 1), ('605', 2), ('appropriation', 1), ('filling', 2), ('nomination', 5), ('Thus', 3), ('repeals', 1), ('imposes', 1), ('choosing', 3), ('rider', 3), ('nominee', 1), ('Anti-Deficiency', 1), ('voluntary', 1), ('muzzling', 1), ('recommendation', 1), ('Muzzling', 1), ('blindfold', 1), ('recommending', 1), ('discretion', 1), ('select', 1), ('inquiring', 1), ('market-oriented', 1), ('regulations', 2), ('Probably', 1), ('egregious', 1), ('proviso', 1), ('prevents', 2), ('Office', 1), ('Budget', 1), ('subjecting', 1), ('agricultural', 3), ('cost-benefit', 1), ('inherently', 1), ('prohibiting', 1), ('wasted', 1), ('Perhaps', 2), ('illustrates', 1), ('usurp', 1), ('609', 1), ('executive-office', 1), ('implement', 2), ('administer', 1), ('disapproved', 1), ('*-58', 1), ('disapproval', 1), ('duly', 2), ('accordance', 1), ('applicable', 1), ('execution', 4), ('one-house', 1), ('bicameral', 1), ('presentation', 1), ('signature', 1), ('INS', 1), ('v.', 3), ('Chadha', 1), ('vetoes', 1), ('kinds', 2), ('discharge', 2), ('invite', 1), ('purposes', 1), ('custom', 1), ('undo', 1), ('then-Speaker', 1), ('Mikhail', 1), ('Gorbachev', 3), ('ratified', 1), ('SALT', 1), ('unworkable', 1), ('unfunded', 1), ('assert', 1), ('excision', 4), ('restricting', 1), ('expressly', 1), ('Excision', 1), ('riders', 1), ('trespass', 1), ('prerogative', 1), ('line-item', 10), ('context', 1), ('characterized', 1), ('constitutional', 4), ('objectionable', 1), ('conflict', 1), ('applicability', 1), ('item', 1), ('exerting', 1), ('downside', 1), ('asserts', 1), ('establish', 2), ('sue', 1), ('vindication', 2), ('entrusted', 2), ('loses', 1), ('Morrison', 1), ('Olson', 1), ('electorate', 1), ('valuable', 1), ('civics', 1), ('presumes', 1), ('Federalist', 1), ('legislature', 1), ('extending', 2), ('impetuous', 1), ('vortex', 1), ('Sidak', 1), ('analysis', 2), ('Duke', 2), ('droughts', 2), ('59.9', 2), ('57.7', 1), ('farmers', 16), ('pockets', 2), ('deducting', 1), ('gross', 1), ('drought', 7), ('crop', 10), ('farm', 7), ('Midwestern', 3), ('Corn', 2), ('northern', 2), ('Plains', 3), ('saved', 1), ('reclaim', 1), ('crops', 3), ('mortgaged', 1), ('price-support', 1), ('soaring', 1), ('reclaimed', 1), ('240-page', 1), ('parched', 1), ('profited', 1), ('hardest-hit', 1), ('Nebraska', 2), ('Dakotas', 1), ('attributed', 6), ('disaster-assistance', 1), ('confirms', 1), ('depression', 1), ('helps', 1), ('reluctance', 1), ('lobbies', 1), ('curtailed', 1), ('land-idling', 1), ('price-depressing', 1), ('surpluses', 1), ('wheat', 2), ('corn', 19), ('strengthened', 1), ('Keith', 1), ('Collins', 2), ('Farmers', 2), ('livestock', 1), ('cattle', 1), ('inventory', 1), ('agriculture', 1), ('6.5', 2), ('3.4', 1), ('Minnesota', 2), ('2.7', 3), ('log', 1), ('disaster', 1), ('relief', 2), ('farms', 1), ('cultivation', 1), ('soybeans', 1), ('cushioned', 1), ('14.5', 1), ('16.7', 3), ('Payments', 1), ('struggling', 3), ('Herald', 13), ('Examiner', 3), ('Hearst', 13), ('unsuccessful', 2), ('238,000-circulation', 1), ('exceeding', 2), ('700,000', 1), ('second-largest', 4), ('one-newspaper', 1), ('senses', 1), ('Times', 4), ('dominates', 1), ('Orange', 4), ('Register', 2), ('300,000', 1), ('170,000', 1), ('Nearby', 1), ('Pasadena', 1), ('Long', 2), ('Beach', 2), ('dailies', 2), ('attempted', 2), ('McCabe', 1), ('materialized', 1), ('stream', 1), ('tire-kickers', 1), ('lookee-loos', 1), ('prospective', 2), ('newsstand', 1), ('freeway', 1), ('inevitable', 1), ('sprawling', 1), ('balkanized', 1), ('mammoth', 1), ('limbo', 1), ('torn', 1), ('editorially', 2), ('old-time', 1), ('readership', 1), ('blue-collar', 1), ('sports-oriented', 1), ('sprightly', 1), ('upscale', 3), ('staid', 1), ('flirted', 1), ('tabloid', 2), ('News-American', 1), ('folded', 1), ('Herald-American', 1), ('cornerstones', 1), ('abandoned', 3), ('marginally', 2), ('fanciful', 1), ('Julia', 1), ('castle', 1), ('Simeon', 1), ('Spanish', 1), ('Renaissance-style', 1), ('condition', 2), ('survivor', 1), ('bygone', 1), ('Kendrick', 1), ('Noble', 1), ('Actually', 1), ('deterioration', 2), ('looks', 1), ('1903', 1), ('bitter', 2), ('decade-long', 1), ('1967', 1), ('Financially', 1), ('recovered', 2), ('moments', 1), ('Bellows', 1), ('brightened', 1), ('Dolan', 1), ('restored', 1), ('limping', 1), ('accomplishments', 1), ('notable', 1), ('consistently', 2), ('much-larger', 1), ('disclosures', 1), ('Bradley', 3), ('dealings', 4), ('coverage', 1), ('arts', 1), ('criticism', 1), ('Danzig', 1), ('Newspapers', 1), ('newsroom', 2), ('730', 1), ('long-tenured', 1), ('Hours', 1), ('representatives', 1), ('recruiting', 1), ('emotional', 1), ('crying', 1), ('L.A.', 1), ('headline', 1), ('beers', 1), ('drunk', 1), ('Andy', 1), ('Furillo', 1), ('preference', 2), ('Outside', 1), ('pressman', 1), ('headlined', 1), ('Closes', 1), ('Forget', 1), ('handed', 1), ('Olympia', 1), ('Broadcasting', 1), ('1.64', 2), ('23.4', 1), ('radio-station', 1), ('programmer', 1), ('lenders', 1), ('Buick', 18), ('slogan', 1), ('beleaguered', 1), ('promotion', 10), ('boosting', 1), ('encouraging', 2), ('four-day', 1), ('begun', 2), ('explaining', 1), ('disclose', 1), ('approached', 1), ('doctor', 1), ('broaden', 1), ('Traditionally', 1), ('*-66', 1), ('entertainment', 1), ('Phillip', 1), ('Riese', 3), ('car-care', 1), ('gasoline', 2), ('truth-in-lending', 1), ('GM', 2), ('GMAC', 4), ('billing', 1), ('considers', 3), ('direct-mail', 2), ('marketers', 1), ('maximize', 2), ('capability', 1), ('nameplate', 2), ('screened', 1), ('card-member', 1), ('incomes', 1), ('missed', 1), ('3.8', 4), ('preapproved', 1), ('6.9', 2), ('Visa', 1), ('cards', 1), ('tie-in', 1), ('Express-Buick', 1), ('establishment', 2), ('responsible', 3), ('accommodations', 1), ('tickets', 2), ('meals', 1), ('Destinations', 1), ('Honolulu', 1), ('Orlando', 1), ('buyer', 6), ('chooses', 2), ('fly', 2), ('destination', 1), ('companion', 1), ('Airlines', 5), ('lieu', 1), ('prizes', 2), ('clock', 1), ('stereo', 1), ('recorder', 1), ('Card', 1), ('sweepstakes', 1), ('test-drive', 1), ('calculator', 1), ('travel-related', 1), ('round-trip', 1), ('Trans', 1), ('Riviera', 2), ('luxury', 2), ('interest-rate', 3), ('borough', 1), ('cancellation', 2), ('Borough', 1), ('Hammersmith', 5), ('Fulham', 2), ('gilt', 1), ('recovering', 1), ('Gilts', 1), ('retraced', 1), ('600', 3), ('soured', 1), ('accounted', 1), ('sterling', 1), ('engage', 2), ('betting', 1), ('obligated', 2), ('swaps', 2), ('Hazell', 1), ('auditor', 1), ('councils', 4), ('vested', 1), ('capital-markets', 2), ('persuasive', 1), ('solicitor', 1), ('Already', 1), ('Barclays', 1), ('Midland', 1), ('Citibank', 1), ('avenues', 1), ('illegality', 1), ('recover', 2), ('arrangements', 1), ('aftermath', 2), ('gut-wrenching', 1), ('190-point', 1), ('Kidder', 4), ('Peabody', 3), ('1,400', 1), ('stockbrokers', 3), ('letter-writing', 1), ('quashing', 1), ('wrath', 1), ('minicrash', 1), ('shaken', 1), ('resentment', 1), ('lightning-fast', 1), ('baskets', 2), ('reeling', 1), ('reap', 1), ('academics', 1), ('labeled', 2), ('evil', 4), ('exacerbated', 1), ('ascendency', 1), ('Guard', 10), ('consisting', 1), ('wizards', 1), ('immense', 1), ('pools', 1), ('fast-growing', 2), ('Defending', 1), ('ramparts', 1), ('stock-picking', 1), ('tens', 1), ('clannish', 1), ('successfully', 1), ('mobilizing', 1), ('bludgeon', 1), ('tormentors', 1), ('layer', 1), ('gigantic', 1), ('crapshoot', 1), ('refuse', 2), ('practitioners', 2), ('broad-based', 1), ('livelihood', 1), ('Neuberger', 6), ('Berman', 2), ('racket', 2), ('palace', 1), ('revolt', 1), ('Wohlstetter', 1), ('Contel', 3), ('rallying', 1), ('anti-program', 1), ('countless', 1), ('universally', 1), ('Kill', 1), ('consistent', 1), ('wedded', 1), ('waited', 1), ('sneaked', 1), ('conceding', 1), ('headed', 1), ('curbed', 1), ('casino', 2), ('civil', 1), ('contradictions', 1), ('pitting', 1), ('floors', 1), ('Corporations', 2), ('denounce', 2), ('premier', 1), ('entrenched', 1), ('tooth', 1), ('nail', 1), ('basket', 7), ('facilitate', 1), ('Again', 1), ('theme', 1), ('greedy', 1), ('manipulators', 1), ('shambles', 1), ('free-enterprise', 1), ('gambling', 1), ('den', 1), ('odds', 1), ('stacked', 1), ('Off-Track', 1), ('Betting', 1), ('Brean', 2), ('portray', 1), ('old-fashioned', 1), ('pickers', 4), ('Neanderthals', 1), ('witches', 1), ('boogieman', 1), ('Advanced', 2), ('unknown', 1), ('beg', 1), ('computer-assisted', 2), ('momentary', 1), ('divergence', 1), ('occurs', 2), ('constitute', 1), ('whichever', 1), ('cheaper', 5), ('seconds', 1), ('razor-thin', 1), ('seize', 2), ('movements', 2), ('profess', 1), ('despise', 1), ('frightened', 1), ('lotter', 1), ('Zicklin', 1), ('iota', 1), ('Vanderbilt', 2), ('Hans', 1), ('Stoll', 2), ('Volatility', 2), ('unraveling', 1), ('6.79', 2), ('UAL', 16), ('Unable', 1), ('unload', 1), ('takeover-stock', 1), ('arbitragers', 1), ('blue-chip', 3), ('halted', 2), ('Del', 1), ('Signore', 1), ('Travelers', 4), ('speculator', 1), ('arbs', 1), ('overleveraged', 1), ('apart', 1), ('traditionalists', 1), ('bundles', 1), ('derisively', 1), ('jockeys', 1), ('Traditional', 1), ('manage', 1), ('benchmarks', 1), ('old-style', 1), ('juggle', 1), ('indexers', 2), ('pennies', 1), ('pension-fund', 1), ('automated', 1), ('threatens', 1), ('dinosaurs', 1), ('stock-specialist', 1), ('virtue', 2), ('monopoly', 1), ('knell', 1), ('nonetheless', 1), ('striving', 1), ('dislike', 2), ('printers', 1), ('spooked', 1), ('swings', 5), ('Small', 2), ('absolutely', 2), ('dismayed', 1), ('stacking', 1), ('deck', 1), ('scaring', 1), ('Raymond', 1), ('broker', 2), ('Legg', 2), ('Stockbrokers', 1), ('71,309', 1), ('resent', 1), ('transformed', 2), ('*-75', 1), ('nameless', 1), ('Index', 9), ('complains', 2), ('Sigler', 2), ('Champion', 2), ('sweatshirts', 1), ('sparkplugs', 1), ('Oh', 1), ('bloods', 1), ('Brothers', 3), ('publicity', 1), ('orchestrated', 1), ('strategy', 8), ('hunker', 1), ('lynch-mob', 1), ('psychology', 3), ('cow', 1), ('gored', 1), ('proven', 1), ('Too', 2), ('fastest-growing', 1), ('minted', 1), ('millionaires', 1), ('20s', 1), ('30s', 1), ('anti-programmers', 2), ('thunder', 1), ('Sit', 1), ('jeopardy', 1), ('unlikely', 1), ('anytime', 2), ('genie', 1), ('*-77', 1), ('Short', 1), ('middle-ground', 1), ('enjoy', 1), ('margin', 6), ('good-faith', 1), ('potentially', 1), ('speculative', 4), ('chase', 1), ('Crash', 1), ('protects', 1), ('relentlessly', 1), ('sellers', 2), ('destroy', 1), ('efficiency', 1), ('Fundamentalists', 1), ('Jihad', 2), ('stock-price', 1), ('band-wagon', 1), ('picks', 1), ('impetus', 1), ('practiced', 1), ('locations', 1), ('widgets', 2), ('widget', 7), ('constantly', 3), ('performing', 2), ('Few', 2), ('index-fund', 2), ('leveraging', 1), ('owning', 1), ('cheapest', 1), ('fundamental', 3), ('vast', 1), ('fundamentalist', 2), ('contribute', 2), ('hysteria', 1), ('surrounding', 2), ('opportunities', 2), ('arise', 1), ('cumbersome', 1), ('desires', 1), ('inefficiencies', 2), ('evolve', 1), ('creature', 1), ('evoking', 1), ('curses', 1), ('implemented', 1), ('unneeded', 1), ('harmful', 1), ('Reducing', 1), ('sufficient', 1), ('Arbitrage', 2), ('responds', 1), ('initiating', 1), ('transfers', 2), ('functioning', 1), ('fundamentally', 1), ('ownership', 6), ('hypothetical', 1), ('sacrifice', 1), ('subtraction', 1), ('finite', 1), ('liquidity', 6), ('Eliminate', 1), ('cleaner', 2), ('loathsome', 1), ('tablets', 1), ('Encouraging', 1), ('cautious', 2), ('labeling', 1), ('Policies', 1), ('akin', 1), ('Buyers', 1), ('please', 1), ('ultimate', 3), ('sufficiently', 1), ('tolerate', 2), ('annualized', 1), ('deviation', 1), ('Periods', 1), ('advent', 1), ('undergoing', 1), ('1973-75', 1), ('1937-40', 1), ('1928-33', 1), ('scream', 1), ('hailing', 1), ('abounding', 1), ('Could', 1), ('deeds', 1), ('goblins', 1), ('fixes', 1), ('whipping', 1), ('boy', 1), ('wooing', 1), ('stock-selection', 1), ('bringing', 1), ('damaging', 1), ('Getting', 1), ('abolishing', 1), ('merits', 1), ('championing', 1), ('loudest', 1), ('cater', 1), ('advise', 1), ('commissions', 3), ('amass', 1), ('somehow', 1), ('noble', 1), ('expert', 4), ('studiously', 1), ('devouring', 1), ('clippings', 1), ('Almost', 1), ('guy', 1), ('invariably', 1), ('spreads', 1), ('surely', 2), ('mutual-fund', 1), ('sad', 1), ('stellar', 2), ('performers', 1), ('grapple', 1), ('*PPA*-3', 3), ('Cost-effective', 1), ('sexy', 1), ('roadblock', 1), ('*-82', 1), ('high-volume', 1), ('Legislating', 1), ('Left', 1), ('profitably', 2), ('Spreads', 1), ('temporary', 1), ('watchdogs', 1), ('friction', 1), ('two-tiered', 1), ('taxation', 1), ('etc.', 1), ('loser', 1), ('inviting', 1), ('transfer', 1), ('executes', 1), ('antitrust', 13), ('agencies', 4), ('affect', 2), ('filings', 6), ('mergers', 3), ('Brooks', 1), ('cuts', 4), ('FTC', 5), ('augment', 1), ('Rill', 1), ('Antitrust', 1), ('Division', 1), ('34', 2), ('appropriated', 1), ('offsetting', 3), ('Hart-Scott-Rodino', 1), ('notify', 1), ('completing', 1), ('Proponents', 1), ('Don', 1), ('Edwards', 2), ('stifle', 1), ('staffs', 1), ('drastically', 1), ('dismal', 1), ('inhibit', 1), ('Though', 1), ('acquirers', 1), ('noticed', 1), ('FALL', 1), ('BALLOT', 1), ('ISSUES', 1), ('off-year', 1), ('Odd-year', 1), ('ballot', 3), ('ratcheting', 1), ('referenda', 1), ('Patrick', 2), ('McGuigan', 2), ('Family', 2), ('Democracy', 1), ('citizen-sparked', 1), ('ballots', 1), ('odd-year', 1), ('Ballot', 2), ('Maine', 1), ('initiative', 1), ('Cruise', 3), ('missiles', 1), ('Dakota', 1), ('Schmidt', 1), ('Citizen', 1), ('Lawmakers', 2), ('Oklahoma', 2), ('cue', 1), ('backing', 2), ('Magleby', 1), ('Brigham', 1), ('PHOTOGRAPH', 1), ('COLLECTING', 1), ('Christie', 1), ('folio', 1), ('prints', 3), ('Stieglitz', 2), ('Equivalents', 1), ('396,000', 1), ('single-lot', 1), ('variables', 1), ('documented', 1), ('anecdotal', 1), ('Gates-Warren', 1), ('Sotheby', 1), ('museums', 1), ('stability', 3), ('Persky', 1), ('Photograph', 1), ('Collector', 1), ('masters', 1), ('Ray', 2), ('fetching', 1), ('Miles', 1), ('Barth', 1), ('Photography', 1), ('DIALING', 1), ('million-a-year', 1), ('Joel', 1), ('Gross', 1), ('caller', 1), ('celebrity', 1), ('chatter', 1), ('horoscopes', 1), ('lines', 5), ('Andrea', 1), ('tutorials', 1), ('Colleges', 1), ('eyeing', 1), ('break', 3), ('merchandising', 1), ('migrate', 1), ('predicts', 1), ('Lawless', 1), ('US', 1), ('Sprint', 1), ('FAMILY', 1), ('PETS', 1), ('recovery', 1), ('patients', 2), ('Hospital', 2), ('Milwaukee', 1), ('Patients', 1), ('canine', 1), ('feline', 1), ('blood', 3), ('appetite', 1), ('receptive', 1), ('therapy', 1), (\"O'Loughlin\", 1), ('coordinator', 1), ('TIRED', 1), ('TRIMMING', 1), ('Hammacher', 1), ('Schlemmer', 1), ('fiber-optic', 1), ('Christmas', 1), ('string', 1), ('6,500', 1), ('continuously', 1), ('colored', 1), ('fiber-end', 1), ('bunches', 1), ('MEDICINE', 1), ('TRANSPLANT', 1), ('prompts', 1), ('Israel', 3), ('bilingual', 1), ('Funded', 1), ('Tokio', 1), ('Marine', 11), ('Fire', 2), ('follow', 3), ('protocols', 1), ('preventative', 1), ('DIAPER', 1), ('SERVICES', 1), ('comeback', 1), ('Concerned', 1), ('shrinking', 1), ('landfills', 1), ('super-absorbent', 1), ('disposables', 1), ('cloth', 2), ('diaper', 4), ('Tiny', 1), ('Tots', 1), ('1,200', 1), ('Mogavero', 1), ('Piscataway', 1), ('Syracuse', 1), ('DyDee', 1), ('stresses', 1), ('awareness', 1), ('day-care', 1), ('spurned', 1), ('Diaper', 3), ('672', 1), ('inquiries', 1), ('Elisa', 1), ('Hollis', 1), ('shortages', 1), ('Stork', 1), ('Springfield', 1), ('spurring', 1), ('Velcro', 1), ('fasteners', 2), ('pins', 2), ('BRIEFS', 1), ('57.6', 1), ('Yorkers', 1), ('viewership', 1), ('Impact', 1), ('Columbus', 1), ('FreudToy', 1), ('pillow', 1), ('likeness', 1), ('Sigmund', 1), ('Freud', 1), ('marketed', 4), ('24.95', 1), ('tool', 1), ('do-it-yourself', 1), ('Egnuss', 3), ('doubts', 1), ('echoed', 1), ('quantity', 4), ('heading', 1), ('blames', 1), ('overvalued', 1), ('junk', 29), ('Arighi', 2), ('interior', 1), ('decorator', 1), ('Arnold', 2), ('spook', 1), ('creates', 2), ('deviant', 1), ('inherent', 2), ('curbing', 1), ('darned', 1), ('Schwab', 1), ('Buckhead', 1), ('skepticism', 1), ('Citing', 1), ('Anderson', 1), ('59-year-old', 1), ('fluctuations', 1), ('heebie-jeebies', 1), ('outlawing', 1), ('Wamre', 1), ('31-year-old', 1), ('disappear', 1), ('dealing', 1), ('decries', 1), ('limiting', 2), ('strictly', 1), ('denouncing', 2), ('capitalism', 1), ('adapting', 1), ('Britta', 1), ('25-year-old', 1), ('factoring', 1), ('immune', 2), ('rigors', 1), ('Silverman', 1), ('insurance-company', 1), ('culprit', 1), ('Arbitraging', 1), ('leery', 1), ('Enzor', 1), ('defends', 1), ('Taccetta', 2), ('accountant', 1), ('recouped', 1), ('flim-flammery', 1), ('weather', 3), ('storm', 1), ('Lucille', 1), ('Gorman', 2), ('84-year-old', 1), ('housewife', 1), ('amazingly', 1), ('jolts', 1), ('hunted', 1), ('bargains', 1), ('sky', 1), ('wholesaler', 1), ('spirits', 1), ('corporation', 2), ('Underwood', 2), ('Underwoods', 1), ('Researchers', 1), ('Laboratories', 2), ('current-carrying', 8), ('superconductor', 4), ('crystals', 5), ('crystal-lattice', 2), ('superconductors', 8), ('amps', 1), ('centimeter', 1), ('moderately', 2), ('magnetic', 3), ('yttrium-containing', 1), ('cooled', 2), ('liquid-nitrogen', 1), ('temperature', 1), ('321', 1), ('Fahrenheit', 1), ('journal', 1), ('Nature', 1), ('wires', 1), ('motors', 1), ('magnets', 1), ('generators', 1), ('Scientists', 1), ('Superconductors', 1), ('ceramic', 1), ('technologies', 1), ('generation', 1), ('aspect', 1), ('overcome', 2), ('cautioned', 2), ('van', 4), ('Dover', 4), ('multi-crystal', 3), ('samples', 4), ('practical', 1), ('crystal', 3), ('bombarding', 1), ('neutrons', 1), ('radioactivity', 1), ('feasible', 2), ('large-scale', 1), ('breathed', 1), ('collective', 1), ('sigh', 1), ('demonstrates', 1), ('flux', 1), ('pinning', 1), ('undercutting', 1), ('Determining', 1), ('enable', 1), ('combine', 1), ('melt-textured', 1), ('processes', 2), ('Walbrecher', 1), ('Francisco-based', 1), ('1st', 1), ('Nationwide', 1), ('Citadel', 3), ('Fidelity', 1), ('Taylor', 3), ('versus', 1), ('5.3', 1), ('1.61', 1), ('write-downs', 1), ('after-tax', 4), ('4.9', 1), ('45.75', 1), ('offerings', 1), ('pricings', 1), ('non-U.S.', 1), ('syndicate', 1), ('Markets', 5), ('750', 3), ('99', 5), ('8.467', 1), ('non-callable', 2), ('57', 2), ('1\\\\/8', 11), ('bellwether', 1), ('Rated', 1), ('triple-A', 2), ('Moody', 16), ('obligation', 3), ('distributable', 2), ('1991-2000', 1), ('2009', 9), ('tentatively', 6), ('6.20', 3), ('7.272', 3), ('81.8', 1), ('7.20', 1), ('Serial', 2), ('2000', 2), ('insured', 1), ('triple-A-rated', 1), ('Ana', 3), ('Community', 4), ('Redevelopment', 2), ('107', 2), ('allocation', 2), ('A-D', 1), ('1991-1999', 1), ('6.40', 3), ('7.458', 3), ('7.422', 1), ('7.15', 1), ('rated', 2), ('single-A', 1), ('underwriter', 6), ('Housing', 1), ('80.8', 1), ('6.25', 2), ('7.74', 2), ('2029', 3), ('30.9', 1), ('1992-1999', 1), ('2017', 2), ('Fourth', 1), ('serial', 1), ('7.40', 2), ('7.45', 1), ('7.50', 1), ('49.9', 1), ('2005', 2), ('Bonds', 2), ('7.65', 1), ('double-A', 1), ('rating', 14), ('Heiwado', 1), ('Eurobonds', 2), ('equity-purchase', 1), ('indicating', 2), ('Fees', 5), ('Svenska', 2), ('Intecknings', 1), ('Garanti', 1), ('Aktiebolaget', 1), ('Sweden', 1), ('1994', 3), ('6.03', 1), ('Handelsbanken', 1), ('Takashima', 1), ('Swiss', 5), ('francs', 3), ('Yamaichi', 1), ('3.43', 1), ('franc', 2), ('Pencil', 1), ('106', 1), ('3.42', 1), ('Koizumi', 1), ('Sangyo', 1), ('1996', 1), ('Dai-Ichi', 2), ('Kangyo', 2), ('Schweiz', 1), ('Guarantee', 1), ('Lurie', 1), ('avid', 1), ('fan', 1), ('proposition', 2), ('Candlestick', 3), ('wonder', 2), ('sink', 2), ('digs', 1), ('Pretty', 1), ('afford', 1), ('major-league', 1), ('Something', 1), ('stadiums', 2), ('ranging', 1), ('Petersburg', 1), ('boosters', 2), ('complexes', 1), ('moneymakers', 1), ('Pepperdine', 1), ('Dean', 1), ('Baim', 1), ('scoffs', 1), ('looked', 1), ('Dodger', 1), ('Stadium', 2), ('Stadiums', 1), ('redistribute', 1), ('wealth', 2), ('Voters', 1), ('mega-stadium', 1), ('ballpark', 3), ('Phoenix', 1), ('thumbs', 1), ('backers', 3), ('fielded', 1), ('concede', 1), ('polls', 1), ('endorse', 1), ('claimed', 2), ('spaces', 2), ('Dolphins', 1), ('Robbie', 2), ('disagrees', 1), ('city-owned', 1), ('Bowl', 1), ('coliseum', 1), ('Moon', 1), ('Landrieu', 1), ('cavernous', 1), ('money-losing', 1), ('Superdome', 2), ('relevance', 1), ('faith', 1), ('Egyptian', 1), ('Pharaoh', 1), ('justified', 1), ('civilization', 1), ('schemes', 1), ('pharaohs', 1), ('erect', 1), ('playgrounds', 1), ('passions', 1), ('Reed', 5), ('89.7', 1), ('141.9', 1), ('pence', 13), ('94.8', 1), ('149.9', 1), ('118', 2), ('130.6', 1), ('discontinued', 2), ('Pretax', 1), ('3.7', 4), ('128', 1), ('133', 1), ('135', 1), ('388', 1), ('4.6', 2), ('722', 1), ('Earnings', 2), ('disposal', 4), ('Risks', 1), ('erodes', 1), ('downgrading', 1), ('CS', 4), ('downgrade', 2), ('shivers', 1), ('shudders', 1), ('maintain', 2), ('issuers', 1), ('IOUs', 1), ('warned', 4), ('borrowings', 1), ('Mahoney', 2), ('Drexel', 13), ('Burnham', 5), ('Lambert', 5), ('difficulty', 1), ('shoring', 1), ('credit-rating', 1), ('financings', 5), ('Whereas', 1), ('structured', 1), ('penchant', 1), ('stretch', 1), ('disarray', 1), ('longer-term', 3), ('delays', 2), ('Bowman', 2), ('downgraded', 1), ('Catch-22', 1), ('Merchant', 1), ('riskier', 1), ('collapse', 3), ('acquires', 1), ('expectation', 1), ('generated', 1), ('overcapacity', 1), ('managements', 1), ('reliance', 1), ('squeeze', 3), ('Campeau', 2), ('proving', 3), ('arranged', 1), ('high-risk', 1), ('Mattress', 1), ('bedding', 1), ('Total', 2), ('Suisse', 1), ('participant', 1), ('rebounding', 1), ('overstated', 1), ('1.7', 2), ('goodwill', 2), ('competes', 2), ('disadvantage', 1), ('rivals', 1), ('toll', 1), ('settlements', 1), ('plea', 1), ('felonies', 1), ('insider-trading', 1), ('scandal', 4), ('workforce', 1), ('Recently', 1), ('circulated', 1), ('moreover', 1), ('confident', 1), ('creditworthiness', 1), ('uncertainties', 2), ('vicissitudes', 1), ('Veraldi', 5), ('Taurus', 2), ('Mercury', 2), ('Sable', 1), ('experiencing', 1), ('creator', 1), ('car-development', 1), ('midsized', 2), ('instrumental', 2), ('eclipse', 1), ('top-selling', 1), ('Team', 1), ('involvement', 1), ('assembly-line', 1), ('cycle', 1), ('bureaucracy', 2), ('responsive', 1), ('demands', 1), ('new-car', 1), ('Cougar', 1), ('American-made', 1), ('parts-engineering', 1), ('absurdity', 1), ('stretched', 1), ('notch', 1), ('defendants', 5), ('compassion', 1), ('Solomonic', 1), ('stark', 1), ('policy-making', 1), ('innovation', 1), ('compelling', 1), ('1940s', 1), ('synthetic', 2), ('hormone', 1), ('diethylstilbestrol', 1), ('DES', 9), ('miscarriages', 1), ('sickness', 1), ('Food', 3), ('Drug', 5), ('generic', 1), ('labels', 1), ('daughters', 2), ('mothers', 1), ('thousand', 1), ('recall', 1), ('brand', 1), ('Beginning', 1), ('1980', 1), ('common-law', 1), ('liable', 3), ('Courts', 1), ('pills', 1), ('assessed', 1), ('proportion', 1), ('duck', 1), ('liability', 3), ('identical', 1), ('slippery', 1), ('slope', 1), ('alike', 1), ('differently', 1), ('warranties', 1), ('Hymowitz', 3), ('Lilly', 1), ('Mindy', 1), ('pill', 3), ('Van', 2), ('Alstyne', 1), ('reasoning', 2), ('apple', 1), ('apples', 1), ('uncompensated', 1), ('takings', 1), ('guarantee', 2), ('twisting', 1), ('doctrine', 1), ('reversed', 1), ('justices', 3), ('chilled', 1), ('prescription', 1), ('hidden', 1), ('favors', 1), ('beneficial', 2), ('accompany', 1), ('pain', 1), ('unanimous', 1), ('anti-morning-sickness', 1), ('Bendectin', 1), ('Huber', 1), ('introduces', 1), ('anti-miscarriage', 1), ('tort', 1), ('lousy', 1), ('anyway', 1), ('contingency-fee', 1), ('vaccines', 1), ('predictably', 1), ('Everyone', 1), ('understands', 1), ('utterly', 1), ('incapable', 1), ('deserving', 1), ('billion-dollar', 1), ('morass', 1), ('trash', 1), ('Odyssey', 1), ('Limited', 2), ('Partnership', 2), ('Caldor', 2), ('Norwalk', 1), ('N.V', 1), ('DSM', 3), ('235', 1), ('guilders', 9), ('113.2', 1), ('6.70', 1), ('144', 1), ('4.10', 1), ('outlay', 1), ('2.46', 1), ('2.42', 1), ('Allergan', 2), ('PhacoFlex', 1), ('intraocular', 1), ('lens', 4), ('foldable', 1), ('silicone', 1), ('cataract', 3), ('surgery', 2), ('len', 1), ('foldability', 1), ('inserted', 1), ('incisions', 1), ('Cataracts', 1), ('refer', 1), ('clouding', 1), ('EC', 1), ('Ackerman', 5), ('harmed', 1), ('El', 3), ('Salvador', 1), ('intentioned', 1), ('habit', 2), ('wrecking', 1), ('incentives', 1), ('smothering', 1), ('unfocused', 2), ('kindness', 1), ('Elco', 2), ('estimate', 5), ('1.65', 3), ('7.8', 1), ('1.125', 2), ('13.625', 1), ('Oshkosh', 3), ('Truck', 2), ('Wis.', 1), ('4.5', 1), ('truck', 1), ('1.92', 1), ('352.9', 1), ('start-up', 2), ('chassis', 3), ('softer', 1), ('motor-home', 1), ('Deere', 1), ('anticipation', 2), ('larger-than-normal', 2), ('edged', 3), ('Nikkei', 2), ('selected', 2), ('132', 1), ('14.99', 1), ('35564.43', 1), ('63.79', 1), ('35500.64', 1), ('909', 1), ('Declining', 1), ('outnumbered', 1), ('454', 1), ('451', 1), ('incentive-backed', 1), ('rumors', 8), ('untrue', 1), ('ample', 2), ('directionless', 1), ('Institutions', 1), ('sidelines', 2), ('Topix', 1), ('16.05', 1), ('1.46', 1), ('0.05', 1), ('2691.19', 1), ('6.84', 1), ('5.92', 1), ('0.16', 1), ('3648.82', 1), ('Volume', 4), ('Nomura', 1), ('8.5', 3), ('clearer', 1), ('comfortably', 1), ('participate', 2), ('Tokyu', 1), ('profit-taking', 3), ('dominant', 1), ('Yasuda', 1), ('56', 1), ('1,880', 1), ('13.15', 1), ('continuingly', 1), ('directed', 1), ('mining', 1), ('defensive', 4), ('Teikoku', 1), ('stimulated', 1), ('1,460', 1), ('Showa', 1), ('Shell', 1), ('1,570', 1), ('Sumitomo', 1), ('Metal', 1), ('692', 1), ('Nippon', 2), ('960', 1), ('winners', 1), ('Shokubai', 1), ('2,410', 1), ('Marubeni', 1), ('890', 1), ('bolstered', 2), ('affecting', 1), ('17.5', 1), ('2160.1', 1), ('intraday', 1), ('2141.7', 1), ('2163.2', 1), ('tempted', 1), ('overdone', 1), ('reversal', 1), ('FT', 1), ('30-share', 1), ('1738.1', 1), ('372.9', 1), ('334.5', 1), ('hugging', 1), ('indication', 3), ('879', 1), ('13.90', 1), ('shed', 1), ('waive', 1), ('protective', 1), ('golden', 1), ('waiver', 1), ('B.A.T', 2), ('Goldsmith', 1), ('Hoylake', 2), ('Investments', 1), ('753', 1), ('sweeten', 1), ('highs', 2), ('397', 1), ('Stocks', 2), ('market-makers', 2), ('shopping', 1), ('Carlton', 1), ('778', 1), ('notched', 1), ('searched', 1), ('qualities', 1), ('Wellcome', 1), ('666', 1), ('Glaxo', 1), ('14.13', 1), ('Amsterdam', 1), ('Frankfurt', 3), ('Zurich', 1), ('Paris', 1), ('Brussels', 1), ('Milan', 1), ('holiday', 2), ('Elsewhere', 2), ('Wellington', 1), ('Sydney', 1), ('Manila', 1), ('calculated', 1), ('Perspective', 1), ('Geneva', 1), ('1969', 1), ('equaling', 1), ('Intermec', 1), ('1,050,000', 1), ('Piper', 1), ('Jaffray', 1), ('Hopwood', 1), ('Middlesex', 1), ('Water', 1), ('150,000', 1), ('Walker', 1), ('Howard', 1), ('Weil', 1), ('Labouisse', 1), ('Friedrichs', 1), ('Midwesco', 1), ('Filter', 1), ('830,000', 1), ('Nylev', 1), ('Municipal', 3), ('Occidental', 1), ('shelf', 1), ('Inns', 1), ('zero', 1), ('Montgomery', 1), ('Fracturing', 1), ('Lovett', 1), ('Mitchell', 1), ('Webb', 1), ('Garrison', 1), ('Blunt', 1), ('Ellis', 1), ('Loewi', 1), ('Gas', 2), ('3,250,000', 1), ('3,040,000', 1), ('210,000', 1), ('Funding', 1), ('Hanifen', 1), ('Imhoff', 1), ('Hold', 1), ('Putty', 1), ('lipsticks', 1), ('liners', 1), ('lotions', 1), ('creams', 1), ('tackle', 1), ('paint', 1), ('spackle', 1), (\"D'Amico\", 1), ('Diceon', 1), ('Chatsworth', 1), ('charging', 1), ('Irvine', 2), ('Calif.-based', 1), ('circuit-board', 1), ('disposed', 1), ('acid', 5), ('caustic', 1), ('sewer', 1), ('leaky', 1), ('unlabeled', 1), ('open-top', 1), ('containers', 1), ('Named', 1), ('Roland', 1), ('Matthews', 1), ('Jonas', 1), ('hearings', 2), ('inspection', 1), ('Arraignments', 1), ('Consumer', 2), ('stayed', 1), ('unsettling', 1), ('Fabian', 1), ('Linden', 2), ('Conference', 2), ('Survey', 1), ('industry-supported', 1), ('Confidence', 1), ('116.4', 1), ('barely', 1), ('revised', 1), ('116.3', 1), ('116.9', 1), ('112.9', 1), ('120.7', 1), ('present', 2), ('19.6', 2), ('18.3', 1), ('worsen', 1), ('Fewer', 1), ('21.1', 1), ('16.9', 1), ('17.4', 1), ('18.6', 1), ('26.8', 2), ('28.5', 1), ('day-to-day', 1), ('Unemployment', 1), ('paycheck', 1), ('reasonably', 1), ('households', 2), ('conducted', 1), ('Opinion', 1), ('Toledo', 2), ('Buying', 3), ('6.7', 1), ('respondents', 2), ('8.1', 2), ('2.9', 2), ('30.6', 1), ('27.4', 1), ('26.5', 1), ('deluge', 1), ('abuzz', 1), ('Kathleen', 1), ('Camilli', 1), ('fixed-income', 1), ('investment-grade', 5), ('rare', 1), ('Ednie', 1), ('ranked', 1), ('infrequent', 1), ('Syndicate', 1), ('scant', 1), ('Whether', 1), ('Lieberman', 2), ('Hanover', 1), ('blurred', 1), ('Open', 1), ('14.', 1), ('varied', 1), ('industries', 1), ('diverse', 1), ('enhances', 1), ('importance', 1), ('tomorrow', 6), ('non-farm', 1), ('152,000', 1), ('unemployment', 2), ('29year', 1), ('nine-month', 1), ('102', 2), ('22\\\\/32', 3), ('12\\\\/32', 1), ('16\\\\/32', 1), ('three-month', 2), ('7.79', 1), ('7.52', 1), ('7.60', 1), ('Issues', 3), ('debenture', 2), ('compilation', 1), ('compare', 1), ('topped', 1), ('16.5', 1), ('Junk', 1), ('7.2', 2), ('risk-free', 1), ('outdistanced', 1), ('Lonski', 1), ('wanting', 1), ('4.2', 2), ('Mortgage-Backed', 1), ('Ginnie', 2), ('2\\\\/32', 3), ('9.32', 1), ('12-year', 1), ('Activity', 1), ('derivative', 1), ('114', 1), ('Facilities', 1), ('Financing', 1), ('Authority', 1), ('relaunched', 1), ('107.03', 1), ('repriced', 1), ('Bucking', 1), ('drew', 1), ('unenthusiastic', 1), ('Rumors', 1), ('Bund', 1), ('111', 2), ('1998', 1), ('95.09', 1), ('5.435', 1), ('2003\\\\/2007', 1), ('14\\\\/32', 1), ('10.19', 1), ('1995', 1), ('9\\\\/32', 1), ('103', 1), ('11.10', 1), ('double-C', 1), ('triple-C', 1), ('clothing', 1), ('expense', 1), ('exceeds', 1), ('Hurricane', 4), ('Hugo', 4), ('94.2', 1), ('83', 1), ('earthquake', 3), ('fourth-quarter', 8), ('pre-tax', 1), ('property\\\\/casualty', 2), ('306', 1), ('415', 1), ('underperforming', 1), ('Michelin', 5), ('Tyre', 5), ('Monopolies', 1), ('Mergers', 1), ('tires', 1), ('BTR', 2), ('221.4', 1), ('S.A', 1), ('referral', 1), ('420', 1), ('clean-air', 4), ('unveil', 2), ('centerpiece', 1), ('rain', 5), ('lobbyists', 2), ('weaker', 3), ('emissions', 7), ('utilities', 8), ('chaos', 1), ('single-handed', 1), ('seven-million-ton', 1), ('sulfur-dioxide', 2), ('cap', 1), ('hailed', 1), ('despised', 1), ('innovative', 1), ('market-based', 1), ('polluters', 1), ('cost-sharing', 3), ('subsidize', 1), ('clean-up', 1), ('dirtiest', 2), ('coal-fired', 1), ('sparing', 1), ('exorbitant', 1), ('jumps', 1), ('sticking', 1), ('vow', 1), ('avoiding', 1), ('staunchly', 1), ('acid-rain', 3), ('appease', 1), ('high-polluting', 1), ('cleanup', 1), ('burn', 1), ('cleaner-burning', 1), ('fuels', 1), ('quietly', 1), ('devise', 2), ('tinker', 1), ('Journals', 1), ('Russell', 3), ('resign', 1), ('relocate', 1), ('co-founded', 1), ('Mo.-based', 1), ('Shaw', 2), ('E.W.', 1), ('Scripps', 1), ('nickname', 1), ('coordinate', 1), ('deliberately', 1), ('disconnect', 1), ('heightened', 1), ('routes', 1), ('scans', 1), ('resumes', 1), ('falls', 2), ('DOT', 1), ('Designated', 1), ('Order', 1), ('Turnaround', 1), ('high-speed', 1), ('processing', 2), ('SuperDot', 2), ('Used', 1), ('zip', 1), ('handles', 1), ('Contracts', 2), ('Obligations', 1), ('instrument', 1), ('agreed-upon', 1), ('nullified', 1), ('opposite', 1), ('Indexing', 1), ('mix', 3), ('barometer', 1), ('swapping', 1), ('simultaneous', 1), ('Quant', 1), ('Generally', 1), ('quantitive', 1), ('newest', 1), ('breed', 1), ('rocket', 1), ('backgrounds', 1), ('hedging', 1), ('popularly', 1), ('Stock-index', 3), ('Traders', 2), ('fleeting', 1), ('arbitrager', 1), ('multiplying', 1), ('20-stock', 1), ('mimics', 1), ('chicago', 1), ('certin', 1), ('indexes', 1), ('Uptick', 1), ('expression', 1), ('signifying', 1), ('financier', 2), ('Saul', 1), ('Steinberg', 8), ('doubted', 2), ('Reliance', 9), ('labor-management', 4), ('clearance', 2), ('Takeover', 2), ('puzzled', 1), ('definitely', 1), ('Wolf', 4), ('Airways', 1), ('300-a-share', 2), ('110', 1), ('4.7', 2), ('282', 1), ('formally', 2), ('twist', 1), ('Coniston', 2), ('177', 2), ('1.50', 1), ('notified', 1), ('skeptical', 3), ('tapping', 1), ('Tiger', 1), ('acquirer', 1), ('accord', 2), ('pilots', 1), ('machinists', 1), ('A.L.', 2), ('Primerica', 4), ('cleared', 1), ('472', 1), ('financial-services', 3), ('0.82', 3), ('delisted', 1), ('23.25', 1), ('28.25', 1), ('Duluth', 1), ('liabilities', 1), ('Intelogic', 5), ('Trace', 1), ('unaffiliated', 1), ('3.625', 1), ('Asher', 1), ('Edelman', 4), ('16.2', 1), ('computer-services', 1), ('oust', 1), ('Datapoint', 1), ('explore', 1), ('2.75', 1), ('specify', 3), ('above-market', 1), ('18-a-share', 1), ('p.m.', 1), ('EST', 1), ('576', 1), ('95', 1), ('24,000', 1), ('tendered', 3), ('19.50', 1), ('Barron', 1), ('printing-press', 1), ('Beall', 2), ('first-half', 2), ('trail', 1), ('heavy-truck', 1), ('passenger-car', 1), ('630.9', 1), ('126.1', 1), ('132.9', 1), ('prior-year', 1), ('adjustment', 1), ('B-1B', 2), ('bomber', 1), ('sewing-machine', 1), ('185.9', 1), ('3.28', 1), ('3.16', 1), ('Overall', 1), ('107.9', 1), ('96.4', 1), ('emerged', 1), ('muscling', 1), ('graphics', 2), ('singled', 1), ('79', 1), ('42.1', 1), ('Colorliner', 1), ('newspaper-printing', 1), ('Aerospace', 1), ('sagged', 1), ('bombers', 1), ('resumption', 1), ('shuttle', 1), ('expendable', 1), ('launch-vehicle', 1), ('engines', 1), ('hits', 1), ('fixed-price', 2), ('weapons-modernization', 1), ('C-130', 1), ('734.9', 1), ('811.9', 1), ('3.04', 1), ('2.47', 1), ('7.4', 1), ('2.30', 1), ('12.52', 1), ('11.95', 1), ('Austin', 1), ('Texas-based', 1), ('210', 1), ('512', 1), ('kilobytes', 1), ('40-megabyte', 1), ('monitor', 1), ('2,099', 1), ('more-advanced', 1), ('Intel', 2), ('386', 2), ('microprocessor', 1), ('megabytes', 1), ('100-megabyte', 1), ('5,699', 1), ('6,799', 1), ('Personal', 1), ('286', 1), ('microprocessors', 1), ('grower', 1), ('exporter', 5), ('ship', 6), ('Prices', 3), ('rumor', 2), ('Brazilian', 4), ('life-of-contract', 1), ('14.54', 1), ('14.28', 1), ('14.53', 1), ('0.56', 1), ('restraints', 1), ('0.54', 1), ('14.26', 1), ('permissible', 1), ('0.50', 1), ('14.00', 1), ('near-limit', 1), ('1989-90', 3), ('1990-91', 1), ('automobile', 1), ('Stevenson', 2), ('regardless', 1), ('third-largest', 1), ('fifth-largest', 1), ('shift', 2), ('drastic', 1), ('1988-89', 1), ('645,000', 2), ('Judith', 1), ('Ganes', 4), ('granted', 1), ('licenses', 1), ('planting', 1), ('orange', 1), ('trees', 1), ('cane', 1), ('Oxnard', 4), ('Hackensack', 1), ('am', 1), ('curtail', 2), ('Above', 1), ('confirm', 2), ('atmosphere', 1), ('ethanol', 1), ('fleet', 1), ('importer', 1), ('ENERGY', 2), ('1.25', 3), ('60.36', 1), ('gallon', 2), ('Gasoline', 2), ('Intermediate', 2), ('20.07', 1), ('firmness', 2), ('colder', 1), ('GRAINS', 1), ('AND', 1), ('SOYBEANS', 1), ('muted', 1), ('observance', 1), ('Saints', 1), ('Day', 1), ('Continued', 1), ('buys', 1), ('grains', 1), ('verge', 1), ('designation', 1), ('generous', 1), ('310', 2), ('bushels', 2), ('COPPER', 2), ('1.1650', 1), ('ignored', 1), ('Chilean', 2), ('mine', 2), ('Disputado', 1), ('mines', 2), ('Reuter', 1), ('Papua-New', 2), ('emergency', 1), ('copper-rich', 1), ('Bougainville', 3), ('copper', 4), ('inoperative', 1), ('native', 1), ('landowners', 1), ('secede', 1), ('Younkers', 6), ('Equitable', 4), ('Cos.', 1), ('36-store', 1), ('fair', 1), ('rang', 1), ('313', 1), ('Hubbell', 1), ('Tony', 5), ('Lama', 5), ('Equus', 4), ('13.65', 2), ('all-cash', 1), ('liquidation', 1), ('Paso', 1), ('boots', 1), ('leather', 1), ('accrue', 1), ('Reuters', 9), ('Reupke', 6), ('unspecified', 1), ('termed', 1), ('amicable', 1), ('27-year', 1), ('information-services', 1), ('several-year', 1), ('stemmed', 1), ('directorship', 1), ('eight-person', 1), ('Shepperd', 1), ('UBS', 1), ('Drew', 1), ('irrelevant', 1), ('913', 1), ('14.43', 1), ('43.875', 1), ('Nigel', 1), ('Judah', 1), ('Holland', 1), ('Mannix', 1), ('DD', 4), ('partnership', 5), ('Unicorp', 2), ('Kingsbridge', 1), ('Cara', 2), ('45-a-share', 1), (\"Dunkin'\", 4), ('Donuts', 1), ('50.1', 1), ('diluted', 2), ('poison', 2), ('Delaware', 1), ('Dunkin', 1), ('deter', 1), ('38.5', 1), ('receipt', 1), ('Savin', 3), ('35.2', 1), ('Conn.based', 1), ('magnified', 1), ('nonrecurring', 1), ('8.2', 1), ('asset-valuation', 1), ('adjustments', 1), ('85.7', 1), ('93.3', 1), ('softening', 2), ('Hadson', 2), ('natural-gas', 1), ('reserve', 1), ('reimbursed', 1), ('write', 2), ('exploration', 2), ('amortization', 1), ('169.9', 1), ('blue-chips', 1), ('brunt', 1), ('41.60', 1), ('500-Stock', 1), ('0.84', 1), ('341.20', 1), ('Equity', 1), ('0.99', 1), ('319.75', 1), ('Composite', 1), ('0.60', 1), ('188.84', 1), ('Advancing', 1), ('decliners', 1), ('154,240,000', 2), ('176.1', 1), ('subdued', 2), ('somewhat', 2), ('arrive', 1), ('firmed', 1), ('faltered', 1), ('pains', 1), ('Philip', 2), ('Puccio', 2), ('Uncertainty', 1), ('Arbitrage-related', 1), ('awaits', 1), ('reluctant', 1), ('stick', 1), ('necks', 1), ('Eakle', 2), ('revival', 2), ('Woolworth', 1), ('Avon', 2), ('Products', 1), ('Paramount', 1), ('Ferro', 1), ('Upjohn', 10), ('early-retirement', 1), ('AMR', 1), ('developer', 1), ('Trump', 2), ('mount', 1), ('withdrew', 1), ('120-a-share', 1), ('Derchin', 1), ('5.1', 1), ('Mead', 1), ('39', 2), ('Paper', 3), ('Louisiana-Pacific', 1), ('Texaco', 2), ('5.6', 1), ('ex-dividend', 1), ('Fe', 2), ('GenCorp', 4), ('Value', 1), ('1.56', 1), ('372.14', 1), ('11,390,000', 1), ('Spaghetti', 1), ('Warehouse', 1), ('Freeport-McMoRan', 5), ('convert', 1), ('adverse', 1), ('otherwise', 1), ('Orleans-based', 1), ('yet-to-be-formed', 1), ('entity', 2), ('liquidated', 2), ('distributed', 1), ('unitholders', 1), ('Unitholders', 1), ('cents-a-unit', 1), ('108', 1), ('Nissan', 4), ('88.32', 1), ('618.1', 1), ('77.6', 1), ('backdrop', 1), ('continuous', 1), ('40.21', 1), ('16.09', 1), ('28.36', 1), ('11.72', 1), ('1.916', 1), ('1.637', 1), ('seven-yen', 1), ('Atsushi', 1), ('Muramatsu', 1), ('experienced', 1), ('remarkable', 1), ('difficulties', 1), ('firmly', 1), ('Depending', 1), ('2.35', 1), ('14.75', 1), ('1.76', 2), ('in-store', 2), ('customized', 1), ('simulates', 1), ('accident', 2), ('unexpected', 1), ('Fairlawn', 1), ('Ohio-based', 2), ('full-year', 1), ('148', 1), ('2.19', 1), ('Harry', 1), ('Millis', 1), ('McDonald', 1), ('unanticipated', 1), ('government-owned', 1), ('assembly', 2), ('subcontractor', 1), ('cluster', 1), ('bombs', 1), ('Aerojet', 1), ('Ordnance', 1), ('Transamerica', 2), ('93.9', 1), ('1.19', 1), ('92.9', 1), ('1.18', 1), ('6.4', 1), ('RMS', 3), ('Hasbrouk', 1), ('waivers', 1), ('distributes', 1), ('produces', 1), ('literature', 1), ('displays', 1), ('158,666', 1), ('26,956', 1), ('608,413', 1), ('967,809', 1), ('8.9', 2), ('Meridian', 7), ('750,000', 2), ('1.35', 1), ('multinational', 1), ('Haden', 1), ('MacLellan', 1), ('Surrey', 1), ('Feniger', 1), ('acquisition-minded', 1), ('jeweler', 2), ('Seattle-based', 1), ('62.1', 1), ('outbid', 1), ('Ratner', 1), ('mid-afternoon', 1), ('1.26', 2), ('260', 1), ('acceptances', 1), ('87-store', 1), ('derived', 1), ('Carnival', 10), ('Lines', 2), ('cruise', 2), ('Finland', 3), ('averted', 1), ('Miami-based', 2), ('Waertsilae', 12), ('Finnish', 4), ('shipyard', 6), ('shipbuilding', 2), ('Fantasy', 1), ('2,050-passenger', 1), ('slated', 1), ('delivered', 5), ('12.09', 1), ('Nuys', 1), ('132,000', 1), ('write-off', 1), ('capitalized', 2), ('realestate', 1), ('6.6', 2), ('361.8', 1), ('Peoria', 1), ('adopt', 1), ('Kalamazoo', 1), ('Mich.-based', 1), ('severance', 1), ('staying', 1), ('Coleco', 3), ('high-flying', 1), ('toy', 1), ('peaked', 1), ('430', 1), ('92', 1), ('reorganized', 1), ('Ranger', 1), ('225,000', 1), ('unveiled', 3), ('Adam', 1), ('plagued', 1), ('glitches', 1), ('fortunes', 1), ('bounced', 1), ('Cabbage', 1), ('Patch', 1), ('dolls', 1), ('winner', 1), ('bankruptcy-law', 1), ('ORTEGA', 1), ('ENDED', 1), ('Contras', 2), ('Nicaraguan', 1), ('U.S.-backed', 1), ('rebels', 2), ('19-month-old', 1), ('cease-fire', 1), ('reaffirmed', 1), ('Ortega', 1), ('thwart', 1), ('balloting', 2), ('demobilize', 1), ('deplorable', 1), ('brushed', 1), ('renewing', 1), ('insurgents', 1), ('Contra', 1), ('Honduras', 1), ('Sandinista', 1), ('troops', 2), ('offensive', 1), ('rebel', 1), ('Krenz', 1), ('freedoms', 1), ('socialism', 1), ('Communist', 2), ('Party', 1), ('Thousands', 1), ('fled', 1), ('Berlin', 2), ('cross-border', 1), ('massive', 2), ('exodus', 2), ('emigres', 1), ('discussion', 2), ('conferees', 1), ('Africa', 1), ('armed', 1), ('Namibian', 1), ('nationalist', 1), ('guerrillas', 1), ('neighboring', 1), ('Angola', 1), ('violating', 1), ('U.N.-supervised', 1), ('peace', 1), ('territory', 1), ('Pretoria', 2), ('alert', 1), ('Guerrilla', 1), ('sabotage', 1), ('Namibia', 1), ('Gunmen', 1), ('Lebanon', 1), ('assassinated', 1), ('Arabian', 1), ('pro-Iranian', 1), ('Islamic', 1), ('slaying', 1), ('avenge', 1), ('beheading', 1), ('terrorists', 1), ('Riyadh', 1), ('Beirut', 1), ('Moslem', 1), ('implements', 1), ('rulers', 1), ('Salinas', 2), ('pledged', 1), ('modernization', 1), ('impeding', 1), ('Pakistan', 1), ('Bhutto', 1), ('defeated', 1), ('no-confidence', 1), ('42-year', 1), ('11-month-old', 1), ('votes', 2), ('Islamabad', 1), ('237-seat', 1), ('rigged', 1), ('shipboard', 1), ('Malta', 1), ('2-3', 1), ('tete-a-tete', 1), ('trafficking', 1), ('Andean', 1), ('coffee', 1), ('Pan', 1), ('Am', 1), ('subpoenaed', 1), ('CIA', 1), ('FBI', 1), ('bomb', 1), ('planted', 1), ('aboard', 1), ('exploded', 1), ('Scotland', 1), ('Died', 1), ('Attwood', 1), ('Mutual', 1), ('acute', 1), ('anemic', 1), ('tendering', 1), ('99.3', 1), ('studio', 2), ('3.55', 1), ('1.4', 1), ('unresolved', 1), ('Jon', 1), ('Peters', 1), ('Guber', 1), ('Guber\\\\/Peters', 2), ('Crum', 3), ('Forster', 3), ('laying', 1), ('centralized', 1), ('cost-cutting', 2), ('comparison', 2), ('492', 1), ('4.55', 1), ('12.97', 1), ('Property\\\\/casualty', 1), ('disasters', 1), ('Komatsu', 2), ('unconsolidated', 1), ('Sept.30', 1), ('16.68', 1), ('116.7', 1), ('12.68', 1), ('292.32', 1), ('263.07', 1), ('7.63', 1), ('5.82', 1), ('Per-share', 1), ('7.84', 1), ('6.53', 1), ('Brisk', 1), ('Domestic', 1), ('bulldozers', 1), ('142.84', 1), ('126.15', 1), ('Demand', 1), ('climb', 1), ('566.54', 1), ('28.53', 1), ('12.82', 1), ('ECONOMIC', 1), ('GROWTH', 1), ('APPEARS', 1), ('outlays', 1), ('shrank', 2), ('apparent', 1), ('drops', 1), ('crises', 1), ('55-a-share', 1), ('minimum-wage', 1), ('resigning', 1), ('depends', 1), ('Light', 1), ('1206.26', 1), ('220.45', 1), ('3436.58', 1), ('Commodities', 1), ('129.91', 1), ('0.28', 1), ('131.01', 1), ('1.17', 1), ('0.95', 1), ('0.0085', 1), ('Junk-bond', 1), ('markdowns', 2), ('fizzled', 1), ('pall', 1), ('high-rolling', 1), ('43-year-old', 1), ('Spiegel', 11), ('12.7', 1), ('Bears', 1), ('shaky', 1), ('flies', 1), ('planes', 1), ('reaching', 2), ('salable', 1), ('458', 1), ('cushion', 1), ('Carl', 2), ('Lindner', 1), ('Irwin', 1), ('Jacobs', 1), ('latter', 1), ('mulling', 1), ('mitigate', 1), ('distinct', 1), ('reserved', 1), ('227', 1), ('till', 1), ('issuer', 1), ('bust', 1), ('restructures', 1), ('longtime', 1), ('battered', 1), ('Gillett', 1), ('Possibly', 1), ('unrealized', 1), ('restructurings', 1), ('balloon', 1), ('floated', 1), ('Mellon', 1), ('shopped', 1), ('spun', 1), ('workable', 1), ('capitalize', 1), ('bread-and-butter', 1), ('Jonathan', 2), ('Sanford', 1), ('Pauline', 1), ('Yoshihashi', 1), ('NYSE', 1), ('Symbol', 1), ('CSV', 1), ('1.49', 1), ('Third', 1), ('11.57', 1), ('83,206', 1), ('Note', 1), ('per-share', 1), ('Genetics', 4), ('Interleukin-3', 4), ('bone', 5), ('morphogenetic', 2), ('protein', 1), ('recombinant', 1), ('DNA', 1), ('Sandoz', 1), ('preclinical', 1), ('treating', 3), ('marrow', 1), ('blood-cell', 1), ('protein-1', 1), ('induce', 1), ('formation', 1), ('cartilage', 2), ('BMP-1', 2), ('proteins', 2), ('compositions', 1), ('defects', 1), ('BMP', 2), ('fracture', 1), ('healing', 1), ('periodontal', 1), ('cancers', 1), ('Clarence', 1), ('qualified', 5), ('Judiciary', 1), ('liberal', 2), ('Equal', 1), ('Employment', 1), ('Opportunity', 1), ('Groups', 1), ('advocating', 1), ('narrowed', 2), ('discrimination', 1), ('Fourteen', 1), ('jurisdiction', 1), ('EEOC', 1), ('judgment', 1), ('Runkel', 1), ('nominees', 1), ('satisfactorily', 1), ('bench', 1), ('vacancy', 1), ('Metallgesellschaft', 2), ('Lentjes', 5), ('Ferdinand', 1), ('Germany-based', 1), ('specialized', 2), ('boilers', 1), ('pipes', 1), ('Lurgi', 1), ('G.m.b', 1), ('shedding', 1), ('434.4', 1), ('backlog', 2), ('rulings', 3), ('anti-dumping', 3), ('sweaters', 2), ('injuring', 1), ('investigate', 1), ('sweater', 1), ('defines', 1), ('ITC', 4), ('assess', 1), ('apparel', 1), ('agreements', 1), ('manmade-fiber', 1), ('405', 1), ('Wilmington', 1), ('neoprene', 1), ('rubber', 1), ('1,100', 2), ('implementation', 1), ('Theodore', 1), ('headcount-control', 1), ('questioned', 1), ('Gelles', 1), ('Wertheim', 1), ('Schroder', 1), ('trim', 1), ('275', 1), ('350', 1), ('21,000', 1), ('87.5', 1), ('38.875', 1), ('bidder', 1), ('shareholder-rights', 1), ('unwanted', 1), ('suitors', 1), ('cost-control', 1), ('staff-reduction', 1), ('trimmed', 1), ('INTER-TEL', 1), ('Chapman', 1), ('WayMar', 1), ('Feeding', 4), ('Frenzy', 4), ('Holt', 1), ('326', 1), ('19.95', 1), ('Wedtech', 13), ('reassuring', 1), ('preface', 1), ('co-author', 2), ('Sternberg', 2), ('integrity', 1), ('trip', 1), ('mindful', 1), ('plaintive', 1), ('high-minded', 1), ('assurance', 1), ('sticky', 1), ('fingers', 1), ('sweaty', 1), ('scammers', 3), ('Bribe', 1), ('bribe', 1), ('Matthew', 1), ('Harrison', 1), ('path', 1), ('traveled', 1), ('inception', 1), ('full-fledged', 1), ('vital', 1), ('Army', 5), ('revolves', 1), ('Mariotta', 4), ('rolling', 1), ('Johnson-era', 1), ('mandates', 1), ('noncompetitively', 1), ('ancestry', 1), ('born', 1), ('Puerto', 1), ('Rico', 1), ('falsify', 1), ('50\\\\/50', 1), ('races', 1), ('minority-owned', 1), ('blighted', 1), ('famous', 1), ('Jimmy', 1), ('Carter', 2), ('plugged', 1), ('rebuilding', 1), (\"'80s\", 1), ('Starting', 1), ('Congressman', 1), ('Mario', 1), ('Biaggi', 1), ('sentence', 1), ('bribing', 1), ('Wallach', 1), ('Attorney', 1), ('Meese', 1), ('fashioned', 1), ('bribery', 1), ('peddling', 1), ('politically', 1), ('respectable', 1), ('confidant', 1), ('Lyn', 1), ('Nofzinger', 1), ('bribed', 2), ('corrupt', 1), ('scheme', 1), ('bag', 1), ('crook', 1), ('befell', 1), ('semiliterate', 1), ('sensational', 1), ('revelations', 1), ('breezy', 1), ('easy-to-read', 1), ('gripping', 1), ('scams', 1), ('ingenuity', 1), ('Auditors', 1), ('crookery', 1), ('garden-variety', 1), ('lifes', 1), ('Mercedes', 1), ('clothes', 1), ('wrestling', 1), ('intelligent', 1), ('insane', 1), ('Irving', 1), ('Lobsenz', 1), ('pediatrician', 1), ('Rusty', 1), ('gambler', 1), ('blackjack', 1), ('arrested', 1), ('Absorbed', 1), ('doling', 1), ('tidbits', 1), ('gloss', 1), ('root', 1), ('auspices', 1), ('rigid', 1), ('affirmative', 1), ('Programs', 1), ('expressing', 1), ('thieves', 1), ('Numerous', 1), ('scandals', 1), ('HUD', 1), ('characteristics', 1), ('tailor-made', 1), ('insider', 1), ('whenever', 1), ('redistributing', 1), ('influencing', 1), ('brokering', 1), ('bloc', 1), ('Nomenklatura', 1), ('Stern', 1), ('Urban', 1), ('1983-85', 1), ('bankrupt', 1), ('Oy', 3), ('Everything', 1), ('Andersson', 1), ('finalized', 1), ('state-appointed', 1), ('receivers', 1), ('lease', 1), ('Subcontractors', 1), ('swift', 1), ('avert', 1), ('skilled', 1), ('shipyards', 1), ('injecting', 1), ('markkaa', 3), ('Customers', 1), ('undelivered', 1), ('170', 1), ('Helsinki', 1), ('dashed', 1), ('repay', 1), ('Nichol', 3), ('Karns', 2), ('Concurrent', 1), ('Norfolk', 1), ('sputtered', 1), ('Ralston', 6), ('Purina', 1), ('pet', 3), ('45.2', 1), ('84.9', 1), ('1.24', 1), ('422.5', 1), ('6.44', 1), ('387.8', 1), ('5.63', 1), ('70.2', 1), ('seafood', 1), ('5.8', 1), ('phase-out', 1), ('battery', 3), ('Hostess', 1), ('cake', 2), ('bakery', 1), ('rechargeable', 1), ('cadmium', 1), ('carbon', 1), ('zinc', 1), ('ingredients', 1), ('cereal', 1), ('Continental', 1), ('Baking', 1), ('bread', 1), ('Eveready', 1), ('80.50', 1), ('Companies', 1), ('five-cent', 1), ('percent', 1), ('Otherwise', 1), ('300-day', 1), ('55.1', 1), ('cash-and-stock', 1), ('Ravenswood', 1), ('corn-buying', 1), ('binge', 1), ('bottlenecks', 1), ('pipeline', 1), ('exporters', 5), ('river', 3), ('barges', 3), ('trains', 1), ('harvested', 1), ('ports', 2), ('loading', 1), ('barge', 3), ('Railroad', 2), ('reaping', 1), ('windfall', 1), ('gyrate', 1), ('scrounge', 1), ('strain', 1), ('Mississippi', 6), ('Dunton', 1), ('upper', 1), ('trimming', 1), ('tows', 1), ('south', 1), ('Corps', 4), ('Engineers', 2), ('Missouri', 3), ('feeds', 1), ('reservoirs', 1), ('Barge', 1), ('sank', 1), ('alleviate', 1), ('slowed', 1), ('Similar', 1), ('hamstrung', 1), ('budding', 1), ('logistical', 1), ('bushel', 4), ('2.375', 1), ('harvest', 4), ('rebuild', 1), ('stockpiles', 3), ('depleted', 1), ('winding', 1), ('speculating', 1), ('gather', 1), ('storage', 2), ('permits', 1), ('2.15', 1), ('Lyle', 1), ('Waterloo', 1), ('one-fifth', 1), ('Biedermann', 1), ('Allendale', 1), ('port', 1), ('Ports', 1), ('Lakes', 1), ('Coast', 1), ('relieve', 1), ('hauling', 1), ('compressed', 1), ('delayed', 1), ('refinery', 1), ('tightening', 1), ('Heating', 1), ('58.64', 1), ('19.94', 1), ('sell-off', 1), ('PRECIOUS', 1), ('METALS', 1), ('3.20', 1), ('377.60', 1), ('silver', 1), ('6.50', 1), ('5.2180', 1), ('platinum', 2), ('5.70', 1), ('494.50', 1), ('Precious', 1), ('influenced', 1), (\"O'Neill\", 1), ('Elders', 1), ('equities', 1), ('Silver', 2), ('warehouses', 1), ('170,262', 1), ('226,570,380', 1), ('miners', 1), ('1.20', 1), ('1.14', 1), ('Bronces', 1), ('Soldado', 1), ('Exxon-owned', 1), ('Minera', 1), ('Disputada', 1), ('Reasons', 1), ('walkout', 1), ('procedural', 1), ('metal', 3), ('upbeat', 1), ('mood', 1), ('precedes', 1), ('51.6', 1), ('readings', 1), ('47.1', 1), ('NCR', 1), ('Tower', 2), ('midrange', 1), ('networking', 1), ('hub', 1), ('Novell', 1), ('NetWare', 1), ('riding', 1), ('industrywide', 1), ('chunks', 1), ('Marcus', 1), ('appliance', 1), ('steelmakers', 3), ('Lorain', 1), ('50-50', 1), ('Kobe', 1), ('earning', 1), ('Bethlehem', 1), ('54', 1), ('Inland', 1), ('plummeted', 1), ('34.625', 1), ('exceeded', 1), ('projections', 1), ('Bradford', 1), ('richer', 1), ('pipe', 1), ('galvanized', 1), ('coated', 1), ('lower-priced', 1), ('structural', 1), ('Marathon', 1), ('198', 1), ('soliciting', 1), ('TXO', 1), ('Proceeds', 1), ('15.5', 1), ('257', 1), ('Icahn', 2), ('13.1', 1), ('721', 1), ('2.62', 1), ('598', 1), ('2.07', 1), ('Barrett', 1), ('Leon', 1), ('Level', 1), ('McFarlan', 1), ('DiLoreto', 1), ('container', 1), ('Delmont', 1), ('constitutional-law', 1), ('Professors', 1), ('Kurland', 2), ('Laurence', 1), ('Tribe', 2), ('procedure', 2), ('scuttle', 1), ('implicitly', 1), ('Kennedy', 2), ('professors', 2), ('spectrum', 1), ('authorizes', 1), ('partial', 1), ('Civil', 1), ('shared', 1), ('lawmaking', 1), ('supports', 1), ('reckless', 1), ('Trinity', 2), ('railcar', 1), ('platforms', 1), ('Trailer', 1), ('Train', 1)])"
      ]
     },
     "execution_count": 59,
     "metadata": {},
     "output_type": "execute_result"
    }
   ],
   "source": [
    "dist.items()"
   ]
  },
  {
   "cell_type": "code",
   "execution_count": 60,
   "metadata": {
    "scrolled": true
   },
   "outputs": [],
   "source": [
    "#df=pd.DataFrame.from_items(dist.items(),columns=['col1','col2'])"
   ]
  },
  {
   "cell_type": "code",
   "execution_count": 61,
   "metadata": {},
   "outputs": [
    {
     "data": {
      "text/plain": [
       "dict_items"
      ]
     },
     "execution_count": 61,
     "metadata": {},
     "output_type": "execute_result"
    }
   ],
   "source": [
    "type(dist.items())"
   ]
  },
  {
   "cell_type": "code",
   "execution_count": 62,
   "metadata": {},
   "outputs": [
    {
     "data": {
      "text/plain": [
       "['Pierre', 'Vinken', ',', '61', 'years', 'old', 'will', 'join', 'the', 'board']"
      ]
     },
     "execution_count": 62,
     "metadata": {},
     "output_type": "execute_result"
    }
   ],
   "source": [
    "vocab = dist.keys()\n",
    "list(vocab)[:10]"
   ]
  },
  {
   "cell_type": "code",
   "execution_count": 63,
   "metadata": {},
   "outputs": [
    {
     "data": {
      "text/plain": [
       "20"
      ]
     },
     "execution_count": 63,
     "metadata": {},
     "output_type": "execute_result"
    }
   ],
   "source": [
    "dist['four']"
   ]
  },
  {
   "cell_type": "markdown",
   "metadata": {},
   "source": [
    "#### How many times a large word occurs in the text corpus"
   ]
  },
  {
   "cell_type": "code",
   "execution_count": 64,
   "metadata": {},
   "outputs": [
    {
     "data": {
      "text/plain": [
       "['billion',\n",
       " 'company',\n",
       " 'president',\n",
       " 'because',\n",
       " 'market',\n",
       " 'million',\n",
       " 'shares',\n",
       " 'trading',\n",
       " 'program']"
      ]
     },
     "execution_count": 64,
     "metadata": {},
     "output_type": "execute_result"
    }
   ],
   "source": [
    "freqwords = [w for w in vocab if len(w)>5 and dist[w]>100]\n",
    "freqwords"
   ]
  },
  {
   "cell_type": "markdown",
   "metadata": {},
   "source": [
    "## Stemming and Lemmatization \n",
    "#### https://www.youtube.com/watch?v=p1ccbR2P_xA"
   ]
  },
  {
   "cell_type": "markdown",
   "metadata": {},
   "source": [
    "### Normalization and Stemming"
   ]
  },
  {
   "cell_type": "code",
   "execution_count": 65,
   "metadata": {},
   "outputs": [
    {
     "data": {
      "text/plain": [
       "['list', 'listed', 'lists', 'listing', 'listings']"
      ]
     },
     "execution_count": 65,
     "metadata": {},
     "output_type": "execute_result"
    }
   ],
   "source": [
    "input1 = \"List listed lists listing listings\"\n",
    "words1 = input1.lower().split(' ')\n",
    "words1"
   ]
  },
  {
   "cell_type": "code",
   "execution_count": 66,
   "metadata": {},
   "outputs": [
    {
     "data": {
      "text/plain": [
       "['list', 'list', 'list', 'list', 'list']"
      ]
     },
     "execution_count": 66,
     "metadata": {},
     "output_type": "execute_result"
    }
   ],
   "source": [
    "porter = nltk.PorterStemmer()\n",
    "[porter.stem(t) for t in words1]"
   ]
  },
  {
   "cell_type": "code",
   "execution_count": 67,
   "metadata": {},
   "outputs": [
    {
     "data": {
      "text/plain": [
       "['trouble', 'troubling', 'troubled', 'troubler']"
      ]
     },
     "execution_count": 67,
     "metadata": {},
     "output_type": "execute_result"
    }
   ],
   "source": [
    "input2 = \"Trouble troubling troubled troubler\"\n",
    "words2 = input2.lower().split(' ')\n",
    "words2"
   ]
  },
  {
   "cell_type": "code",
   "execution_count": 68,
   "metadata": {},
   "outputs": [
    {
     "data": {
      "text/plain": [
       "['troubl', 'troubl', 'troubl', 'troubler']"
      ]
     },
     "execution_count": 68,
     "metadata": {},
     "output_type": "execute_result"
    }
   ],
   "source": [
    "porter = nltk.PorterStemmer()\n",
    "[porter.stem(t) for t in words2]"
   ]
  },
  {
   "cell_type": "code",
   "execution_count": 69,
   "metadata": {},
   "outputs": [
    {
     "data": {
      "text/plain": [
       "['troubl', 'troubl', 'troubl', 'troubl']"
      ]
     },
     "execution_count": 69,
     "metadata": {},
     "output_type": "execute_result"
    }
   ],
   "source": [
    "lancast = nltk.LancasterStemmer()\n",
    "[lancast.stem(t) for t in words2]"
   ]
  },
  {
   "cell_type": "markdown",
   "metadata": {},
   "source": [
    "### Lemmatization"
   ]
  },
  {
   "cell_type": "code",
   "execution_count": 70,
   "metadata": {},
   "outputs": [
    {
     "name": "stdout",
     "output_type": "stream",
     "text": [
      "['Universal', 'Declaration', 'of', 'Human', 'Rights', 'Preamble', 'Whereas', 'recognition', 'of', 'the', 'inherent', 'dignity', 'and', 'of', 'the', 'equal', 'and', 'inalienable', 'rights', 'of']\n"
     ]
    }
   ],
   "source": [
    "udhr = nltk.corpus.udhr.words('English-Latin1')\n",
    "print(udhr[:20])"
   ]
  },
  {
   "cell_type": "code",
   "execution_count": 71,
   "metadata": {},
   "outputs": [
    {
     "name": "stdout",
     "output_type": "stream",
     "text": [
      "['Universal', 'Declaration', 'of', 'Human', 'Rights', 'Preamble', 'Whereas', 'recognition', 'of', 'the', 'inherent', 'dignity', 'and', 'of', 'the', 'equal', 'and', 'inalienable', 'right', 'of']\n"
     ]
    }
   ],
   "source": [
    "WNlemma = nltk.WordNetLemmatizer()\n",
    "print([WNlemma.lemmatize(t) for t in udhr[:20]])"
   ]
  },
  {
   "cell_type": "markdown",
   "metadata": {},
   "source": [
    "### Tokenization"
   ]
  },
  {
   "cell_type": "code",
   "execution_count": 72,
   "metadata": {},
   "outputs": [
    {
     "data": {
      "text/plain": [
       "['Children', \"shouldn't\", 'drink', 'a', 'sugary', 'drink', 'before', 'bed.']"
      ]
     },
     "execution_count": 72,
     "metadata": {},
     "output_type": "execute_result"
    }
   ],
   "source": [
    "text11 = \"Children shouldn't drink a sugary drink before bed.\"\n",
    "text11.split(' ')"
   ]
  },
  {
   "cell_type": "markdown",
   "metadata": {},
   "source": [
    "#### Note that not & . are separate tokens  (inorder to account for negations in the text)"
   ]
  },
  {
   "cell_type": "code",
   "execution_count": 73,
   "metadata": {},
   "outputs": [
    {
     "name": "stdout",
     "output_type": "stream",
     "text": [
      "['Children', 'should', \"n't\", 'drink', 'a', 'sugary', 'drink', 'before', 'bed', '.']\n"
     ]
    }
   ],
   "source": [
    "print(nltk.word_tokenize(text11))"
   ]
  },
  {
   "cell_type": "markdown",
   "metadata": {},
   "source": [
    "#### Note that not all . are end of sentence like in \"U.S.\" and \"2.99.\" "
   ]
  },
  {
   "cell_type": "code",
   "execution_count": 74,
   "metadata": {},
   "outputs": [
    {
     "name": "stdout",
     "output_type": "stream",
     "text": [
      "There are 4 sentences in the above document|text corpus\n"
     ]
    },
    {
     "data": {
      "text/plain": [
       "['This is the first sentence.',\n",
       " 'A gallon of milk in the U.S. costs $2.99.',\n",
       " 'Is this the third sentence?',\n",
       " 'Yes, it is!']"
      ]
     },
     "execution_count": 74,
     "metadata": {},
     "output_type": "execute_result"
    }
   ],
   "source": [
    "text12 = \"This is the first sentence. A gallon of milk in the U.S. costs $2.99. Is this the third sentence? Yes, it is!\"\n",
    "sentences = nltk.sent_tokenize(text12)\n",
    "print(\"There are {} sentences in the above document|text corpus\".format(len(sentences)))\n",
    "sentences"
   ]
  },
  {
   "cell_type": "markdown",
   "metadata": {},
   "source": [
    "## Advanced NLP taks with NLTK\n",
    "### POS (Parts-of-Speech)Tagging "
   ]
  },
  {
   "cell_type": "code",
   "execution_count": 75,
   "metadata": {},
   "outputs": [
    {
     "data": {
      "text/plain": [
       "['__annotations__',\n",
       " '__call__',\n",
       " '__class__',\n",
       " '__closure__',\n",
       " '__code__',\n",
       " '__defaults__',\n",
       " '__delattr__',\n",
       " '__dict__',\n",
       " '__dir__',\n",
       " '__doc__',\n",
       " '__eq__',\n",
       " '__format__',\n",
       " '__ge__',\n",
       " '__get__',\n",
       " '__getattribute__',\n",
       " '__globals__',\n",
       " '__gt__',\n",
       " '__hash__',\n",
       " '__init__',\n",
       " '__init_subclass__',\n",
       " '__kwdefaults__',\n",
       " '__le__',\n",
       " '__lt__',\n",
       " '__module__',\n",
       " '__name__',\n",
       " '__ne__',\n",
       " '__new__',\n",
       " '__qualname__',\n",
       " '__reduce__',\n",
       " '__reduce_ex__',\n",
       " '__repr__',\n",
       " '__setattr__',\n",
       " '__sizeof__',\n",
       " '__str__',\n",
       " '__subclasshook__']"
      ]
     },
     "execution_count": 75,
     "metadata": {},
     "output_type": "execute_result"
    }
   ],
   "source": [
    "from nltk.help import upenn_tagset\n",
    "dir(upenn_tagset)"
   ]
  },
  {
   "cell_type": "code",
   "execution_count": 76,
   "metadata": {},
   "outputs": [
    {
     "name": "stdout",
     "output_type": "stream",
     "text": [
      "MD: modal auxiliary\n",
      "    can cannot could couldn't dare may might must need ought shall should\n",
      "    shouldn't will would\n"
     ]
    }
   ],
   "source": [
    "nltk.help.upenn_tagset(tagpattern='MD')"
   ]
  },
  {
   "cell_type": "code",
   "execution_count": 77,
   "metadata": {
    "scrolled": true
   },
   "outputs": [
    {
     "name": "stdout",
     "output_type": "stream",
     "text": [
      "$: dollar\n",
      "    $ -$ --$ A$ C$ HK$ M$ NZ$ S$ U.S.$ US$\n",
      "'': closing quotation mark\n",
      "    ' ''\n",
      "(: opening parenthesis\n",
      "    ( [ {\n",
      "): closing parenthesis\n",
      "    ) ] }\n",
      ",: comma\n",
      "    ,\n",
      "--: dash\n",
      "    --\n",
      ".: sentence terminator\n",
      "    . ! ?\n",
      ":: colon or ellipsis\n",
      "    : ; ...\n",
      "CC: conjunction, coordinating\n",
      "    & 'n and both but either et for less minus neither nor or plus so\n",
      "    therefore times v. versus vs. whether yet\n",
      "CD: numeral, cardinal\n",
      "    mid-1890 nine-thirty forty-two one-tenth ten million 0.5 one forty-\n",
      "    seven 1987 twenty '79 zero two 78-degrees eighty-four IX '60s .025\n",
      "    fifteen 271,124 dozen quintillion DM2,000 ...\n",
      "DT: determiner\n",
      "    all an another any both del each either every half la many much nary\n",
      "    neither no some such that the them these this those\n",
      "EX: existential there\n",
      "    there\n",
      "FW: foreign word\n",
      "    gemeinschaft hund ich jeux habeas Haementeria Herr K'ang-si vous\n",
      "    lutihaw alai je jour objets salutaris fille quibusdam pas trop Monte\n",
      "    terram fiche oui corporis ...\n",
      "IN: preposition or conjunction, subordinating\n",
      "    astride among uppon whether out inside pro despite on by throughout\n",
      "    below within for towards near behind atop around if like until below\n",
      "    next into if beside ...\n",
      "JJ: adjective or numeral, ordinal\n",
      "    third ill-mannered pre-war regrettable oiled calamitous first separable\n",
      "    ectoplasmic battery-powered participatory fourth still-to-be-named\n",
      "    multilingual multi-disciplinary ...\n",
      "JJR: adjective, comparative\n",
      "    bleaker braver breezier briefer brighter brisker broader bumper busier\n",
      "    calmer cheaper choosier cleaner clearer closer colder commoner costlier\n",
      "    cozier creamier crunchier cuter ...\n",
      "JJS: adjective, superlative\n",
      "    calmest cheapest choicest classiest cleanest clearest closest commonest\n",
      "    corniest costliest crassest creepiest crudest cutest darkest deadliest\n",
      "    dearest deepest densest dinkiest ...\n",
      "LS: list item marker\n",
      "    A A. B B. C C. D E F First G H I J K One SP-44001 SP-44002 SP-44005\n",
      "    SP-44007 Second Third Three Two * a b c d first five four one six three\n",
      "    two\n",
      "MD: modal auxiliary\n",
      "    can cannot could couldn't dare may might must need ought shall should\n",
      "    shouldn't will would\n",
      "NN: noun, common, singular or mass\n",
      "    common-carrier cabbage knuckle-duster Casino afghan shed thermostat\n",
      "    investment slide humour falloff slick wind hyena override subhumanity\n",
      "    machinist ...\n",
      "NNP: noun, proper, singular\n",
      "    Motown Venneboerger Czestochwa Ranzer Conchita Trumplane Christos\n",
      "    Oceanside Escobar Kreisler Sawyer Cougar Yvette Ervin ODI Darryl CTCA\n",
      "    Shannon A.K.C. Meltex Liverpool ...\n",
      "NNPS: noun, proper, plural\n",
      "    Americans Americas Amharas Amityvilles Amusements Anarcho-Syndicalists\n",
      "    Andalusians Andes Andruses Angels Animals Anthony Antilles Antiques\n",
      "    Apache Apaches Apocrypha ...\n",
      "NNS: noun, common, plural\n",
      "    undergraduates scotches bric-a-brac products bodyguards facets coasts\n",
      "    divestitures storehouses designs clubs fragrances averages\n",
      "    subjectivists apprehensions muses factory-jobs ...\n",
      "PDT: pre-determiner\n",
      "    all both half many quite such sure this\n",
      "POS: genitive marker\n",
      "    ' 's\n",
      "PRP: pronoun, personal\n",
      "    hers herself him himself hisself it itself me myself one oneself ours\n",
      "    ourselves ownself self she thee theirs them themselves they thou thy us\n",
      "PRP$: pronoun, possessive\n",
      "    her his mine my our ours their thy your\n",
      "RB: adverb\n",
      "    occasionally unabatingly maddeningly adventurously professedly\n",
      "    stirringly prominently technologically magisterially predominately\n",
      "    swiftly fiscally pitilessly ...\n",
      "RBR: adverb, comparative\n",
      "    further gloomier grander graver greater grimmer harder harsher\n",
      "    healthier heavier higher however larger later leaner lengthier less-\n",
      "    perfectly lesser lonelier longer louder lower more ...\n",
      "RBS: adverb, superlative\n",
      "    best biggest bluntest earliest farthest first furthest hardest\n",
      "    heartiest highest largest least less most nearest second tightest worst\n",
      "RP: particle\n",
      "    aboard about across along apart around aside at away back before behind\n",
      "    by crop down ever fast for forth from go high i.e. in into just later\n",
      "    low more off on open out over per pie raising start teeth that through\n",
      "    under unto up up-pp upon whole with you\n",
      "SYM: symbol\n",
      "    % & ' '' ''. ) ). * + ,. < = > @ A[fj] U.S U.S.S.R * ** ***\n",
      "TO: \"to\" as preposition or infinitive marker\n",
      "    to\n",
      "UH: interjection\n",
      "    Goodbye Goody Gosh Wow Jeepers Jee-sus Hubba Hey Kee-reist Oops amen\n",
      "    huh howdy uh dammit whammo shucks heck anyways whodunnit honey golly\n",
      "    man baby diddle hush sonuvabitch ...\n",
      "VB: verb, base form\n",
      "    ask assemble assess assign assume atone attention avoid bake balkanize\n",
      "    bank begin behold believe bend benefit bevel beware bless boil bomb\n",
      "    boost brace break bring broil brush build ...\n",
      "VBD: verb, past tense\n",
      "    dipped pleaded swiped regummed soaked tidied convened halted registered\n",
      "    cushioned exacted snubbed strode aimed adopted belied figgered\n",
      "    speculated wore appreciated contemplated ...\n",
      "VBG: verb, present participle or gerund\n",
      "    telegraphing stirring focusing angering judging stalling lactating\n",
      "    hankerin' alleging veering capping approaching traveling besieging\n",
      "    encrypting interrupting erasing wincing ...\n",
      "VBN: verb, past participle\n",
      "    multihulled dilapidated aerosolized chaired languished panelized used\n",
      "    experimented flourished imitated reunifed factored condensed sheared\n",
      "    unsettled primed dubbed desired ...\n",
      "VBP: verb, present tense, not 3rd person singular\n",
      "    predominate wrap resort sue twist spill cure lengthen brush terminate\n",
      "    appear tend stray glisten obtain comprise detest tease attract\n",
      "    emphasize mold postpone sever return wag ...\n",
      "VBZ: verb, present tense, 3rd person singular\n",
      "    bases reconstructs marks mixes displeases seals carps weaves snatches\n",
      "    slumps stretches authorizes smolders pictures emerges stockpiles\n",
      "    seduces fizzes uses bolsters slaps speaks pleads ...\n",
      "WDT: WH-determiner\n",
      "    that what whatever which whichever\n",
      "WP: WH-pronoun\n",
      "    that what whatever whatsoever which who whom whosoever\n",
      "WP$: WH-pronoun, possessive\n",
      "    whose\n",
      "WRB: Wh-adverb\n",
      "    how however whence whenever where whereby whereever wherein whereof why\n",
      "``: opening quotation mark\n",
      "    ` ``\n"
     ]
    }
   ],
   "source": [
    "nltk.help.upenn_tagset(tagpattern='V*')"
   ]
  },
  {
   "cell_type": "code",
   "execution_count": 78,
   "metadata": {},
   "outputs": [
    {
     "data": {
      "text/plain": [
       "[('Children', 'NNP'),\n",
       " ('should', 'MD'),\n",
       " (\"n't\", 'RB'),\n",
       " ('drink', 'VB'),\n",
       " ('a', 'DT'),\n",
       " ('sugary', 'JJ'),\n",
       " ('drink', 'NN'),\n",
       " ('before', 'IN'),\n",
       " ('bed', 'NN'),\n",
       " ('.', '.')]"
      ]
     },
     "execution_count": 78,
     "metadata": {},
     "output_type": "execute_result"
    }
   ],
   "source": [
    "text11 = \"Children shouldn't drink a sugary drink before bed.\"\n",
    "nltk.pos_tag(nltk.word_tokenize(text11))"
   ]
  },
  {
   "cell_type": "code",
   "execution_count": 79,
   "metadata": {},
   "outputs": [
    {
     "name": "stdout",
     "output_type": "stream",
     "text": [
      "NNP: noun, proper, singular\n",
      "    Motown Venneboerger Czestochwa Ranzer Conchita Trumplane Christos\n",
      "    Oceanside Escobar Kreisler Sawyer Cougar Yvette Ervin ODI Darryl CTCA\n",
      "    Shannon A.K.C. Meltex Liverpool ...\n",
      "RB: adverb\n",
      "    occasionally unabatingly maddeningly adventurously professedly\n",
      "    stirringly prominently technologically magisterially predominately\n",
      "    swiftly fiscally pitilessly ...\n",
      "VB: verb, base form\n",
      "    ask assemble assess assign assume atone attention avoid bake balkanize\n",
      "    bank begin behold believe bend benefit bevel beware bless boil bomb\n",
      "    boost brace break bring broil brush build ...\n",
      "DT: determiner\n",
      "    all an another any both del each either every half la many much nary\n",
      "    neither no some such that the them these this those\n",
      "JJ: adjective or numeral, ordinal\n",
      "    third ill-mannered pre-war regrettable oiled calamitous first separable\n",
      "    ectoplasmic battery-powered participatory fourth still-to-be-named\n",
      "    multilingual multi-disciplinary ...\n",
      "NN: noun, common, singular or mass\n",
      "    common-carrier cabbage knuckle-duster Casino afghan shed thermostat\n",
      "    investment slide humour falloff slick wind hyena override subhumanity\n",
      "    machinist ...\n",
      "IN: preposition or conjunction, subordinating\n",
      "    astride among uppon whether out inside pro despite on by throughout\n",
      "    below within for towards near behind atop around if like until below\n",
      "    next into if beside ...\n"
     ]
    }
   ],
   "source": [
    "nltk.help.upenn_tagset(tagpattern='NNP')\n",
    "nltk.help.upenn_tagset(tagpattern='RB')\n",
    "nltk.help.upenn_tagset(tagpattern='VB')\n",
    "nltk.help.upenn_tagset(tagpattern='DT')\n",
    "nltk.help.upenn_tagset(tagpattern='JJ')\n",
    "nltk.help.upenn_tagset(tagpattern='NN')\n",
    "nltk.help.upenn_tagset(tagpattern='IN')"
   ]
  },
  {
   "cell_type": "markdown",
   "metadata": {},
   "source": [
    "#### Ambiguity in POS Tagging"
   ]
  },
  {
   "cell_type": "code",
   "execution_count": 80,
   "metadata": {},
   "outputs": [
    {
     "data": {
      "text/plain": [
       "[('Visiting', 'VBG'),\n",
       " ('aunts', 'NNS'),\n",
       " ('can', 'MD'),\n",
       " ('be', 'VB'),\n",
       " ('a', 'DT'),\n",
       " ('nuisance', 'NN')]"
      ]
     },
     "execution_count": 80,
     "metadata": {},
     "output_type": "execute_result"
    }
   ],
   "source": [
    "nltk.pos_tag(nltk.word_tokenize(\"Visiting aunts can be a nuisance\"))"
   ]
  },
  {
   "cell_type": "code",
   "execution_count": 81,
   "metadata": {},
   "outputs": [
    {
     "data": {
      "text/plain": [
       "[('I', 'PRP'),\n",
       " ('never', 'RB'),\n",
       " ('said', 'VBD'),\n",
       " ('you', 'PRP'),\n",
       " ('stole', 'VBP'),\n",
       " ('my', 'PRP$'),\n",
       " ('money', 'NN')]"
      ]
     },
     "execution_count": 81,
     "metadata": {},
     "output_type": "execute_result"
    }
   ],
   "source": [
    "nltk.pos_tag(nltk.word_tokenize(\"I never said you stole my money\"))"
   ]
  },
  {
   "cell_type": "markdown",
   "metadata": {},
   "source": [
    "#### Parsing sentence structure"
   ]
  },
  {
   "cell_type": "code",
   "execution_count": 82,
   "metadata": {},
   "outputs": [
    {
     "name": "stdout",
     "output_type": "stream",
     "text": [
      "(S (NP Alice) (VP (V loves) (NP Bob)))\n"
     ]
    }
   ],
   "source": [
    "text15 = nltk.word_tokenize(\"Alice loves Bob\")\n",
    "grammar = nltk.CFG.fromstring(\"\"\"\n",
    "S -> NP VP\n",
    "VP -> V NP\n",
    "NP -> 'Alice' | 'Bob'\n",
    "V -> 'loves'\n",
    "\"\"\")\n",
    "\n",
    "parser = nltk.ChartParser(grammar=grammar)\n",
    "trees = parser.parse_all(text15)\n",
    "for tree in trees:\n",
    "    print(tree)"
   ]
  },
  {
   "cell_type": "markdown",
   "metadata": {},
   "source": [
    "#### Ambiguity in Parsing sentences \"I saw the man with a telescope\" \n",
    "#### 1. Did you see with the telescope ?\n",
    "#### 2. Did you see the man who was holding a telescope ?"
   ]
  },
  {
   "cell_type": "code",
   "execution_count": 83,
   "metadata": {},
   "outputs": [
    {
     "data": {
      "text/plain": [
       "<Grammar with 13 productions>"
      ]
     },
     "execution_count": 83,
     "metadata": {},
     "output_type": "execute_result"
    }
   ],
   "source": [
    "text16 = nltk.word_tokenize(\"I saw the man with a telescope\")\n",
    "grammar1 = nltk.data.load('Data/mygrammar.cfg')\n",
    "grammar1"
   ]
  },
  {
   "cell_type": "code",
   "execution_count": 84,
   "metadata": {},
   "outputs": [
    {
     "name": "stdout",
     "output_type": "stream",
     "text": [
      "(S\n",
      "  (NP I)\n",
      "  (VP\n",
      "    (VP (V saw) (NP (Det the) (N man)))\n",
      "    (PP (P with) (NP (Det a) (N telescope)))))\n",
      "(S\n",
      "  (NP I)\n",
      "  (VP\n",
      "    (V saw)\n",
      "    (NP (Det the) (N man) (PP (P with) (NP (Det a) (N telescope))))))\n"
     ]
    }
   ],
   "source": [
    "parser = nltk.ChartParser(grammar1)\n",
    "trees = parser.parse_all(text16)\n",
    "for tree in trees:\n",
    "    print(tree)"
   ]
  },
  {
   "cell_type": "code",
   "execution_count": 85,
   "metadata": {},
   "outputs": [
    {
     "name": "stdout",
     "output_type": "stream",
     "text": [
      "(S\n",
      "  (NP-SBJ\n",
      "    (NP (NNP Pierre) (NNP Vinken))\n",
      "    (, ,)\n",
      "    (ADJP (NP (CD 61) (NNS years)) (JJ old))\n",
      "    (, ,))\n",
      "  (VP\n",
      "    (MD will)\n",
      "    (VP\n",
      "      (VB join)\n",
      "      (NP (DT the) (NN board))\n",
      "      (PP-CLR (IN as) (NP (DT a) (JJ nonexecutive) (NN director)))\n",
      "      (NP-TMP (NNP Nov.) (CD 29))))\n",
      "  (. .))\n"
     ]
    }
   ],
   "source": [
    "from nltk.corpus import treebank\n",
    "text17 = treebank.parsed_sents('wsj_0001.mrg')[0]\n",
    "print(text17)"
   ]
  },
  {
   "cell_type": "markdown",
   "metadata": {},
   "source": [
    "### POS tagging and parsing ambiguity"
   ]
  },
  {
   "cell_type": "code",
   "execution_count": 86,
   "metadata": {},
   "outputs": [
    {
     "data": {
      "text/plain": [
       "[('The', 'DT'), ('old', 'JJ'), ('man', 'NN'), ('the', 'DT'), ('boat', 'NN')]"
      ]
     },
     "execution_count": 86,
     "metadata": {},
     "output_type": "execute_result"
    }
   ],
   "source": [
    "text18 = nltk.word_tokenize(\"The old man the boat\")\n",
    "nltk.pos_tag(text18)"
   ]
  },
  {
   "cell_type": "code",
   "execution_count": 87,
   "metadata": {},
   "outputs": [
    {
     "data": {
      "text/plain": [
       "[('Colorless', 'NNP'),\n",
       " ('green', 'JJ'),\n",
       " ('ideas', 'NNS'),\n",
       " ('sleep', 'VBP'),\n",
       " ('furiously', 'RB')]"
      ]
     },
     "execution_count": 87,
     "metadata": {},
     "output_type": "execute_result"
    }
   ],
   "source": [
    "text19 = nltk.word_tokenize(\"Colorless green ideas sleep furiously\")\n",
    "nltk.pos_tag(text19)"
   ]
  },
  {
   "cell_type": "markdown",
   "metadata": {},
   "source": [
    "## Case Study : Sentiment Analysis"
   ]
  },
  {
   "cell_type": "code",
   "execution_count": 100,
   "metadata": {},
   "outputs": [],
   "source": [
    "import time\n",
    "start = time.time()\n",
    "df = pd.read_csv('Data/Amazon_Unlocked_Mobile.csv')\n",
    "end = time.time()"
   ]
  },
  {
   "cell_type": "code",
   "execution_count": 101,
   "metadata": {},
   "outputs": [
    {
     "data": {
      "text/plain": [
       "0         I feel so LUCKY to have found this used (phone...\n",
       "1         nice phone, nice up grade from my pantach revu...\n",
       "2                                              Very pleased\n",
       "3         It works good but it goes slow sometimes but i...\n",
       "4         Great phone to replace my lost phone. The only...\n",
       "5         I already had a phone with problems... I know ...\n",
       "6         The charging port was loose. I got that solder...\n",
       "7         Phone looks good but wouldn't stay charged, ha...\n",
       "8         I originally was using the Samsung S2 Galaxy f...\n",
       "9         It's battery life is great. It's very responsi...\n",
       "10        My fiance had this phone previously, but cause...\n",
       "11        This is a great product it came after two days...\n",
       "12        These guys are the best! I had a little situat...\n",
       "13        I'm really disappointed about my phone and ser...\n",
       "14        Ordered this phone as a replacement for the sa...\n",
       "15        Had this phone before and loved it but was not...\n",
       "16        I was able to get the phone I previously owned...\n",
       "17        I brought this phone as a replacement for my d...\n",
       "18        I love the phone. It does everything I need an...\n",
       "19        unfortunately Sprint could not activate the ph...\n",
       "20        The battery was old & had been over used becau...\n",
       "21        pros-beautiful screen,capable of running chrom...\n",
       "22        I purchased this phone in December as a christ...\n",
       "23        Phone good just a little slow phone old but it...\n",
       "24        Phone's speaker little low. Overall very happy...\n",
       "25        the phone was great and in good condition. My ...\n",
       "26        the reasons for the 3 star rating was it was i...\n",
       "27                    Phone works great. No problems at all\n",
       "28             was not in good condition but does work good\n",
       "29        Just... not good. The phone has great screen r...\n",
       "30                                 as described, fast ship!\n",
       "31                                    Perfect in every way.\n",
       "32        One of the phones have a bad charger port. I w...\n",
       "33        Just got this phone and it is a great phone. I...\n",
       "34        The phone was great but it had gotten old so i...\n",
       "35        This phone came in great condition! Great pric...\n",
       "36        Met all of my expectations. I can't complain a...\n",
       "37        Phone is working on, I was planning to use it ...\n",
       "38                   excellent product in perfect condition\n",
       "39                                                excellent\n",
       "40                                                excelente\n",
       "41                                                excelente\n",
       "42        I like these phone I bought it for my mom and ...\n",
       "43                         It came with arabian keyboard :(\n",
       "44        I love the phone, but one problem and one prob...\n",
       "45                                               I love it!\n",
       "46        Very practical and user-friendly phone. I am v...\n",
       "47                                   Sharp and classy phone\n",
       "48                                                very good\n",
       "49                                             100% gooddd!\n",
       "50         Shipped quickly and was exactly what I expected!\n",
       "51                           Works wonderful for the price!\n",
       "52        Bought this as an alternative to a smart phone...\n",
       "53                                        muy buen producto\n",
       "54        This phone is trapped in 2001, if you want a s...\n",
       "55                                                Excellent\n",
       "56        A friend mentioned this phone to me and it wor...\n",
       "57        Used this unlocked GSM Nokia Asha 302 in the P...\n",
       "58                                                Excelente\n",
       "59        Excellent phone for my youngest son, with walk...\n",
       "60                                                Excelente\n",
       "61                                              solid phone\n",
       "62                                              Good choice\n",
       "63        perfect, practical, easy to handle, good resol...\n",
       "64        excellent product !!....all right....i recomme...\n",
       "65                                                excelente\n",
       "66                                                Excelente\n",
       "67        Nokia is the brand that can be used in telepho...\n",
       "68        First off, let me say I've been a Nokia user s...\n",
       "69        Nokia Asha 302 Unlocked GSM Phone with 3.2MP C...\n",
       "70        This is a solidly-built unlocked phone that is...\n",
       "71        Hola, compramos dos teléfonos y vienieron tota...\n",
       "72        THIS CELLPHONE IS VERY EASY FOR USING, IT HAS ...\n",
       "73        GRACIAS ME LLEGO EL PROCTO QUE COMPRE Y LLEVO ...\n",
       "74        Freezes alot. But i bought primarily for playi...\n",
       "75        The keys are a little hard to hit, and I didn'...\n",
       "76        Preface: This is not what would be considered ...\n",
       "77        We just received the phone a few days ago. Put...\n",
       "78        I bought this phone as a Christmas present for...\n",
       "79        The Phone is pretty good. I am using it with a...\n",
       "80        loved everything about it. also it looks like ...\n",
       "81        THIS IS A SOLUTION IF YOU WANT YOU ARE LOOKING...\n",
       "82        This phone in an excellent phone at a great pr...\n",
       "83        Have problems setting correct time on Nokia As...\n",
       "84        This is a good phone although it seems to have...\n",
       "85        I've been a long time user of the iPhone. I fi...\n",
       "86        This phone, like all of Nokia's feature phones...\n",
       "87                                                 Love it.\n",
       "88        Sorry it took so long to Reply or Review this ...\n",
       "89        Bought it as a gift for my Mum and she loves i...\n",
       "90        Incredible! This phone does not have Splaniish...\n",
       "91                                                      BAD\n",
       "92                                                     good\n",
       "93               The battery died in less than 24/hours....\n",
       "94                                       Excellent Product.\n",
       "95                                                very well\n",
       "96                            Cannot connect to GSM network\n",
       "97        This cell phone exceeded my expectations, it's...\n",
       "98        pros.. it works fine, its easy to use, not too...\n",
       "99        I went through lots of reviews for different p...\n",
       "100                                               excelente\n",
       "101       I have to say that it is a ok phone. I don't l...\n",
       "102                                               excelente\n",
       "103       Phone works great, looks great and shipped qui...\n",
       "104                                               Ver Good!\n",
       "105       a pretty capable, durable texting phone, unloc...\n",
       "106       Excellent phone has all the special functions ...\n",
       "107       Do not buy it!. It feels like a pretended toy ...\n",
       "108       Excellent phone, for adults recommend. . Whats...\n",
       "109       I have enjoyed my Nokia C3 phone for a few yea...\n",
       "110       when i got phone it wouldn't work I took it to...\n",
       "111                                                 I liked\n",
       "112                                 Great. Arrived quickly.\n",
       "113       Phone works great, you may have to get a sum c...\n",
       "114       Avianna LLC is an incredible seller. The phone...\n",
       "115       Ad advertised as unlocked, had to pay $30..00 ...\n",
       "116                 Exactly what I was expecting.thank you.\n",
       "117       Got it faster than I expected. Just what I nee...\n",
       "118                                                exelente\n",
       "119       phone works great for the price although when ...\n",
       "120       Keeping in mind that this is a sub $100 phone ...\n",
       "121       Is a good product That I recomended it has all...\n",
       "122       my autistic son is in his glory lol thank you ...\n",
       "123       All around good phone, not glitchy at all, or ...\n",
       "124       I have no problem taking the phone to straight...\n",
       "125       Delivery was fast. The overall quality of the ...\n",
       "126                                                 Perfect\n",
       "127       Worked OK for awhile now every time I tap the ...\n",
       "128       Great phone. My sone has been happy with it. N...\n",
       "129       Valid for Movilnet in Venezuela, low memory, b...\n",
       "130                                    very good, excellent\n",
       "131       When I first got the phone it had a very poor ...\n",
       "132                                          Cheap and fast\n",
       "133       The phone works great but my charger outlet on...\n",
       "134                                          very good cell\n",
       "135           very responsible seller and excellent product\n",
       "136                                               MUY BUENO\n",
       "137                                               fino fino\n",
       "138       exelentes equipos en lenguaje criollo son una ...\n",
       "139                                                    Good\n",
       "140       Its great for the price but I hate how you can...\n",
       "141       When I got new Phone. I loved this phone. but ...\n",
       "142       I like the FM radio feature and charge cradle,...\n",
       "143       I bouht this phone for my 82 year old mother w...\n",
       "144                                 like your ad...love it!\n",
       "145       the charger did not work. My parents started u...\n",
       "146       Have a family member who has ZERO interest in ...\n",
       "147                                      good quality phone\n",
       "148       does not work well with T-Mobile. T-Mobile clo...\n",
       "149       Screen size is good and easy to read. Sound co...\n",
       "150       This is like the 5th cellphone for my dad in l...\n",
       "151       This is a really great phone. I am visually im...\n",
       "152       More complicated than I expected. Terrible rec...\n",
       "153                                             No internet\n",
       "154                phone reception poor with incoming calls\n",
       "155       Nice phone. Easy to read screen. I am a senior...\n",
       "156       The sleek design and easy of use is what makes...\n",
       "157       My husband loves it!! It is simple to use with...\n",
       "158       The only reason I gave it a 3 star is because ...\n",
       "159       Even the instruction book is better than any I...\n",
       "160       This phone was purchased for my father. I real...\n",
       "161       works good for 3G and above. Simple to use. No...\n",
       "162       Simple. Sleek. Minimalist. Accepts any Sim. Th...\n",
       "163       Sounds like you are under water. It shuts off ...\n",
       "164       I was contacting Jethro customer service, beca...\n",
       "165       [New Edition] Jethro [SC213V2] Flip Quad-band ...\n",
       "166       everything was great. had a hard time getting ...\n",
       "167       good phone for my 82 year old dad who wanted a...\n",
       "168       Bought this phone because it was supposedly ab...\n",
       "169       Met expectations, easy to use, gave as gift ve...\n",
       "170       I bought this phone for my 91 year old aunt. I...\n",
       "171                                  I received my product.\n",
       "172                          Good phone for elderly people.\n",
       "173                        Bought for my mom! She loves it!\n",
       "174       I searched for unlocked flip phones 3D because...\n",
       "175       Not as sensitive as our track phone, but the J...\n",
       "176       I am very unhappy with the purchase. First of ...\n",
       "177       I am a computer programmer, but I have to admi...\n",
       "178                 Fast shipping, and accurate description\n",
       "179       the phone is unable to maintain signal after 2...\n",
       "180                                            Great phone.\n",
       "181       Shortly after return window closed, stopped ta...\n",
       "182       Stopped working after 2 months. Not happy with...\n",
       "183       Defective product. I have placed my T-Mobile S...\n",
       "184                    sound quality poor, no speaker phone\n",
       "185                                            Great phone!\n",
       "186                                               Excelente\n",
       "187       this phone met all our expectations, my dad lo...\n",
       "188       This may be an issue of expectation mismatch. ...\n",
       "189       I bought it for my elderly grandfather which i...\n",
       "190              Just what we needed for an older relative.\n",
       "191       It was a gift for my Grandma in South America ...\n",
       "192       The speakers are garbage and it only tells tim...\n",
       "193       I bought this phone for my elderly parent. He ...\n",
       "194       This is a great, simple phone which is getting...\n",
       "195       My Granny couldn't use the phone because she w...\n",
       "196       Not good sound, not easily used by senior, end...\n",
       "197       really surprised by this phone, with fm radio ...\n",
       "198                Nice big numbers everywhere! Simple too!\n",
       "199       Ordered phone but it would not work with AT&T....\n",
       "200       As good as you can hope for in a phone for sen...\n",
       "201                                                    Good\n",
       "202                                               Thank you\n",
       "203       easy to use. My mother is 78 but she can use i...\n",
       "204       Word to the wise: Check with the seller for th...\n",
       "205       The SIM card from the provider would not work ...\n",
       "206       Purchased this phone for my parents who have d...\n",
       "207       With a little bit of effort I was able to fami...\n",
       "208       Great simple to use phone for my mother. Big b...\n",
       "209       I bought it for my mom who is in her late 70s ...\n",
       "210       Returning product. The volume is absolutely ab...\n",
       "211       simple to use. Does not seem to get tiem updat...\n",
       "212       Phone number comes with DAILY SPAM Calls. Real...\n",
       "213       Perfect, great, inexpensive phone for a senior...\n",
       "214       Good phone for my mom, big numbers, however se...\n",
       "215       Locks accidentally when used. Screen is too sm...\n",
       "216       Bought this for my elderly mother. It is prett...\n",
       "217       I bought this phone for my grandma, it doesn't...\n",
       "218       It's a good phone for emergencies and the numb...\n",
       "219                          but did not work with Iwirless\n",
       "220             Does not have Cyrillic! That was a surprize\n",
       "221       We bought the phone for my 92 year old mother ...\n",
       "222       As arrival of this phone and I couldn't charge...\n",
       "223       Looks good, as advertised, instructions not ea...\n",
       "224       My Dad loves it - works great with no confusin...\n",
       "225       Very bad same week i bought could not turn on ...\n",
       "226       Both of my grandmas love it!!! It could have a...\n",
       "227                      It's just what we were looking for\n",
       "228       Mom doesn't like any kind of change, so it has...\n",
       "229       Pros:* The cradle is nice* Lack of camera* Che...\n",
       "230                   Stopped working after a month of use.\n",
       "231       The placement of the M1 and M2 buttons in part...\n",
       "232       I bought this phone as a simple option for my ...\n",
       "233       I just not giving 5 stars because I don't know...\n",
       "234                  Real nice and simple phone for grandma\n",
       "235       This is basic, but has all the features necess...\n",
       "236                       returned would not read sim card.\n",
       "237       Great phone for elderly or those not familiar ...\n",
       "238                                             not working\n",
       "239       My 79 year old mother, who is partially blind,...\n",
       "240                                               Loving it\n",
       "241       I love this simple handset and the limited num...\n",
       "242       This phone is very difficult to unlock. To unl...\n",
       "243       I wish the ring was louder, but can still be h...\n",
       "244       It worked alright, until i qccidetly pushed th...\n",
       "245       After reviewing my grandmothers bills I realiz...\n",
       "246       Word to the wise: Check with the seller for th...\n",
       "247       The SIM card from the provider would not work ...\n",
       "248       Purchased this phone for my parents who have d...\n",
       "249                                            Great phone!\n",
       "                                ...                        \n",
       "413590    This phone works great for our busy field empl...\n",
       "413591    No it it did not meet my expectations. It cras...\n",
       "413592                                                   Ok\n",
       "413593    Great phone. I have problems with arthritis in...\n",
       "413594                         great condition! Works well.\n",
       "413595    This phone was for my husband, the only thing ...\n",
       "413596    This is my third of this particular model phon...\n",
       "413597                       Simple phone but very durable.\n",
       "413598    We had to return it because it wasn't heavy du...\n",
       "413599    Ear buds excellent. Cell phone condition was f...\n",
       "413600    Simple, easy to use, long battery life and com...\n",
       "413601               Great and works like new! No problems!\n",
       "413602    Phone works great except when I was texted a p...\n",
       "413603                                             not bafd\n",
       "413604    The phone is all I expected and more. I brough...\n",
       "413605    When I answer a call the other person can not ...\n",
       "413606    The phone arrived on time and in good shape I ...\n",
       "413607                         100% What I was looking for.\n",
       "413608                                            Very good\n",
       "413609                         the U640 works great for me.\n",
       "413610    I was a very good experienceAnd everything was...\n",
       "413611    Arrived as promised in very good condition. My...\n",
       "413612           Excellent phone and new condition as well.\n",
       "413613    It looks very rugged, and it got everything he...\n",
       "413614    Works great. Best phone for my husband as long...\n",
       "413615    this phone may be older but my husband likes s...\n",
       "413616    LIKE NEWWorks as expected/ keeps charged days/...\n",
       "413617    I ordered this phone for my husband, as his Ne...\n",
       "413618    Replaced a Convoy with a Convoy. My husband di...\n",
       "413619    My husband loves the new phoneEasy to hear the...\n",
       "413620    Extensive research paid off in this simple but...\n",
       "413621    I can't honestly say I hated it. I could make ...\n",
       "413622    The specs mentioned there could be some cosmet...\n",
       "413623    This has an odd ball chagrinning connection. I...\n",
       "413624    No problems with this. i love this phone. It w...\n",
       "413625    my father is not into fancy smartphones or tex...\n",
       "413626    This is a great phone and a good deal. We have...\n",
       "413627    Met my short-term needs to replace a phone tha...\n",
       "413628    It was exactly what I expected. Easy to activa...\n",
       "413629    condition of phone wasnt good not broke but di...\n",
       "413630    This cell phone is OK, but it will drop calls ...\n",
       "413631    the phone was used to death with covers torn o...\n",
       "413632    Just wanted a basic phone. They are so hard to...\n",
       "413633    Cost of cell phone was a steal! Like new. Howe...\n",
       "413634    This phone is great. It is built a lot more ru...\n",
       "413635    This is a great phone for people who like flip...\n",
       "413636    I purchased this for a friend and he has no co...\n",
       "413637    This was an excellent buy on a very good used ...\n",
       "413638    This is a very durable easy to use no nonsense...\n",
       "413639    We are basic phone users. Phone works great-ba...\n",
       "413640    This is my second Convoy phone. The first spen...\n",
       "413641    This phone was listed as used. I read the desc...\n",
       "413642    This was exactly the phone that I needed. I wo...\n",
       "413643                       Works good, still going strong\n",
       "413644                         Works great just need a case\n",
       "413645                                          as expected\n",
       "413646    Does what it says and reliably so. I still use...\n",
       "413647          it is all I need in a phone (hello-good by)\n",
       "413648      The phone was defective so we had to return it.\n",
       "413649                              Great phone easy to use\n",
       "413650                         Phone did not work properly.\n",
       "413651                    Phone charging port was defective\n",
       "413652    Have had several of these phones over the year...\n",
       "413653    The phone arrived in just a few days! The phon...\n",
       "413654    Make sure you are ready to acctivate the phone...\n",
       "413655    Got this phone for my husband who wanted a bas...\n",
       "413656    The phone the i bought from amazon did not wor...\n",
       "413657    I wear two hearing aides and this phone works ...\n",
       "413658    For a used phone it was like brand new. Pretty...\n",
       "413659    I bought this phone for my son because his old...\n",
       "413660    Phone was for my brother. It gets the job done...\n",
       "413661    My wife's phone broke. We got the exacty same ...\n",
       "413662    The phone has good sound, I agree with the pre...\n",
       "413663    I love this phone. Bought another as a backup....\n",
       "413664    Obvious wear on the device.I know it's used, o...\n",
       "413665                                      Works very good\n",
       "413666    I've had two of these for my son. Very well ma...\n",
       "413667    It is one tough phone and Verzion Store claims...\n",
       "413668    Phones and chargers are in mint shape. Really ...\n",
       "413669    I bought the phone as a gift. My husband likes...\n",
       "413670    It is my husband's phone, but he seems very ha...\n",
       "413671    I really like this phone but it is a little he...\n",
       "413672    We bought it because it was a replacement for ...\n",
       "413673    I bought this phone as a replacement for my hu...\n",
       "413674        I wanted a simple phone and this fit the bill\n",
       "413675    Dirt cheap replacement, clean and not all hack...\n",
       "413676    I like this phone. I can make calls where I co...\n",
       "413677                                            Excellent\n",
       "413678    cause it didn;t work i want to know how i can ...\n",
       "413679    My purchase of a used Verizon Samsung U640 was...\n",
       "413680             Great phone, great price, good shipping.\n",
       "413681    Meets my needs for primarily outdooruse with g...\n",
       "413682        Great buy!!! Great condition! Very pleased!!!\n",
       "413683    Could not use it because Verizon would accept ...\n",
       "413684                                                   Ok\n",
       "413685                                    Didn't work right\n",
       "413686    Phone screen continually fritzes out and I hav...\n",
       "413687                      Great product and great support\n",
       "413688                                             Works ok\n",
       "413689                       Great price for a great phone.\n",
       "413690                       Excellent slightly used phone.\n",
       "413691                                                  thx\n",
       "413692                                exactly what I wanted\n",
       "413693    The phone works fine right now, however, we ha...\n",
       "413694    My son enjoys the flip phone...it works great ...\n",
       "413695    Bought this phone used for an elderly person m...\n",
       "413696    The phone works well, but is not the phone I o...\n",
       "413697    Initially I received this phone and I did not ...\n",
       "413698    The key on the back did not open completely, s...\n",
       "413699    No problems and work like any other flip phone...\n",
       "413700    This has been a good extra phone for me. Thank...\n",
       "413701    Perfect for a man who needs a plain cell phone...\n",
       "413702    Actually love this phone alot but just decided...\n",
       "413703    Great price and it work just as it was suppose...\n",
       "413704    The dirty phone I received was not appreciated...\n",
       "413705    IF YOU DON'T LIKE TOUCH SCREEN PHONES, THIS MA...\n",
       "413706    Bought this phone for my husband to replace an...\n",
       "413707    Awesome phone for my dad! This phone is perfec...\n",
       "413708    It is simple to use, I am hard of hearing and ...\n",
       "413709    The main thing wrong with it is that it has th...\n",
       "413710    replaced my Verizon U 640 because it went stra...\n",
       "413711    Works as promised, sound clarity is good. A \"t...\n",
       "413712    I good old standby for a feature phone. It is ...\n",
       "413713    This is exactly what I wanted. I am very pleased.\n",
       "413714    Got what I paid for, used. Missing was the ins...\n",
       "413715                                                 Good\n",
       "413716                      Great phone. Built like a tank!\n",
       "413717                                          Works great\n",
       "413718    This phone was perfect for my 13 year old that...\n",
       "413719    I love the flip phones and wanted this one to ...\n",
       "413720                           Phone lasted over 3 years.\n",
       "413721    Awful phone!!!! It's supposed to be waterproof...\n",
       "413722    Would have given it five stars if instructions...\n",
       "413723    Works fine with page plus, love the look and f...\n",
       "413724    Reliable tough phone. Bought another for my wi...\n",
       "413725    This phone does work. However, I paid more for...\n",
       "413726        Solid phone. Working well. In good condition.\n",
       "413727                             This product is awesome!\n",
       "413728    I carry a flip phone for work as I work in a v...\n",
       "413729    the screen doesn't work and the camera doesn't...\n",
       "413730    All I need is a good reliable phone, and that ...\n",
       "413731       A great deal on a very rugged basic flip phone\n",
       "413732    Received phone with defective battery. It did ...\n",
       "413733    It seemed to be working well, but my dad has h...\n",
       "413734    great phone, great people to deal with on time...\n",
       "413735    This is a good all-around phone is very sturdy...\n",
       "413736    Thanks! Husband loves it!! Works great and he ...\n",
       "413737    Learning the ropes. standard phone. try findin...\n",
       "413738    I bought this for my husband who is very rough...\n",
       "413739    It's last years model but the price is right. ...\n",
       "413740    No problems and great durability for a flip ph...\n",
       "413741    We has a bit of trouble with the voice mail an...\n",
       "413742    I purchased this phone for my husband, as I ne...\n",
       "413743    I was impressed with the condition of the unit...\n",
       "413744    The phone was sold by a \"Verizon\" representati...\n",
       "413745    Lost a phone and did not have phone insurance....\n",
       "413746    I read lots of reviews for this phone. I was c...\n",
       "413747    Having used a Casio Gzone the last two years, ...\n",
       "413748    The phone itself, great condition, price, and ...\n",
       "413749    Really like the phone and ease of use. The scr...\n",
       "413750                           Will not work with prepaid\n",
       "413751      it was what was stated, happy with this product\n",
       "413752                                          WORKS GREAT\n",
       "413753    Great phone, and in wonderful condition. Every...\n",
       "413754    Yes phone had no book. They made that right th...\n",
       "413755    This phone does everything you'd need a phone ...\n",
       "413756    The phone works amazing. But next time I rathe...\n",
       "413757    This is a great little phone - very sturdy. My...\n",
       "413758                            5 star rating to RC PHONE\n",
       "413759    the phone is basic. no fancy bells and whistle...\n",
       "413760    I loved it. It was in good shape. I wanted an ...\n",
       "413761    Great phone to use with page plus cellular min...\n",
       "413762    This is probably a phone that was used very ha...\n",
       "413763    The Pnone was a piece of junkIt was all scratc...\n",
       "413764    While it was listed as refurbished, it appears...\n",
       "413765    This phone is very easy to use and I like the ...\n",
       "413766    Ordered as a replacement for my mothers damage...\n",
       "413767    This U640 has much better reception then my ol...\n",
       "413768    Rugged phone, great battery life, my only prob...\n",
       "413769    This is a refurbished phone which has a few co...\n",
       "413770    Much better than I expected. This phone has ev...\n",
       "413771    Phone didn't work right at first; not readable...\n",
       "413772    This product was damaged.. The antenna in the ...\n",
       "413773    Exactly what I was looking for. Phone is durab...\n",
       "413774    phone lasted a few months...then no longer rin...\n",
       "413775    Great phone awesome battery life very durable ...\n",
       "413776    I bought the phone to replace the one I got wi...\n",
       "413777    Couldn't ask for more from a simple, easy to u...\n",
       "413778    I ordered this phone as a rugged simple phone ...\n",
       "413779    This was the second Convoy we've ordered for a...\n",
       "413780    Its great for the kids. they take it when they...\n",
       "413781    I deducted a star because the previous owners ...\n",
       "413782    didn't work so well although I've had this pho...\n",
       "413783    This is a great phone. The battery lasts for d...\n",
       "413784    this is the easiest phone I have used. I have ...\n",
       "413785    I was let down with this seller, I bought and ...\n",
       "413786    Bought this for my teenage son who doesnt need...\n",
       "413787    Easy to run, Heavy duty phone. Had it up and r...\n",
       "413788    Great price for the cell phone. Came in good c...\n",
       "413789    Got it for my dad who needed a basic cell phon...\n",
       "413790    We knew the phone would be a used one and it m...\n",
       "413791    I can hear very well on it. It is easy to use....\n",
       "413792    This phone started out working beautifully for...\n",
       "413793    The product did everything I expected,would re...\n",
       "413794    I liked his rating, I am pleased with the phon...\n",
       "413795    We have one of these phones already and love i...\n",
       "413796    This phone is durable, and does fit in the cli...\n",
       "413797    Had this phone before for 2 years, so when tha...\n",
       "413798    I bought this phone for my daughter. I guess b...\n",
       "413799    The phone works good but the battery was no go...\n",
       "413800    Upon ordering this item I was aware that it wa...\n",
       "413801    The phone was shipped dirty even though it is ...\n",
       "413802    I am an electrical contractor and this phone i...\n",
       "413803    I like flip phones, they are easily to use.I h...\n",
       "413804    The Samsung Convoy is much sturdier than my ea...\n",
       "413805    first phone did not work i called them and the...\n",
       "413806    Great phone for the person who needs to make c...\n",
       "413807    I purchased this phone on 6/13/2013. Upon rece...\n",
       "413808    The phone was decent and came as expected. How...\n",
       "413809    I like this phone for the larger buttons for t...\n",
       "413810    I purchased the Samsung Convoy U640 for my eld...\n",
       "413811    My husband wanted rugged pho?ne for work. He i...\n",
       "413812    I never bought from Amazon before , but I real...\n",
       "413813    Iv'e never quite got used to the iphone and dr...\n",
       "413814    This is by far the best flip phone out there. ...\n",
       "413815    This phone is simple, very good , and it works...\n",
       "413816    Good sturdy phone for a pre-teen to have avail...\n",
       "413817    This is the second junk Convoy I have owned. T...\n",
       "413818    This cell phone provides the just the service ...\n",
       "413819    I BOUGHT THIS PHONE FOR MY HUSBAND AND HE LOVE...\n",
       "413820    They said phone was normal wear but it was a l...\n",
       "413821    You could shoot this out of a potato gun, and ...\n",
       "413822    Bought this for my mother and she loves it. Gr...\n",
       "413823    Excellent phone, as advertised. Love the push-...\n",
       "413824    works great and picks up signal in place my ot...\n",
       "413825    Great phone. Large keys, best flip phone I hav...\n",
       "413826    Pros...Works great, very durable, easy to navi...\n",
       "413827              just as described perfect for the price\n",
       "413828                                       Would not work\n",
       "413829     Speaker phone doesn't work, but phone works good\n",
       "413830                                              LOVE IT\n",
       "413831    Item was listed as new, but was not. When we t...\n",
       "413832    good rugged phone that has a long-lasting batt...\n",
       "413833                                    The phone is good\n",
       "413834                                            used hard\n",
       "413835                       another great deal great price\n",
       "413836                                                   Ok\n",
       "413837          Passes every drop test onto porcelain tile!\n",
       "413838    I returned it because it did not meet my needs...\n",
       "413839    Only downside is that apparently Verizon no lo...\n",
       "Name: Reviews, Length: 413840, dtype: object"
      ]
     },
     "execution_count": 101,
     "metadata": {},
     "output_type": "execute_result"
    }
   ],
   "source": [
    "df['Reviews']"
   ]
  },
  {
   "cell_type": "markdown",
   "metadata": {},
   "source": [
    "### Drop missing values and remove neutral ratings (3)"
   ]
  },
  {
   "cell_type": "code",
   "execution_count": 102,
   "metadata": {},
   "outputs": [
    {
     "data": {
      "text/html": [
       "<div>\n",
       "<style scoped>\n",
       "    .dataframe tbody tr th:only-of-type {\n",
       "        vertical-align: middle;\n",
       "    }\n",
       "\n",
       "    .dataframe tbody tr th {\n",
       "        vertical-align: top;\n",
       "    }\n",
       "\n",
       "    .dataframe thead th {\n",
       "        text-align: right;\n",
       "    }\n",
       "</style>\n",
       "<table border=\"1\" class=\"dataframe\">\n",
       "  <thead>\n",
       "    <tr style=\"text-align: right;\">\n",
       "      <th></th>\n",
       "      <th>Product Name</th>\n",
       "      <th>Brand Name</th>\n",
       "      <th>Price</th>\n",
       "      <th>Rating</th>\n",
       "      <th>Reviews</th>\n",
       "      <th>Review Votes</th>\n",
       "    </tr>\n",
       "  </thead>\n",
       "  <tbody>\n",
       "    <tr>\n",
       "      <th>0</th>\n",
       "      <td>\"CLEAR CLEAN ESN\" Sprint EPIC 4G Galaxy SPH-D7...</td>\n",
       "      <td>Samsung</td>\n",
       "      <td>199.99</td>\n",
       "      <td>5</td>\n",
       "      <td>I feel so LUCKY to have found this used (phone...</td>\n",
       "      <td>1.0</td>\n",
       "    </tr>\n",
       "    <tr>\n",
       "      <th>1</th>\n",
       "      <td>\"CLEAR CLEAN ESN\" Sprint EPIC 4G Galaxy SPH-D7...</td>\n",
       "      <td>Samsung</td>\n",
       "      <td>199.99</td>\n",
       "      <td>4</td>\n",
       "      <td>nice phone, nice up grade from my pantach revu...</td>\n",
       "      <td>0.0</td>\n",
       "    </tr>\n",
       "    <tr>\n",
       "      <th>2</th>\n",
       "      <td>\"CLEAR CLEAN ESN\" Sprint EPIC 4G Galaxy SPH-D7...</td>\n",
       "      <td>Samsung</td>\n",
       "      <td>199.99</td>\n",
       "      <td>5</td>\n",
       "      <td>Very pleased</td>\n",
       "      <td>0.0</td>\n",
       "    </tr>\n",
       "    <tr>\n",
       "      <th>3</th>\n",
       "      <td>\"CLEAR CLEAN ESN\" Sprint EPIC 4G Galaxy SPH-D7...</td>\n",
       "      <td>Samsung</td>\n",
       "      <td>199.99</td>\n",
       "      <td>4</td>\n",
       "      <td>It works good but it goes slow sometimes but i...</td>\n",
       "      <td>0.0</td>\n",
       "    </tr>\n",
       "    <tr>\n",
       "      <th>4</th>\n",
       "      <td>\"CLEAR CLEAN ESN\" Sprint EPIC 4G Galaxy SPH-D7...</td>\n",
       "      <td>Samsung</td>\n",
       "      <td>199.99</td>\n",
       "      <td>4</td>\n",
       "      <td>Great phone to replace my lost phone. The only...</td>\n",
       "      <td>0.0</td>\n",
       "    </tr>\n",
       "  </tbody>\n",
       "</table>\n",
       "</div>"
      ],
      "text/plain": [
       "                                        Product Name Brand Name   Price  Rating                                            Reviews  Review Votes\n",
       "0  \"CLEAR CLEAN ESN\" Sprint EPIC 4G Galaxy SPH-D7...    Samsung  199.99       5  I feel so LUCKY to have found this used (phone...           1.0\n",
       "1  \"CLEAR CLEAN ESN\" Sprint EPIC 4G Galaxy SPH-D7...    Samsung  199.99       4  nice phone, nice up grade from my pantach revu...           0.0\n",
       "2  \"CLEAR CLEAN ESN\" Sprint EPIC 4G Galaxy SPH-D7...    Samsung  199.99       5                                       Very pleased           0.0\n",
       "3  \"CLEAR CLEAN ESN\" Sprint EPIC 4G Galaxy SPH-D7...    Samsung  199.99       4  It works good but it goes slow sometimes but i...           0.0\n",
       "4  \"CLEAR CLEAN ESN\" Sprint EPIC 4G Galaxy SPH-D7...    Samsung  199.99       4  Great phone to replace my lost phone. The only...           0.0"
      ]
     },
     "execution_count": 102,
     "metadata": {},
     "output_type": "execute_result"
    }
   ],
   "source": [
    "df.dropna(inplace=True)\n",
    "df = df[df['Rating']!=3]\n",
    "df.head()"
   ]
  },
  {
   "cell_type": "markdown",
   "metadata": {},
   "source": [
    "### Encode Ratings 4,5 as 1 (Positive Sentiment)\n",
    "### Encode Ratings 1,2 as 0 (Negative Sentiment)"
   ]
  },
  {
   "cell_type": "code",
   "execution_count": 104,
   "metadata": {},
   "outputs": [
    {
     "data": {
      "text/html": [
       "<div>\n",
       "<style scoped>\n",
       "    .dataframe tbody tr th:only-of-type {\n",
       "        vertical-align: middle;\n",
       "    }\n",
       "\n",
       "    .dataframe tbody tr th {\n",
       "        vertical-align: top;\n",
       "    }\n",
       "\n",
       "    .dataframe thead th {\n",
       "        text-align: right;\n",
       "    }\n",
       "</style>\n",
       "<table border=\"1\" class=\"dataframe\">\n",
       "  <thead>\n",
       "    <tr style=\"text-align: right;\">\n",
       "      <th></th>\n",
       "      <th>Product Name</th>\n",
       "      <th>Brand Name</th>\n",
       "      <th>Price</th>\n",
       "      <th>Rating</th>\n",
       "      <th>Reviews</th>\n",
       "      <th>Review Votes</th>\n",
       "      <th>Positively_Rated</th>\n",
       "    </tr>\n",
       "  </thead>\n",
       "  <tbody>\n",
       "    <tr>\n",
       "      <th>0</th>\n",
       "      <td>\"CLEAR CLEAN ESN\" Sprint EPIC 4G Galaxy SPH-D7...</td>\n",
       "      <td>Samsung</td>\n",
       "      <td>199.99</td>\n",
       "      <td>5</td>\n",
       "      <td>I feel so LUCKY to have found this used (phone...</td>\n",
       "      <td>1.0</td>\n",
       "      <td>1</td>\n",
       "    </tr>\n",
       "    <tr>\n",
       "      <th>1</th>\n",
       "      <td>\"CLEAR CLEAN ESN\" Sprint EPIC 4G Galaxy SPH-D7...</td>\n",
       "      <td>Samsung</td>\n",
       "      <td>199.99</td>\n",
       "      <td>4</td>\n",
       "      <td>nice phone, nice up grade from my pantach revu...</td>\n",
       "      <td>0.0</td>\n",
       "      <td>1</td>\n",
       "    </tr>\n",
       "    <tr>\n",
       "      <th>2</th>\n",
       "      <td>\"CLEAR CLEAN ESN\" Sprint EPIC 4G Galaxy SPH-D7...</td>\n",
       "      <td>Samsung</td>\n",
       "      <td>199.99</td>\n",
       "      <td>5</td>\n",
       "      <td>Very pleased</td>\n",
       "      <td>0.0</td>\n",
       "      <td>1</td>\n",
       "    </tr>\n",
       "    <tr>\n",
       "      <th>3</th>\n",
       "      <td>\"CLEAR CLEAN ESN\" Sprint EPIC 4G Galaxy SPH-D7...</td>\n",
       "      <td>Samsung</td>\n",
       "      <td>199.99</td>\n",
       "      <td>4</td>\n",
       "      <td>It works good but it goes slow sometimes but i...</td>\n",
       "      <td>0.0</td>\n",
       "      <td>1</td>\n",
       "    </tr>\n",
       "    <tr>\n",
       "      <th>4</th>\n",
       "      <td>\"CLEAR CLEAN ESN\" Sprint EPIC 4G Galaxy SPH-D7...</td>\n",
       "      <td>Samsung</td>\n",
       "      <td>199.99</td>\n",
       "      <td>4</td>\n",
       "      <td>Great phone to replace my lost phone. The only...</td>\n",
       "      <td>0.0</td>\n",
       "      <td>1</td>\n",
       "    </tr>\n",
       "  </tbody>\n",
       "</table>\n",
       "</div>"
      ],
      "text/plain": [
       "                                        Product Name Brand Name   Price  Rating                                            Reviews  Review Votes  Positively_Rated\n",
       "0  \"CLEAR CLEAN ESN\" Sprint EPIC 4G Galaxy SPH-D7...    Samsung  199.99       5  I feel so LUCKY to have found this used (phone...           1.0                 1\n",
       "1  \"CLEAR CLEAN ESN\" Sprint EPIC 4G Galaxy SPH-D7...    Samsung  199.99       4  nice phone, nice up grade from my pantach revu...           0.0                 1\n",
       "2  \"CLEAR CLEAN ESN\" Sprint EPIC 4G Galaxy SPH-D7...    Samsung  199.99       5                                       Very pleased           0.0                 1\n",
       "3  \"CLEAR CLEAN ESN\" Sprint EPIC 4G Galaxy SPH-D7...    Samsung  199.99       4  It works good but it goes slow sometimes but i...           0.0                 1\n",
       "4  \"CLEAR CLEAN ESN\" Sprint EPIC 4G Galaxy SPH-D7...    Samsung  199.99       4  Great phone to replace my lost phone. The only...           0.0                 1"
      ]
     },
     "execution_count": 104,
     "metadata": {},
     "output_type": "execute_result"
    }
   ],
   "source": [
    "df['Positively_Rated'] = np.where(df['Rating'] >3,1,0)\n",
    "df.head()"
   ]
  },
  {
   "cell_type": "markdown",
   "metadata": {},
   "source": [
    "### Looking at the mean - we have imbalanced classes"
   ]
  },
  {
   "cell_type": "code",
   "execution_count": 105,
   "metadata": {},
   "outputs": [
    {
     "data": {
      "text/plain": [
       "0.7482686025879323"
      ]
     },
     "execution_count": 105,
     "metadata": {},
     "output_type": "execute_result"
    }
   ],
   "source": [
    "df['Positively_Rated'].mean()"
   ]
  },
  {
   "cell_type": "markdown",
   "metadata": {},
   "source": [
    "#### Most ratings are positive"
   ]
  },
  {
   "cell_type": "code",
   "execution_count": 107,
   "metadata": {},
   "outputs": [
    {
     "name": "stdout",
     "output_type": "stream",
     "text": [
      "X_train first entry:\n",
      "\n",
      " I bought a BB Black and was deliveried a White BB.Really is not a serious provider...Next time is better to cancel the order.\n",
      "\n",
      "\n",
      "X_train shape:  (231207,)\n"
     ]
    }
   ],
   "source": [
    "from sklearn.model_selection import train_test_split\n",
    "\n",
    "X_train, X_test, y_train, y_test = train_test_split(df['Reviews'], df['Positively_Rated'], random_state=0)\n",
    "\n",
    "print('X_train first entry:\\n\\n', X_train.iloc[0])\n",
    "print('\\n\\nX_train shape: ', X_train.shape)"
   ]
  },
  {
   "cell_type": "markdown",
   "metadata": {},
   "source": [
    "## Count Vectorizor"
   ]
  },
  {
   "cell_type": "code",
   "execution_count": 108,
   "metadata": {},
   "outputs": [],
   "source": [
    "from sklearn.feature_extraction.text import CountVectorizer\n",
    "\n",
    "vect = CountVectorizer().fit(X_train)"
   ]
  },
  {
   "cell_type": "code",
   "execution_count": 109,
   "metadata": {},
   "outputs": [
    {
     "data": {
      "text/plain": [
       "['00',\n",
       " '4less',\n",
       " 'adr6275',\n",
       " 'assignment',\n",
       " 'blazingly',\n",
       " 'cassettes',\n",
       " 'condishion',\n",
       " 'debi',\n",
       " 'dollarsshipping',\n",
       " 'esteem',\n",
       " 'flashy',\n",
       " 'gorila',\n",
       " 'human',\n",
       " 'irullu',\n",
       " 'like',\n",
       " 'microsaudered',\n",
       " 'nightmarish',\n",
       " 'p770',\n",
       " 'poori',\n",
       " 'quirky',\n",
       " 'responseive',\n",
       " 'send',\n",
       " 'sos',\n",
       " 'synch',\n",
       " 'trace',\n",
       " 'utiles',\n",
       " 'withstanding']"
      ]
     },
     "execution_count": 109,
     "metadata": {},
     "output_type": "execute_result"
    }
   ],
   "source": [
    "vect.get_feature_names()[::2000]"
   ]
  },
  {
   "cell_type": "code",
   "execution_count": 110,
   "metadata": {},
   "outputs": [
    {
     "data": {
      "text/plain": [
       "53216"
      ]
     },
     "execution_count": 110,
     "metadata": {},
     "output_type": "execute_result"
    }
   ],
   "source": [
    "len(vect.get_feature_names())"
   ]
  },
  {
   "cell_type": "markdown",
   "metadata": {},
   "source": [
    "### transform the documents in the training data to a document-term matrix ==> Bad of Words Representation"
   ]
  },
  {
   "cell_type": "code",
   "execution_count": 111,
   "metadata": {},
   "outputs": [
    {
     "data": {
      "text/plain": [
       "<231207x53216 sparse matrix of type '<class 'numpy.int64'>'\n",
       "\twith 6117776 stored elements in Compressed Sparse Row format>"
      ]
     },
     "execution_count": 111,
     "metadata": {},
     "output_type": "execute_result"
    }
   ],
   "source": [
    "X_train_vectorized = vect.transform(X_train)\n",
    "X_train_vectorized"
   ]
  },
  {
   "cell_type": "code",
   "execution_count": 112,
   "metadata": {},
   "outputs": [
    {
     "data": {
      "text/plain": [
       "LogisticRegression(C=1.0, class_weight=None, dual=False, fit_intercept=True,\n",
       "          intercept_scaling=1, max_iter=100, multi_class='ovr', n_jobs=1,\n",
       "          penalty='l2', random_state=None, solver='liblinear', tol=0.0001,\n",
       "          verbose=0, warm_start=False)"
      ]
     },
     "execution_count": 112,
     "metadata": {},
     "output_type": "execute_result"
    }
   ],
   "source": [
    "from sklearn.linear_model import LogisticRegression\n",
    "\n",
    "model = LogisticRegression()\n",
    "model.fit(X_train_vectorized, y_train)"
   ]
  },
  {
   "cell_type": "code",
   "execution_count": 113,
   "metadata": {},
   "outputs": [
    {
     "name": "stdout",
     "output_type": "stream",
     "text": [
      "AUC :  0.9279984634090939\n"
     ]
    }
   ],
   "source": [
    "from sklearn.metrics import roc_auc_score\n",
    "\n",
    "y_predictions = model.predict(vect.transform(X_test))\n",
    "print('AUC : ',roc_auc_score(y_test, y_predictions))"
   ]
  },
  {
   "cell_type": "code",
   "execution_count": 127,
   "metadata": {},
   "outputs": [],
   "source": [
    "# get the feature names as numpy array\n",
    "feature_names = np.array(vect.get_feature_names())\n",
    "\n",
    "# Sort the coefficients from the model\n",
    "sorted_coef_index = model.coef_[0].argsort()"
   ]
  },
  {
   "cell_type": "markdown",
   "metadata": {},
   "source": [
    "#### Find the 10 smallest and 10 largest coefficients"
   ]
  },
  {
   "cell_type": "code",
   "execution_count": 114,
   "metadata": {},
   "outputs": [
    {
     "name": "stdout",
     "output_type": "stream",
     "text": [
      "Smallest Coefs:\n",
      "['worst' 'false' 'mony' 'worthless' 'junk' 'garbage' 'messing' 'useless'\n",
      " 'blacklist' 'unsatisfied']\n",
      "\n",
      "Largest Coefs: \n",
      "['excelent' 'excelente' 'exelente' 'excellent' 'loving' 'efficient'\n",
      " 'loves' 'perfecto' 'lovely' 'amazing']\n"
     ]
    }
   ],
   "source": [
    "# The 10 largest coefficients are being indexed using [:-11:-1] \n",
    "# so the list returned is in order of largest to smallest\n",
    "print('Smallest Coefs:\\n{}\\n'.format(feature_names[sorted_coef_index[:10]]))\n",
    "print('Largest Coefs: \\n{}'.format(feature_names[sorted_coef_index[:-11:-1]]))"
   ]
  },
  {
   "cell_type": "markdown",
   "metadata": {},
   "source": [
    "## Tf-idf"
   ]
  },
  {
   "cell_type": "code",
   "execution_count": 124,
   "metadata": {},
   "outputs": [
    {
     "name": "stdout",
     "output_type": "stream",
     "text": [
      "['BaseEstimator', 'CountVectorizer', 'ENGLISH_STOP_WORDS', 'FeatureHasher', 'HashingVectorizer', 'Mapping', 'TfidfTransformer', 'TfidfVectorizer', 'TransformerMixin', 'VectorizerMixin', 'array', 'check_is_fitted', 'defaultdict', 'itemgetter', 'normalize', 'np', 'numbers', 're', 'six', 'sp', 'strip_accents_ascii', 'strip_accents_unicode', 'strip_tags', 'unicode_literals', 'unicodedata', 'xrange']\n"
     ]
    }
   ],
   "source": [
    "from sklearn.feature_extraction import text\n",
    "print([w for w in dir(text) if not w.startswith('_')])"
   ]
  },
  {
   "cell_type": "code",
   "execution_count": 126,
   "metadata": {},
   "outputs": [
    {
     "data": {
      "text/plain": [
       "17951"
      ]
     },
     "execution_count": 126,
     "metadata": {},
     "output_type": "execute_result"
    }
   ],
   "source": [
    "from sklearn.feature_extraction.text import TfidfVectorizer\n",
    "vect = TfidfVectorizer(min_df=5).fit(X_train)\n",
    "len(vect.get_feature_names())"
   ]
  },
  {
   "cell_type": "code",
   "execution_count": 130,
   "metadata": {},
   "outputs": [
    {
     "name": "stdout",
     "output_type": "stream",
     "text": [
      "AUC :  0.9266100666746837\n"
     ]
    }
   ],
   "source": [
    "X_train_vectorized = vect.transform(X_train)\n",
    "\n",
    "model = LogisticRegression()\n",
    "model.fit(X_train_vectorized, y_train)\n",
    "\n",
    "y_predictions = model.predict(vect.transform(X_test))\n",
    "print('AUC : ',roc_auc_score(y_test, y_predictions))"
   ]
  },
  {
   "cell_type": "code",
   "execution_count": 131,
   "metadata": {},
   "outputs": [
    {
     "name": "stdout",
     "output_type": "stream",
     "text": [
      "Smallest tfidf:\n",
      "['commenter' 'pthalo' 'warmness' 'storageso' 'aggregration' '1300'\n",
      " '625nits' 'a10' 'submarket' 'brawns']\n",
      "\n",
      "Largest tfidf: \n",
      "['defective' 'batteries' 'gooood' 'epic' 'luis' 'goood' 'basico'\n",
      " 'aceptable' 'problems' 'excellant']\n"
     ]
    }
   ],
   "source": [
    "feature_names = np.array(vect.get_feature_names())\n",
    "\n",
    "sorted_tfidf_index = X_train_vectorized.max(0).toarray()[0].argsort()\n",
    "\n",
    "print('Smallest tfidf:\\n{}\\n'.format(feature_names[sorted_tfidf_index[:10]]))\n",
    "print('Largest tfidf: \\n{}'.format(feature_names[sorted_tfidf_index[:-11:-1]]))"
   ]
  },
  {
   "cell_type": "code",
   "execution_count": 132,
   "metadata": {},
   "outputs": [
    {
     "name": "stdout",
     "output_type": "stream",
     "text": [
      "Smallest Coefs:\n",
      "['not' 'worst' 'useless' 'disappointed' 'terrible' 'return' 'waste' 'poor'\n",
      " 'horrible' 'doesn']\n",
      "\n",
      "Largest Coefs: \n",
      "['love' 'great' 'excellent' 'perfect' 'amazing' 'awesome' 'perfectly'\n",
      " 'easy' 'best' 'loves']\n"
     ]
    }
   ],
   "source": [
    "sorted_coef_index = model.coef_[0].argsort()\n",
    "\n",
    "print('Smallest Coefs:\\n{}\\n'.format(feature_names[sorted_coef_index[:10]]))\n",
    "print('Largest Coefs: \\n{}'.format(feature_names[sorted_coef_index[:-11:-1]]))"
   ]
  },
  {
   "cell_type": "markdown",
   "metadata": {},
   "source": [
    "### these reviews are treated the same by our current model but they are not (two different)"
   ]
  },
  {
   "cell_type": "code",
   "execution_count": 133,
   "metadata": {},
   "outputs": [
    {
     "name": "stdout",
     "output_type": "stream",
     "text": [
      "[0 0]\n"
     ]
    }
   ],
   "source": [
    "print(model.predict(vect.transform(['not an issue, phone is working',\n",
    "                                    'an issue, phone is not working'])))"
   ]
  },
  {
   "cell_type": "code",
   "execution_count": 139,
   "metadata": {},
   "outputs": [
    {
     "name": "stdout",
     "output_type": "stream",
     "text": [
      "[1]\n"
     ]
    }
   ],
   "source": [
    "print(model.predict(vect.transform(['it is not that i am so smart it is just that i stay with problems longer'])))"
   ]
  },
  {
   "cell_type": "markdown",
   "metadata": {},
   "source": [
    "## n-grams\n",
    "#### Fit the CountVectorizer to the training data specifiying a minimum document frequency of 5 and extracting 1-grams and 2-grams"
   ]
  },
  {
   "cell_type": "code",
   "execution_count": 140,
   "metadata": {},
   "outputs": [
    {
     "data": {
      "text/plain": [
       "198917"
      ]
     },
     "execution_count": 140,
     "metadata": {},
     "output_type": "execute_result"
    }
   ],
   "source": [
    "vect = CountVectorizer(min_df=5, ngram_range=(1,2)).fit(X_train)\n",
    "X_train_vectorized = vect.transform(X_train)\n",
    "len(vect.get_feature_names())"
   ]
  },
  {
   "cell_type": "code",
   "execution_count": 141,
   "metadata": {},
   "outputs": [
    {
     "name": "stdout",
     "output_type": "stream",
     "text": [
      "AUC:  0.9671524431795406\n"
     ]
    }
   ],
   "source": [
    "model = LogisticRegression()\n",
    "model.fit(X_train_vectorized, y_train)\n",
    "\n",
    "y_predictions = model.predict(vect.transform(X_test))\n",
    "\n",
    "print('AUC: ', roc_auc_score(y_test, y_predictions))"
   ]
  },
  {
   "cell_type": "code",
   "execution_count": 142,
   "metadata": {},
   "outputs": [
    {
     "name": "stdout",
     "output_type": "stream",
     "text": [
      "Smallest Coefs:\n",
      "['no good' 'worst' 'junk' 'not good' 'not happy' 'horrible' 'garbage'\n",
      " 'terrible' 'looks ok' 'nope']\n",
      "\n",
      "Largest Coefs: \n",
      "['not bad' 'excelent' 'excelente' 'excellent' 'perfect' 'no problems'\n",
      " 'exelente' 'awesome' 'no issues' 'great']\n"
     ]
    }
   ],
   "source": [
    "feature_names = np.array(vect.get_feature_names())\n",
    "\n",
    "sorted_coef_index = model.coef_[0].argsort()\n",
    "\n",
    "print('Smallest Coefs:\\n{}\\n'.format(feature_names[sorted_coef_index[:10]]))\n",
    "print('Largest Coefs: \\n{}'.format(feature_names[sorted_coef_index[:-11:-1]]))"
   ]
  },
  {
   "cell_type": "markdown",
   "metadata": {},
   "source": [
    "### these reviews are now correctly identified"
   ]
  },
  {
   "cell_type": "code",
   "execution_count": 143,
   "metadata": {},
   "outputs": [
    {
     "name": "stdout",
     "output_type": "stream",
     "text": [
      "[1 0]\n"
     ]
    }
   ],
   "source": [
    "print(model.predict(vect.transform(['not an issue, phone is working',\n",
    "                                    'an issue, phone is not working'])))"
   ]
  },
  {
   "cell_type": "markdown",
   "metadata": {},
   "source": [
    "### Models in NLTK for Text classification"
   ]
  },
  {
   "cell_type": "code",
   "execution_count": 156,
   "metadata": {},
   "outputs": [
    {
     "data": {
      "text/plain": [
       "['ClassifierBasedPOSTagger',\n",
       " 'ClassifierBasedTagger',\n",
       " 'ClassifierI',\n",
       " 'ConditionalExponentialClassifier',\n",
       " 'DecisionTreeClassifier',\n",
       " 'ImmutableMultiParentedTree',\n",
       " 'ImmutableParentedTree',\n",
       " 'ImmutableProbabilisticTree',\n",
       " 'ImmutableTree',\n",
       " 'MaxentClassifier',\n",
       " 'MultiClassifierI',\n",
       " 'MultiParentedTree',\n",
       " 'NaiveBayesClassifier',\n",
       " 'ParentedTree',\n",
       " 'PositiveNaiveBayesClassifier',\n",
       " 'ProbabilisticTree',\n",
       " 'SklearnClassifier',\n",
       " 'Tree',\n",
       " 'TreebankWordTokenizer',\n",
       " 'WekaClassifier',\n",
       " '__classifiers__',\n",
       " 'conllstr2tree',\n",
       " 'conlltags2tree',\n",
       " 'decisiontree',\n",
       " 'elementtree_indent',\n",
       " 'ieerstr2tree',\n",
       " 'rte_classifier',\n",
       " 'tagstr2tree',\n",
       " 'tree',\n",
       " 'tree2conllstr',\n",
       " 'tree2conlltags',\n",
       " 'treebank',\n",
       " 'treetransforms']"
      ]
     },
     "execution_count": 156,
     "metadata": {},
     "output_type": "execute_result"
    }
   ],
   "source": [
    "[w for w in dir(nltk) if ('classifier' in w.lower())|('tree' in w.lower())]"
   ]
  },
  {
   "cell_type": "code",
   "execution_count": 159,
   "metadata": {},
   "outputs": [
    {
     "ename": "ValueError",
     "evalue": "not enough values to unpack (expected 2, got 1)",
     "output_type": "error",
     "traceback": [
      "\u001b[1;31m---------------------------------------------------------------------------\u001b[0m",
      "\u001b[1;31mValueError\u001b[0m                                Traceback (most recent call last)",
      "\u001b[1;32m<ipython-input-159-8dca4b53b5bd>\u001b[0m in \u001b[0;36m<module>\u001b[1;34m()\u001b[0m\n\u001b[0;32m      4\u001b[0m \u001b[0mX_train_vectorized\u001b[0m \u001b[1;33m=\u001b[0m \u001b[0mvect\u001b[0m\u001b[1;33m.\u001b[0m\u001b[0mtransform\u001b[0m\u001b[1;33m(\u001b[0m\u001b[0mX_train\u001b[0m\u001b[1;33m)\u001b[0m\u001b[1;33m\u001b[0m\u001b[0m\n\u001b[0;32m      5\u001b[0m \u001b[1;33m\u001b[0m\u001b[0m\n\u001b[1;32m----> 6\u001b[1;33m \u001b[0mclassifier\u001b[0m \u001b[1;33m=\u001b[0m \u001b[0mNaiveBayesClassifier\u001b[0m\u001b[1;33m.\u001b[0m\u001b[0mtrain\u001b[0m\u001b[1;33m(\u001b[0m\u001b[0mX_train_vectorized\u001b[0m\u001b[1;33m,\u001b[0m \u001b[0my_train\u001b[0m\u001b[1;33m)\u001b[0m\u001b[1;33m\u001b[0m\u001b[0m\n\u001b[0m\u001b[0;32m      7\u001b[0m \u001b[0mclassifier\u001b[0m\u001b[1;33m.\u001b[0m\u001b[0mclassify\u001b[0m\u001b[1;33m(\u001b[0m\u001b[0mX_test\u001b[0m\u001b[1;33m)\u001b[0m\u001b[1;33m\u001b[0m\u001b[0m\n\u001b[0;32m      8\u001b[0m \u001b[1;33m\u001b[0m\u001b[0m\n",
      "\u001b[1;32m~\\AppData\\Local\\Continuum\\anaconda3\\lib\\site-packages\\nltk\\classify\\naivebayes.py\u001b[0m in \u001b[0;36mtrain\u001b[1;34m(cls, labeled_featuresets, estimator)\u001b[0m\n\u001b[0;32m    195\u001b[0m         \u001b[1;31m# Count up how many times each feature value occurred, given\u001b[0m\u001b[1;33m\u001b[0m\u001b[1;33m\u001b[0m\u001b[0m\n\u001b[0;32m    196\u001b[0m         \u001b[1;31m# the label and featurename.\u001b[0m\u001b[1;33m\u001b[0m\u001b[1;33m\u001b[0m\u001b[0m\n\u001b[1;32m--> 197\u001b[1;33m         \u001b[1;32mfor\u001b[0m \u001b[0mfeatureset\u001b[0m\u001b[1;33m,\u001b[0m \u001b[0mlabel\u001b[0m \u001b[1;32min\u001b[0m \u001b[0mlabeled_featuresets\u001b[0m\u001b[1;33m:\u001b[0m\u001b[1;33m\u001b[0m\u001b[0m\n\u001b[0m\u001b[0;32m    198\u001b[0m             \u001b[0mlabel_freqdist\u001b[0m\u001b[1;33m[\u001b[0m\u001b[0mlabel\u001b[0m\u001b[1;33m]\u001b[0m \u001b[1;33m+=\u001b[0m \u001b[1;36m1\u001b[0m\u001b[1;33m\u001b[0m\u001b[0m\n\u001b[0;32m    199\u001b[0m             \u001b[1;32mfor\u001b[0m \u001b[0mfname\u001b[0m\u001b[1;33m,\u001b[0m \u001b[0mfval\u001b[0m \u001b[1;32min\u001b[0m \u001b[0mfeatureset\u001b[0m\u001b[1;33m.\u001b[0m\u001b[0mitems\u001b[0m\u001b[1;33m(\u001b[0m\u001b[1;33m)\u001b[0m\u001b[1;33m:\u001b[0m\u001b[1;33m\u001b[0m\u001b[0m\n",
      "\u001b[1;31mValueError\u001b[0m: not enough values to unpack (expected 2, got 1)"
     ]
    }
   ],
   "source": [
    "from nltk.classify import NaiveBayesClassifier\n",
    "\n",
    "vect = CountVectorizer(min_df=5, ngram_range=(1,2)).fit(X_train)\n",
    "X_train_vectorized = vect.transform(X_train)\n",
    "\n",
    "classifier = NaiveBayesClassifier.train(X_train_vectorized, y_train)\n",
    "classifier.classify(X_test)\n",
    "\n",
    "nltk.classify.util.accuracy(classifier, y_test)\n",
    "classifier.label()"
   ]
  },
  {
   "cell_type": "markdown",
   "metadata": {},
   "source": [
    "# WordNet\n"
   ]
  },
  {
   "cell_type": "code",
   "execution_count": 161,
   "metadata": {},
   "outputs": [],
   "source": [
    "from nltk.corpus import wordnet as wn"
   ]
  },
  {
   "cell_type": "code",
   "execution_count": 165,
   "metadata": {},
   "outputs": [],
   "source": [
    "deer = wn.synset('deer.n.01')\n",
    "elk = wn.synset('elk.n.01')\n",
    "horse = wn.synset('horse.n.01')"
   ]
  },
  {
   "cell_type": "code",
   "execution_count": 163,
   "metadata": {},
   "outputs": [
    {
     "data": {
      "text/plain": [
       "0.5"
      ]
     },
     "execution_count": 163,
     "metadata": {},
     "output_type": "execute_result"
    }
   ],
   "source": [
    "deer.path_similarity(elk)"
   ]
  },
  {
   "cell_type": "code",
   "execution_count": 166,
   "metadata": {},
   "outputs": [
    {
     "data": {
      "text/plain": [
       "0.14285714285714285"
      ]
     },
     "execution_count": 166,
     "metadata": {},
     "output_type": "execute_result"
    }
   ],
   "source": [
    "deer.path_similarity(horse)"
   ]
  },
  {
   "cell_type": "markdown",
   "metadata": {},
   "source": [
    "### Information Criteria to find Lin Similarity"
   ]
  },
  {
   "cell_type": "code",
   "execution_count": 173,
   "metadata": {},
   "outputs": [],
   "source": [
    "from nltk.corpus import wordnet_ic"
   ]
  },
  {
   "cell_type": "code",
   "execution_count": 174,
   "metadata": {},
   "outputs": [
    {
     "data": {
      "text/plain": [
       "0.8623778273893673"
      ]
     },
     "execution_count": 174,
     "metadata": {},
     "output_type": "execute_result"
    }
   ],
   "source": [
    "brown_ic = wordnet_ic.ic('ic-brown.dat')\n",
    "\n",
    "deer.lin_similarity(elk, brown_ic)"
   ]
  },
  {
   "cell_type": "code",
   "execution_count": 175,
   "metadata": {},
   "outputs": [
    {
     "data": {
      "text/plain": [
       "0.7726998936065773"
      ]
     },
     "execution_count": 175,
     "metadata": {},
     "output_type": "execute_result"
    }
   ],
   "source": [
    "deer.lin_similarity(horse, brown_ic)"
   ]
  },
  {
   "cell_type": "markdown",
   "metadata": {},
   "source": [
    "## Collocations and Distribution Similarity"
   ]
  },
  {
   "cell_type": "code",
   "execution_count": 181,
   "metadata": {},
   "outputs": [],
   "source": [
    "import nltk\n",
    "from nltk.collocations import *\n",
    "from nltk.book import *"
   ]
  },
  {
   "cell_type": "code",
   "execution_count": 182,
   "metadata": {
    "scrolled": true
   },
   "outputs": [
    {
     "ename": "TypeError",
     "evalue": "'module' object is not iterable",
     "output_type": "error",
     "traceback": [
      "\u001b[1;31m---------------------------------------------------------------------------\u001b[0m",
      "\u001b[1;31mTypeError\u001b[0m                                 Traceback (most recent call last)",
      "\u001b[1;32m<ipython-input-182-e5a14183e1b5>\u001b[0m in \u001b[0;36m<module>\u001b[1;34m()\u001b[0m\n\u001b[0;32m      1\u001b[0m \u001b[0mbigram_measures\u001b[0m \u001b[1;33m=\u001b[0m \u001b[0mnltk\u001b[0m\u001b[1;33m.\u001b[0m\u001b[0mcollocations\u001b[0m\u001b[1;33m.\u001b[0m\u001b[0mBigramAssocMeasures\u001b[0m\u001b[1;33m(\u001b[0m\u001b[1;33m)\u001b[0m\u001b[1;33m\u001b[0m\u001b[0m\n\u001b[1;32m----> 2\u001b[1;33m \u001b[0mfinder\u001b[0m \u001b[1;33m=\u001b[0m \u001b[0mBigramCollocationFinder\u001b[0m\u001b[1;33m.\u001b[0m\u001b[0mfrom_words\u001b[0m\u001b[1;33m(\u001b[0m\u001b[0mtext\u001b[0m\u001b[1;33m)\u001b[0m\u001b[1;33m\u001b[0m\u001b[0m\n\u001b[0m\u001b[0;32m      3\u001b[0m \u001b[0mfinder\u001b[0m\u001b[1;33m.\u001b[0m\u001b[0mnbest\u001b[0m\u001b[1;33m(\u001b[0m\u001b[0mbigram_measures\u001b[0m\u001b[1;33m.\u001b[0m\u001b[0mpmi\u001b[0m\u001b[1;33m,\u001b[0m \u001b[1;36m10\u001b[0m\u001b[1;33m)\u001b[0m\u001b[1;33m\u001b[0m\u001b[0m\n",
      "\u001b[1;32m~\\AppData\\Local\\Continuum\\anaconda3\\lib\\site-packages\\nltk\\collocations.py\u001b[0m in \u001b[0;36mfrom_words\u001b[1;34m(cls, words, window_size)\u001b[0m\n\u001b[0;32m    162\u001b[0m             \u001b[1;32mraise\u001b[0m \u001b[0mValueError\u001b[0m\u001b[1;33m(\u001b[0m\u001b[1;34m\"Specify window_size at least 2\"\u001b[0m\u001b[1;33m)\u001b[0m\u001b[1;33m\u001b[0m\u001b[0m\n\u001b[0;32m    163\u001b[0m \u001b[1;33m\u001b[0m\u001b[0m\n\u001b[1;32m--> 164\u001b[1;33m         \u001b[1;32mfor\u001b[0m \u001b[0mwindow\u001b[0m \u001b[1;32min\u001b[0m \u001b[0mngrams\u001b[0m\u001b[1;33m(\u001b[0m\u001b[0mwords\u001b[0m\u001b[1;33m,\u001b[0m \u001b[0mwindow_size\u001b[0m\u001b[1;33m,\u001b[0m \u001b[0mpad_right\u001b[0m\u001b[1;33m=\u001b[0m\u001b[1;32mTrue\u001b[0m\u001b[1;33m)\u001b[0m\u001b[1;33m:\u001b[0m\u001b[1;33m\u001b[0m\u001b[0m\n\u001b[0m\u001b[0;32m    165\u001b[0m             \u001b[0mw1\u001b[0m \u001b[1;33m=\u001b[0m \u001b[0mwindow\u001b[0m\u001b[1;33m[\u001b[0m\u001b[1;36m0\u001b[0m\u001b[1;33m]\u001b[0m\u001b[1;33m\u001b[0m\u001b[0m\n\u001b[0;32m    166\u001b[0m             \u001b[1;32mif\u001b[0m \u001b[0mw1\u001b[0m \u001b[1;32mis\u001b[0m \u001b[1;32mNone\u001b[0m\u001b[1;33m:\u001b[0m\u001b[1;33m\u001b[0m\u001b[0m\n",
      "\u001b[1;32m~\\AppData\\Local\\Continuum\\anaconda3\\lib\\site-packages\\nltk\\util.py\u001b[0m in \u001b[0;36mngrams\u001b[1;34m(sequence, n, pad_left, pad_right, left_pad_symbol, right_pad_symbol)\u001b[0m\n\u001b[0;32m    462\u001b[0m     \"\"\"\n\u001b[0;32m    463\u001b[0m     sequence = pad_sequence(sequence, n, pad_left, pad_right,\n\u001b[1;32m--> 464\u001b[1;33m                             left_pad_symbol, right_pad_symbol)\n\u001b[0m\u001b[0;32m    465\u001b[0m \u001b[1;33m\u001b[0m\u001b[0m\n\u001b[0;32m    466\u001b[0m     \u001b[0mhistory\u001b[0m \u001b[1;33m=\u001b[0m \u001b[1;33m[\u001b[0m\u001b[1;33m]\u001b[0m\u001b[1;33m\u001b[0m\u001b[0m\n",
      "\u001b[1;32m~\\AppData\\Local\\Continuum\\anaconda3\\lib\\site-packages\\nltk\\util.py\u001b[0m in \u001b[0;36mpad_sequence\u001b[1;34m(sequence, n, pad_left, pad_right, left_pad_symbol, right_pad_symbol)\u001b[0m\n\u001b[0;32m    415\u001b[0m     \u001b[1;33m:\u001b[0m\u001b[0mrtype\u001b[0m\u001b[1;33m:\u001b[0m \u001b[0msequence\u001b[0m \u001b[1;32mor\u001b[0m \u001b[0miter\u001b[0m\u001b[1;33m\u001b[0m\u001b[0m\n\u001b[0;32m    416\u001b[0m     \"\"\"\n\u001b[1;32m--> 417\u001b[1;33m     \u001b[0msequence\u001b[0m \u001b[1;33m=\u001b[0m \u001b[0miter\u001b[0m\u001b[1;33m(\u001b[0m\u001b[0msequence\u001b[0m\u001b[1;33m)\u001b[0m\u001b[1;33m\u001b[0m\u001b[0m\n\u001b[0m\u001b[0;32m    418\u001b[0m     \u001b[1;32mif\u001b[0m \u001b[0mpad_left\u001b[0m\u001b[1;33m:\u001b[0m\u001b[1;33m\u001b[0m\u001b[0m\n\u001b[0;32m    419\u001b[0m         \u001b[0msequence\u001b[0m \u001b[1;33m=\u001b[0m \u001b[0mchain\u001b[0m\u001b[1;33m(\u001b[0m\u001b[1;33m(\u001b[0m\u001b[0mleft_pad_symbol\u001b[0m\u001b[1;33m,\u001b[0m\u001b[1;33m)\u001b[0m \u001b[1;33m*\u001b[0m \u001b[1;33m(\u001b[0m\u001b[0mn\u001b[0m\u001b[1;33m-\u001b[0m\u001b[1;36m1\u001b[0m\u001b[1;33m)\u001b[0m\u001b[1;33m,\u001b[0m \u001b[0msequence\u001b[0m\u001b[1;33m)\u001b[0m\u001b[1;33m\u001b[0m\u001b[0m\n",
      "\u001b[1;31mTypeError\u001b[0m: 'module' object is not iterable"
     ]
    }
   ],
   "source": [
    "bigram_measures = nltk.collocations.BigramAssocMeasures()\n",
    "finder = BigramCollocationFinder.from_words(text)\n",
    "finder.nbest(bigram_measures.pmi, 10)"
   ]
  },
  {
   "cell_type": "code",
   "execution_count": null,
   "metadata": {},
   "outputs": [],
   "source": [
    "finder.apply_freq_filter(10)"
   ]
  },
  {
   "cell_type": "markdown",
   "metadata": {},
   "source": [
    "## LDA Model"
   ]
  },
  {
   "cell_type": "code",
   "execution_count": null,
   "metadata": {},
   "outputs": [],
   "source": [
    "import gensim\n",
    "from gensim import corpora, models\n",
    "\n",
    "dictionary = corporta.Dictionary(doc_set)\n",
    "corpus = [dictionary.doc2bow(doc) for doc in doc_set]\n",
    "ldamodel = gensim.models.ldamodel.LdaModel(corpus, num_topics =4, id2word = dictionary, passes=50)\n",
    "print(ldamodel.print_topics(num_topics=4, num_words=5))"
   ]
  },
  {
   "cell_type": "code",
   "execution_count": null,
   "metadata": {},
   "outputs": [],
   "source": []
  },
  {
   "cell_type": "code",
   "execution_count": null,
   "metadata": {},
   "outputs": [],
   "source": []
  },
  {
   "cell_type": "code",
   "execution_count": null,
   "metadata": {},
   "outputs": [],
   "source": []
  },
  {
   "cell_type": "code",
   "execution_count": null,
   "metadata": {},
   "outputs": [],
   "source": []
  },
  {
   "cell_type": "code",
   "execution_count": null,
   "metadata": {},
   "outputs": [],
   "source": []
  },
  {
   "cell_type": "code",
   "execution_count": null,
   "metadata": {},
   "outputs": [],
   "source": []
  },
  {
   "cell_type": "code",
   "execution_count": null,
   "metadata": {},
   "outputs": [],
   "source": []
  },
  {
   "cell_type": "code",
   "execution_count": null,
   "metadata": {},
   "outputs": [],
   "source": []
  },
  {
   "cell_type": "code",
   "execution_count": null,
   "metadata": {},
   "outputs": [],
   "source": []
  },
  {
   "cell_type": "code",
   "execution_count": null,
   "metadata": {},
   "outputs": [],
   "source": []
  },
  {
   "cell_type": "code",
   "execution_count": null,
   "metadata": {},
   "outputs": [],
   "source": []
  },
  {
   "cell_type": "code",
   "execution_count": null,
   "metadata": {},
   "outputs": [],
   "source": []
  }
 ],
 "metadata": {
  "kernelspec": {
   "display_name": "Python 3",
   "language": "python",
   "name": "python3"
  },
  "language_info": {
   "codemirror_mode": {
    "name": "ipython",
    "version": 3
   },
   "file_extension": ".py",
   "mimetype": "text/x-python",
   "name": "python",
   "nbconvert_exporter": "python",
   "pygments_lexer": "ipython3",
   "version": "3.6.5"
  }
 },
 "nbformat": 4,
 "nbformat_minor": 2
}
